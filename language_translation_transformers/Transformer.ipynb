{
  "nbformat": 4,
  "nbformat_minor": 5,
  "metadata": {
    "colab": {
      "name": "Transformer.ipynb",
      "provenance": [],
      "collapsed_sections": []
    },
    "kernelspec": {
      "display_name": "Python 3",
      "language": "python",
      "name": "python3"
    },
    "language_info": {
      "codemirror_mode": {
        "name": "ipython",
        "version": 3
      },
      "file_extension": ".py",
      "mimetype": "text/x-python",
      "name": "python",
      "nbconvert_exporter": "python",
      "pygments_lexer": "ipython3",
      "version": "3.6.13"
    },
    "accelerator": "GPU",
    "widgets": {
      "application/vnd.jupyter.widget-state+json": {
        "013fca6c2b584973bf8c4dd9d70e116a": {
          "model_module": "@jupyter-widgets/controls",
          "model_name": "HBoxModel",
          "model_module_version": "1.5.0",
          "state": {
            "_view_name": "HBoxView",
            "_dom_classes": [],
            "_model_name": "HBoxModel",
            "_view_module": "@jupyter-widgets/controls",
            "_model_module_version": "1.5.0",
            "_view_count": null,
            "_view_module_version": "1.5.0",
            "box_style": "",
            "layout": "IPY_MODEL_aa67b32a36714888b109c30222baac2b",
            "_model_module": "@jupyter-widgets/controls",
            "children": [
              "IPY_MODEL_2ac36735a2604969886b8debfdf90c44",
              "IPY_MODEL_ca8f24c0de9a45afbdc9e6ed9f278198",
              "IPY_MODEL_feeab0477f4a4fbb8cd6c2cce1e8e79d"
            ]
          }
        },
        "aa67b32a36714888b109c30222baac2b": {
          "model_module": "@jupyter-widgets/base",
          "model_name": "LayoutModel",
          "model_module_version": "1.2.0",
          "state": {
            "_view_name": "LayoutView",
            "grid_template_rows": null,
            "right": null,
            "justify_content": null,
            "_view_module": "@jupyter-widgets/base",
            "overflow": null,
            "_model_module_version": "1.2.0",
            "_view_count": null,
            "flex_flow": null,
            "width": null,
            "min_width": null,
            "border": null,
            "align_items": null,
            "bottom": null,
            "_model_module": "@jupyter-widgets/base",
            "top": null,
            "grid_column": null,
            "overflow_y": null,
            "overflow_x": null,
            "grid_auto_flow": null,
            "grid_area": null,
            "grid_template_columns": null,
            "flex": null,
            "_model_name": "LayoutModel",
            "justify_items": null,
            "grid_row": null,
            "max_height": null,
            "align_content": null,
            "visibility": null,
            "align_self": null,
            "height": null,
            "min_height": null,
            "padding": null,
            "grid_auto_rows": null,
            "grid_gap": null,
            "max_width": null,
            "order": null,
            "_view_module_version": "1.2.0",
            "grid_template_areas": null,
            "object_position": null,
            "object_fit": null,
            "grid_auto_columns": null,
            "margin": null,
            "display": null,
            "left": null
          }
        },
        "2ac36735a2604969886b8debfdf90c44": {
          "model_module": "@jupyter-widgets/controls",
          "model_name": "HTMLModel",
          "model_module_version": "1.5.0",
          "state": {
            "_view_name": "HTMLView",
            "style": "IPY_MODEL_db1ba727991a4cf38c610d2ec1244596",
            "_dom_classes": [],
            "description": "",
            "_model_name": "HTMLModel",
            "placeholder": "​",
            "_view_module": "@jupyter-widgets/controls",
            "_model_module_version": "1.5.0",
            "value": "Dl Completed...: 100%",
            "_view_count": null,
            "_view_module_version": "1.5.0",
            "description_tooltip": null,
            "_model_module": "@jupyter-widgets/controls",
            "layout": "IPY_MODEL_9decb000cf7a4860bd31b814de796080"
          }
        },
        "ca8f24c0de9a45afbdc9e6ed9f278198": {
          "model_module": "@jupyter-widgets/controls",
          "model_name": "FloatProgressModel",
          "model_module_version": "1.5.0",
          "state": {
            "_view_name": "ProgressView",
            "style": "IPY_MODEL_efcff8cebf9d4b92a79ae96998a6f5ed",
            "_dom_classes": [],
            "description": "",
            "_model_name": "FloatProgressModel",
            "bar_style": "success",
            "max": 1,
            "_view_module": "@jupyter-widgets/controls",
            "_model_module_version": "1.5.0",
            "value": 1,
            "_view_count": null,
            "_view_module_version": "1.5.0",
            "orientation": "horizontal",
            "min": 0,
            "description_tooltip": null,
            "_model_module": "@jupyter-widgets/controls",
            "layout": "IPY_MODEL_43cf612376684762a701ae8e4e34d645"
          }
        },
        "feeab0477f4a4fbb8cd6c2cce1e8e79d": {
          "model_module": "@jupyter-widgets/controls",
          "model_name": "HTMLModel",
          "model_module_version": "1.5.0",
          "state": {
            "_view_name": "HTMLView",
            "style": "IPY_MODEL_3e6de900b0034fedbea92d4f423335f2",
            "_dom_classes": [],
            "description": "",
            "_model_name": "HTMLModel",
            "placeholder": "​",
            "_view_module": "@jupyter-widgets/controls",
            "_model_module_version": "1.5.0",
            "value": " 1/1 [01:19&lt;00:00, 74.00s/ url]",
            "_view_count": null,
            "_view_module_version": "1.5.0",
            "description_tooltip": null,
            "_model_module": "@jupyter-widgets/controls",
            "layout": "IPY_MODEL_a0d2bebb86bf4724adb351f0ce4be9a8"
          }
        },
        "db1ba727991a4cf38c610d2ec1244596": {
          "model_module": "@jupyter-widgets/controls",
          "model_name": "DescriptionStyleModel",
          "model_module_version": "1.5.0",
          "state": {
            "_view_name": "StyleView",
            "_model_name": "DescriptionStyleModel",
            "description_width": "",
            "_view_module": "@jupyter-widgets/base",
            "_model_module_version": "1.5.0",
            "_view_count": null,
            "_view_module_version": "1.2.0",
            "_model_module": "@jupyter-widgets/controls"
          }
        },
        "9decb000cf7a4860bd31b814de796080": {
          "model_module": "@jupyter-widgets/base",
          "model_name": "LayoutModel",
          "model_module_version": "1.2.0",
          "state": {
            "_view_name": "LayoutView",
            "grid_template_rows": null,
            "right": null,
            "justify_content": null,
            "_view_module": "@jupyter-widgets/base",
            "overflow": null,
            "_model_module_version": "1.2.0",
            "_view_count": null,
            "flex_flow": null,
            "width": null,
            "min_width": null,
            "border": null,
            "align_items": null,
            "bottom": null,
            "_model_module": "@jupyter-widgets/base",
            "top": null,
            "grid_column": null,
            "overflow_y": null,
            "overflow_x": null,
            "grid_auto_flow": null,
            "grid_area": null,
            "grid_template_columns": null,
            "flex": null,
            "_model_name": "LayoutModel",
            "justify_items": null,
            "grid_row": null,
            "max_height": null,
            "align_content": null,
            "visibility": null,
            "align_self": null,
            "height": null,
            "min_height": null,
            "padding": null,
            "grid_auto_rows": null,
            "grid_gap": null,
            "max_width": null,
            "order": null,
            "_view_module_version": "1.2.0",
            "grid_template_areas": null,
            "object_position": null,
            "object_fit": null,
            "grid_auto_columns": null,
            "margin": null,
            "display": null,
            "left": null
          }
        },
        "efcff8cebf9d4b92a79ae96998a6f5ed": {
          "model_module": "@jupyter-widgets/controls",
          "model_name": "ProgressStyleModel",
          "model_module_version": "1.5.0",
          "state": {
            "_view_name": "StyleView",
            "_model_name": "ProgressStyleModel",
            "description_width": "",
            "_view_module": "@jupyter-widgets/base",
            "_model_module_version": "1.5.0",
            "_view_count": null,
            "_view_module_version": "1.2.0",
            "bar_color": null,
            "_model_module": "@jupyter-widgets/controls"
          }
        },
        "43cf612376684762a701ae8e4e34d645": {
          "model_module": "@jupyter-widgets/base",
          "model_name": "LayoutModel",
          "model_module_version": "1.2.0",
          "state": {
            "_view_name": "LayoutView",
            "grid_template_rows": null,
            "right": null,
            "justify_content": null,
            "_view_module": "@jupyter-widgets/base",
            "overflow": null,
            "_model_module_version": "1.2.0",
            "_view_count": null,
            "flex_flow": null,
            "width": "20px",
            "min_width": null,
            "border": null,
            "align_items": null,
            "bottom": null,
            "_model_module": "@jupyter-widgets/base",
            "top": null,
            "grid_column": null,
            "overflow_y": null,
            "overflow_x": null,
            "grid_auto_flow": null,
            "grid_area": null,
            "grid_template_columns": null,
            "flex": null,
            "_model_name": "LayoutModel",
            "justify_items": null,
            "grid_row": null,
            "max_height": null,
            "align_content": null,
            "visibility": null,
            "align_self": null,
            "height": null,
            "min_height": null,
            "padding": null,
            "grid_auto_rows": null,
            "grid_gap": null,
            "max_width": null,
            "order": null,
            "_view_module_version": "1.2.0",
            "grid_template_areas": null,
            "object_position": null,
            "object_fit": null,
            "grid_auto_columns": null,
            "margin": null,
            "display": null,
            "left": null
          }
        },
        "3e6de900b0034fedbea92d4f423335f2": {
          "model_module": "@jupyter-widgets/controls",
          "model_name": "DescriptionStyleModel",
          "model_module_version": "1.5.0",
          "state": {
            "_view_name": "StyleView",
            "_model_name": "DescriptionStyleModel",
            "description_width": "",
            "_view_module": "@jupyter-widgets/base",
            "_model_module_version": "1.5.0",
            "_view_count": null,
            "_view_module_version": "1.2.0",
            "_model_module": "@jupyter-widgets/controls"
          }
        },
        "a0d2bebb86bf4724adb351f0ce4be9a8": {
          "model_module": "@jupyter-widgets/base",
          "model_name": "LayoutModel",
          "model_module_version": "1.2.0",
          "state": {
            "_view_name": "LayoutView",
            "grid_template_rows": null,
            "right": null,
            "justify_content": null,
            "_view_module": "@jupyter-widgets/base",
            "overflow": null,
            "_model_module_version": "1.2.0",
            "_view_count": null,
            "flex_flow": null,
            "width": null,
            "min_width": null,
            "border": null,
            "align_items": null,
            "bottom": null,
            "_model_module": "@jupyter-widgets/base",
            "top": null,
            "grid_column": null,
            "overflow_y": null,
            "overflow_x": null,
            "grid_auto_flow": null,
            "grid_area": null,
            "grid_template_columns": null,
            "flex": null,
            "_model_name": "LayoutModel",
            "justify_items": null,
            "grid_row": null,
            "max_height": null,
            "align_content": null,
            "visibility": null,
            "align_self": null,
            "height": null,
            "min_height": null,
            "padding": null,
            "grid_auto_rows": null,
            "grid_gap": null,
            "max_width": null,
            "order": null,
            "_view_module_version": "1.2.0",
            "grid_template_areas": null,
            "object_position": null,
            "object_fit": null,
            "grid_auto_columns": null,
            "margin": null,
            "display": null,
            "left": null
          }
        },
        "d59d6d42371f4f60b94b0e91f5bc2752": {
          "model_module": "@jupyter-widgets/controls",
          "model_name": "HBoxModel",
          "model_module_version": "1.5.0",
          "state": {
            "_view_name": "HBoxView",
            "_dom_classes": [],
            "_model_name": "HBoxModel",
            "_view_module": "@jupyter-widgets/controls",
            "_model_module_version": "1.5.0",
            "_view_count": null,
            "_view_module_version": "1.5.0",
            "box_style": "",
            "layout": "IPY_MODEL_9341b19d74f943d59e962cf84a927f30",
            "_model_module": "@jupyter-widgets/controls",
            "children": [
              "IPY_MODEL_c644ab90a14c4f6aabee2893f2e24c55",
              "IPY_MODEL_2dc5469ca43e4920bc02ce21fe20c30f",
              "IPY_MODEL_7a8bf23c8399458186d58a62fbdd0383"
            ]
          }
        },
        "9341b19d74f943d59e962cf84a927f30": {
          "model_module": "@jupyter-widgets/base",
          "model_name": "LayoutModel",
          "model_module_version": "1.2.0",
          "state": {
            "_view_name": "LayoutView",
            "grid_template_rows": null,
            "right": null,
            "justify_content": null,
            "_view_module": "@jupyter-widgets/base",
            "overflow": null,
            "_model_module_version": "1.2.0",
            "_view_count": null,
            "flex_flow": null,
            "width": null,
            "min_width": null,
            "border": null,
            "align_items": null,
            "bottom": null,
            "_model_module": "@jupyter-widgets/base",
            "top": null,
            "grid_column": null,
            "overflow_y": null,
            "overflow_x": null,
            "grid_auto_flow": null,
            "grid_area": null,
            "grid_template_columns": null,
            "flex": null,
            "_model_name": "LayoutModel",
            "justify_items": null,
            "grid_row": null,
            "max_height": null,
            "align_content": null,
            "visibility": null,
            "align_self": null,
            "height": null,
            "min_height": null,
            "padding": null,
            "grid_auto_rows": null,
            "grid_gap": null,
            "max_width": null,
            "order": null,
            "_view_module_version": "1.2.0",
            "grid_template_areas": null,
            "object_position": null,
            "object_fit": null,
            "grid_auto_columns": null,
            "margin": null,
            "display": null,
            "left": null
          }
        },
        "c644ab90a14c4f6aabee2893f2e24c55": {
          "model_module": "@jupyter-widgets/controls",
          "model_name": "HTMLModel",
          "model_module_version": "1.5.0",
          "state": {
            "_view_name": "HTMLView",
            "style": "IPY_MODEL_156e7240899c4b92bbe655471b53dab1",
            "_dom_classes": [],
            "description": "",
            "_model_name": "HTMLModel",
            "placeholder": "​",
            "_view_module": "@jupyter-widgets/controls",
            "_model_module_version": "1.5.0",
            "value": "Dl Size...: 100%",
            "_view_count": null,
            "_view_module_version": "1.5.0",
            "description_tooltip": null,
            "_model_module": "@jupyter-widgets/controls",
            "layout": "IPY_MODEL_03ed7d15c57e4bddb5e072dc31acdc23"
          }
        },
        "2dc5469ca43e4920bc02ce21fe20c30f": {
          "model_module": "@jupyter-widgets/controls",
          "model_name": "FloatProgressModel",
          "model_module_version": "1.5.0",
          "state": {
            "_view_name": "ProgressView",
            "style": "IPY_MODEL_990a05457eeb42c0a29c001affff7bf5",
            "_dom_classes": [],
            "description": "",
            "_model_name": "FloatProgressModel",
            "bar_style": "success",
            "max": 1,
            "_view_module": "@jupyter-widgets/controls",
            "_model_module_version": "1.5.0",
            "value": 1,
            "_view_count": null,
            "_view_module_version": "1.5.0",
            "orientation": "horizontal",
            "min": 0,
            "description_tooltip": null,
            "_model_module": "@jupyter-widgets/controls",
            "layout": "IPY_MODEL_799bf3c43d4146039f104337b99f761d"
          }
        },
        "7a8bf23c8399458186d58a62fbdd0383": {
          "model_module": "@jupyter-widgets/controls",
          "model_name": "HTMLModel",
          "model_module_version": "1.5.0",
          "state": {
            "_view_name": "HTMLView",
            "style": "IPY_MODEL_c18452e68b6146e6a43de1678aa7474a",
            "_dom_classes": [],
            "description": "",
            "_model_name": "HTMLModel",
            "placeholder": "​",
            "_view_module": "@jupyter-widgets/controls",
            "_model_module_version": "1.5.0",
            "value": " 124/124 [01:19&lt;00:00,  2.41 MiB/s]",
            "_view_count": null,
            "_view_module_version": "1.5.0",
            "description_tooltip": null,
            "_model_module": "@jupyter-widgets/controls",
            "layout": "IPY_MODEL_00ec30940200478894d5129c458892e0"
          }
        },
        "156e7240899c4b92bbe655471b53dab1": {
          "model_module": "@jupyter-widgets/controls",
          "model_name": "DescriptionStyleModel",
          "model_module_version": "1.5.0",
          "state": {
            "_view_name": "StyleView",
            "_model_name": "DescriptionStyleModel",
            "description_width": "",
            "_view_module": "@jupyter-widgets/base",
            "_model_module_version": "1.5.0",
            "_view_count": null,
            "_view_module_version": "1.2.0",
            "_model_module": "@jupyter-widgets/controls"
          }
        },
        "03ed7d15c57e4bddb5e072dc31acdc23": {
          "model_module": "@jupyter-widgets/base",
          "model_name": "LayoutModel",
          "model_module_version": "1.2.0",
          "state": {
            "_view_name": "LayoutView",
            "grid_template_rows": null,
            "right": null,
            "justify_content": null,
            "_view_module": "@jupyter-widgets/base",
            "overflow": null,
            "_model_module_version": "1.2.0",
            "_view_count": null,
            "flex_flow": null,
            "width": null,
            "min_width": null,
            "border": null,
            "align_items": null,
            "bottom": null,
            "_model_module": "@jupyter-widgets/base",
            "top": null,
            "grid_column": null,
            "overflow_y": null,
            "overflow_x": null,
            "grid_auto_flow": null,
            "grid_area": null,
            "grid_template_columns": null,
            "flex": null,
            "_model_name": "LayoutModel",
            "justify_items": null,
            "grid_row": null,
            "max_height": null,
            "align_content": null,
            "visibility": null,
            "align_self": null,
            "height": null,
            "min_height": null,
            "padding": null,
            "grid_auto_rows": null,
            "grid_gap": null,
            "max_width": null,
            "order": null,
            "_view_module_version": "1.2.0",
            "grid_template_areas": null,
            "object_position": null,
            "object_fit": null,
            "grid_auto_columns": null,
            "margin": null,
            "display": null,
            "left": null
          }
        },
        "990a05457eeb42c0a29c001affff7bf5": {
          "model_module": "@jupyter-widgets/controls",
          "model_name": "ProgressStyleModel",
          "model_module_version": "1.5.0",
          "state": {
            "_view_name": "StyleView",
            "_model_name": "ProgressStyleModel",
            "description_width": "",
            "_view_module": "@jupyter-widgets/base",
            "_model_module_version": "1.5.0",
            "_view_count": null,
            "_view_module_version": "1.2.0",
            "bar_color": null,
            "_model_module": "@jupyter-widgets/controls"
          }
        },
        "799bf3c43d4146039f104337b99f761d": {
          "model_module": "@jupyter-widgets/base",
          "model_name": "LayoutModel",
          "model_module_version": "1.2.0",
          "state": {
            "_view_name": "LayoutView",
            "grid_template_rows": null,
            "right": null,
            "justify_content": null,
            "_view_module": "@jupyter-widgets/base",
            "overflow": null,
            "_model_module_version": "1.2.0",
            "_view_count": null,
            "flex_flow": null,
            "width": "20px",
            "min_width": null,
            "border": null,
            "align_items": null,
            "bottom": null,
            "_model_module": "@jupyter-widgets/base",
            "top": null,
            "grid_column": null,
            "overflow_y": null,
            "overflow_x": null,
            "grid_auto_flow": null,
            "grid_area": null,
            "grid_template_columns": null,
            "flex": null,
            "_model_name": "LayoutModel",
            "justify_items": null,
            "grid_row": null,
            "max_height": null,
            "align_content": null,
            "visibility": null,
            "align_self": null,
            "height": null,
            "min_height": null,
            "padding": null,
            "grid_auto_rows": null,
            "grid_gap": null,
            "max_width": null,
            "order": null,
            "_view_module_version": "1.2.0",
            "grid_template_areas": null,
            "object_position": null,
            "object_fit": null,
            "grid_auto_columns": null,
            "margin": null,
            "display": null,
            "left": null
          }
        },
        "c18452e68b6146e6a43de1678aa7474a": {
          "model_module": "@jupyter-widgets/controls",
          "model_name": "DescriptionStyleModel",
          "model_module_version": "1.5.0",
          "state": {
            "_view_name": "StyleView",
            "_model_name": "DescriptionStyleModel",
            "description_width": "",
            "_view_module": "@jupyter-widgets/base",
            "_model_module_version": "1.5.0",
            "_view_count": null,
            "_view_module_version": "1.2.0",
            "_model_module": "@jupyter-widgets/controls"
          }
        },
        "00ec30940200478894d5129c458892e0": {
          "model_module": "@jupyter-widgets/base",
          "model_name": "LayoutModel",
          "model_module_version": "1.2.0",
          "state": {
            "_view_name": "LayoutView",
            "grid_template_rows": null,
            "right": null,
            "justify_content": null,
            "_view_module": "@jupyter-widgets/base",
            "overflow": null,
            "_model_module_version": "1.2.0",
            "_view_count": null,
            "flex_flow": null,
            "width": null,
            "min_width": null,
            "border": null,
            "align_items": null,
            "bottom": null,
            "_model_module": "@jupyter-widgets/base",
            "top": null,
            "grid_column": null,
            "overflow_y": null,
            "overflow_x": null,
            "grid_auto_flow": null,
            "grid_area": null,
            "grid_template_columns": null,
            "flex": null,
            "_model_name": "LayoutModel",
            "justify_items": null,
            "grid_row": null,
            "max_height": null,
            "align_content": null,
            "visibility": null,
            "align_self": null,
            "height": null,
            "min_height": null,
            "padding": null,
            "grid_auto_rows": null,
            "grid_gap": null,
            "max_width": null,
            "order": null,
            "_view_module_version": "1.2.0",
            "grid_template_areas": null,
            "object_position": null,
            "object_fit": null,
            "grid_auto_columns": null,
            "margin": null,
            "display": null,
            "left": null
          }
        },
        "a2edb9ee72de4d77ba2d0d8cb2f707e8": {
          "model_module": "@jupyter-widgets/controls",
          "model_name": "HBoxModel",
          "model_module_version": "1.5.0",
          "state": {
            "_view_name": "HBoxView",
            "_dom_classes": [],
            "_model_name": "HBoxModel",
            "_view_module": "@jupyter-widgets/controls",
            "_model_module_version": "1.5.0",
            "_view_count": null,
            "_view_module_version": "1.5.0",
            "box_style": "",
            "layout": "IPY_MODEL_48f6af145626469ea7c153bf86e1537d",
            "_model_module": "@jupyter-widgets/controls",
            "children": [
              "IPY_MODEL_959109df45b24997813a393629ff99c9",
              "IPY_MODEL_a83d3ad2007f429fb633950aeffd6aec",
              "IPY_MODEL_bf2fd6847db840c4b0cf6276a2f3d7ff"
            ]
          }
        },
        "48f6af145626469ea7c153bf86e1537d": {
          "model_module": "@jupyter-widgets/base",
          "model_name": "LayoutModel",
          "model_module_version": "1.2.0",
          "state": {
            "_view_name": "LayoutView",
            "grid_template_rows": null,
            "right": null,
            "justify_content": null,
            "_view_module": "@jupyter-widgets/base",
            "overflow": null,
            "_model_module_version": "1.2.0",
            "_view_count": null,
            "flex_flow": null,
            "width": null,
            "min_width": null,
            "border": null,
            "align_items": null,
            "bottom": null,
            "_model_module": "@jupyter-widgets/base",
            "top": null,
            "grid_column": null,
            "overflow_y": null,
            "overflow_x": null,
            "grid_auto_flow": null,
            "grid_area": null,
            "grid_template_columns": null,
            "flex": null,
            "_model_name": "LayoutModel",
            "justify_items": null,
            "grid_row": null,
            "max_height": null,
            "align_content": null,
            "visibility": null,
            "align_self": null,
            "height": null,
            "min_height": null,
            "padding": null,
            "grid_auto_rows": null,
            "grid_gap": null,
            "max_width": null,
            "order": null,
            "_view_module_version": "1.2.0",
            "grid_template_areas": null,
            "object_position": null,
            "object_fit": null,
            "grid_auto_columns": null,
            "margin": null,
            "display": null,
            "left": null
          }
        },
        "959109df45b24997813a393629ff99c9": {
          "model_module": "@jupyter-widgets/controls",
          "model_name": "HTMLModel",
          "model_module_version": "1.5.0",
          "state": {
            "_view_name": "HTMLView",
            "style": "IPY_MODEL_dd6629b08c454e05b26259e2910760c5",
            "_dom_classes": [],
            "description": "",
            "_model_name": "HTMLModel",
            "placeholder": "​",
            "_view_module": "@jupyter-widgets/controls",
            "_model_module_version": "1.5.0",
            "value": "Extraction completed...: 100%",
            "_view_count": null,
            "_view_module_version": "1.5.0",
            "description_tooltip": null,
            "_model_module": "@jupyter-widgets/controls",
            "layout": "IPY_MODEL_4494e7989eb84fc486b26b9c15d93a95"
          }
        },
        "a83d3ad2007f429fb633950aeffd6aec": {
          "model_module": "@jupyter-widgets/controls",
          "model_name": "FloatProgressModel",
          "model_module_version": "1.5.0",
          "state": {
            "_view_name": "ProgressView",
            "style": "IPY_MODEL_1954a0347cff4b6eb6d67a85698ae927",
            "_dom_classes": [],
            "description": "",
            "_model_name": "FloatProgressModel",
            "bar_style": "success",
            "max": 1,
            "_view_module": "@jupyter-widgets/controls",
            "_model_module_version": "1.5.0",
            "value": 1,
            "_view_count": null,
            "_view_module_version": "1.5.0",
            "orientation": "horizontal",
            "min": 0,
            "description_tooltip": null,
            "_model_module": "@jupyter-widgets/controls",
            "layout": "IPY_MODEL_1513c90de3d04d8ba1f4bfecae4ff691"
          }
        },
        "bf2fd6847db840c4b0cf6276a2f3d7ff": {
          "model_module": "@jupyter-widgets/controls",
          "model_name": "HTMLModel",
          "model_module_version": "1.5.0",
          "state": {
            "_view_name": "HTMLView",
            "style": "IPY_MODEL_7a504b4893a6485295daefaec7669c02",
            "_dom_classes": [],
            "description": "",
            "_model_name": "HTMLModel",
            "placeholder": "​",
            "_view_module": "@jupyter-widgets/controls",
            "_model_module_version": "1.5.0",
            "value": " 1/1 [01:19&lt;00:00, 79.41s/ file]",
            "_view_count": null,
            "_view_module_version": "1.5.0",
            "description_tooltip": null,
            "_model_module": "@jupyter-widgets/controls",
            "layout": "IPY_MODEL_4554573d8b52492a8ede702ce636aa32"
          }
        },
        "dd6629b08c454e05b26259e2910760c5": {
          "model_module": "@jupyter-widgets/controls",
          "model_name": "DescriptionStyleModel",
          "model_module_version": "1.5.0",
          "state": {
            "_view_name": "StyleView",
            "_model_name": "DescriptionStyleModel",
            "description_width": "",
            "_view_module": "@jupyter-widgets/base",
            "_model_module_version": "1.5.0",
            "_view_count": null,
            "_view_module_version": "1.2.0",
            "_model_module": "@jupyter-widgets/controls"
          }
        },
        "4494e7989eb84fc486b26b9c15d93a95": {
          "model_module": "@jupyter-widgets/base",
          "model_name": "LayoutModel",
          "model_module_version": "1.2.0",
          "state": {
            "_view_name": "LayoutView",
            "grid_template_rows": null,
            "right": null,
            "justify_content": null,
            "_view_module": "@jupyter-widgets/base",
            "overflow": null,
            "_model_module_version": "1.2.0",
            "_view_count": null,
            "flex_flow": null,
            "width": null,
            "min_width": null,
            "border": null,
            "align_items": null,
            "bottom": null,
            "_model_module": "@jupyter-widgets/base",
            "top": null,
            "grid_column": null,
            "overflow_y": null,
            "overflow_x": null,
            "grid_auto_flow": null,
            "grid_area": null,
            "grid_template_columns": null,
            "flex": null,
            "_model_name": "LayoutModel",
            "justify_items": null,
            "grid_row": null,
            "max_height": null,
            "align_content": null,
            "visibility": null,
            "align_self": null,
            "height": null,
            "min_height": null,
            "padding": null,
            "grid_auto_rows": null,
            "grid_gap": null,
            "max_width": null,
            "order": null,
            "_view_module_version": "1.2.0",
            "grid_template_areas": null,
            "object_position": null,
            "object_fit": null,
            "grid_auto_columns": null,
            "margin": null,
            "display": null,
            "left": null
          }
        },
        "1954a0347cff4b6eb6d67a85698ae927": {
          "model_module": "@jupyter-widgets/controls",
          "model_name": "ProgressStyleModel",
          "model_module_version": "1.5.0",
          "state": {
            "_view_name": "StyleView",
            "_model_name": "ProgressStyleModel",
            "description_width": "",
            "_view_module": "@jupyter-widgets/base",
            "_model_module_version": "1.5.0",
            "_view_count": null,
            "_view_module_version": "1.2.0",
            "bar_color": null,
            "_model_module": "@jupyter-widgets/controls"
          }
        },
        "1513c90de3d04d8ba1f4bfecae4ff691": {
          "model_module": "@jupyter-widgets/base",
          "model_name": "LayoutModel",
          "model_module_version": "1.2.0",
          "state": {
            "_view_name": "LayoutView",
            "grid_template_rows": null,
            "right": null,
            "justify_content": null,
            "_view_module": "@jupyter-widgets/base",
            "overflow": null,
            "_model_module_version": "1.2.0",
            "_view_count": null,
            "flex_flow": null,
            "width": "20px",
            "min_width": null,
            "border": null,
            "align_items": null,
            "bottom": null,
            "_model_module": "@jupyter-widgets/base",
            "top": null,
            "grid_column": null,
            "overflow_y": null,
            "overflow_x": null,
            "grid_auto_flow": null,
            "grid_area": null,
            "grid_template_columns": null,
            "flex": null,
            "_model_name": "LayoutModel",
            "justify_items": null,
            "grid_row": null,
            "max_height": null,
            "align_content": null,
            "visibility": null,
            "align_self": null,
            "height": null,
            "min_height": null,
            "padding": null,
            "grid_auto_rows": null,
            "grid_gap": null,
            "max_width": null,
            "order": null,
            "_view_module_version": "1.2.0",
            "grid_template_areas": null,
            "object_position": null,
            "object_fit": null,
            "grid_auto_columns": null,
            "margin": null,
            "display": null,
            "left": null
          }
        },
        "7a504b4893a6485295daefaec7669c02": {
          "model_module": "@jupyter-widgets/controls",
          "model_name": "DescriptionStyleModel",
          "model_module_version": "1.5.0",
          "state": {
            "_view_name": "StyleView",
            "_model_name": "DescriptionStyleModel",
            "description_width": "",
            "_view_module": "@jupyter-widgets/base",
            "_model_module_version": "1.5.0",
            "_view_count": null,
            "_view_module_version": "1.2.0",
            "_model_module": "@jupyter-widgets/controls"
          }
        },
        "4554573d8b52492a8ede702ce636aa32": {
          "model_module": "@jupyter-widgets/base",
          "model_name": "LayoutModel",
          "model_module_version": "1.2.0",
          "state": {
            "_view_name": "LayoutView",
            "grid_template_rows": null,
            "right": null,
            "justify_content": null,
            "_view_module": "@jupyter-widgets/base",
            "overflow": null,
            "_model_module_version": "1.2.0",
            "_view_count": null,
            "flex_flow": null,
            "width": null,
            "min_width": null,
            "border": null,
            "align_items": null,
            "bottom": null,
            "_model_module": "@jupyter-widgets/base",
            "top": null,
            "grid_column": null,
            "overflow_y": null,
            "overflow_x": null,
            "grid_auto_flow": null,
            "grid_area": null,
            "grid_template_columns": null,
            "flex": null,
            "_model_name": "LayoutModel",
            "justify_items": null,
            "grid_row": null,
            "max_height": null,
            "align_content": null,
            "visibility": null,
            "align_self": null,
            "height": null,
            "min_height": null,
            "padding": null,
            "grid_auto_rows": null,
            "grid_gap": null,
            "max_width": null,
            "order": null,
            "_view_module_version": "1.2.0",
            "grid_template_areas": null,
            "object_position": null,
            "object_fit": null,
            "grid_auto_columns": null,
            "margin": null,
            "display": null,
            "left": null
          }
        },
        "995340daa0a942fe994744bc780b3c2a": {
          "model_module": "@jupyter-widgets/controls",
          "model_name": "HBoxModel",
          "model_module_version": "1.5.0",
          "state": {
            "_view_name": "HBoxView",
            "_dom_classes": [],
            "_model_name": "HBoxModel",
            "_view_module": "@jupyter-widgets/controls",
            "_model_module_version": "1.5.0",
            "_view_count": null,
            "_view_module_version": "1.5.0",
            "box_style": "",
            "layout": "IPY_MODEL_b6d6d891bab443929d78f1de1b28ca9d",
            "_model_module": "@jupyter-widgets/controls",
            "children": [
              "IPY_MODEL_ccbdac74e98041c3bc93107c8cbba061",
              "IPY_MODEL_c2f2c5ca4ab24ab3b80ce409113f88c1",
              "IPY_MODEL_070d73ec56cb4dc1af4ee4503a570823"
            ]
          }
        },
        "b6d6d891bab443929d78f1de1b28ca9d": {
          "model_module": "@jupyter-widgets/base",
          "model_name": "LayoutModel",
          "model_module_version": "1.2.0",
          "state": {
            "_view_name": "LayoutView",
            "grid_template_rows": null,
            "right": null,
            "justify_content": null,
            "_view_module": "@jupyter-widgets/base",
            "overflow": null,
            "_model_module_version": "1.2.0",
            "_view_count": null,
            "flex_flow": null,
            "width": null,
            "min_width": null,
            "border": null,
            "align_items": null,
            "bottom": null,
            "_model_module": "@jupyter-widgets/base",
            "top": null,
            "grid_column": null,
            "overflow_y": null,
            "overflow_x": null,
            "grid_auto_flow": null,
            "grid_area": null,
            "grid_template_columns": null,
            "flex": null,
            "_model_name": "LayoutModel",
            "justify_items": null,
            "grid_row": null,
            "max_height": null,
            "align_content": null,
            "visibility": null,
            "align_self": null,
            "height": null,
            "min_height": null,
            "padding": null,
            "grid_auto_rows": null,
            "grid_gap": null,
            "max_width": null,
            "order": null,
            "_view_module_version": "1.2.0",
            "grid_template_areas": null,
            "object_position": null,
            "object_fit": null,
            "grid_auto_columns": null,
            "margin": null,
            "display": null,
            "left": null
          }
        },
        "ccbdac74e98041c3bc93107c8cbba061": {
          "model_module": "@jupyter-widgets/controls",
          "model_name": "HTMLModel",
          "model_module_version": "1.5.0",
          "state": {
            "_view_name": "HTMLView",
            "style": "IPY_MODEL_c22e09f0a96a4f6898a85553fd580814",
            "_dom_classes": [],
            "description": "",
            "_model_name": "HTMLModel",
            "placeholder": "​",
            "_view_module": "@jupyter-widgets/controls",
            "_model_module_version": "1.5.0",
            "value": "",
            "_view_count": null,
            "_view_module_version": "1.5.0",
            "description_tooltip": null,
            "_model_module": "@jupyter-widgets/controls",
            "layout": "IPY_MODEL_d6287295c0aa4cf08cc50245bf5b0caf"
          }
        },
        "c2f2c5ca4ab24ab3b80ce409113f88c1": {
          "model_module": "@jupyter-widgets/controls",
          "model_name": "FloatProgressModel",
          "model_module_version": "1.5.0",
          "state": {
            "_view_name": "ProgressView",
            "style": "IPY_MODEL_d4c8cbde600d489bbe05ee5dbefb77ab",
            "_dom_classes": [],
            "description": "",
            "_model_name": "FloatProgressModel",
            "bar_style": "info",
            "max": 1,
            "_view_module": "@jupyter-widgets/controls",
            "_model_module_version": "1.5.0",
            "value": 1,
            "_view_count": null,
            "_view_module_version": "1.5.0",
            "orientation": "horizontal",
            "min": 0,
            "description_tooltip": null,
            "_model_module": "@jupyter-widgets/controls",
            "layout": "IPY_MODEL_dc657dc9a8944a56a4e2220073eea55e"
          }
        },
        "070d73ec56cb4dc1af4ee4503a570823": {
          "model_module": "@jupyter-widgets/controls",
          "model_name": "HTMLModel",
          "model_module_version": "1.5.0",
          "state": {
            "_view_name": "HTMLView",
            "style": "IPY_MODEL_f042e39e1d614974ad4b53b3b415badb",
            "_dom_classes": [],
            "description": "",
            "_model_name": "HTMLModel",
            "placeholder": "​",
            "_view_module": "@jupyter-widgets/controls",
            "_model_module_version": "1.5.0",
            "value": " 51648/0 [00:15&lt;00:00, 3479.76 examples/s]",
            "_view_count": null,
            "_view_module_version": "1.5.0",
            "description_tooltip": null,
            "_model_module": "@jupyter-widgets/controls",
            "layout": "IPY_MODEL_61960d898a9f4bc0b4b880e97deff14b"
          }
        },
        "c22e09f0a96a4f6898a85553fd580814": {
          "model_module": "@jupyter-widgets/controls",
          "model_name": "DescriptionStyleModel",
          "model_module_version": "1.5.0",
          "state": {
            "_view_name": "StyleView",
            "_model_name": "DescriptionStyleModel",
            "description_width": "",
            "_view_module": "@jupyter-widgets/base",
            "_model_module_version": "1.5.0",
            "_view_count": null,
            "_view_module_version": "1.2.0",
            "_model_module": "@jupyter-widgets/controls"
          }
        },
        "d6287295c0aa4cf08cc50245bf5b0caf": {
          "model_module": "@jupyter-widgets/base",
          "model_name": "LayoutModel",
          "model_module_version": "1.2.0",
          "state": {
            "_view_name": "LayoutView",
            "grid_template_rows": null,
            "right": null,
            "justify_content": null,
            "_view_module": "@jupyter-widgets/base",
            "overflow": null,
            "_model_module_version": "1.2.0",
            "_view_count": null,
            "flex_flow": null,
            "width": null,
            "min_width": null,
            "border": null,
            "align_items": null,
            "bottom": null,
            "_model_module": "@jupyter-widgets/base",
            "top": null,
            "grid_column": null,
            "overflow_y": null,
            "overflow_x": null,
            "grid_auto_flow": null,
            "grid_area": null,
            "grid_template_columns": null,
            "flex": null,
            "_model_name": "LayoutModel",
            "justify_items": null,
            "grid_row": null,
            "max_height": null,
            "align_content": null,
            "visibility": null,
            "align_self": null,
            "height": null,
            "min_height": null,
            "padding": null,
            "grid_auto_rows": null,
            "grid_gap": null,
            "max_width": null,
            "order": null,
            "_view_module_version": "1.2.0",
            "grid_template_areas": null,
            "object_position": null,
            "object_fit": null,
            "grid_auto_columns": null,
            "margin": null,
            "display": null,
            "left": null
          }
        },
        "d4c8cbde600d489bbe05ee5dbefb77ab": {
          "model_module": "@jupyter-widgets/controls",
          "model_name": "ProgressStyleModel",
          "model_module_version": "1.5.0",
          "state": {
            "_view_name": "StyleView",
            "_model_name": "ProgressStyleModel",
            "description_width": "",
            "_view_module": "@jupyter-widgets/base",
            "_model_module_version": "1.5.0",
            "_view_count": null,
            "_view_module_version": "1.2.0",
            "bar_color": null,
            "_model_module": "@jupyter-widgets/controls"
          }
        },
        "dc657dc9a8944a56a4e2220073eea55e": {
          "model_module": "@jupyter-widgets/base",
          "model_name": "LayoutModel",
          "model_module_version": "1.2.0",
          "state": {
            "_view_name": "LayoutView",
            "grid_template_rows": null,
            "right": null,
            "justify_content": null,
            "_view_module": "@jupyter-widgets/base",
            "overflow": null,
            "_model_module_version": "1.2.0",
            "_view_count": null,
            "flex_flow": null,
            "width": "20px",
            "min_width": null,
            "border": null,
            "align_items": null,
            "bottom": null,
            "_model_module": "@jupyter-widgets/base",
            "top": null,
            "grid_column": null,
            "overflow_y": null,
            "overflow_x": null,
            "grid_auto_flow": null,
            "grid_area": null,
            "grid_template_columns": null,
            "flex": null,
            "_model_name": "LayoutModel",
            "justify_items": null,
            "grid_row": null,
            "max_height": null,
            "align_content": null,
            "visibility": null,
            "align_self": null,
            "height": null,
            "min_height": null,
            "padding": null,
            "grid_auto_rows": null,
            "grid_gap": null,
            "max_width": null,
            "order": null,
            "_view_module_version": "1.2.0",
            "grid_template_areas": null,
            "object_position": null,
            "object_fit": null,
            "grid_auto_columns": null,
            "margin": null,
            "display": null,
            "left": null
          }
        },
        "f042e39e1d614974ad4b53b3b415badb": {
          "model_module": "@jupyter-widgets/controls",
          "model_name": "DescriptionStyleModel",
          "model_module_version": "1.5.0",
          "state": {
            "_view_name": "StyleView",
            "_model_name": "DescriptionStyleModel",
            "description_width": "",
            "_view_module": "@jupyter-widgets/base",
            "_model_module_version": "1.5.0",
            "_view_count": null,
            "_view_module_version": "1.2.0",
            "_model_module": "@jupyter-widgets/controls"
          }
        },
        "61960d898a9f4bc0b4b880e97deff14b": {
          "model_module": "@jupyter-widgets/base",
          "model_name": "LayoutModel",
          "model_module_version": "1.2.0",
          "state": {
            "_view_name": "LayoutView",
            "grid_template_rows": null,
            "right": null,
            "justify_content": null,
            "_view_module": "@jupyter-widgets/base",
            "overflow": null,
            "_model_module_version": "1.2.0",
            "_view_count": null,
            "flex_flow": null,
            "width": null,
            "min_width": null,
            "border": null,
            "align_items": null,
            "bottom": null,
            "_model_module": "@jupyter-widgets/base",
            "top": null,
            "grid_column": null,
            "overflow_y": null,
            "overflow_x": null,
            "grid_auto_flow": null,
            "grid_area": null,
            "grid_template_columns": null,
            "flex": null,
            "_model_name": "LayoutModel",
            "justify_items": null,
            "grid_row": null,
            "max_height": null,
            "align_content": null,
            "visibility": null,
            "align_self": null,
            "height": null,
            "min_height": null,
            "padding": null,
            "grid_auto_rows": null,
            "grid_gap": null,
            "max_width": null,
            "order": null,
            "_view_module_version": "1.2.0",
            "grid_template_areas": null,
            "object_position": null,
            "object_fit": null,
            "grid_auto_columns": null,
            "margin": null,
            "display": null,
            "left": null
          }
        },
        "9b218d2c75c44bb5bfb9cced52fe1834": {
          "model_module": "@jupyter-widgets/controls",
          "model_name": "HBoxModel",
          "model_module_version": "1.5.0",
          "state": {
            "_view_name": "HBoxView",
            "_dom_classes": [],
            "_model_name": "HBoxModel",
            "_view_module": "@jupyter-widgets/controls",
            "_model_module_version": "1.5.0",
            "_view_count": null,
            "_view_module_version": "1.5.0",
            "box_style": "",
            "layout": "IPY_MODEL_bc996dde4c764b258502921e0fd465ed",
            "_model_module": "@jupyter-widgets/controls",
            "children": [
              "IPY_MODEL_8bead0e9fc844d53bcdd5cfb6b999248",
              "IPY_MODEL_05af26ef22d34c5699d183fc0580c47b",
              "IPY_MODEL_e2ded992be2648ffb06af78095c822b8"
            ]
          }
        },
        "bc996dde4c764b258502921e0fd465ed": {
          "model_module": "@jupyter-widgets/base",
          "model_name": "LayoutModel",
          "model_module_version": "1.2.0",
          "state": {
            "_view_name": "LayoutView",
            "grid_template_rows": null,
            "right": null,
            "justify_content": null,
            "_view_module": "@jupyter-widgets/base",
            "overflow": null,
            "_model_module_version": "1.2.0",
            "_view_count": null,
            "flex_flow": null,
            "width": null,
            "min_width": null,
            "border": null,
            "align_items": null,
            "bottom": null,
            "_model_module": "@jupyter-widgets/base",
            "top": null,
            "grid_column": null,
            "overflow_y": null,
            "overflow_x": null,
            "grid_auto_flow": null,
            "grid_area": null,
            "grid_template_columns": null,
            "flex": null,
            "_model_name": "LayoutModel",
            "justify_items": null,
            "grid_row": null,
            "max_height": null,
            "align_content": null,
            "visibility": null,
            "align_self": null,
            "height": null,
            "min_height": null,
            "padding": null,
            "grid_auto_rows": null,
            "grid_gap": null,
            "max_width": null,
            "order": null,
            "_view_module_version": "1.2.0",
            "grid_template_areas": null,
            "object_position": null,
            "object_fit": null,
            "grid_auto_columns": null,
            "margin": null,
            "display": null,
            "left": null
          }
        },
        "8bead0e9fc844d53bcdd5cfb6b999248": {
          "model_module": "@jupyter-widgets/controls",
          "model_name": "HTMLModel",
          "model_module_version": "1.5.0",
          "state": {
            "_view_name": "HTMLView",
            "style": "IPY_MODEL_d7be67eb13ef464786145312e34e1068",
            "_dom_classes": [],
            "description": "",
            "_model_name": "HTMLModel",
            "placeholder": "​",
            "_view_module": "@jupyter-widgets/controls",
            "_model_module_version": "1.5.0",
            "value": "100%",
            "_view_count": null,
            "_view_module_version": "1.5.0",
            "description_tooltip": null,
            "_model_module": "@jupyter-widgets/controls",
            "layout": "IPY_MODEL_25fbc42b80144ffb9d5457c8450b2ad6"
          }
        },
        "05af26ef22d34c5699d183fc0580c47b": {
          "model_module": "@jupyter-widgets/controls",
          "model_name": "FloatProgressModel",
          "model_module_version": "1.5.0",
          "state": {
            "_view_name": "ProgressView",
            "style": "IPY_MODEL_b97d3b2b94fc443d989fd1a6377ee066",
            "_dom_classes": [],
            "description": "",
            "_model_name": "FloatProgressModel",
            "bar_style": "danger",
            "max": 51785,
            "_view_module": "@jupyter-widgets/controls",
            "_model_module_version": "1.5.0",
            "value": 51784,
            "_view_count": null,
            "_view_module_version": "1.5.0",
            "orientation": "horizontal",
            "min": 0,
            "description_tooltip": null,
            "_model_module": "@jupyter-widgets/controls",
            "layout": "IPY_MODEL_b1a38d056dda4e549929f63a86c17aeb"
          }
        },
        "e2ded992be2648ffb06af78095c822b8": {
          "model_module": "@jupyter-widgets/controls",
          "model_name": "HTMLModel",
          "model_module_version": "1.5.0",
          "state": {
            "_view_name": "HTMLView",
            "style": "IPY_MODEL_00dab719144f420eb506e1719061a066",
            "_dom_classes": [],
            "description": "",
            "_model_name": "HTMLModel",
            "placeholder": "​",
            "_view_module": "@jupyter-widgets/controls",
            "_model_module_version": "1.5.0",
            "value": " 51784/51785 [00:00&lt;00:00, 147284.42 examples/s]",
            "_view_count": null,
            "_view_module_version": "1.5.0",
            "description_tooltip": null,
            "_model_module": "@jupyter-widgets/controls",
            "layout": "IPY_MODEL_64775f22b32846c3ba8509e7d75c18ed"
          }
        },
        "d7be67eb13ef464786145312e34e1068": {
          "model_module": "@jupyter-widgets/controls",
          "model_name": "DescriptionStyleModel",
          "model_module_version": "1.5.0",
          "state": {
            "_view_name": "StyleView",
            "_model_name": "DescriptionStyleModel",
            "description_width": "",
            "_view_module": "@jupyter-widgets/base",
            "_model_module_version": "1.5.0",
            "_view_count": null,
            "_view_module_version": "1.2.0",
            "_model_module": "@jupyter-widgets/controls"
          }
        },
        "25fbc42b80144ffb9d5457c8450b2ad6": {
          "model_module": "@jupyter-widgets/base",
          "model_name": "LayoutModel",
          "model_module_version": "1.2.0",
          "state": {
            "_view_name": "LayoutView",
            "grid_template_rows": null,
            "right": null,
            "justify_content": null,
            "_view_module": "@jupyter-widgets/base",
            "overflow": null,
            "_model_module_version": "1.2.0",
            "_view_count": null,
            "flex_flow": null,
            "width": null,
            "min_width": null,
            "border": null,
            "align_items": null,
            "bottom": null,
            "_model_module": "@jupyter-widgets/base",
            "top": null,
            "grid_column": null,
            "overflow_y": null,
            "overflow_x": null,
            "grid_auto_flow": null,
            "grid_area": null,
            "grid_template_columns": null,
            "flex": null,
            "_model_name": "LayoutModel",
            "justify_items": null,
            "grid_row": null,
            "max_height": null,
            "align_content": null,
            "visibility": null,
            "align_self": null,
            "height": null,
            "min_height": null,
            "padding": null,
            "grid_auto_rows": null,
            "grid_gap": null,
            "max_width": null,
            "order": null,
            "_view_module_version": "1.2.0",
            "grid_template_areas": null,
            "object_position": null,
            "object_fit": null,
            "grid_auto_columns": null,
            "margin": null,
            "display": null,
            "left": null
          }
        },
        "b97d3b2b94fc443d989fd1a6377ee066": {
          "model_module": "@jupyter-widgets/controls",
          "model_name": "ProgressStyleModel",
          "model_module_version": "1.5.0",
          "state": {
            "_view_name": "StyleView",
            "_model_name": "ProgressStyleModel",
            "description_width": "",
            "_view_module": "@jupyter-widgets/base",
            "_model_module_version": "1.5.0",
            "_view_count": null,
            "_view_module_version": "1.2.0",
            "bar_color": null,
            "_model_module": "@jupyter-widgets/controls"
          }
        },
        "b1a38d056dda4e549929f63a86c17aeb": {
          "model_module": "@jupyter-widgets/base",
          "model_name": "LayoutModel",
          "model_module_version": "1.2.0",
          "state": {
            "_view_name": "LayoutView",
            "grid_template_rows": null,
            "right": null,
            "justify_content": null,
            "_view_module": "@jupyter-widgets/base",
            "overflow": null,
            "_model_module_version": "1.2.0",
            "_view_count": null,
            "flex_flow": null,
            "width": null,
            "min_width": null,
            "border": null,
            "align_items": null,
            "bottom": null,
            "_model_module": "@jupyter-widgets/base",
            "top": null,
            "grid_column": null,
            "overflow_y": null,
            "overflow_x": null,
            "grid_auto_flow": null,
            "grid_area": null,
            "grid_template_columns": null,
            "flex": null,
            "_model_name": "LayoutModel",
            "justify_items": null,
            "grid_row": null,
            "max_height": null,
            "align_content": null,
            "visibility": null,
            "align_self": null,
            "height": null,
            "min_height": null,
            "padding": null,
            "grid_auto_rows": null,
            "grid_gap": null,
            "max_width": null,
            "order": null,
            "_view_module_version": "1.2.0",
            "grid_template_areas": null,
            "object_position": null,
            "object_fit": null,
            "grid_auto_columns": null,
            "margin": null,
            "display": null,
            "left": null
          }
        },
        "00dab719144f420eb506e1719061a066": {
          "model_module": "@jupyter-widgets/controls",
          "model_name": "DescriptionStyleModel",
          "model_module_version": "1.5.0",
          "state": {
            "_view_name": "StyleView",
            "_model_name": "DescriptionStyleModel",
            "description_width": "",
            "_view_module": "@jupyter-widgets/base",
            "_model_module_version": "1.5.0",
            "_view_count": null,
            "_view_module_version": "1.2.0",
            "_model_module": "@jupyter-widgets/controls"
          }
        },
        "64775f22b32846c3ba8509e7d75c18ed": {
          "model_module": "@jupyter-widgets/base",
          "model_name": "LayoutModel",
          "model_module_version": "1.2.0",
          "state": {
            "_view_name": "LayoutView",
            "grid_template_rows": null,
            "right": null,
            "justify_content": null,
            "_view_module": "@jupyter-widgets/base",
            "overflow": null,
            "_model_module_version": "1.2.0",
            "_view_count": null,
            "flex_flow": null,
            "width": null,
            "min_width": null,
            "border": null,
            "align_items": null,
            "bottom": null,
            "_model_module": "@jupyter-widgets/base",
            "top": null,
            "grid_column": null,
            "overflow_y": null,
            "overflow_x": null,
            "grid_auto_flow": null,
            "grid_area": null,
            "grid_template_columns": null,
            "flex": null,
            "_model_name": "LayoutModel",
            "justify_items": null,
            "grid_row": null,
            "max_height": null,
            "align_content": null,
            "visibility": null,
            "align_self": null,
            "height": null,
            "min_height": null,
            "padding": null,
            "grid_auto_rows": null,
            "grid_gap": null,
            "max_width": null,
            "order": null,
            "_view_module_version": "1.2.0",
            "grid_template_areas": null,
            "object_position": null,
            "object_fit": null,
            "grid_auto_columns": null,
            "margin": null,
            "display": null,
            "left": null
          }
        },
        "a30d2cd7382b405bab86b550bf9940f4": {
          "model_module": "@jupyter-widgets/controls",
          "model_name": "HBoxModel",
          "model_module_version": "1.5.0",
          "state": {
            "_view_name": "HBoxView",
            "_dom_classes": [],
            "_model_name": "HBoxModel",
            "_view_module": "@jupyter-widgets/controls",
            "_model_module_version": "1.5.0",
            "_view_count": null,
            "_view_module_version": "1.5.0",
            "box_style": "",
            "layout": "IPY_MODEL_6386543eb40843dc9a9e634ff5492cdf",
            "_model_module": "@jupyter-widgets/controls",
            "children": [
              "IPY_MODEL_038a715f281543ef9181a1fe00059d50",
              "IPY_MODEL_ebe28c3413c94d94bec7725bdf09b190",
              "IPY_MODEL_69cb113180d940adbb52fe2de8eafb4a"
            ]
          }
        },
        "6386543eb40843dc9a9e634ff5492cdf": {
          "model_module": "@jupyter-widgets/base",
          "model_name": "LayoutModel",
          "model_module_version": "1.2.0",
          "state": {
            "_view_name": "LayoutView",
            "grid_template_rows": null,
            "right": null,
            "justify_content": null,
            "_view_module": "@jupyter-widgets/base",
            "overflow": null,
            "_model_module_version": "1.2.0",
            "_view_count": null,
            "flex_flow": null,
            "width": null,
            "min_width": null,
            "border": null,
            "align_items": null,
            "bottom": null,
            "_model_module": "@jupyter-widgets/base",
            "top": null,
            "grid_column": null,
            "overflow_y": null,
            "overflow_x": null,
            "grid_auto_flow": null,
            "grid_area": null,
            "grid_template_columns": null,
            "flex": null,
            "_model_name": "LayoutModel",
            "justify_items": null,
            "grid_row": null,
            "max_height": null,
            "align_content": null,
            "visibility": null,
            "align_self": null,
            "height": null,
            "min_height": null,
            "padding": null,
            "grid_auto_rows": null,
            "grid_gap": null,
            "max_width": null,
            "order": null,
            "_view_module_version": "1.2.0",
            "grid_template_areas": null,
            "object_position": null,
            "object_fit": null,
            "grid_auto_columns": null,
            "margin": null,
            "display": null,
            "left": null
          }
        },
        "038a715f281543ef9181a1fe00059d50": {
          "model_module": "@jupyter-widgets/controls",
          "model_name": "HTMLModel",
          "model_module_version": "1.5.0",
          "state": {
            "_view_name": "HTMLView",
            "style": "IPY_MODEL_1bf29881d5ea4e6783dd500ed41e5996",
            "_dom_classes": [],
            "description": "",
            "_model_name": "HTMLModel",
            "placeholder": "​",
            "_view_module": "@jupyter-widgets/controls",
            "_model_module_version": "1.5.0",
            "value": "",
            "_view_count": null,
            "_view_module_version": "1.5.0",
            "description_tooltip": null,
            "_model_module": "@jupyter-widgets/controls",
            "layout": "IPY_MODEL_ac8d7e4d1cfe4c288efba8439de1c3a7"
          }
        },
        "ebe28c3413c94d94bec7725bdf09b190": {
          "model_module": "@jupyter-widgets/controls",
          "model_name": "FloatProgressModel",
          "model_module_version": "1.5.0",
          "state": {
            "_view_name": "ProgressView",
            "style": "IPY_MODEL_115a301ca0aa462aa7b91615db95554e",
            "_dom_classes": [],
            "description": "",
            "_model_name": "FloatProgressModel",
            "bar_style": "info",
            "max": 1,
            "_view_module": "@jupyter-widgets/controls",
            "_model_module_version": "1.5.0",
            "value": 1,
            "_view_count": null,
            "_view_module_version": "1.5.0",
            "orientation": "horizontal",
            "min": 0,
            "description_tooltip": null,
            "_model_module": "@jupyter-widgets/controls",
            "layout": "IPY_MODEL_8041b6c9efb347238a00ec4409696081"
          }
        },
        "69cb113180d940adbb52fe2de8eafb4a": {
          "model_module": "@jupyter-widgets/controls",
          "model_name": "HTMLModel",
          "model_module_version": "1.5.0",
          "state": {
            "_view_name": "HTMLView",
            "style": "IPY_MODEL_650bb90c7da04d0fa50d9c63a191c46f",
            "_dom_classes": [],
            "description": "",
            "_model_name": "HTMLModel",
            "placeholder": "​",
            "_view_module": "@jupyter-widgets/controls",
            "_model_module_version": "1.5.0",
            "value": " 1064/0 [00:00&lt;00:00, 3031.37 examples/s]",
            "_view_count": null,
            "_view_module_version": "1.5.0",
            "description_tooltip": null,
            "_model_module": "@jupyter-widgets/controls",
            "layout": "IPY_MODEL_f2458efdec054790b14145233eb82ef5"
          }
        },
        "1bf29881d5ea4e6783dd500ed41e5996": {
          "model_module": "@jupyter-widgets/controls",
          "model_name": "DescriptionStyleModel",
          "model_module_version": "1.5.0",
          "state": {
            "_view_name": "StyleView",
            "_model_name": "DescriptionStyleModel",
            "description_width": "",
            "_view_module": "@jupyter-widgets/base",
            "_model_module_version": "1.5.0",
            "_view_count": null,
            "_view_module_version": "1.2.0",
            "_model_module": "@jupyter-widgets/controls"
          }
        },
        "ac8d7e4d1cfe4c288efba8439de1c3a7": {
          "model_module": "@jupyter-widgets/base",
          "model_name": "LayoutModel",
          "model_module_version": "1.2.0",
          "state": {
            "_view_name": "LayoutView",
            "grid_template_rows": null,
            "right": null,
            "justify_content": null,
            "_view_module": "@jupyter-widgets/base",
            "overflow": null,
            "_model_module_version": "1.2.0",
            "_view_count": null,
            "flex_flow": null,
            "width": null,
            "min_width": null,
            "border": null,
            "align_items": null,
            "bottom": null,
            "_model_module": "@jupyter-widgets/base",
            "top": null,
            "grid_column": null,
            "overflow_y": null,
            "overflow_x": null,
            "grid_auto_flow": null,
            "grid_area": null,
            "grid_template_columns": null,
            "flex": null,
            "_model_name": "LayoutModel",
            "justify_items": null,
            "grid_row": null,
            "max_height": null,
            "align_content": null,
            "visibility": null,
            "align_self": null,
            "height": null,
            "min_height": null,
            "padding": null,
            "grid_auto_rows": null,
            "grid_gap": null,
            "max_width": null,
            "order": null,
            "_view_module_version": "1.2.0",
            "grid_template_areas": null,
            "object_position": null,
            "object_fit": null,
            "grid_auto_columns": null,
            "margin": null,
            "display": null,
            "left": null
          }
        },
        "115a301ca0aa462aa7b91615db95554e": {
          "model_module": "@jupyter-widgets/controls",
          "model_name": "ProgressStyleModel",
          "model_module_version": "1.5.0",
          "state": {
            "_view_name": "StyleView",
            "_model_name": "ProgressStyleModel",
            "description_width": "",
            "_view_module": "@jupyter-widgets/base",
            "_model_module_version": "1.5.0",
            "_view_count": null,
            "_view_module_version": "1.2.0",
            "bar_color": null,
            "_model_module": "@jupyter-widgets/controls"
          }
        },
        "8041b6c9efb347238a00ec4409696081": {
          "model_module": "@jupyter-widgets/base",
          "model_name": "LayoutModel",
          "model_module_version": "1.2.0",
          "state": {
            "_view_name": "LayoutView",
            "grid_template_rows": null,
            "right": null,
            "justify_content": null,
            "_view_module": "@jupyter-widgets/base",
            "overflow": null,
            "_model_module_version": "1.2.0",
            "_view_count": null,
            "flex_flow": null,
            "width": "20px",
            "min_width": null,
            "border": null,
            "align_items": null,
            "bottom": null,
            "_model_module": "@jupyter-widgets/base",
            "top": null,
            "grid_column": null,
            "overflow_y": null,
            "overflow_x": null,
            "grid_auto_flow": null,
            "grid_area": null,
            "grid_template_columns": null,
            "flex": null,
            "_model_name": "LayoutModel",
            "justify_items": null,
            "grid_row": null,
            "max_height": null,
            "align_content": null,
            "visibility": null,
            "align_self": null,
            "height": null,
            "min_height": null,
            "padding": null,
            "grid_auto_rows": null,
            "grid_gap": null,
            "max_width": null,
            "order": null,
            "_view_module_version": "1.2.0",
            "grid_template_areas": null,
            "object_position": null,
            "object_fit": null,
            "grid_auto_columns": null,
            "margin": null,
            "display": null,
            "left": null
          }
        },
        "650bb90c7da04d0fa50d9c63a191c46f": {
          "model_module": "@jupyter-widgets/controls",
          "model_name": "DescriptionStyleModel",
          "model_module_version": "1.5.0",
          "state": {
            "_view_name": "StyleView",
            "_model_name": "DescriptionStyleModel",
            "description_width": "",
            "_view_module": "@jupyter-widgets/base",
            "_model_module_version": "1.5.0",
            "_view_count": null,
            "_view_module_version": "1.2.0",
            "_model_module": "@jupyter-widgets/controls"
          }
        },
        "f2458efdec054790b14145233eb82ef5": {
          "model_module": "@jupyter-widgets/base",
          "model_name": "LayoutModel",
          "model_module_version": "1.2.0",
          "state": {
            "_view_name": "LayoutView",
            "grid_template_rows": null,
            "right": null,
            "justify_content": null,
            "_view_module": "@jupyter-widgets/base",
            "overflow": null,
            "_model_module_version": "1.2.0",
            "_view_count": null,
            "flex_flow": null,
            "width": null,
            "min_width": null,
            "border": null,
            "align_items": null,
            "bottom": null,
            "_model_module": "@jupyter-widgets/base",
            "top": null,
            "grid_column": null,
            "overflow_y": null,
            "overflow_x": null,
            "grid_auto_flow": null,
            "grid_area": null,
            "grid_template_columns": null,
            "flex": null,
            "_model_name": "LayoutModel",
            "justify_items": null,
            "grid_row": null,
            "max_height": null,
            "align_content": null,
            "visibility": null,
            "align_self": null,
            "height": null,
            "min_height": null,
            "padding": null,
            "grid_auto_rows": null,
            "grid_gap": null,
            "max_width": null,
            "order": null,
            "_view_module_version": "1.2.0",
            "grid_template_areas": null,
            "object_position": null,
            "object_fit": null,
            "grid_auto_columns": null,
            "margin": null,
            "display": null,
            "left": null
          }
        },
        "29910e0347904610a24c841d00561ebb": {
          "model_module": "@jupyter-widgets/controls",
          "model_name": "HBoxModel",
          "model_module_version": "1.5.0",
          "state": {
            "_view_name": "HBoxView",
            "_dom_classes": [],
            "_model_name": "HBoxModel",
            "_view_module": "@jupyter-widgets/controls",
            "_model_module_version": "1.5.0",
            "_view_count": null,
            "_view_module_version": "1.5.0",
            "box_style": "",
            "layout": "IPY_MODEL_69d72b6059414444ad8ea1ee7c8c6f4e",
            "_model_module": "@jupyter-widgets/controls",
            "children": [
              "IPY_MODEL_cf77c3c74b044f5f986d06a2e3620fd8",
              "IPY_MODEL_e7a7e3dd025d472c852c56870d786b59",
              "IPY_MODEL_78a1c02b5a804b2d9d7987bd2fa46013"
            ]
          }
        },
        "69d72b6059414444ad8ea1ee7c8c6f4e": {
          "model_module": "@jupyter-widgets/base",
          "model_name": "LayoutModel",
          "model_module_version": "1.2.0",
          "state": {
            "_view_name": "LayoutView",
            "grid_template_rows": null,
            "right": null,
            "justify_content": null,
            "_view_module": "@jupyter-widgets/base",
            "overflow": null,
            "_model_module_version": "1.2.0",
            "_view_count": null,
            "flex_flow": null,
            "width": null,
            "min_width": null,
            "border": null,
            "align_items": null,
            "bottom": null,
            "_model_module": "@jupyter-widgets/base",
            "top": null,
            "grid_column": null,
            "overflow_y": null,
            "overflow_x": null,
            "grid_auto_flow": null,
            "grid_area": null,
            "grid_template_columns": null,
            "flex": null,
            "_model_name": "LayoutModel",
            "justify_items": null,
            "grid_row": null,
            "max_height": null,
            "align_content": null,
            "visibility": null,
            "align_self": null,
            "height": null,
            "min_height": null,
            "padding": null,
            "grid_auto_rows": null,
            "grid_gap": null,
            "max_width": null,
            "order": null,
            "_view_module_version": "1.2.0",
            "grid_template_areas": null,
            "object_position": null,
            "object_fit": null,
            "grid_auto_columns": null,
            "margin": null,
            "display": null,
            "left": null
          }
        },
        "cf77c3c74b044f5f986d06a2e3620fd8": {
          "model_module": "@jupyter-widgets/controls",
          "model_name": "HTMLModel",
          "model_module_version": "1.5.0",
          "state": {
            "_view_name": "HTMLView",
            "style": "IPY_MODEL_b691ff6fce504815bbd413961caa1ed3",
            "_dom_classes": [],
            "description": "",
            "_model_name": "HTMLModel",
            "placeholder": "​",
            "_view_module": "@jupyter-widgets/controls",
            "_model_module_version": "1.5.0",
            "value": "100%",
            "_view_count": null,
            "_view_module_version": "1.5.0",
            "description_tooltip": null,
            "_model_module": "@jupyter-widgets/controls",
            "layout": "IPY_MODEL_25c6482a0d14429bbf84112eb6df74f2"
          }
        },
        "e7a7e3dd025d472c852c56870d786b59": {
          "model_module": "@jupyter-widgets/controls",
          "model_name": "FloatProgressModel",
          "model_module_version": "1.5.0",
          "state": {
            "_view_name": "ProgressView",
            "style": "IPY_MODEL_1df372419aca4bdba9cca74adb875501",
            "_dom_classes": [],
            "description": "",
            "_model_name": "FloatProgressModel",
            "bar_style": "danger",
            "max": 1193,
            "_view_module": "@jupyter-widgets/controls",
            "_model_module_version": "1.5.0",
            "value": 1192,
            "_view_count": null,
            "_view_module_version": "1.5.0",
            "orientation": "horizontal",
            "min": 0,
            "description_tooltip": null,
            "_model_module": "@jupyter-widgets/controls",
            "layout": "IPY_MODEL_5c55a60546e1438f94901cd8b773dc7c"
          }
        },
        "78a1c02b5a804b2d9d7987bd2fa46013": {
          "model_module": "@jupyter-widgets/controls",
          "model_name": "HTMLModel",
          "model_module_version": "1.5.0",
          "state": {
            "_view_name": "HTMLView",
            "style": "IPY_MODEL_238f8f16a1d14acdbdb766abc57e6e0e",
            "_dom_classes": [],
            "description": "",
            "_model_name": "HTMLModel",
            "placeholder": "​",
            "_view_module": "@jupyter-widgets/controls",
            "_model_module_version": "1.5.0",
            "value": " 1192/1193 [00:00&lt;00:00, 17399.94 examples/s]",
            "_view_count": null,
            "_view_module_version": "1.5.0",
            "description_tooltip": null,
            "_model_module": "@jupyter-widgets/controls",
            "layout": "IPY_MODEL_d307632897e54f3883165ed15bcbf6d8"
          }
        },
        "b691ff6fce504815bbd413961caa1ed3": {
          "model_module": "@jupyter-widgets/controls",
          "model_name": "DescriptionStyleModel",
          "model_module_version": "1.5.0",
          "state": {
            "_view_name": "StyleView",
            "_model_name": "DescriptionStyleModel",
            "description_width": "",
            "_view_module": "@jupyter-widgets/base",
            "_model_module_version": "1.5.0",
            "_view_count": null,
            "_view_module_version": "1.2.0",
            "_model_module": "@jupyter-widgets/controls"
          }
        },
        "25c6482a0d14429bbf84112eb6df74f2": {
          "model_module": "@jupyter-widgets/base",
          "model_name": "LayoutModel",
          "model_module_version": "1.2.0",
          "state": {
            "_view_name": "LayoutView",
            "grid_template_rows": null,
            "right": null,
            "justify_content": null,
            "_view_module": "@jupyter-widgets/base",
            "overflow": null,
            "_model_module_version": "1.2.0",
            "_view_count": null,
            "flex_flow": null,
            "width": null,
            "min_width": null,
            "border": null,
            "align_items": null,
            "bottom": null,
            "_model_module": "@jupyter-widgets/base",
            "top": null,
            "grid_column": null,
            "overflow_y": null,
            "overflow_x": null,
            "grid_auto_flow": null,
            "grid_area": null,
            "grid_template_columns": null,
            "flex": null,
            "_model_name": "LayoutModel",
            "justify_items": null,
            "grid_row": null,
            "max_height": null,
            "align_content": null,
            "visibility": null,
            "align_self": null,
            "height": null,
            "min_height": null,
            "padding": null,
            "grid_auto_rows": null,
            "grid_gap": null,
            "max_width": null,
            "order": null,
            "_view_module_version": "1.2.0",
            "grid_template_areas": null,
            "object_position": null,
            "object_fit": null,
            "grid_auto_columns": null,
            "margin": null,
            "display": null,
            "left": null
          }
        },
        "1df372419aca4bdba9cca74adb875501": {
          "model_module": "@jupyter-widgets/controls",
          "model_name": "ProgressStyleModel",
          "model_module_version": "1.5.0",
          "state": {
            "_view_name": "StyleView",
            "_model_name": "ProgressStyleModel",
            "description_width": "",
            "_view_module": "@jupyter-widgets/base",
            "_model_module_version": "1.5.0",
            "_view_count": null,
            "_view_module_version": "1.2.0",
            "bar_color": null,
            "_model_module": "@jupyter-widgets/controls"
          }
        },
        "5c55a60546e1438f94901cd8b773dc7c": {
          "model_module": "@jupyter-widgets/base",
          "model_name": "LayoutModel",
          "model_module_version": "1.2.0",
          "state": {
            "_view_name": "LayoutView",
            "grid_template_rows": null,
            "right": null,
            "justify_content": null,
            "_view_module": "@jupyter-widgets/base",
            "overflow": null,
            "_model_module_version": "1.2.0",
            "_view_count": null,
            "flex_flow": null,
            "width": null,
            "min_width": null,
            "border": null,
            "align_items": null,
            "bottom": null,
            "_model_module": "@jupyter-widgets/base",
            "top": null,
            "grid_column": null,
            "overflow_y": null,
            "overflow_x": null,
            "grid_auto_flow": null,
            "grid_area": null,
            "grid_template_columns": null,
            "flex": null,
            "_model_name": "LayoutModel",
            "justify_items": null,
            "grid_row": null,
            "max_height": null,
            "align_content": null,
            "visibility": null,
            "align_self": null,
            "height": null,
            "min_height": null,
            "padding": null,
            "grid_auto_rows": null,
            "grid_gap": null,
            "max_width": null,
            "order": null,
            "_view_module_version": "1.2.0",
            "grid_template_areas": null,
            "object_position": null,
            "object_fit": null,
            "grid_auto_columns": null,
            "margin": null,
            "display": null,
            "left": null
          }
        },
        "238f8f16a1d14acdbdb766abc57e6e0e": {
          "model_module": "@jupyter-widgets/controls",
          "model_name": "DescriptionStyleModel",
          "model_module_version": "1.5.0",
          "state": {
            "_view_name": "StyleView",
            "_model_name": "DescriptionStyleModel",
            "description_width": "",
            "_view_module": "@jupyter-widgets/base",
            "_model_module_version": "1.5.0",
            "_view_count": null,
            "_view_module_version": "1.2.0",
            "_model_module": "@jupyter-widgets/controls"
          }
        },
        "d307632897e54f3883165ed15bcbf6d8": {
          "model_module": "@jupyter-widgets/base",
          "model_name": "LayoutModel",
          "model_module_version": "1.2.0",
          "state": {
            "_view_name": "LayoutView",
            "grid_template_rows": null,
            "right": null,
            "justify_content": null,
            "_view_module": "@jupyter-widgets/base",
            "overflow": null,
            "_model_module_version": "1.2.0",
            "_view_count": null,
            "flex_flow": null,
            "width": null,
            "min_width": null,
            "border": null,
            "align_items": null,
            "bottom": null,
            "_model_module": "@jupyter-widgets/base",
            "top": null,
            "grid_column": null,
            "overflow_y": null,
            "overflow_x": null,
            "grid_auto_flow": null,
            "grid_area": null,
            "grid_template_columns": null,
            "flex": null,
            "_model_name": "LayoutModel",
            "justify_items": null,
            "grid_row": null,
            "max_height": null,
            "align_content": null,
            "visibility": null,
            "align_self": null,
            "height": null,
            "min_height": null,
            "padding": null,
            "grid_auto_rows": null,
            "grid_gap": null,
            "max_width": null,
            "order": null,
            "_view_module_version": "1.2.0",
            "grid_template_areas": null,
            "object_position": null,
            "object_fit": null,
            "grid_auto_columns": null,
            "margin": null,
            "display": null,
            "left": null
          }
        },
        "4e06515e32d0434ca7dea8d72820fd93": {
          "model_module": "@jupyter-widgets/controls",
          "model_name": "HBoxModel",
          "model_module_version": "1.5.0",
          "state": {
            "_view_name": "HBoxView",
            "_dom_classes": [],
            "_model_name": "HBoxModel",
            "_view_module": "@jupyter-widgets/controls",
            "_model_module_version": "1.5.0",
            "_view_count": null,
            "_view_module_version": "1.5.0",
            "box_style": "",
            "layout": "IPY_MODEL_d5000d77e8264b7c95874d2812617a86",
            "_model_module": "@jupyter-widgets/controls",
            "children": [
              "IPY_MODEL_e1dc4788c7cc4a25857862bbf828910a",
              "IPY_MODEL_0f581f66737941a28b8a3b0a88ea418b",
              "IPY_MODEL_3bd1863b6764425a81fb2f781b7402a8"
            ]
          }
        },
        "d5000d77e8264b7c95874d2812617a86": {
          "model_module": "@jupyter-widgets/base",
          "model_name": "LayoutModel",
          "model_module_version": "1.2.0",
          "state": {
            "_view_name": "LayoutView",
            "grid_template_rows": null,
            "right": null,
            "justify_content": null,
            "_view_module": "@jupyter-widgets/base",
            "overflow": null,
            "_model_module_version": "1.2.0",
            "_view_count": null,
            "flex_flow": null,
            "width": null,
            "min_width": null,
            "border": null,
            "align_items": null,
            "bottom": null,
            "_model_module": "@jupyter-widgets/base",
            "top": null,
            "grid_column": null,
            "overflow_y": null,
            "overflow_x": null,
            "grid_auto_flow": null,
            "grid_area": null,
            "grid_template_columns": null,
            "flex": null,
            "_model_name": "LayoutModel",
            "justify_items": null,
            "grid_row": null,
            "max_height": null,
            "align_content": null,
            "visibility": null,
            "align_self": null,
            "height": null,
            "min_height": null,
            "padding": null,
            "grid_auto_rows": null,
            "grid_gap": null,
            "max_width": null,
            "order": null,
            "_view_module_version": "1.2.0",
            "grid_template_areas": null,
            "object_position": null,
            "object_fit": null,
            "grid_auto_columns": null,
            "margin": null,
            "display": null,
            "left": null
          }
        },
        "e1dc4788c7cc4a25857862bbf828910a": {
          "model_module": "@jupyter-widgets/controls",
          "model_name": "HTMLModel",
          "model_module_version": "1.5.0",
          "state": {
            "_view_name": "HTMLView",
            "style": "IPY_MODEL_069b2253acfe42cdbe224777327079c0",
            "_dom_classes": [],
            "description": "",
            "_model_name": "HTMLModel",
            "placeholder": "​",
            "_view_module": "@jupyter-widgets/controls",
            "_model_module_version": "1.5.0",
            "value": "",
            "_view_count": null,
            "_view_module_version": "1.5.0",
            "description_tooltip": null,
            "_model_module": "@jupyter-widgets/controls",
            "layout": "IPY_MODEL_d46368e370c344d4864bfb7e94ebe176"
          }
        },
        "0f581f66737941a28b8a3b0a88ea418b": {
          "model_module": "@jupyter-widgets/controls",
          "model_name": "FloatProgressModel",
          "model_module_version": "1.5.0",
          "state": {
            "_view_name": "ProgressView",
            "style": "IPY_MODEL_21766c40a8c749628bdcca3da124de35",
            "_dom_classes": [],
            "description": "",
            "_model_name": "FloatProgressModel",
            "bar_style": "info",
            "max": 1,
            "_view_module": "@jupyter-widgets/controls",
            "_model_module_version": "1.5.0",
            "value": 1,
            "_view_count": null,
            "_view_module_version": "1.5.0",
            "orientation": "horizontal",
            "min": 0,
            "description_tooltip": null,
            "_model_module": "@jupyter-widgets/controls",
            "layout": "IPY_MODEL_bf80fef1e9594f38a15091c91ae40010"
          }
        },
        "3bd1863b6764425a81fb2f781b7402a8": {
          "model_module": "@jupyter-widgets/controls",
          "model_name": "HTMLModel",
          "model_module_version": "1.5.0",
          "state": {
            "_view_name": "HTMLView",
            "style": "IPY_MODEL_6cba7441941e4ad6994c589e0b04c4e3",
            "_dom_classes": [],
            "description": "",
            "_model_name": "HTMLModel",
            "placeholder": "​",
            "_view_module": "@jupyter-widgets/controls",
            "_model_module_version": "1.5.0",
            "value": " 1647/0 [00:00&lt;00:00, 3239.09 examples/s]",
            "_view_count": null,
            "_view_module_version": "1.5.0",
            "description_tooltip": null,
            "_model_module": "@jupyter-widgets/controls",
            "layout": "IPY_MODEL_b2607807ce614259b5f1568aefcae82c"
          }
        },
        "069b2253acfe42cdbe224777327079c0": {
          "model_module": "@jupyter-widgets/controls",
          "model_name": "DescriptionStyleModel",
          "model_module_version": "1.5.0",
          "state": {
            "_view_name": "StyleView",
            "_model_name": "DescriptionStyleModel",
            "description_width": "",
            "_view_module": "@jupyter-widgets/base",
            "_model_module_version": "1.5.0",
            "_view_count": null,
            "_view_module_version": "1.2.0",
            "_model_module": "@jupyter-widgets/controls"
          }
        },
        "d46368e370c344d4864bfb7e94ebe176": {
          "model_module": "@jupyter-widgets/base",
          "model_name": "LayoutModel",
          "model_module_version": "1.2.0",
          "state": {
            "_view_name": "LayoutView",
            "grid_template_rows": null,
            "right": null,
            "justify_content": null,
            "_view_module": "@jupyter-widgets/base",
            "overflow": null,
            "_model_module_version": "1.2.0",
            "_view_count": null,
            "flex_flow": null,
            "width": null,
            "min_width": null,
            "border": null,
            "align_items": null,
            "bottom": null,
            "_model_module": "@jupyter-widgets/base",
            "top": null,
            "grid_column": null,
            "overflow_y": null,
            "overflow_x": null,
            "grid_auto_flow": null,
            "grid_area": null,
            "grid_template_columns": null,
            "flex": null,
            "_model_name": "LayoutModel",
            "justify_items": null,
            "grid_row": null,
            "max_height": null,
            "align_content": null,
            "visibility": null,
            "align_self": null,
            "height": null,
            "min_height": null,
            "padding": null,
            "grid_auto_rows": null,
            "grid_gap": null,
            "max_width": null,
            "order": null,
            "_view_module_version": "1.2.0",
            "grid_template_areas": null,
            "object_position": null,
            "object_fit": null,
            "grid_auto_columns": null,
            "margin": null,
            "display": null,
            "left": null
          }
        },
        "21766c40a8c749628bdcca3da124de35": {
          "model_module": "@jupyter-widgets/controls",
          "model_name": "ProgressStyleModel",
          "model_module_version": "1.5.0",
          "state": {
            "_view_name": "StyleView",
            "_model_name": "ProgressStyleModel",
            "description_width": "",
            "_view_module": "@jupyter-widgets/base",
            "_model_module_version": "1.5.0",
            "_view_count": null,
            "_view_module_version": "1.2.0",
            "bar_color": null,
            "_model_module": "@jupyter-widgets/controls"
          }
        },
        "bf80fef1e9594f38a15091c91ae40010": {
          "model_module": "@jupyter-widgets/base",
          "model_name": "LayoutModel",
          "model_module_version": "1.2.0",
          "state": {
            "_view_name": "LayoutView",
            "grid_template_rows": null,
            "right": null,
            "justify_content": null,
            "_view_module": "@jupyter-widgets/base",
            "overflow": null,
            "_model_module_version": "1.2.0",
            "_view_count": null,
            "flex_flow": null,
            "width": "20px",
            "min_width": null,
            "border": null,
            "align_items": null,
            "bottom": null,
            "_model_module": "@jupyter-widgets/base",
            "top": null,
            "grid_column": null,
            "overflow_y": null,
            "overflow_x": null,
            "grid_auto_flow": null,
            "grid_area": null,
            "grid_template_columns": null,
            "flex": null,
            "_model_name": "LayoutModel",
            "justify_items": null,
            "grid_row": null,
            "max_height": null,
            "align_content": null,
            "visibility": null,
            "align_self": null,
            "height": null,
            "min_height": null,
            "padding": null,
            "grid_auto_rows": null,
            "grid_gap": null,
            "max_width": null,
            "order": null,
            "_view_module_version": "1.2.0",
            "grid_template_areas": null,
            "object_position": null,
            "object_fit": null,
            "grid_auto_columns": null,
            "margin": null,
            "display": null,
            "left": null
          }
        },
        "6cba7441941e4ad6994c589e0b04c4e3": {
          "model_module": "@jupyter-widgets/controls",
          "model_name": "DescriptionStyleModel",
          "model_module_version": "1.5.0",
          "state": {
            "_view_name": "StyleView",
            "_model_name": "DescriptionStyleModel",
            "description_width": "",
            "_view_module": "@jupyter-widgets/base",
            "_model_module_version": "1.5.0",
            "_view_count": null,
            "_view_module_version": "1.2.0",
            "_model_module": "@jupyter-widgets/controls"
          }
        },
        "b2607807ce614259b5f1568aefcae82c": {
          "model_module": "@jupyter-widgets/base",
          "model_name": "LayoutModel",
          "model_module_version": "1.2.0",
          "state": {
            "_view_name": "LayoutView",
            "grid_template_rows": null,
            "right": null,
            "justify_content": null,
            "_view_module": "@jupyter-widgets/base",
            "overflow": null,
            "_model_module_version": "1.2.0",
            "_view_count": null,
            "flex_flow": null,
            "width": null,
            "min_width": null,
            "border": null,
            "align_items": null,
            "bottom": null,
            "_model_module": "@jupyter-widgets/base",
            "top": null,
            "grid_column": null,
            "overflow_y": null,
            "overflow_x": null,
            "grid_auto_flow": null,
            "grid_area": null,
            "grid_template_columns": null,
            "flex": null,
            "_model_name": "LayoutModel",
            "justify_items": null,
            "grid_row": null,
            "max_height": null,
            "align_content": null,
            "visibility": null,
            "align_self": null,
            "height": null,
            "min_height": null,
            "padding": null,
            "grid_auto_rows": null,
            "grid_gap": null,
            "max_width": null,
            "order": null,
            "_view_module_version": "1.2.0",
            "grid_template_areas": null,
            "object_position": null,
            "object_fit": null,
            "grid_auto_columns": null,
            "margin": null,
            "display": null,
            "left": null
          }
        },
        "68ad53767cb94e538de29408a7c10609": {
          "model_module": "@jupyter-widgets/controls",
          "model_name": "HBoxModel",
          "model_module_version": "1.5.0",
          "state": {
            "_view_name": "HBoxView",
            "_dom_classes": [],
            "_model_name": "HBoxModel",
            "_view_module": "@jupyter-widgets/controls",
            "_model_module_version": "1.5.0",
            "_view_count": null,
            "_view_module_version": "1.5.0",
            "box_style": "",
            "layout": "IPY_MODEL_78340c6ff73944fe8ccd8fc25b1d377e",
            "_model_module": "@jupyter-widgets/controls",
            "children": [
              "IPY_MODEL_f242a697ee3a4257b9b9afd16de1434a",
              "IPY_MODEL_957a29c4ea7744eca656d5687e01f7cd",
              "IPY_MODEL_aaa35a6b400046c6b870776a5101427b"
            ]
          }
        },
        "78340c6ff73944fe8ccd8fc25b1d377e": {
          "model_module": "@jupyter-widgets/base",
          "model_name": "LayoutModel",
          "model_module_version": "1.2.0",
          "state": {
            "_view_name": "LayoutView",
            "grid_template_rows": null,
            "right": null,
            "justify_content": null,
            "_view_module": "@jupyter-widgets/base",
            "overflow": null,
            "_model_module_version": "1.2.0",
            "_view_count": null,
            "flex_flow": null,
            "width": null,
            "min_width": null,
            "border": null,
            "align_items": null,
            "bottom": null,
            "_model_module": "@jupyter-widgets/base",
            "top": null,
            "grid_column": null,
            "overflow_y": null,
            "overflow_x": null,
            "grid_auto_flow": null,
            "grid_area": null,
            "grid_template_columns": null,
            "flex": null,
            "_model_name": "LayoutModel",
            "justify_items": null,
            "grid_row": null,
            "max_height": null,
            "align_content": null,
            "visibility": null,
            "align_self": null,
            "height": null,
            "min_height": null,
            "padding": null,
            "grid_auto_rows": null,
            "grid_gap": null,
            "max_width": null,
            "order": null,
            "_view_module_version": "1.2.0",
            "grid_template_areas": null,
            "object_position": null,
            "object_fit": null,
            "grid_auto_columns": null,
            "margin": null,
            "display": null,
            "left": null
          }
        },
        "f242a697ee3a4257b9b9afd16de1434a": {
          "model_module": "@jupyter-widgets/controls",
          "model_name": "HTMLModel",
          "model_module_version": "1.5.0",
          "state": {
            "_view_name": "HTMLView",
            "style": "IPY_MODEL_ef49a78f72684c8eace2fe384272c912",
            "_dom_classes": [],
            "description": "",
            "_model_name": "HTMLModel",
            "placeholder": "​",
            "_view_module": "@jupyter-widgets/controls",
            "_model_module_version": "1.5.0",
            "value": "100%",
            "_view_count": null,
            "_view_module_version": "1.5.0",
            "description_tooltip": null,
            "_model_module": "@jupyter-widgets/controls",
            "layout": "IPY_MODEL_24129424a04f45a086c81d123386558b"
          }
        },
        "957a29c4ea7744eca656d5687e01f7cd": {
          "model_module": "@jupyter-widgets/controls",
          "model_name": "FloatProgressModel",
          "model_module_version": "1.5.0",
          "state": {
            "_view_name": "ProgressView",
            "style": "IPY_MODEL_b75cee4730504d2a86df924096723939",
            "_dom_classes": [],
            "description": "",
            "_model_name": "FloatProgressModel",
            "bar_style": "danger",
            "max": 1803,
            "_view_module": "@jupyter-widgets/controls",
            "_model_module_version": "1.5.0",
            "value": 1802,
            "_view_count": null,
            "_view_module_version": "1.5.0",
            "orientation": "horizontal",
            "min": 0,
            "description_tooltip": null,
            "_model_module": "@jupyter-widgets/controls",
            "layout": "IPY_MODEL_4b09daac364c4db29fd93f8bb11a34a9"
          }
        },
        "aaa35a6b400046c6b870776a5101427b": {
          "model_module": "@jupyter-widgets/controls",
          "model_name": "HTMLModel",
          "model_module_version": "1.5.0",
          "state": {
            "_view_name": "HTMLView",
            "style": "IPY_MODEL_3cfbb39a2f6b4a5588f935e27b2af496",
            "_dom_classes": [],
            "description": "",
            "_model_name": "HTMLModel",
            "placeholder": "​",
            "_view_module": "@jupyter-widgets/controls",
            "_model_module_version": "1.5.0",
            "value": " 1802/1803 [00:00&lt;00:00, 22770.61 examples/s]",
            "_view_count": null,
            "_view_module_version": "1.5.0",
            "description_tooltip": null,
            "_model_module": "@jupyter-widgets/controls",
            "layout": "IPY_MODEL_08aadcac33a64775b9b39265c829bf87"
          }
        },
        "ef49a78f72684c8eace2fe384272c912": {
          "model_module": "@jupyter-widgets/controls",
          "model_name": "DescriptionStyleModel",
          "model_module_version": "1.5.0",
          "state": {
            "_view_name": "StyleView",
            "_model_name": "DescriptionStyleModel",
            "description_width": "",
            "_view_module": "@jupyter-widgets/base",
            "_model_module_version": "1.5.0",
            "_view_count": null,
            "_view_module_version": "1.2.0",
            "_model_module": "@jupyter-widgets/controls"
          }
        },
        "24129424a04f45a086c81d123386558b": {
          "model_module": "@jupyter-widgets/base",
          "model_name": "LayoutModel",
          "model_module_version": "1.2.0",
          "state": {
            "_view_name": "LayoutView",
            "grid_template_rows": null,
            "right": null,
            "justify_content": null,
            "_view_module": "@jupyter-widgets/base",
            "overflow": null,
            "_model_module_version": "1.2.0",
            "_view_count": null,
            "flex_flow": null,
            "width": null,
            "min_width": null,
            "border": null,
            "align_items": null,
            "bottom": null,
            "_model_module": "@jupyter-widgets/base",
            "top": null,
            "grid_column": null,
            "overflow_y": null,
            "overflow_x": null,
            "grid_auto_flow": null,
            "grid_area": null,
            "grid_template_columns": null,
            "flex": null,
            "_model_name": "LayoutModel",
            "justify_items": null,
            "grid_row": null,
            "max_height": null,
            "align_content": null,
            "visibility": null,
            "align_self": null,
            "height": null,
            "min_height": null,
            "padding": null,
            "grid_auto_rows": null,
            "grid_gap": null,
            "max_width": null,
            "order": null,
            "_view_module_version": "1.2.0",
            "grid_template_areas": null,
            "object_position": null,
            "object_fit": null,
            "grid_auto_columns": null,
            "margin": null,
            "display": null,
            "left": null
          }
        },
        "b75cee4730504d2a86df924096723939": {
          "model_module": "@jupyter-widgets/controls",
          "model_name": "ProgressStyleModel",
          "model_module_version": "1.5.0",
          "state": {
            "_view_name": "StyleView",
            "_model_name": "ProgressStyleModel",
            "description_width": "",
            "_view_module": "@jupyter-widgets/base",
            "_model_module_version": "1.5.0",
            "_view_count": null,
            "_view_module_version": "1.2.0",
            "bar_color": null,
            "_model_module": "@jupyter-widgets/controls"
          }
        },
        "4b09daac364c4db29fd93f8bb11a34a9": {
          "model_module": "@jupyter-widgets/base",
          "model_name": "LayoutModel",
          "model_module_version": "1.2.0",
          "state": {
            "_view_name": "LayoutView",
            "grid_template_rows": null,
            "right": null,
            "justify_content": null,
            "_view_module": "@jupyter-widgets/base",
            "overflow": null,
            "_model_module_version": "1.2.0",
            "_view_count": null,
            "flex_flow": null,
            "width": null,
            "min_width": null,
            "border": null,
            "align_items": null,
            "bottom": null,
            "_model_module": "@jupyter-widgets/base",
            "top": null,
            "grid_column": null,
            "overflow_y": null,
            "overflow_x": null,
            "grid_auto_flow": null,
            "grid_area": null,
            "grid_template_columns": null,
            "flex": null,
            "_model_name": "LayoutModel",
            "justify_items": null,
            "grid_row": null,
            "max_height": null,
            "align_content": null,
            "visibility": null,
            "align_self": null,
            "height": null,
            "min_height": null,
            "padding": null,
            "grid_auto_rows": null,
            "grid_gap": null,
            "max_width": null,
            "order": null,
            "_view_module_version": "1.2.0",
            "grid_template_areas": null,
            "object_position": null,
            "object_fit": null,
            "grid_auto_columns": null,
            "margin": null,
            "display": null,
            "left": null
          }
        },
        "3cfbb39a2f6b4a5588f935e27b2af496": {
          "model_module": "@jupyter-widgets/controls",
          "model_name": "DescriptionStyleModel",
          "model_module_version": "1.5.0",
          "state": {
            "_view_name": "StyleView",
            "_model_name": "DescriptionStyleModel",
            "description_width": "",
            "_view_module": "@jupyter-widgets/base",
            "_model_module_version": "1.5.0",
            "_view_count": null,
            "_view_module_version": "1.2.0",
            "_model_module": "@jupyter-widgets/controls"
          }
        },
        "08aadcac33a64775b9b39265c829bf87": {
          "model_module": "@jupyter-widgets/base",
          "model_name": "LayoutModel",
          "model_module_version": "1.2.0",
          "state": {
            "_view_name": "LayoutView",
            "grid_template_rows": null,
            "right": null,
            "justify_content": null,
            "_view_module": "@jupyter-widgets/base",
            "overflow": null,
            "_model_module_version": "1.2.0",
            "_view_count": null,
            "flex_flow": null,
            "width": null,
            "min_width": null,
            "border": null,
            "align_items": null,
            "bottom": null,
            "_model_module": "@jupyter-widgets/base",
            "top": null,
            "grid_column": null,
            "overflow_y": null,
            "overflow_x": null,
            "grid_auto_flow": null,
            "grid_area": null,
            "grid_template_columns": null,
            "flex": null,
            "_model_name": "LayoutModel",
            "justify_items": null,
            "grid_row": null,
            "max_height": null,
            "align_content": null,
            "visibility": null,
            "align_self": null,
            "height": null,
            "min_height": null,
            "padding": null,
            "grid_auto_rows": null,
            "grid_gap": null,
            "max_width": null,
            "order": null,
            "_view_module_version": "1.2.0",
            "grid_template_areas": null,
            "object_position": null,
            "object_fit": null,
            "grid_auto_columns": null,
            "margin": null,
            "display": null,
            "left": null
          }
        }
      }
    }
  },
  "cells": [
    {
      "cell_type": "markdown",
      "metadata": {
        "id": "b49ba28a"
      },
      "source": [
        "# Implementing a Transformer for language translation\n",
        "\n",
        "Credits: The transformer-building procedure shown here generally follows the excellent TensorFlow worklfow shown in: https://www.tensorflow.org/text/tutorials/transformer.\n",
        "\n",
        "I programmed this particular model to show how the algorithm gradually learns and \"understands\" the languages in real time during training. \n",
        "\n",
        "I also made it possible to configure the transformer with differing amounts of encoder and decoder layers, making it a more flexible configuration. "
      ],
      "id": "b49ba28a"
    },
    {
      "cell_type": "markdown",
      "metadata": {
        "id": "021248cf"
      },
      "source": [
        "# Loading main libraries"
      ],
      "id": "021248cf"
    },
    {
      "cell_type": "code",
      "metadata": {
        "id": "XFG0NDRu5mYQ"
      },
      "source": [
        "!pip install tensorflow_datasets\n",
        "!pip install -U tensorflow-text"
      ],
      "id": "XFG0NDRu5mYQ",
      "execution_count": null,
      "outputs": []
    },
    {
      "cell_type": "code",
      "metadata": {
        "id": "8522273c"
      },
      "source": [
        "import collections\n",
        "import logging\n",
        "import os\n",
        "import pathlib\n",
        "import re\n",
        "import string\n",
        "import sys\n",
        "import time\n",
        "\n",
        "import numpy as np\n",
        "import matplotlib.pyplot as plt\n",
        "\n",
        "import tensorflow_datasets as tfds\n",
        "import tensorflow_text as text\n",
        "import tensorflow as tf"
      ],
      "id": "8522273c",
      "execution_count": 2,
      "outputs": []
    },
    {
      "cell_type": "markdown",
      "metadata": {
        "id": "441f388f"
      },
      "source": [
        "# Loading and manipulating the data"
      ],
      "id": "441f388f"
    },
    {
      "cell_type": "code",
      "metadata": {
        "id": "1ab892b7",
        "colab": {
          "base_uri": "https://localhost:8080/",
          "height": 365,
          "referenced_widgets": [
            "013fca6c2b584973bf8c4dd9d70e116a",
            "aa67b32a36714888b109c30222baac2b",
            "2ac36735a2604969886b8debfdf90c44",
            "ca8f24c0de9a45afbdc9e6ed9f278198",
            "feeab0477f4a4fbb8cd6c2cce1e8e79d",
            "db1ba727991a4cf38c610d2ec1244596",
            "9decb000cf7a4860bd31b814de796080",
            "efcff8cebf9d4b92a79ae96998a6f5ed",
            "43cf612376684762a701ae8e4e34d645",
            "3e6de900b0034fedbea92d4f423335f2",
            "a0d2bebb86bf4724adb351f0ce4be9a8",
            "d59d6d42371f4f60b94b0e91f5bc2752",
            "9341b19d74f943d59e962cf84a927f30",
            "c644ab90a14c4f6aabee2893f2e24c55",
            "2dc5469ca43e4920bc02ce21fe20c30f",
            "7a8bf23c8399458186d58a62fbdd0383",
            "156e7240899c4b92bbe655471b53dab1",
            "03ed7d15c57e4bddb5e072dc31acdc23",
            "990a05457eeb42c0a29c001affff7bf5",
            "799bf3c43d4146039f104337b99f761d",
            "c18452e68b6146e6a43de1678aa7474a",
            "00ec30940200478894d5129c458892e0",
            "a2edb9ee72de4d77ba2d0d8cb2f707e8",
            "48f6af145626469ea7c153bf86e1537d",
            "959109df45b24997813a393629ff99c9",
            "a83d3ad2007f429fb633950aeffd6aec",
            "bf2fd6847db840c4b0cf6276a2f3d7ff",
            "dd6629b08c454e05b26259e2910760c5",
            "4494e7989eb84fc486b26b9c15d93a95",
            "1954a0347cff4b6eb6d67a85698ae927",
            "1513c90de3d04d8ba1f4bfecae4ff691",
            "7a504b4893a6485295daefaec7669c02",
            "4554573d8b52492a8ede702ce636aa32",
            "995340daa0a942fe994744bc780b3c2a",
            "b6d6d891bab443929d78f1de1b28ca9d",
            "ccbdac74e98041c3bc93107c8cbba061",
            "c2f2c5ca4ab24ab3b80ce409113f88c1",
            "070d73ec56cb4dc1af4ee4503a570823",
            "c22e09f0a96a4f6898a85553fd580814",
            "d6287295c0aa4cf08cc50245bf5b0caf",
            "d4c8cbde600d489bbe05ee5dbefb77ab",
            "dc657dc9a8944a56a4e2220073eea55e",
            "f042e39e1d614974ad4b53b3b415badb",
            "61960d898a9f4bc0b4b880e97deff14b",
            "9b218d2c75c44bb5bfb9cced52fe1834",
            "bc996dde4c764b258502921e0fd465ed",
            "8bead0e9fc844d53bcdd5cfb6b999248",
            "05af26ef22d34c5699d183fc0580c47b",
            "e2ded992be2648ffb06af78095c822b8",
            "d7be67eb13ef464786145312e34e1068",
            "25fbc42b80144ffb9d5457c8450b2ad6",
            "b97d3b2b94fc443d989fd1a6377ee066",
            "b1a38d056dda4e549929f63a86c17aeb",
            "00dab719144f420eb506e1719061a066",
            "64775f22b32846c3ba8509e7d75c18ed",
            "a30d2cd7382b405bab86b550bf9940f4",
            "6386543eb40843dc9a9e634ff5492cdf",
            "038a715f281543ef9181a1fe00059d50",
            "ebe28c3413c94d94bec7725bdf09b190",
            "69cb113180d940adbb52fe2de8eafb4a",
            "1bf29881d5ea4e6783dd500ed41e5996",
            "ac8d7e4d1cfe4c288efba8439de1c3a7",
            "115a301ca0aa462aa7b91615db95554e",
            "8041b6c9efb347238a00ec4409696081",
            "650bb90c7da04d0fa50d9c63a191c46f",
            "f2458efdec054790b14145233eb82ef5",
            "29910e0347904610a24c841d00561ebb",
            "69d72b6059414444ad8ea1ee7c8c6f4e",
            "cf77c3c74b044f5f986d06a2e3620fd8",
            "e7a7e3dd025d472c852c56870d786b59",
            "78a1c02b5a804b2d9d7987bd2fa46013",
            "b691ff6fce504815bbd413961caa1ed3",
            "25c6482a0d14429bbf84112eb6df74f2",
            "1df372419aca4bdba9cca74adb875501",
            "5c55a60546e1438f94901cd8b773dc7c",
            "238f8f16a1d14acdbdb766abc57e6e0e",
            "d307632897e54f3883165ed15bcbf6d8",
            "4e06515e32d0434ca7dea8d72820fd93",
            "d5000d77e8264b7c95874d2812617a86",
            "e1dc4788c7cc4a25857862bbf828910a",
            "0f581f66737941a28b8a3b0a88ea418b",
            "3bd1863b6764425a81fb2f781b7402a8",
            "069b2253acfe42cdbe224777327079c0",
            "d46368e370c344d4864bfb7e94ebe176",
            "21766c40a8c749628bdcca3da124de35",
            "bf80fef1e9594f38a15091c91ae40010",
            "6cba7441941e4ad6994c589e0b04c4e3",
            "b2607807ce614259b5f1568aefcae82c",
            "68ad53767cb94e538de29408a7c10609",
            "78340c6ff73944fe8ccd8fc25b1d377e",
            "f242a697ee3a4257b9b9afd16de1434a",
            "957a29c4ea7744eca656d5687e01f7cd",
            "aaa35a6b400046c6b870776a5101427b",
            "ef49a78f72684c8eace2fe384272c912",
            "24129424a04f45a086c81d123386558b",
            "b75cee4730504d2a86df924096723939",
            "4b09daac364c4db29fd93f8bb11a34a9",
            "3cfbb39a2f6b4a5588f935e27b2af496",
            "08aadcac33a64775b9b39265c829bf87"
          ]
        },
        "outputId": "0ca5c653-9c95-410e-dd8b-216a53c5a410"
      },
      "source": [
        "data, metadata = tfds.load('ted_hrlr_translate/pt_to_en', with_info=True, as_supervised=True)"
      ],
      "id": "1ab892b7",
      "execution_count": 3,
      "outputs": [
        {
          "output_type": "stream",
          "name": "stdout",
          "text": [
            "\u001b[1mDownloading and preparing dataset ted_hrlr_translate/pt_to_en/1.0.0 (download: 124.94 MiB, generated: Unknown size, total: 124.94 MiB) to /root/tensorflow_datasets/ted_hrlr_translate/pt_to_en/1.0.0...\u001b[0m\n"
          ]
        },
        {
          "output_type": "display_data",
          "data": {
            "application/vnd.jupyter.widget-view+json": {
              "model_id": "013fca6c2b584973bf8c4dd9d70e116a",
              "version_minor": 0,
              "version_major": 2
            },
            "text/plain": [
              "Dl Completed...: 0 url [00:00, ? url/s]"
            ]
          },
          "metadata": {}
        },
        {
          "output_type": "display_data",
          "data": {
            "application/vnd.jupyter.widget-view+json": {
              "model_id": "d59d6d42371f4f60b94b0e91f5bc2752",
              "version_minor": 0,
              "version_major": 2
            },
            "text/plain": [
              "Dl Size...: 0 MiB [00:00, ? MiB/s]"
            ]
          },
          "metadata": {}
        },
        {
          "output_type": "display_data",
          "data": {
            "application/vnd.jupyter.widget-view+json": {
              "model_id": "a2edb9ee72de4d77ba2d0d8cb2f707e8",
              "version_minor": 0,
              "version_major": 2
            },
            "text/plain": [
              "Extraction completed...: 0 file [00:00, ? file/s]"
            ]
          },
          "metadata": {}
        },
        {
          "output_type": "stream",
          "name": "stdout",
          "text": [
            "\n",
            "\n",
            "\n"
          ]
        },
        {
          "output_type": "display_data",
          "data": {
            "application/vnd.jupyter.widget-view+json": {
              "model_id": "995340daa0a942fe994744bc780b3c2a",
              "version_minor": 0,
              "version_major": 2
            },
            "text/plain": [
              "0 examples [00:00, ? examples/s]"
            ]
          },
          "metadata": {}
        },
        {
          "output_type": "stream",
          "name": "stdout",
          "text": [
            "Shuffling and writing examples to /root/tensorflow_datasets/ted_hrlr_translate/pt_to_en/1.0.0.incompleteYUNB4G/ted_hrlr_translate-train.tfrecord\n"
          ]
        },
        {
          "output_type": "display_data",
          "data": {
            "application/vnd.jupyter.widget-view+json": {
              "model_id": "9b218d2c75c44bb5bfb9cced52fe1834",
              "version_minor": 0,
              "version_major": 2
            },
            "text/plain": [
              "  0%|          | 0/51785 [00:00<?, ? examples/s]"
            ]
          },
          "metadata": {}
        },
        {
          "output_type": "display_data",
          "data": {
            "application/vnd.jupyter.widget-view+json": {
              "model_id": "a30d2cd7382b405bab86b550bf9940f4",
              "version_minor": 0,
              "version_major": 2
            },
            "text/plain": [
              "0 examples [00:00, ? examples/s]"
            ]
          },
          "metadata": {}
        },
        {
          "output_type": "stream",
          "name": "stdout",
          "text": [
            "Shuffling and writing examples to /root/tensorflow_datasets/ted_hrlr_translate/pt_to_en/1.0.0.incompleteYUNB4G/ted_hrlr_translate-validation.tfrecord\n"
          ]
        },
        {
          "output_type": "display_data",
          "data": {
            "application/vnd.jupyter.widget-view+json": {
              "model_id": "29910e0347904610a24c841d00561ebb",
              "version_minor": 0,
              "version_major": 2
            },
            "text/plain": [
              "  0%|          | 0/1193 [00:00<?, ? examples/s]"
            ]
          },
          "metadata": {}
        },
        {
          "output_type": "display_data",
          "data": {
            "application/vnd.jupyter.widget-view+json": {
              "model_id": "4e06515e32d0434ca7dea8d72820fd93",
              "version_minor": 0,
              "version_major": 2
            },
            "text/plain": [
              "0 examples [00:00, ? examples/s]"
            ]
          },
          "metadata": {}
        },
        {
          "output_type": "stream",
          "name": "stdout",
          "text": [
            "Shuffling and writing examples to /root/tensorflow_datasets/ted_hrlr_translate/pt_to_en/1.0.0.incompleteYUNB4G/ted_hrlr_translate-test.tfrecord\n"
          ]
        },
        {
          "output_type": "display_data",
          "data": {
            "application/vnd.jupyter.widget-view+json": {
              "model_id": "68ad53767cb94e538de29408a7c10609",
              "version_minor": 0,
              "version_major": 2
            },
            "text/plain": [
              "  0%|          | 0/1803 [00:00<?, ? examples/s]"
            ]
          },
          "metadata": {}
        },
        {
          "output_type": "stream",
          "name": "stdout",
          "text": [
            "\u001b[1mDataset ted_hrlr_translate downloaded and prepared to /root/tensorflow_datasets/ted_hrlr_translate/pt_to_en/1.0.0. Subsequent calls will reuse this data.\u001b[0m\n"
          ]
        }
      ]
    },
    {
      "cell_type": "markdown",
      "metadata": {
        "id": "e27f7ac4"
      },
      "source": [
        "## Separate data into training, testing, and validation datasets"
      ],
      "id": "e27f7ac4"
    },
    {
      "cell_type": "code",
      "metadata": {
        "id": "589ae1e3"
      },
      "source": [
        "train_data = data['train']\n",
        "test_data = data['test']\n",
        "validation_data = data['validation']"
      ],
      "id": "589ae1e3",
      "execution_count": 4,
      "outputs": []
    },
    {
      "cell_type": "markdown",
      "metadata": {
        "id": "814460cb"
      },
      "source": [
        "## learning about the data"
      ],
      "id": "814460cb"
    },
    {
      "cell_type": "code",
      "metadata": {
        "colab": {
          "base_uri": "https://localhost:8080/"
        },
        "id": "b4a32be2",
        "outputId": "d57c0849-ef54-4064-b0b0-1eea709ba510"
      },
      "source": [
        "print(\"The traning, validation, and testing splits are:\")\n",
        "metadata.splits"
      ],
      "id": "b4a32be2",
      "execution_count": 5,
      "outputs": [
        {
          "output_type": "stream",
          "name": "stdout",
          "text": [
            "The traning, validation, and testing splits are:\n"
          ]
        },
        {
          "output_type": "execute_result",
          "data": {
            "text/plain": [
              "{'test': <tfds.core.SplitInfo num_examples=1803>,\n",
              " 'train': <tfds.core.SplitInfo num_examples=51785>,\n",
              " 'validation': <tfds.core.SplitInfo num_examples=1193>}"
            ]
          },
          "metadata": {},
          "execution_count": 5
        }
      ]
    },
    {
      "cell_type": "code",
      "metadata": {
        "colab": {
          "base_uri": "https://localhost:8080/"
        },
        "id": "f91aa56b",
        "outputId": "14b9098a-9912-445c-a676-f6d3369b3ed4"
      },
      "source": [
        "print(\"the labeled keys are:\")\n",
        "metadata.supervised_keys"
      ],
      "id": "f91aa56b",
      "execution_count": 6,
      "outputs": [
        {
          "output_type": "stream",
          "name": "stdout",
          "text": [
            "the labeled keys are:\n"
          ]
        },
        {
          "output_type": "execute_result",
          "data": {
            "text/plain": [
              "('pt', 'en')"
            ]
          },
          "metadata": {},
          "execution_count": 6
        }
      ]
    },
    {
      "cell_type": "code",
      "metadata": {
        "colab": {
          "base_uri": "https://localhost:8080/"
        },
        "id": "6025170e",
        "outputId": "dc37864b-0efd-4c36-cb55-fe834b346b0d"
      },
      "source": [
        "num_of_examples = 5\n",
        "\n",
        "for port, eng in train_data.batch(num_of_examples).take(1).as_numpy_iterator():\n",
        "    \n",
        "    print(\"Portuguse examples:\")\n",
        "    for p in port:\n",
        "        print(p.decode(\"utf-8\"))\n",
        "        \n",
        "    print(\"\")\n",
        "\n",
        "    print(\"English examples:\")\n",
        "    for e in eng:\n",
        "        print(e.decode(\"utf-8\"))"
      ],
      "id": "6025170e",
      "execution_count": 7,
      "outputs": [
        {
          "output_type": "stream",
          "name": "stdout",
          "text": [
            "Portuguse examples:\n",
            "e quando melhoramos a procura , tiramos a única vantagem da impressão , que é a serendipidade .\n",
            "mas e se estes fatores fossem ativos ?\n",
            "mas eles não tinham a curiosidade de me testar .\n",
            "e esta rebeldia consciente é a razão pela qual eu , como agnóstica , posso ainda ter fé .\n",
            "`` `` '' podem usar tudo sobre a mesa no meu corpo . ''\n",
            "\n",
            "English examples:\n",
            "and when you improve searchability , you actually take away the one advantage of print , which is serendipity .\n",
            "but what if it were active ?\n",
            "but they did n't test for curiosity .\n",
            "and this conscious defiance is why i , as an agnostic , can still have faith .\n",
            "you can use everything on the table on me .\n"
          ]
        }
      ]
    },
    {
      "cell_type": "markdown",
      "metadata": {
        "id": "c1eca29b"
      },
      "source": [
        "# Tokenizing words for Embedding \n",
        "\n",
        "Here we use a pre-trained model which we download from a google API. This has been trained for english to portuguese translation. These tokens will then be used for embedding when used as inputs in an embedding layer. \n",
        "\n",
        "The cool thing about this particular tokenizer is that it is a sub-word tokenizer, meaning that it not only learns the words themselved, but part of the words as well. This way it can interpolate and find meaning in new words that it might have not seen before.\n",
        "\n",
        "For example: for the word human, we generate {h, hu, hum, huma, human, ##u, ##um, ##uma, ##uman, ##m, ##ma, ##man, #a, ##an, ##n}.\n",
        "\n",
        "Tokenizers are built based on a particular vocabulary set, so they need to be trained on your vocabulary before using. \n",
        "\n",
        "Note that, in this case, embedding will not be a representation of similarity between words, just a vectorization of said words and sub words. The similarity embedding is actually the output of the encoder."
      ],
      "id": "c1eca29b"
    },
    {
      "cell_type": "code",
      "metadata": {
        "colab": {
          "base_uri": "https://localhost:8080/",
          "height": 86
        },
        "id": "c84bbcda",
        "outputId": "b967f47b-eeaf-4e9c-ca01-3e76e9164e63"
      },
      "source": [
        "#downloading model\n",
        "embed_name = \"ted_hrlr_translate_pt_en_converter\"\n",
        "tf.keras.utils.get_file(\n",
        "    embed_name+\".zip\",\n",
        "    \"https://storage.googleapis.com/download.tensorflow.org/models/\"+embed_name+\".zip\",\n",
        "    cache_dir='.', cache_subdir='', extract=True\n",
        ")"
      ],
      "id": "c84bbcda",
      "execution_count": 8,
      "outputs": [
        {
          "output_type": "stream",
          "name": "stdout",
          "text": [
            "Downloading data from https://storage.googleapis.com/download.tensorflow.org/models/ted_hrlr_translate_pt_en_converter.zip\n",
            "188416/184801 [==============================] - 0s 0us/step\n",
            "196608/184801 [===============================] - 0s 0us/step\n"
          ]
        },
        {
          "output_type": "execute_result",
          "data": {
            "application/vnd.google.colaboratory.intrinsic+json": {
              "type": "string"
            },
            "text/plain": [
              "'./ted_hrlr_translate_pt_en_converter.zip'"
            ]
          },
          "metadata": {},
          "execution_count": 8
        }
      ]
    },
    {
      "cell_type": "code",
      "metadata": {
        "id": "n3I81S79tlfi"
      },
      "source": [
        "#load tokenizer model\n",
        "tokenizer = tf.saved_model.load(embed_name)"
      ],
      "id": "n3I81S79tlfi",
      "execution_count": 9,
      "outputs": []
    },
    {
      "cell_type": "code",
      "metadata": {
        "colab": {
          "base_uri": "https://localhost:8080/"
        },
        "id": "MqGicVseuRa9",
        "outputId": "4ae05a40-711f-42c8-95a4-16a82329538f"
      },
      "source": [
        "#testing tokenizing english words\n",
        "#Each word token maps to a word-embedding vector in the full embedding matrix.\n",
        "print(\"Example text: \\n\", eng)\n",
        "en_tokens = tokenizer.en.tokenize(eng)\n",
        "print(\"\")\n",
        "print(\"Example tokens: \\n\", en_tokens)\n",
        "en_retoken = tokenizer.en.lookup(en_tokens)\n",
        "print(\"\")\n",
        "print(\"Example un-tokenized text: \\n\",en_retoken)"
      ],
      "id": "MqGicVseuRa9",
      "execution_count": 10,
      "outputs": [
        {
          "output_type": "stream",
          "name": "stdout",
          "text": [
            "Example text: \n",
            " [b'and when you improve searchability , you actually take away the one advantage of print , which is serendipity .'\n",
            " b'but what if it were active ?' b\"but they did n't test for curiosity .\"\n",
            " b'and this conscious defiance is why i , as an agnostic , can still have faith .'\n",
            " b'you can use everything on the table on me .']\n",
            "\n",
            "Example tokens: \n",
            " <tf.RaggedTensor [[2, 72, 117, 79, 1259, 1491, 2362, 13, 79, 150, 184, 311, 71, 103, 2308, 74, 2679, 13, 148, 80, 55, 4840, 1434, 2423, 540, 15, 3], [2, 87, 90, 107, 76, 129, 1852, 30, 3], [2, 87, 83, 149, 50, 9, 56, 664, 85, 2512, 15, 3], [2, 72, 81, 2508, 2159, 3072, 1282, 80, 192, 45, 13, 100, 111, 6040, 3176, 3186, 13, 94, 235, 89, 1938, 15, 3], [2, 79, 94, 212, 299, 92, 71, 1356, 92, 114, 15, 3]]>\n",
            "\n",
            "Example un-tokenized text: \n",
            " <tf.RaggedTensor [[b'[START]', b'and', b'when', b'you', b'improve', b'search', b'##ability', b',', b'you', b'actually', b'take', b'away', b'the', b'one', b'advantage', b'of', b'print', b',', b'which', b'is', b's', b'##ere', b'##nd', b'##ip', b'##ity', b'.', b'[END]'], [b'[START]', b'but', b'what', b'if', b'it', b'were', b'active', b'?', b'[END]'], [b'[START]', b'but', b'they', b'did', b'n', b\"'\", b't', b'test', b'for', b'curiosity', b'.', b'[END]'], [b'[START]', b'and', b'this', b'conscious', b'de', b'##fi', b'##ance', b'is', b'why', b'i', b',', b'as', b'an', b'ag', b'##no', b'##stic', b',', b'can', b'still', b'have', b'faith', b'.', b'[END]'], [b'[START]', b'you', b'can', b'use', b'everything', b'on', b'the', b'table', b'on', b'me', b'.', b'[END]']]>\n"
          ]
        }
      ]
    },
    {
      "cell_type": "markdown",
      "metadata": {
        "id": "BTdtuHArxfjs"
      },
      "source": [
        "# Creating a Positional Encoder\n",
        "\n",
        "We now complement the encoder with a measure of position for each word in the sentence. This is done with a sinosoidal function, where words with similar values are close together. This will help us with the self-attention steps. Note that this does not take any data as input; every position in a sentence up to \"n\" words long is encoded into a vector that is \"d\" dimensions in size. Therefore, each word in a given sentence/input will have a different position which is described by a different d-sized vector. The result of the following is a n by d tensor."
      ],
      "id": "BTdtuHArxfjs"
    },
    {
      "cell_type": "markdown",
      "metadata": {
        "id": "4jJtIVO-QiSb"
      },
      "source": [
        "## Defining Functions"
      ],
      "id": "4jJtIVO-QiSb"
    },
    {
      "cell_type": "code",
      "metadata": {
        "id": "ZCn-1p2Ex6sF"
      },
      "source": [
        "def angle_arguments(position, index, embedding_dimension):\n",
        "  angle_argument = position / np.power(10000,index/embedding_dimension)\n",
        "  return angle_argument\n",
        "\n",
        "def pos_encoding(max_positions, embedding_dimension):\n",
        "  #creating a max_position by embedding_dimension matrix\n",
        "  angles = angle_arguments(\n",
        "                          np.arange(max_positions)[:,np.newaxis], #creating a max_positions by 1 matrix \n",
        "                          np.arange(embedding_dimension)[np.newaxis,:], #creating a 1 by emedding_dimension matrix \n",
        "                          embedding_dimension\n",
        "                          )\n",
        "  \n",
        "  #appling sine to even indices\n",
        "  angles[:,0::2] = np.sin(angles[:,0::2])\n",
        "\n",
        "  #applying cosine to uneven indices\n",
        "  angles[:,1::2] = np.cos(angles[:,1::2])\n",
        "\n",
        "  #returning a 3-D matrix of 1 by max_position by embedding_dimension\n",
        "  return tf.cast(angles[np.newaxis, ...], dtype=tf.float32)\n"
      ],
      "id": "ZCn-1p2Ex6sF",
      "execution_count": 11,
      "outputs": []
    },
    {
      "cell_type": "markdown",
      "metadata": {
        "id": "x4xUGcMQX9T6"
      },
      "source": [
        "## Performing encoding and checking"
      ],
      "id": "x4xUGcMQX9T6"
    },
    {
      "cell_type": "code",
      "metadata": {
        "colab": {
          "base_uri": "https://localhost:8080/",
          "height": 313
        },
        "id": "c1ex5uXLYAQW",
        "outputId": "14e7043d-d1cb-4c44-85c5-9e73e9a7add0"
      },
      "source": [
        "#defining variables\n",
        "max_position = 2048\n",
        "embedding_dimension = 512\n",
        "\n",
        "#performing enconding\n",
        "positional_encoding = pos_encoding(max_position,embedding_dimension)\n",
        "\n",
        "#checking shape\n",
        "print(\"The shape of the positional encoding is: \", positional_encoding.shape)\n",
        "\n",
        "#visual check\n",
        "positional_encoding = tf.reshape(positional_encoding, (max_position, embedding_dimension//2, 2)) #reshaping into a max_position, by embedding/2 by 2\n",
        "positional_encoding = tf.transpose(positional_encoding, (2, 1, 0)) # transposing to make 2-d vector\n",
        "positional_encoding = tf.reshape(positional_encoding, (embedding_dimension, max_position)) # reshaping vector\n",
        "plt.pcolormesh(positional_encoding,cmap=\"inferno\")\n",
        "plt.xlabel(\"Position\")\n",
        "plt.ylabel(\"Embedding Dimension\")"
      ],
      "id": "c1ex5uXLYAQW",
      "execution_count": 12,
      "outputs": [
        {
          "output_type": "stream",
          "name": "stdout",
          "text": [
            "The shape of the positional encoding is:  (1, 2048, 512)\n"
          ]
        },
        {
          "output_type": "execute_result",
          "data": {
            "text/plain": [
              "Text(0, 0.5, 'Embedding Dimension')"
            ]
          },
          "metadata": {},
          "execution_count": 12
        },
        {
          "output_type": "display_data",
          "data": {
            "image/png": "[encoded data removed]",
            "text/plain": [
              "<Figure size 432x288 with 1 Axes>"
            ]
          },
          "metadata": {
            "needs_background": "light"
          }
        }
      ]
    },
    {
      "cell_type": "markdown",
      "metadata": {
        "id": "3n10a1FYcce0"
      },
      "source": [
        "# Creating masks for the input"
      ],
      "id": "3n10a1FYcce0"
    },
    {
      "cell_type": "markdown",
      "metadata": {
        "id": "jRu8Y7Hbcm_L"
      },
      "source": [
        "## Create mask to prevent looking into future words"
      ],
      "id": "jRu8Y7Hbcm_L"
    },
    {
      "cell_type": "code",
      "metadata": {
        "colab": {
          "base_uri": "https://localhost:8080/"
        },
        "id": "1YNXLRjtcfUW",
        "outputId": "b51482db-7d8f-450b-c088-4c895be370b7"
      },
      "source": [
        "def make_look_ahead_mask(entry_size):\n",
        "  \"\"\"\n",
        "  This will create a diagonal matrix with 0's on the lower half and 1 in the upper half. \n",
        "  The code will only use the 0 entries when training the i'th word. \n",
        "  We want to use the values with mask =0 and discard values with mask = 1\n",
        "  \"\"\"\n",
        "  base = tf.ones((entry_size,entry_size))\n",
        "  mask = 1-tf.linalg.band_part(base,-1,0) #the -1, 0 arguments zero-out the lower diagonal\n",
        "  return mask\n",
        "\n",
        "make_look_ahead_mask(5)"
      ],
      "id": "1YNXLRjtcfUW",
      "execution_count": 13,
      "outputs": [
        {
          "output_type": "execute_result",
          "data": {
            "text/plain": [
              "<tf.Tensor: shape=(5, 5), dtype=float32, numpy=\n",
              "array([[0., 1., 1., 1., 1.],\n",
              "       [0., 0., 1., 1., 1.],\n",
              "       [0., 0., 0., 1., 1.],\n",
              "       [0., 0., 0., 0., 1.],\n",
              "       [0., 0., 0., 0., 0.]], dtype=float32)>"
            ]
          },
          "metadata": {},
          "execution_count": 13
        }
      ]
    },
    {
      "cell_type": "markdown",
      "metadata": {
        "id": "t_OU7tBkfr1w"
      },
      "source": [
        "## create maks to prevent pad tokens from being used\n",
        "\n",
        "padding is done to make all the sentences the same length by adding zeros. We dont want to procces these zeros. "
      ],
      "id": "t_OU7tBkfr1w"
    },
    {
      "cell_type": "code",
      "metadata": {
        "colab": {
          "base_uri": "https://localhost:8080/"
        },
        "id": "HQfkdbs7fvBe",
        "outputId": "29a096de-cec6-4722-80cb-23afc847596d"
      },
      "source": [
        "def make_padding_mask(entry):\n",
        "  \"\"\"\n",
        "  Returns a 1 where there is padding, i.e where entry = 0\n",
        "  We want to use the values with mask =0 and discard values with mask = 1\n",
        "  \"\"\"\n",
        "  #getting the mask\n",
        "  entry = tf.math.equal(entry,0)\n",
        "\n",
        "  #casting into a tf tensor\n",
        "  entry = tf.cast(entry, tf.float32)\n",
        "\n",
        "  #adding extra dimensions for input into attention heads\n",
        "  #this will have the size: batchSize, 1, 1, sentence_size\n",
        "  return entry[:,tf.newaxis,tf.newaxis,:]\n",
        "\n",
        "#test\n",
        "test = tf.constant([[0, 5 , 5, 5, 5, 0, 0],[0, 0 , 0, 0, 5, 0, 0]])\n",
        "make_padding_mask(test)\n"
      ],
      "id": "HQfkdbs7fvBe",
      "execution_count": 14,
      "outputs": [
        {
          "output_type": "execute_result",
          "data": {
            "text/plain": [
              "<tf.Tensor: shape=(2, 1, 1, 7), dtype=float32, numpy=\n",
              "array([[[[1., 0., 0., 0., 0., 1., 1.]]],\n",
              "\n",
              "\n",
              "       [[[1., 1., 1., 1., 0., 1., 1.]]]], dtype=float32)>"
            ]
          },
          "metadata": {},
          "execution_count": 14
        }
      ]
    },
    {
      "cell_type": "markdown",
      "metadata": {
        "id": "qDlkBvkCjwTQ"
      },
      "source": [
        "# Implementing attention"
      ],
      "id": "qDlkBvkCjwTQ"
    },
    {
      "cell_type": "markdown",
      "metadata": {
        "id": "r3ZqxlailVoX"
      },
      "source": [
        "## Scaled dot product attention\n",
        "\n",
        "the q = query value is a matrix that indicated which k=key values you want to sample and compare. The k = key values then map the query values to the actual values. Therefore, the scaled weights (the output of the softmax) indicated which values you are comparing and will always add up to one. You will see this in the testing phase."
      ],
      "id": "r3ZqxlailVoX"
    },
    {
      "cell_type": "code",
      "metadata": {
        "id": "uQcHcxOVjymX"
      },
      "source": [
        "def dot_product_attention(q, k, v, mask):\n",
        "  \n",
        "  #multiply q with k^t\n",
        "  #this will create a ... by q_length by k_length matrix\n",
        "  q_k = tf.matmul(q,k,transpose_b=True)\n",
        "\n",
        "  #scale by the size of the embedding dimension (the last dimension in the keys input\n",
        "  sqrt_d = tf.math.sqrt(tf.cast(tf.shape(k)[-1],tf.float32))\n",
        "  q_k_scaled = q_k / sqrt_d\n",
        "\n",
        "  #adding the mask\n",
        "  #if mask is = 1 then values will be esentially zeroed-out\n",
        "  #large negative values in the softmax will essentially by zero. \n",
        "  if mask is not None:\n",
        "    q_k_scaled -= (mask*1e9) \n",
        "\n",
        "  #applying the softmax\n",
        "  #this will keep the ... by q_length by k_length matrix\n",
        "  weights = tf.nn.softmax(q_k_scaled,axis=-1)\n",
        "\n",
        "  #multiplying by v\n",
        "  #create a ... by q_length by v_length matrix\n",
        "  output  = tf.matmul(weights,v)\n",
        "\n",
        "  return tf.cast(output,tf.float32), tf.cast(weights,tf.float32)\n",
        "\n"
      ],
      "id": "uQcHcxOVjymX",
      "execution_count": 15,
      "outputs": []
    },
    {
      "cell_type": "code",
      "metadata": {
        "id": "zAp-RC9znyzQ"
      },
      "source": [
        "#testing and getting intuition\n",
        "\n",
        "def print_attention(q,k,v):\n",
        "  out, weights = dot_product_attention(q,k,v,None)\n",
        "  print(\"The weights are: \")\n",
        "  print(weights)\n",
        "  print(\"the output is:\")\n",
        "  print(out)\n",
        "\n",
        "np.set_printoptions(suppress=True)\n"
      ],
      "id": "zAp-RC9znyzQ",
      "execution_count": 16,
      "outputs": []
    },
    {
      "cell_type": "code",
      "metadata": {
        "colab": {
          "base_uri": "https://localhost:8080/"
        },
        "id": "sabB-8ipvUGM",
        "outputId": "f26cade4-6cca-4922-e1f7-0d4744ce6dd2"
      },
      "source": [
        "k_test = tf.constant([[10, 0, 0],\n",
        "                     [0, 10, 0],\n",
        "                     [0, 0, 10],\n",
        "                     [0, 0, 10]], dtype=tf.float32)  # (4, 3)\n",
        "\n",
        "v_test = tf.constant([[1, 0],\n",
        "                     [10, 0],\n",
        "                     [100, 5],\n",
        "                    [1000, 6]], dtype=tf.float32)  # (4, 2)\n",
        "\n",
        "\n",
        "q_test = tf.constant([[0, 10, 0]], dtype=tf.float32)  # (1, 3)\n",
        "\n",
        "#Note that this query maps towards the second key (they are the same)\n",
        "#therefore the output will pertain to the secod value\n",
        "print_attention(q_test, k_test, v_test)"
      ],
      "id": "sabB-8ipvUGM",
      "execution_count": 17,
      "outputs": [
        {
          "output_type": "stream",
          "name": "stdout",
          "text": [
            "The weights are: \n",
            "tf.Tensor([[0. 1. 0. 0.]], shape=(1, 4), dtype=float32)\n",
            "the output is:\n",
            "tf.Tensor([[10.  0.]], shape=(1, 2), dtype=float32)\n"
          ]
        }
      ]
    },
    {
      "cell_type": "markdown",
      "metadata": {
        "id": "3iIi144yxZzW"
      },
      "source": [
        "note how the weights =1 because we only select one value. and how the output is the selected value vector (the second one).\n"
      ],
      "id": "3iIi144yxZzW"
    },
    {
      "cell_type": "code",
      "metadata": {
        "colab": {
          "base_uri": "https://localhost:8080/"
        },
        "id": "EqzBOOViyG9k",
        "outputId": "0c9e4913-484d-4962-9c20-bc24b11796d3"
      },
      "source": [
        "k_test = tf.constant([[10, 0, 0],\n",
        "                     [0, 10, 0],\n",
        "                     [0, 0, 10],\n",
        "                     [0, 0, 10]], dtype=tf.float32)  # (4, 3)\n",
        "\n",
        "v_test = tf.constant([[1, 0],\n",
        "                     [10, 0],\n",
        "                     [100, 5],\n",
        "                    [1000, 6]], dtype=tf.float32)  # (4, 2)\n",
        "\n",
        "\n",
        "q_test = tf.constant([[10, 10, 0]], dtype=tf.float32)  # (1, 3)\n",
        "\n",
        "#Note that this query is similar to both the first and second key \n",
        "#therefore the weight will weight the first and second key equaly\n",
        "# and the output will then be the weighted value of the first and second value\n",
        "print_attention(q_test, k_test, v_test)"
      ],
      "id": "EqzBOOViyG9k",
      "execution_count": 18,
      "outputs": [
        {
          "output_type": "stream",
          "name": "stdout",
          "text": [
            "The weights are: \n",
            "tf.Tensor([[0.5 0.5 0.  0. ]], shape=(1, 4), dtype=float32)\n",
            "the output is:\n",
            "tf.Tensor([[5.5 0. ]], shape=(1, 2), dtype=float32)\n"
          ]
        }
      ]
    },
    {
      "cell_type": "markdown",
      "metadata": {
        "id": "QcRGsDxJzQfj"
      },
      "source": [
        "Note how the sum weights = 1 (due to the softmax), and the outputs are the weighted values of the 1st and second values.\n",
        "\n",
        "Essetially the \"attention\" procces uses the query and key vectors to create a weighted vector of certain values.\n",
        "\n",
        "Note that for self-attention, q,k,v are all the same\n"
      ],
      "id": "QcRGsDxJzQfj"
    },
    {
      "cell_type": "markdown",
      "metadata": {
        "id": "IVcygLGElYjx"
      },
      "source": [
        "## Multiheaded attention\n",
        "\n",
        "In this section we essentially transform and train the q,k,x values before feeding them into the dot product attention layer. "
      ],
      "id": "IVcygLGElYjx"
    },
    {
      "cell_type": "code",
      "metadata": {
        "id": "FII9T6aC0F_D"
      },
      "source": [
        "class MultiHeadAttention(tf.keras.layers.Layer):\n",
        "\n",
        "  #note: \n",
        "        #batch_size = # of sentences/samples in each batch\n",
        "        #sample_length = #numbef of words in a sentence\n",
        "        #num heads = number of self-attention heads\n",
        "        #depth =  number of embedding dimensions handled by each head\n",
        "\n",
        "  #initializing the object\n",
        "  def __init__(self, embedding_dimension, number_of_heads):\n",
        "    #inheriting the same init as the base class (tf.keras.layers.Layer)\n",
        "    super().__init__()\n",
        "    self.num_heads = number_of_heads\n",
        "    self.embed_dim = embedding_dimension\n",
        "\n",
        "    #calculating how many units each linear layer should have\n",
        "    self.depth = self.embed_dim // self.num_heads \n",
        "\n",
        "    #checking that we can separate the number of dimenisons into the number of heads\n",
        "    #if not stop building the layer\n",
        "  \n",
        "    assert self.embed_dim % self.num_heads ==0\n",
        "\n",
        "    #create linear layers with the number of dimensions (these will be split later)\n",
        "    #creating the q layer\n",
        "    self.q_layer = tf.keras.layers.Dense(embedding_dimension)\n",
        "\n",
        "    #creating the k layer\n",
        "    self.k_layer = tf.keras.layers.Dense(embedding_dimension)\n",
        "\n",
        "    #creating the v layer\n",
        "    self.v_layer = tf.keras.layers.Dense(embedding_dimension)\n",
        "\n",
        "    #creating the output layer (after attention is calculated)\n",
        "    self.output_layer = tf.keras.layers.Dense(embedding_dimension)\n",
        "\n",
        "\n",
        "  def separating_heads(self, layer, batch_size):\n",
        "    #input layer has size of sequence_length by embedding dimension\n",
        "    #we will create layers that have size: depth by sequence_length\n",
        "\n",
        "    #reshaping the layer\n",
        "    #-1 implies the length of the dimension is infered by the program\n",
        "    layer = tf.reshape(layer,(batch_size,-1, self.num_heads, self.depth)) \n",
        "\n",
        "    #transposing the layer to get (batch_size, num_heads, sequence_length, depth)\n",
        "    layer = tf.transpose(layer,perm=[0, 2, 1, 3])\n",
        "\n",
        "    return layer\n",
        "\n",
        "  def call(self, q, k, v, mask):\n",
        "    #obtaining the batch size. This will be the number of sentences in the query vector\n",
        "    batch_size = tf.shape(q)[0] \n",
        "\n",
        "    #passing q, v, and k into their respective layers and getting the output\n",
        "    #size  = sequence_length (q_size) by embedding_dimension\n",
        "    q = self.q_layer(q) \n",
        "    k = self.k_layer(k) \n",
        "    v = self.v_layer(v) \n",
        "\n",
        "    #splitting the output layers\n",
        "    #size = (size_batche, num_heads, sequence_length, depth)\n",
        "    q_out = self.separating_heads(q,batch_size)\n",
        "    k_out = self.separating_heads(k,batch_size)\n",
        "    v_out = self.separating_heads(v,batch_size)\n",
        "\n",
        "    #passing the output of the linearized q,k,v vectors into the dot product attention\n",
        "    #output shape = (batch_size, num_heads, sequence_length, depth)\n",
        "    #weight shape = (batch_size, num_heads, sequence_length, length_k)\n",
        "    attention_output, attention_weights = dot_product_attention(q=q_out,k=k_out,v=v_out,mask=mask)\n",
        "\n",
        "    #combining the previous outputs to fit into the output layer (un-doing the separating_heads opperation)\n",
        "    attention_output = tf.transpose(attention_output, perm=[0, 2, 1, 3])\n",
        "    attention_output = tf.reshape(attention_output,(batch_size,-1,self.embed_dim))\n",
        "\n",
        "    #the result is a tensor with the size: batch_size , sequence_length, embedding_dimension)\n",
        "\n",
        "    #passing through the output layer\n",
        "    out = self.output_layer(attention_output)\n",
        "\n",
        "    return out, attention_weights\n",
        "\n"
      ],
      "id": "FII9T6aC0F_D",
      "execution_count": 19,
      "outputs": []
    },
    {
      "cell_type": "markdown",
      "metadata": {
        "id": "txzrZB8ePY-Q"
      },
      "source": [
        "## Testing full self-attention"
      ],
      "id": "txzrZB8ePY-Q"
    },
    {
      "cell_type": "code",
      "metadata": {
        "colab": {
          "base_uri": "https://localhost:8080/"
        },
        "id": "30CapxNhPFtH",
        "outputId": "d4c031c4-478d-4a49-e23c-4e57f86db942"
      },
      "source": [
        "#initializing attention head\n",
        "num_heads = 4\n",
        "test_attention = MultiHeadAttention(embedding_dimension,num_heads)\n",
        "\n",
        "#initializing input of size: batch_size, sequence_length, embedding_dimension\n",
        "batch_size = 1\n",
        "test_q_size = 60 #length of sequence (how long is a sentence)\n",
        "test_input = tf.random.uniform((batch_size,test_q_size,embedding_dimension)) #Outputs random values from a uniform distribution.\n",
        "\n",
        "#running attention\n",
        "#Note that for self-attention, q,k,v are all the same\n",
        "test_output, test_weights = test_attention(test_input,test_input,test_input,None)\n",
        "\n",
        "#looking at sizes\n",
        "print(\"Shape of the output:\", test_output.shape)\n",
        "print(\"Shape of the weights:\", test_weights.shape)\n"
      ],
      "id": "30CapxNhPFtH",
      "execution_count": 20,
      "outputs": [
        {
          "output_type": "stream",
          "name": "stdout",
          "text": [
            "Shape of the output: (1, 60, 512)\n",
            "Shape of the weights: (1, 4, 60, 60)\n"
          ]
        }
      ]
    },
    {
      "cell_type": "markdown",
      "metadata": {
        "id": "iP0Cf9PzUZwB"
      },
      "source": [
        "# Last component of encoder: the standard feed-forward network"
      ],
      "id": "iP0Cf9PzUZwB"
    },
    {
      "cell_type": "code",
      "metadata": {
        "id": "h5tXe843UlC7"
      },
      "source": [
        "def feed_forward_nn(embedding_dimension,hidden_units):\n",
        "  #note that we want hidden_units = length_of_positional encoder for a 1-to-1\n",
        "  #ratio, but it could be anything\n",
        "  #here we create a NN object, but no data is passed through yet\n",
        "  \n",
        "  ffnn = tf.keras.Sequential([\n",
        "              #input size: batch_size by sample_legth, by embed_dimension\n",
        "              #output size = batch_size by sample_length by hidden units. \n",
        "              tf.keras.layers.Dense(hidden_units,activation=\"relu\"),\n",
        "\n",
        "              #output size = batch_size,num_samples, embedding dimension. \n",
        "              tf.keras.layers.Dense(embedding_dimension)\n",
        "  ])\n",
        "\n",
        "  return ffnn\n"
      ],
      "id": "h5tXe843UlC7",
      "execution_count": 21,
      "outputs": []
    },
    {
      "cell_type": "markdown",
      "metadata": {
        "id": "Z7ymvEGqYUAQ"
      },
      "source": [
        "#Putting things together into a single Encoder layer"
      ],
      "id": "Z7ymvEGqYUAQ"
    },
    {
      "cell_type": "code",
      "metadata": {
        "id": "4kUiypHUYYVd"
      },
      "source": [
        "class encoder_layer(tf.keras.layers.Layer):\n",
        "  def __init__(self, embed_dim, num_heads, hidden_units_ffnn, dropout_rate = 0.1):\n",
        "    super().__init__()\n",
        "\n",
        "    #initializing the layer objects\n",
        "    self.MHA_layer = MultiHeadAttention(embed_dim,num_heads)\n",
        "    self.MHA_dropout = tf.keras.layers.Dropout(dropout_rate)\n",
        "    self.MHA_norm_layer = tf.keras.layers.LayerNormalization(epsilon=1e-6)\n",
        "\n",
        "    self.ffnn_layer = feed_forward_nn(embed_dim, hidden_units_ffnn)\n",
        "    self.ffnn_dropout = tf.keras.layers.Dropout(dropout_rate)\n",
        "    self.ffnn_norm_layer = tf.keras.layers.LayerNormalization(epsilon=1e-6)\n",
        "\n",
        "  def call (self,data,mask,is_training):\n",
        "\n",
        "    #running Multihead attention\n",
        "    att_output, MHA_weights = self.MHA_layer(q=data,k=data,v=data,mask=mask)\n",
        "    drop_output = self.MHA_dropout(att_output, training=is_training)\n",
        "    #re-adding original data back before normalization\n",
        "    norm_output = self.MHA_norm_layer(drop_output+data)\n",
        "\n",
        "    #running feed-forward neural network\n",
        "    ffnn_output = self.ffnn_layer(norm_output)\n",
        "    ffnn_drop_output = self.ffnn_dropout(ffnn_output, training=is_training)\n",
        "    final_output = self.ffnn_norm_layer(ffnn_drop_output + norm_output)\n",
        "\n",
        "    return final_output\n"
      ],
      "id": "4kUiypHUYYVd",
      "execution_count": 22,
      "outputs": []
    },
    {
      "cell_type": "code",
      "metadata": {
        "colab": {
          "base_uri": "https://localhost:8080/"
        },
        "id": "f1P_z-eHcyVK",
        "outputId": "30442183-4a0a-4c0e-d8de-efedcf634e10"
      },
      "source": [
        "#testing\n",
        "\n",
        "#initializing\n",
        "enconder_test = encoder_layer(512,8,2048)\n",
        "\n",
        "#creating data: batch_size, sequence_length, embed_dimension\n",
        "data_encoder_test = tf.random.uniform((54,204,512))\n",
        "\n",
        "#running\n",
        "enconder_out_test = enconder_test(data_encoder_test,None,False)\n",
        "\n",
        "print(\"encoder input shape: \",data_encoder_test.shape)\n",
        "print(\"encoder output shape: \",enconder_out_test.shape)"
      ],
      "id": "f1P_z-eHcyVK",
      "execution_count": 23,
      "outputs": [
        {
          "output_type": "stream",
          "name": "stdout",
          "text": [
            "encoder input shape:  (54, 204, 512)\n",
            "encoder output shape:  (54, 204, 512)\n"
          ]
        }
      ]
    },
    {
      "cell_type": "markdown",
      "metadata": {
        "id": "NBDEu7BTd5jO"
      },
      "source": [
        "# Putting things together into a single Decoder layer"
      ],
      "id": "NBDEu7BTd5jO"
    },
    {
      "cell_type": "code",
      "metadata": {
        "id": "4xlfSYnod9U3"
      },
      "source": [
        "class decoder_layer(tf.keras.layers.Layer):\n",
        "  def __init__(self, embed_dim, num_heads, hidden_units_ffnn, dropout_rate = 0.1):\n",
        "    super().__init__()\n",
        "\n",
        "    #initializing the layer objects\n",
        "    self.MHA_layer_1 = MultiHeadAttention(embed_dim,num_heads)\n",
        "    self.MHA_dropout_1 = tf.keras.layers.Dropout(dropout_rate)\n",
        "    self.MHA_norm_layer_1 = tf.keras.layers.LayerNormalization(epsilon=1e-6)\n",
        "\n",
        "    self.MHA_layer_2 = MultiHeadAttention(embed_dim,num_heads)\n",
        "    self.MHA_dropout_2 = tf.keras.layers.Dropout(dropout_rate)\n",
        "    self.MHA_norm_layer_2 = tf.keras.layers.LayerNormalization(epsilon=1e-6)\n",
        "\n",
        "    self.ffnn_layer = feed_forward_nn(embed_dim, hidden_units_ffnn)\n",
        "    self.ffnn_dropout = tf.keras.layers.Dropout(dropout_rate)\n",
        "    self.ffnn_norm_layer = tf.keras.layers.LayerNormalization(epsilon=1e-6)\n",
        "\n",
        "  def call(self,data,encoder_output,padding_mask,lookahead_mask,is_training):\n",
        "    #running 1st multihead attention\n",
        "    att_output_1, MHA_weights_1 = self.MHA_layer_1(\n",
        "        q=data,k=data,v=data,mask=lookahead_mask)\n",
        "    drop_output_1 = self.MHA_dropout_1(att_output_1, training=is_training)\n",
        "    #re-adding original data back before normalization\n",
        "    norm_output_1 = self.MHA_norm_layer_1(drop_output_1+data)\n",
        "\n",
        "    #running 2nd multihead attention\n",
        "    #note that now q = last output, and v, k = encoder_output\n",
        "    att_output_2, MHA_weights_2 = self.MHA_layer_2(\n",
        "        q=norm_output_1,k=encoder_output,v=encoder_output,mask=padding_mask)\n",
        "    drop_output_2 = self.MHA_dropout_2(att_output_2, training=is_training)\n",
        "    #re-adding original data back before normalization\n",
        "    norm_output_2 = self.MHA_norm_layer_2(drop_output_2+norm_output_1)\n",
        "\n",
        "    #running feed-forward neural network\n",
        "    ffnn_output = self.ffnn_layer(norm_output_2)\n",
        "    ffnn_drop_output = self.ffnn_dropout(ffnn_output, training=is_training)\n",
        "    final_output = self.ffnn_norm_layer(ffnn_drop_output+norm_output_2)\n",
        "\n",
        "    return final_output, MHA_weights_1, MHA_weights_2"
      ],
      "id": "4xlfSYnod9U3",
      "execution_count": 24,
      "outputs": []
    },
    {
      "cell_type": "code",
      "metadata": {
        "colab": {
          "base_uri": "https://localhost:8080/"
        },
        "id": "rFJOD1jRfdn8",
        "outputId": "e03db75e-fc5a-484c-bf9a-bb1776a06396"
      },
      "source": [
        "#testing\n",
        "\n",
        "#defining data (note batch size and embed_dim must be the same as for the encoder)\n",
        "decoder_data_test = tf.random.uniform((54,45,512))\n",
        "\n",
        "#initalizing decoder\n",
        "decoder_test = decoder_layer(512,4,2048,0.1)\n",
        "\n",
        "#running decoder\n",
        "output_decoder_test, w, w2 = decoder_test(decoder_data_test,enconder_out_test,None,None,False)\n",
        "\n",
        "print(\"decoder input shape: \",decoder_data_test.shape)\n",
        "print(\"decoder output shape: \",output_decoder_test.shape)"
      ],
      "id": "rFJOD1jRfdn8",
      "execution_count": 25,
      "outputs": [
        {
          "output_type": "stream",
          "name": "stdout",
          "text": [
            "decoder input shape:  (54, 45, 512)\n",
            "decoder output shape:  (54, 45, 512)\n"
          ]
        }
      ]
    },
    {
      "cell_type": "markdown",
      "metadata": {
        "id": "9Ber4NdmjL0f"
      },
      "source": [
        "# Creating a full **Encoder** (embedding + positional encoding + encoder layers)"
      ],
      "id": "9Ber4NdmjL0f"
    },
    {
      "cell_type": "code",
      "metadata": {
        "id": "KiwxVg3RjVao"
      },
      "source": [
        "class Encoder(tf.keras.layers.Layer):\n",
        "  def __init__(self, embedding_dimension, max_position_encoding,\n",
        "               input_vocabulary_size,MHA_num_heads,number_of_encoder_layers,\n",
        "               num_ffnn_hidden_layers,dropout_rate=0.1,):\n",
        "    super().__init__()\n",
        "\n",
        "    #initializing parameters\n",
        "    self.embed_dim = embedding_dimension\n",
        "    self.num_of_layers = number_of_encoder_layers\n",
        "\n",
        "    #initializing word embedding layer\n",
        "    self.embedding = tf.keras.layers.Embedding(input_vocabulary_size,\n",
        "                                               embedding_dimension)\n",
        "\n",
        "    #creating positional encodings (no data needed for this)\n",
        "    self.pos_encode = pos_encoding(max_position_encoding,embedding_dimension)\n",
        "\n",
        "    #creating list containing N embedding layers\n",
        "    self.encoder_layers = [encoder_layer(embedding_dimension,MHA_num_heads,\n",
        "                          num_ffnn_hidden_layers,dropout_rate)\n",
        "                          for i in range(number_of_encoder_layers)]\n",
        "\n",
        "    #creating dropout layer\n",
        "    self.dropout = tf.keras.layers.Dropout(dropout_rate)\n",
        "\n",
        "  def call (self,input_data,is_training,mask):\n",
        "\n",
        "    #calculating the length of the sentence/sequence (size of second column)\n",
        "    length = tf.shape(input_data)[1]\n",
        "\n",
        "    #embedding data\n",
        "    embed_data = self.embedding(input_data)\n",
        "    #scaling the data by the sqrt of the embedding dimension\n",
        "    embed_data *= tf.math.sqrt(tf.cast(self.embed_dim,tf.float32))\n",
        "\n",
        "    #adding the positional encoding which has size (batch_size ,position, embed_dim)\n",
        "    #Here we are only adding the positional encoder up to the number of words \n",
        "    #in the sequence\n",
        "    embed_data += self.pos_encode[:,:length,:]\n",
        "\n",
        "    #adding a dropout layer at the start of the encoder (this is optional)\n",
        "    out = self.dropout(embed_data,training=is_training)\n",
        "\n",
        "    #passing data through the N encoding layers\n",
        "    for i in range(self.num_of_layers):\n",
        "      out= self.encoder_layers[i](out,mask,is_training)\n",
        "\n",
        "    return out"
      ],
      "id": "KiwxVg3RjVao",
      "execution_count": 26,
      "outputs": []
    },
    {
      "cell_type": "code",
      "metadata": {
        "colab": {
          "base_uri": "https://localhost:8080/"
        },
        "id": "_doSF-wpjnIA",
        "outputId": "c4354743-ab13-4abb-d0c2-6d0e884d0fac"
      },
      "source": [
        "#Testing encoder\n",
        "\n",
        "#initializing encoder\n",
        "test_Encoder = Encoder(512,10000,8500,8,2,20148)\n",
        "\n",
        "#initializing data (just a number samples by num of tokenized words matrix)\n",
        "test_Encoder_input = tf.random.uniform((55,87),dtype=tf.int64,minval=0, maxval=500)\n",
        "\n",
        "#running encoder\n",
        "test_E_output = test_Encoder(test_Encoder_input,False,None)\n",
        "\n",
        "print(\"Encoder input shape: \",test_Encoder_input.shape)\n",
        "print(\"Encoder output shape: \",test_E_output.shape)\n"
      ],
      "id": "_doSF-wpjnIA",
      "execution_count": 27,
      "outputs": [
        {
          "output_type": "stream",
          "name": "stdout",
          "text": [
            "Encoder input shape:  (55, 87)\n",
            "Encoder output shape:  (55, 87, 512)\n"
          ]
        }
      ]
    },
    {
      "cell_type": "markdown",
      "metadata": {
        "id": "kfD19BWSxaua"
      },
      "source": [
        "# Creating a full **Decoder** (embedding + positional encoding + decoder layers)"
      ],
      "id": "kfD19BWSxaua"
    },
    {
      "cell_type": "code",
      "metadata": {
        "id": "Wx13M7IIxaab"
      },
      "source": [
        "class Decoder(tf.keras.layers.Layer):\n",
        "  def __init__(self, embedding_dimension, max_position_encoding,\n",
        "               target_vocabulary_size,MHA_num_heads,number_of_decoder_layers,\n",
        "               num_ffnn_hidden_layers,dropout_rate=0.1,):\n",
        "    super().__init__()\n",
        "\n",
        "    #initializing parameters\n",
        "    self.embed_dim = embedding_dimension\n",
        "\n",
        "    #initializing word embedding layer\n",
        "    self.embedding = tf.keras.layers.Embedding(target_vocabulary_size,\n",
        "                                               embedding_dimension)\n",
        "\n",
        "    #creating positional encodings (no data needed for this)\n",
        "    self.pos_encode = pos_encoding(max_position_encoding,embedding_dimension)\n",
        "\n",
        "    #creating list containing N embedding layers\n",
        "    self.decoder_layers = [decoder_layer(embedding_dimension,MHA_num_heads,\n",
        "                          num_ffnn_hidden_layers,dropout_rate)\n",
        "                          for i in range(number_of_decoder_layers)]\n",
        "\n",
        "    #creating dropout layer\n",
        "    self.dropout = tf.keras.layers.Dropout(dropout_rate)\n",
        "\n",
        "  def call(self,input_data, encoder_data,padding_mask,lookahead_mask,is_training):\n",
        "\n",
        "    #calculating the length of the sentence/sequence (size of second column)\n",
        "    length = tf.shape(input_data)[1]\n",
        "    weights = {}\n",
        "\n",
        "    #embedding data\n",
        "    embed_data = self.embedding(input_data)\n",
        "    #scaling the data by the sqrt of the embedding dimension\n",
        "    embed_data *= tf.math.sqrt(tf.cast(self.embed_dim,tf.float32))\n",
        "\n",
        "    #adding the positional encoding which has size (batch_size ,position, embed_dim)\n",
        "    #Here we are only adding the positional encoder up to the number of words \n",
        "    #in the sequence\n",
        "    embed_data += self.pos_encode[:,:length,:]\n",
        "\n",
        "    #adding a dropout layer at the start of the encoder (this is optional)\n",
        "    out = self.dropout(embed_data,training=is_training)\n",
        "\n",
        "    #passing data through the N decoding layers\n",
        "    i=0\n",
        "    for layer in self.decoder_layers:\n",
        "      padding_mask,lookahead_mask,is_training\n",
        "      out, w1, w2 = layer(out,encoder_data,padding_mask,\n",
        "                  lookahead_mask,is_training)\n",
        "      \n",
        "      weights[\"decoder_layer_\"+str(i+1)+\"block_1_weights\"] = w1\n",
        "      weights[\"decoder_layer_\"+str(i+1)+\"block_2_weights\"] = w2\n",
        "     \n",
        "      i+=1\n",
        "\n",
        "    return out, weights"
      ],
      "id": "Wx13M7IIxaab",
      "execution_count": 28,
      "outputs": []
    },
    {
      "cell_type": "code",
      "metadata": {
        "colab": {
          "base_uri": "https://localhost:8080/"
        },
        "id": "qEqAI06Q0PVL",
        "outputId": "b82991c0-838b-4b89-8e82-8a250fb366fb"
      },
      "source": [
        "#Testing decoder\n",
        "\n",
        "#initializing encoder\n",
        "test_Decoder = Decoder(512,10000,8500,8,2,20148)\n",
        "\n",
        "#initializing data (just a number samples by num of tokenized words matrix)\n",
        "#batch size has to be the same as encoder input\n",
        "test_Decoder_input = tf.random.uniform((55,45),dtype=tf.int64,minval=0, maxval=500)\n",
        "\n",
        "#running encoder\n",
        "test_D_output, test_D_weights = test_Decoder(test_Decoder_input,test_Encoder_input,None,None,False)\n",
        "\n",
        "print(\"Decoder input shape: \",test_Decoder_input.shape)\n",
        "print(\"Decoder output shape: \",test_D_output.shape)"
      ],
      "id": "qEqAI06Q0PVL",
      "execution_count": 29,
      "outputs": [
        {
          "output_type": "stream",
          "name": "stdout",
          "text": [
            "Decoder input shape:  (55, 45)\n",
            "Decoder output shape:  (55, 45, 512)\n"
          ]
        }
      ]
    },
    {
      "cell_type": "markdown",
      "metadata": {
        "id": "4HF6Ms4o1Gpi"
      },
      "source": [
        "# Finally! Creating the **Transformer**"
      ],
      "id": "4HF6Ms4o1Gpi"
    },
    {
      "cell_type": "code",
      "metadata": {
        "id": "xltCZOkl1LB2"
      },
      "source": [
        "class Transformer(tf.keras.Model):\n",
        "  def __init__(self, embedding_dimension, max_position_encoding_input,\n",
        "              max_position_encoding_target, input_vocabulary_size,\n",
        "              target_vocabulary_size, MHA_num_heads, number_of_encoder_layers,\n",
        "              number_of_decoder_layers, num_ffnn_hidden_layers,dropout_rate=0.1\n",
        "              ):\n",
        "    super().__init__()\n",
        "\n",
        "    #creating the encoder\n",
        "    self.Encoder = Encoder(embedding_dimension, max_position_encoding_input,\n",
        "                           input_vocabulary_size,MHA_num_heads,\n",
        "                           number_of_encoder_layers,num_ffnn_hidden_layers)\n",
        "    \n",
        "    #creating decoder layer\n",
        "    self.Decoder = Decoder(embedding_dimension,max_position_encoding_target,\n",
        "                           target_vocabulary_size,MHA_num_heads,\n",
        "                           number_of_decoder_layers,num_ffnn_hidden_layers)\n",
        "    \n",
        "    #creating final layer\n",
        "    self.final = tf.keras.layers.Dense(target_vocabulary_size)\n",
        "\n",
        "  def createMasks(self,input_val,target_val):\n",
        "\n",
        "    #creating mask for encoder (this is a padding mask)\n",
        "    encoder_pad_mask = make_padding_mask(input_val)\n",
        "\n",
        "    #creating masks for 1st decoder block (both padding and lookahead mask)\n",
        "    decoder_pad_mask_1=make_padding_mask(target_val)\n",
        "    decoder_la_mask_1=make_look_ahead_mask(tf.shape(target_val)[1]) #val_length\n",
        "    #combining both decoder masks for lookahead mask \n",
        "    #(we dont want to account for padding values here either)\n",
        "    decoder_la_mask_1=tf.maximum(decoder_pad_mask_1, decoder_la_mask_1)\n",
        "\n",
        "    #creating masks for 2nd decoder block\n",
        "    decoder_pad_mask_2 = make_padding_mask(input_val)\n",
        "\n",
        "    return encoder_pad_mask, decoder_la_mask_1, decoder_pad_mask_2\n",
        "\n",
        "  def call(self, all_inputs, is_training):\n",
        "    \n",
        "    #remember inputs are in the form of a 2-part tuple/list (english first\n",
        "    # then portuguse)\n",
        "    inputs, targets = all_inputs\n",
        "\n",
        "    #getting the masks\n",
        "    enc_pad_mask, dec_la_mask, dec_pad_mask = self.createMasks(inputs,targets)\n",
        "\n",
        "    #running the encoder\n",
        "    enc_out = self.Encoder(inputs, is_training, enc_pad_mask)\n",
        "\n",
        "    #running the decoder\n",
        "    dec_out, weights = self.Decoder(targets, enc_out,dec_pad_mask,\n",
        "                           dec_la_mask, is_training)\n",
        "    \n",
        "    #running through last layer\n",
        "    #shape: # (batch_size, target_sencence_len, target_vocab_size)\n",
        "    last_output = self.final(dec_out)\n",
        "\n",
        "    return last_output, weights"
      ],
      "id": "xltCZOkl1LB2",
      "execution_count": 30,
      "outputs": []
    },
    {
      "cell_type": "code",
      "metadata": {
        "colab": {
          "base_uri": "https://localhost:8080/"
        },
        "id": "irY9m3hJQO_N",
        "outputId": "f03acbc0-7ec5-4fd3-d47f-0585c5792ae3"
      },
      "source": [
        "#Testing Transformer\n",
        "\n",
        "#initializing transformer\n",
        "test_T = Transformer(512,10000,6000,8500,8000,8,2,2,2048)\n",
        "\n",
        "#initializing data (just a number samples by num of tokenized words matrix)\n",
        "#batch size has to be the same as encoder input\n",
        "test_T_input = tf.random.uniform((55,45),dtype=tf.int64,minval=0, maxval=500)\n",
        "test_T_target = tf.random.uniform((55,47),dtype=tf.int64,minval=0, maxval=500)\n",
        "\n",
        "#running Transformer\n",
        "test_T_output, test_T_weights = test_T([test_T_input,test_T_target],False)\n",
        "\n",
        "#output shape should be # (batch_size, tar_seq_len, target_vocab_size)\n",
        "print(\"Transformer input shape: \",test_T_input.shape)\n",
        "print(\"Transformer output shape: \",test_T_output.shape)"
      ],
      "id": "irY9m3hJQO_N",
      "execution_count": 31,
      "outputs": [
        {
          "output_type": "stream",
          "name": "stdout",
          "text": [
            "Transformer input shape:  (55, 45)\n",
            "Transformer output shape:  (55, 47, 8000)\n"
          ]
        }
      ]
    },
    {
      "cell_type": "markdown",
      "metadata": {
        "id": "b80Iou_QSz7f"
      },
      "source": [
        "# Defining Training Procedures"
      ],
      "id": "b80Iou_QSz7f"
    },
    {
      "cell_type": "markdown",
      "metadata": {
        "id": "DRbbABW5rji8"
      },
      "source": [
        "## Defining a Loss Function\n",
        "\n",
        "We will be using a cross-entropy loss function (negative log-likelyhood). Also, remember that we dont want to calculate a loss function on the padding sentence values. "
      ],
      "id": "DRbbABW5rji8"
    },
    {
      "cell_type": "code",
      "metadata": {
        "id": "D7G6ApqCrhMz"
      },
      "source": [
        "#initailizing loss function oject\n",
        "#we will be inputing the logits instead of the outputs of a softmax function\n",
        "cross_loss = tf.keras.losses.SparseCategoricalCrossentropy(from_logits=True,reduction=\"none\")\n",
        "\n",
        "def loss_fn(labels,predictions):\n",
        "  #creating a mask for padding labels\n",
        "  #(first returning 1's where there are zeros, then inverting)\n",
        "  #note that summing over pad_mask gives total number of classifiable samples\n",
        "  pad_mask = tf.math.logical_not(tf.math.equal(labels,0))\n",
        "\n",
        "  #calculating loss\n",
        "  calc_loss = cross_loss(labels,predictions)\n",
        "\n",
        "  #applying mask to loss\n",
        "  pad_mask = tf.cast(pad_mask,dtype=calc_loss.dtype)\n",
        "  calc_loss = calc_loss*pad_mask #multipyling padding losses by zero\n",
        "\n",
        "  #calculating total loss\n",
        "  calc_loss = tf.reduce_sum(calc_loss)/tf.reduce_sum(pad_mask)\n",
        "\n",
        "  return calc_loss\n",
        "\n",
        "def calc_accuracy(labels, predictions):\n",
        "\n",
        "  #checking if the predictid value equals the label\n",
        "  #here we check if the word with the max output probabilty matches the label\n",
        "  equal = tf.equal(labels,tf.argmax(predictions,axis=2))\n",
        "\n",
        "  #creating a mask for padding labels\n",
        "  #(first returning 1's where there are zeros, then inverting)\n",
        "  #note that summing over pad_mask gives total number of classifiable samples\n",
        "  pad_mask = tf.math.logical_not(tf.math.equal(labels,0))\n",
        "\n",
        "  #applying the mask using AND function (only equals 1 if both equal 1)\n",
        "  equal = tf.math.logical_and(pad_mask,equal)\n",
        "\n",
        "  #casting into appropriate types\n",
        "  equal = tf.cast(equal,tf.float32)\n",
        "  pad_mask = tf.cast(pad_mask,tf.float32)\n",
        "\n",
        "  #calculating accuracy\n",
        "  acc = tf.reduce_sum(equal)/tf.reduce_sum(pad_mask)\n",
        "\n",
        "  return acc"
      ],
      "id": "D7G6ApqCrhMz",
      "execution_count": 32,
      "outputs": []
    },
    {
      "cell_type": "markdown",
      "metadata": {
        "id": "LX4LVuvZT3OH"
      },
      "source": [
        "## Defining an optimal learning rate\n",
        "\n",
        "Here we follow the formula specified in \"Attention is all you Need\" (i.e. the landmark transformer paper which we are using here). The following class \"modulates how the learning rate of your optimizer changes over time.\"\n",
        "\n"
      ],
      "id": "LX4LVuvZT3OH"
    },
    {
      "cell_type": "code",
      "metadata": {
        "id": "a4jwbkL0S42Y"
      },
      "source": [
        "class learning_rate_optimizer(tf.keras.optimizers.schedules.LearningRateSchedule):\n",
        "  def __init__(self, embedding_dimension, warm_up_steps=4000):\n",
        "    super().__init__()\n",
        "\n",
        "    self.emb_dim = embedding_dimension\n",
        "    self.w_s = warm_up_steps\n",
        "\n",
        "  def __call__(self,current_step):\n",
        "    #calculating arguments in minimun function\n",
        "    min1 = tf.math.rsqrt(current_step)\n",
        "    min2 = current_step * (self.w_s ** -1.5)\n",
        "\n",
        "    #calculating result of min function\n",
        "    min = tf.math.minimum(min1,min2)\n",
        "\n",
        "    #calculating sqrt of the embeding dimension\n",
        "    d_rsqrt =  tf.math.rsqrt(tf.cast(self.emb_dim,tf.float32))\n",
        "\n",
        "    #calculating rate\n",
        "    rate = d_rsqrt*min\n",
        "\n",
        "    return rate\n"
      ],
      "id": "a4jwbkL0S42Y",
      "execution_count": 33,
      "outputs": []
    },
    {
      "cell_type": "code",
      "metadata": {
        "id": "QvG3BzNmWCDO"
      },
      "source": [
        "#Testing learning rate\n",
        "\n",
        "#initializing rate optimizer\n",
        "#rate_test = learning_rate_optimizer(100)\n",
        "\n",
        "#plotting learning rate vs time step\n",
        "#plt.plot(rate_test(tf.range(50000, dtype=tf.float32)))\n",
        "#plt.ylabel(\"Rate\")\n",
        "#plt.xlabel(\"Current Step\")"
      ],
      "id": "QvG3BzNmWCDO",
      "execution_count": 34,
      "outputs": []
    },
    {
      "cell_type": "markdown",
      "metadata": {
        "id": "9METPhHs3RMA"
      },
      "source": [
        "# Training "
      ],
      "id": "9METPhHs3RMA"
    },
    {
      "cell_type": "markdown",
      "metadata": {
        "id": "bDSX7KUUFvhf"
      },
      "source": [
        "## Creating Suitable Input Data"
      ],
      "id": "bDSX7KUUFvhf"
    },
    {
      "cell_type": "code",
      "metadata": {
        "id": "K5SrInDNvuXN"
      },
      "source": [
        "# creating function to tokenize the text\n",
        "\n",
        "def tokenize_text(port_data, eng_data):\n",
        "  eng_data = tokenizer.en.tokenize(eng_data).to_tensor() #we cast into a sparse tensor \n",
        "  port_data = tokenizer.pt.tokenize(port_data).to_tensor() #we cast into a sparse tensor\n",
        "\n",
        "  return port_data, eng_data"
      ],
      "id": "K5SrInDNvuXN",
      "execution_count": 35,
      "outputs": []
    },
    {
      "cell_type": "code",
      "metadata": {
        "id": "tCUWm_xSFvrK"
      },
      "source": [
        "#making batches\n",
        "def make_batches(Data,buffer_size,batch_size):\n",
        "  return (\n",
        "      Data\n",
        "      .cache()\n",
        "      .shuffle(buffer_size)\n",
        "      .batch(batch_size)\n",
        "      .map(tokenize_text, num_parallel_calls=tf.data.AUTOTUNE)\n",
        "      .prefetch(tf.data.AUTOTUNE))\n",
        "  \n",
        "#final data\n",
        "train_batches = make_batches(train_data,20000,64)\n",
        "test_batches = make_batches(test_data,20000,64)\n",
        "val_batches = make_batches(validation_data,20000,64) "
      ],
      "id": "tCUWm_xSFvrK",
      "execution_count": 36,
      "outputs": []
    },
    {
      "cell_type": "markdown",
      "metadata": {
        "id": "Il3Ioe_-4Kaz"
      },
      "source": [
        "## Initalizing the Transformer and Training Procedures"
      ],
      "id": "Il3Ioe_-4Kaz"
    },
    {
      "cell_type": "code",
      "metadata": {
        "id": "89j4NHwT4TU3"
      },
      "source": [
        "#defining model hyperparameters\n",
        "embed_dim = 128\n",
        "max_positional_input = 1000\n",
        "max_positional_target = 1000\n",
        "input_vocab_size = 8000# tokenizer.pt.get_vocab_size().numpy() #translate eng  to port\n",
        "target_vocab_size = 8500 # tokenizer.en.get_vocab_size().numpy()\n",
        "num_MHA_heads = 8\n",
        "num_E_layers = 4\n",
        "num_D_layers = 4\n",
        "ffnn_layers = 512\n",
        "dropout_rate = 0.1\n",
        "\n",
        "#defining Transformer\n",
        "transformer = Transformer(embed_dim,max_positional_input,max_positional_target,\n",
        "                          input_vocab_size,target_vocab_size,num_MHA_heads,\n",
        "                          num_E_layers,num_D_layers,ffnn_layers,dropout_rate)\n",
        "\n",
        "#defining learning rate optimizer\n",
        "learn_rate = learning_rate_optimizer(embed_dim)\n",
        "\n",
        "#defining Neural Network optimizer \n",
        "optimizer = tf.keras.optimizers.Adam(learn_rate, beta_1=0.9, beta_2=0.98,\n",
        "                                     epsilon=1e-9)\n",
        "\n",
        "#initailzing training loss objects (will calculate mean of loss after e/ epoch)\n",
        "train_loss = tf.keras.metrics.Mean(name='train_loss')\n",
        "train_acc =  tf.keras.metrics.Mean(name='train_acc')\n"
      ],
      "id": "89j4NHwT4TU3",
      "execution_count": 37,
      "outputs": []
    },
    {
      "cell_type": "markdown",
      "metadata": {
        "id": "Zfh0ptlmbPfJ"
      },
      "source": [
        "## Defining function to print inputs, predictions,and labels"
      ],
      "id": "Zfh0ptlmbPfJ"
    },
    {
      "cell_type": "code",
      "metadata": {
        "id": "JpIY5WbxbPo1"
      },
      "source": [
        "#defining evaluating function\n",
        "def eval_function(input_sentence,predicted_sentence,real_translation):\n",
        "\n",
        "  #Getting Input sentence\n",
        "  detokenized_input = tokenizer.en.detokenize(input_sentence)[0]\n",
        "  print(\"Input Sentence: \\n\" + detokenized_input.numpy().decode('utf-8') + \"\\n\")\n",
        "\n",
        "  #Getting Prediction Sentence\n",
        "  prediction = predicted_sentence[:, :30, :] \n",
        "  prediction_tokens = tf.argmax(prediction,axis=-1)\n",
        "  detokenized_pred = tokenizer.pt.detokenize(prediction_tokens)[0]\n",
        "  print(\"Predicted Sentence: \\n\" + detokenized_pred.numpy().decode('utf-8') + \"\\n\")\n",
        "\n",
        "  #Getting Target Sentence\n",
        "  detokenized_real = tokenizer.pt.detokenize(real_translation)[0]\n",
        "  print(\"Real Translation: \\n\" + detokenized_real.numpy().decode('utf-8') + \"\\n\")\n"
      ],
      "id": "JpIY5WbxbPo1",
      "execution_count": 38,
      "outputs": []
    },
    {
      "cell_type": "markdown",
      "metadata": {
        "id": "ioGmxqY-3d7d"
      },
      "source": [
        "\n",
        "## Checkpoint training \n",
        "\n",
        "Here we will efine a checkpoint routine in case training stops or we want to continue training later. "
      ],
      "id": "ioGmxqY-3d7d"
    },
    {
      "cell_type": "code",
      "metadata": {
        "colab": {
          "base_uri": "https://localhost:8080/"
        },
        "id": "nWxOxOwN3dW0",
        "outputId": "6326bc76-6ff7-4dbd-a9b4-970bfcee91cc"
      },
      "source": [
        "from google.colab import drive\n",
        "drive.mount('/content/gdrive/',force_remount=True)\n",
        "\n",
        "# defining directory to store checkpoints\n",
        "path = \"/content/gdrive/MyDrive/ColabNotebooks/\"\n",
        "\n",
        "#check point will save the states of the transformer and optimizer\n",
        "check_pt = tf.train.Checkpoint(transformer=transformer, optimizer=optimizer)\n",
        "\n",
        "#defining checkpoint manager\n",
        "check_pt_manager = tf.train.CheckpointManager(check_pt,path,5)"
      ],
      "id": "nWxOxOwN3dW0",
      "execution_count": 39,
      "outputs": [
        {
          "output_type": "stream",
          "name": "stdout",
          "text": [
            "Mounted at /content/gdrive/\n"
          ]
        }
      ]
    },
    {
      "cell_type": "markdown",
      "metadata": {
        "id": "3aCQpP_F8l_3"
      },
      "source": [
        "## Single step training"
      ],
      "id": "3aCQpP_F8l_3"
    },
    {
      "cell_type": "code",
      "metadata": {
        "id": "ECVJvYuX3Tlt"
      },
      "source": [
        "# defining how training happens in a single step (i.e. training gradient decent)\n",
        "\n",
        "#defining the size of the inputs in the training step\n",
        "train_step_sig = [\n",
        "    tf.TensorSpec(shape=(None, None), dtype=tf.int64),\n",
        "    tf.TensorSpec(shape=(None, None), dtype=tf.int64)\n",
        "]\n",
        "\n",
        "#this function is defined through @tf to signal in order to compile the \n",
        "#subfunctions within it into the tensorflow code. This way it does not need to\n",
        "# be recompiled in each iteration. In other words, it makes it a part of the \n",
        "#tensorflow graph\n",
        "@tf.function(input_signature=train_step_sig)\n",
        "def training_step(input,target):\n",
        "  \n",
        "  #shifting the target input and target labels \n",
        "  #(the transformer needs to predict the nth word in the target label\n",
        "  #by only recieving the n-1 words before it. )\n",
        "  #note we are making them the same size\n",
        "  target_input = target[:,:-1]\n",
        "  target_label = target[:,1:]\n",
        "\n",
        "  #Training the model\n",
        "  #the WITH and AS syntax allows the code to run cleanly\n",
        "  with tf.GradientTape() as tape:\n",
        "    \n",
        "    #getting predictions from transformer\n",
        "    prediction, weights = transformer([input,target_input],is_training=True)\n",
        "\n",
        "    #calculating losses\n",
        "    loss = loss_fn(target_label,prediction)\n",
        "\n",
        "  #calculating gradients w.r.t. the trainable variables\n",
        "  grad = tape.gradient(loss,transformer.trainable_variables)\n",
        "\n",
        "  #applying the gradients to the trainable variables\n",
        "  #note that \"zip\" groups together the nth values of each input\n",
        "  optimizer.apply_gradients(zip(grad, transformer.trainable_variables))\n",
        "\n",
        "  #calculating the mean loss and accuracy\n",
        "  train_loss(loss)\n",
        "  train_acc(calc_accuracy(target_label,prediction))\n",
        "\n",
        "  return prediction\n"
      ],
      "id": "ECVJvYuX3Tlt",
      "execution_count": 40,
      "outputs": []
    },
    {
      "cell_type": "markdown",
      "metadata": {
        "id": "oG38i8UrD95D"
      },
      "source": [
        "## Epoch Training"
      ],
      "id": "oG38i8UrD95D"
    },
    {
      "cell_type": "code",
      "metadata": {
        "colab": {
          "base_uri": "https://localhost:8080/"
        },
        "id": "-OMjAcUZ8oX4",
        "outputId": "5f427155-f397-417a-d669-edcd5151609a"
      },
      "source": [
        "#defining training epochs (number of times the complete data set is passed)\n",
        "EPOCHS = 20\n",
        "\n",
        "#restore latest checkpoint\n",
        "if check_pt_manager.latest_checkpoint:\n",
        "  check_pt.restore(check_pt_manager.latest_checkpoint)\n",
        "\n",
        "#defining how we train for each epoch\n",
        "for epoch in range(EPOCHS):\n",
        "\n",
        "  #defining start time\n",
        "  start_time = time.time()\n",
        "\n",
        "  #reset epoch-mean losses\n",
        "  train_loss.reset_states()\n",
        "  train_acc.reset_states()\n",
        "\n",
        "  #using the data from the train_batches defined above\n",
        "  for (batch,(target,input)) in enumerate(train_batches):\n",
        "    \n",
        "    #running gradient decent\n",
        "    prediction = training_step(input,target)\n",
        "\n",
        "    #print intermediate results every n batches\n",
        "    if batch % 800 == 0:\n",
        "      print(\"-----------------------------------------------------------\")\n",
        "      print(f\"Epoch: {epoch +1}, Batch: {batch}, Loss: {train_loss.result():.4f}, Accuracy: {train_acc.result():.4f} \\n\")\n",
        "\n",
        "      #looking at outputs\n",
        "      eval_function(input,prediction,target)\n",
        "      \n",
        "      #save checkpoint\n",
        "      check_pt_save = check_pt_manager.save()\n",
        "\n",
        "  #print results of training\n",
        "  print(\"-----------------------------------------------------------\")\n",
        "  check_pt_save = check_pt_manager.save()\n",
        "  print(f\"Saving training for Epoch{epoch+1}\")\n",
        "\n",
        "  #print final result\n",
        "  print(f\"Epoch: {epoch +1}, Batch: {batch}, Loss: {train_loss.result():.4f}, Accuracy: {train_acc.result():.4f}\")\n",
        "\n",
        "  #printing time\n",
        "  print(f'Time spent in last epoch: {time.time() - start_time:.2f} secs\\n')\n",
        "  print(\"-----------------------------------------------------------\")\n",
        " \n",
        "  #Note: stop at around accuracy: 0.68 (inclemental gains)"
      ],
      "id": "-OMjAcUZ8oX4",
      "execution_count": 41,
      "outputs": [
        {
          "output_type": "stream",
          "name": "stdout",
          "text": [
            "-----------------------------------------------------------\n",
            "Epoch: 1, Batch: 0, Loss: 9.0935, Accuracy: 0.0000 \n",
            "\n",
            "Input Sentence: \n",
            "suddenly , i had an episode of catastrophic bleeding .\n",
            "\n",
            "Predicted Sentence: \n",
            "desafio desafio fechado desafio desafio desafio desafio desafio nariz desafio facamos desafio avaliar desafio facamos desafio desafio facamos desafio desafio desafio necessidades facamos desafio desafio desafio desafio [UNK] desafio facamos\n",
            "\n",
            "Real Translation: \n",
            "de repente , tive um episodio de hemorragia catastrofica .\n",
            "\n",
            "-----------------------------------------------------------\n",
            "Epoch: 1, Batch: 800, Loss: 6.9945, Accuracy: 0.1009 \n",
            "\n",
            "Input Sentence: \n",
            "so yes , i think it ' s a good idea for a company to use this certificate to make sure to make fact - based decisions in the future .\n",
            "\n",
            "Predicted Sentence: \n",
            "e , e que a que minha que , que minha , , que , que , a , , a que , e , , que , .\n",
            "\n",
            "Real Translation: \n",
            "portanto , acho que e uma boa ideia para uma empresa usar este certificado para garantir que toma decisoes para o futuro , baseadas em factos .\n",
            "\n",
            "-----------------------------------------------------------\n",
            "Saving training for Epoch1\n",
            "Epoch: 1, Batch: 809, Loss: 6.9795, Accuracy: 0.1018\n",
            "Time spent in last epoch: 243.07 secs\n",
            "\n",
            "-----------------------------------------------------------\n",
            "-----------------------------------------------------------\n",
            "Epoch: 2, Batch: 0, Loss: 5.6255, Accuracy: 0.1836 \n",
            "\n",
            "Input Sentence: \n",
            "the heads - up display is a smartphone that displays system parameters .\n",
            "\n",
            "Predicted Sentence: \n",
            "e que de , de a que , a a que a . . que . . . . . . . . . . . . . . .\n",
            "\n",
            "Real Translation: \n",
            "o visor e um smartphone que mostra os parametros do sistema\n",
            "\n",
            "-----------------------------------------------------------\n",
            "Epoch: 2, Batch: 800, Loss: 5.2050, Accuracy: 0.2122 \n",
            "\n",
            "Input Sentence: \n",
            "but as we started asking ourselves about how we were addressing the higher needs of our employees and our customers , i realized we had no metrics .\n",
            "\n",
            "Predicted Sentence: \n",
            "mas nao eu a , a a o a nossa a a pessoas e de e nossos nossos e que . e que nao e a . . .\n",
            "\n",
            "Real Translation: \n",
            "mas enquanto nos perguntavamos sobre como estavamos a lidar com as necessidades mais altas dos nossos empregados e clientes , percebi que nao tinhamos medicoes .\n",
            "\n",
            "-----------------------------------------------------------\n",
            "Saving training for Epoch2\n",
            "Epoch: 2, Batch: 809, Loss: 5.2010, Accuracy: 0.2125\n",
            "Time spent in last epoch: 223.17 secs\n",
            "\n",
            "-----------------------------------------------------------\n",
            "-----------------------------------------------------------\n",
            "Epoch: 3, Batch: 0, Loss: 5.0914, Accuracy: 0.2039 \n",
            "\n",
            "Input Sentence: \n",
            "a few years ago , i spent months in europe to see the major international art exhibitions that have the pulse of what is supposed to be going on in the art world .\n",
            "\n",
            "Predicted Sentence: \n",
            "mas um anos , a a , minha para minha a pessoas anosros , de ums a a a mundo . mundo a a ser a minha\n",
            "\n",
            "Real Translation: \n",
            "ha alguns anos , passei meses na europa a ver as maiores exposicoes internacionais de arte que medem o pulso ao que e suposto estar a acontecer no mundo da arte .\n",
            "\n",
            "-----------------------------------------------------------\n",
            "Epoch: 3, Batch: 800, Loss: 4.5964, Accuracy: 0.2575 \n",
            "\n",
            "Input Sentence: \n",
            "we ' re compelled to deduce and to deduct , because that ' s what we do in real life .\n",
            "\n",
            "Predicted Sentence: \n",
            "nos a osss para sua umaar e tambem formast o porque o o que o . verdade . . . . . . . .\n",
            "\n",
            "Real Translation: \n",
            "somos compelidos a deduzir e a inferir , porque e o que fazemos na vida real .\n",
            "\n",
            "-----------------------------------------------------------\n",
            "Saving training for Epoch3\n",
            "Epoch: 3, Batch: 809, Loss: 4.5934, Accuracy: 0.2579\n",
            "Time spent in last epoch: 222.79 secs\n",
            "\n",
            "-----------------------------------------------------------\n",
            "-----------------------------------------------------------\n",
            "Epoch: 4, Batch: 0, Loss: 4.4827, Accuracy: 0.2740 \n",
            "\n",
            "Input Sentence: \n",
            "i emailed it to the eye bank that arranged the donation , the old dominion eye foundation , and asked if they could send it to the right person .\n",
            "\n",
            "Predicted Sentence: \n",
            "eu euc o b de o seu de que , se o a sua seu , e sua , que , que , , e - disse nao\n",
            "\n",
            "Real Translation: \n",
            "enviei um email para o banco de olhos que organizara a doacao , a fundacao de olhos old dominion . perguntei se eles o poderiam enviar para a pessoa certa .\n",
            "\n",
            "-----------------------------------------------------------\n",
            "Epoch: 4, Batch: 800, Loss: 4.0090, Accuracy: 0.3177 \n",
            "\n",
            "Input Sentence: \n",
            "and when i told the people in the press room at the academy awards that they ' d better install some phone lines for internet connections , they did n ' t know what i was talking about .\n",
            "\n",
            "Predicted Sentence: \n",
            "e quando disse o sala no pessoas no doiss da os ouviram fotos des que a , coisas , nao sei que que nao que nao nao\n",
            "\n",
            "Real Translation: \n",
            "e quando disse na sala de imprensa dos oscares que deviam instalar algumas linhas de telefone para ligacoes de internet , nao sabiam de que e que eu estava a falar .\n",
            "\n",
            "-----------------------------------------------------------\n",
            "Saving training for Epoch4\n",
            "Epoch: 4, Batch: 809, Loss: 4.0056, Accuracy: 0.3182\n",
            "Time spent in last epoch: 224.19 secs\n",
            "\n",
            "-----------------------------------------------------------\n",
            "-----------------------------------------------------------\n",
            "Epoch: 5, Batch: 0, Loss: 3.6881, Accuracy: 0.3490 \n",
            "\n",
            "Input Sentence: \n",
            "i truly believe , to create women leaders , there ' s only one thing you have to do : just let them know that they have what it takes to be a leader .\n",
            "\n",
            "Predicted Sentence: \n",
            "acredito acredito que os para criar mulheres , , ha mulheresgress - se algumas : tem tem de dizer vos que para fazer capazes para que\n",
            "\n",
            "Real Translation: \n",
            "eu acredito que , para criar mulheres lideres , assegurem - lhes apenas que elas tem o que e necessario para serem lideres .\n",
            "\n",
            "-----------------------------------------------------------\n",
            "Epoch: 5, Batch: 800, Loss: 3.5198, Accuracy: 0.3767 \n",
            "\n",
            "Input Sentence: \n",
            "first , the cost came down much faster than anybody expected , even as the quality went up .\n",
            "\n",
            "Predicted Sentence: \n",
            "primeiro , o custos deam mais mais do do que o me , , a a a mais dela . . . . . . . . .\n",
            "\n",
            "Real Translation: \n",
            "primeiro , os custos baixaram muito mais depressa do que se esperaria , mesmo com o aumento da qualidade .\n",
            "\n",
            "-----------------------------------------------------------\n",
            "Saving training for Epoch5\n",
            "Epoch: 5, Batch: 809, Loss: 3.5187, Accuracy: 0.3770\n",
            "Time spent in last epoch: 221.80 secs\n",
            "\n",
            "-----------------------------------------------------------\n",
            "-----------------------------------------------------------\n",
            "Epoch: 6, Batch: 0, Loss: 3.3907, Accuracy: 0.3804 \n",
            "\n",
            "Input Sentence: \n",
            "now , you take pre - kindergarten .\n",
            "\n",
            "Predicted Sentence: \n",
            "agora , formarbercao . . . . . . . . . . . . . . . . . . . . . . .\n",
            "\n",
            "Real Translation: \n",
            "vejamos a creche .\n",
            "\n",
            "-----------------------------------------------------------\n",
            "Epoch: 6, Batch: 800, Loss: 3.0942, Accuracy: 0.4295 \n",
            "\n",
            "Input Sentence: \n",
            "and the more i thought about it , the more it made sense that he doubted , because doubt is essential to faith .\n",
            "\n",
            "Predicted Sentence: \n",
            "e , mais pensei , , mais como sentido que ele tinhaisls , e raiva . essencial . a fe . . . . . . .\n",
            "\n",
            "Real Translation: \n",
            "e quanto mais pensava nisso , mais fazia sentido que ele duvidou porque a duvida e essencial para a fe .\n",
            "\n",
            "-----------------------------------------------------------\n",
            "Saving training for Epoch6\n",
            "Epoch: 6, Batch: 809, Loss: 3.0924, Accuracy: 0.4298\n",
            "Time spent in last epoch: 223.84 secs\n",
            "\n",
            "-----------------------------------------------------------\n",
            "-----------------------------------------------------------\n",
            "Epoch: 7, Batch: 0, Loss: 2.5680, Accuracy: 0.5161 \n",
            "\n",
            "Input Sentence: \n",
            "education is so essential .\n",
            "\n",
            "Predicted Sentence: \n",
            "a e tao essencial . . . . . . . . . . . . . . . . . . . . . . . . .\n",
            "\n",
            "Real Translation: \n",
            "educacao e muito essencial .\n",
            "\n",
            "-----------------------------------------------------------\n",
            "Epoch: 7, Batch: 800, Loss: 2.7349, Accuracy: 0.4774 \n",
            "\n",
            "Input Sentence: \n",
            "then , significantly more often , does a neanderthal match the european rather than the african .\n",
            "\n",
            "Predicted Sentence: \n",
            "entao , frequentemente mais mais frequentemente , um neandertal estasoumente se doquece local europeia do europeia africana africano . . . . . .\n",
            "\n",
            "Real Translation: \n",
            "ai , com bastante mais frequencia , um neandertal assemelha - se a um europeu e nao a um africano .\n",
            "\n",
            "-----------------------------------------------------------\n",
            "Saving training for Epoch7\n",
            "Epoch: 7, Batch: 809, Loss: 2.7345, Accuracy: 0.4775\n",
            "Time spent in last epoch: 223.54 secs\n",
            "\n",
            "-----------------------------------------------------------\n",
            "-----------------------------------------------------------\n",
            "Epoch: 8, Batch: 0, Loss: 2.5167, Accuracy: 0.5127 \n",
            "\n",
            "Input Sentence: \n",
            "we have politicians reaping political and financial gains off our backs .\n",
            "\n",
            "Predicted Sentence: \n",
            "temos politicos e oslor asrd e e reforma a nossa volta . . . . . . . . . . . . . .\n",
            "\n",
            "Real Translation: \n",
            "temos politicos que colhem louros politicos e financeiros a nossa custa .\n",
            "\n",
            "-----------------------------------------------------------\n",
            "Epoch: 8, Batch: 800, Loss: 2.4805, Accuracy: 0.5123 \n",
            "\n",
            "Input Sentence: \n",
            "they have shown a great sense of solidarity from the far east to the far west to the south .\n",
            "\n",
            "Predicted Sentence: \n",
            "eles um grande sentido de solidariedade do o lesteitueua para mais ao sul do do sul do do . do do do do do\n",
            "\n",
            "Real Translation: \n",
            "mostraram um grande sentido de solidariedade desde o longinquo este ate ao oeste e ao sul .\n",
            "\n",
            "-----------------------------------------------------------\n",
            "Saving training for Epoch8\n",
            "Epoch: 8, Batch: 809, Loss: 2.4804, Accuracy: 0.5124\n",
            "Time spent in last epoch: 224.76 secs\n",
            "\n",
            "-----------------------------------------------------------\n",
            "-----------------------------------------------------------\n",
            "Epoch: 9, Batch: 0, Loss: 2.2242, Accuracy: 0.5575 \n",
            "\n",
            "Input Sentence: \n",
            "and my last assignment there was to run a unit called intervention development , which was responsible for designing interventions .\n",
            "\n",
            "Predicted Sentence: \n",
            "e a minha ultima analise ainda estava ter uma unidade chamada desenvolvimento ,metiva , que era responsavel por intervencoes intervencoes . dendo . de dedas\n",
            "\n",
            "Real Translation: \n",
            "e a minha ultima missao la foi gerir uma unidade chamada desenvolvimento interventivo , que era responsavel por planear intervencoes .\n",
            "\n",
            "-----------------------------------------------------------\n",
            "Epoch: 9, Batch: 800, Loss: 2.2920, Accuracy: 0.5400 \n",
            "\n",
            "Input Sentence: \n",
            "thank you .\n",
            "\n",
            "Predicted Sentence: \n",
            "obrigado . . . . . . . . . . . . . . . . . . . . . . . . . . . .\n",
            "\n",
            "Real Translation: \n",
            "obrigado .\n",
            "\n",
            "-----------------------------------------------------------\n",
            "Saving training for Epoch9\n",
            "Epoch: 9, Batch: 809, Loss: 2.2918, Accuracy: 0.5401\n",
            "Time spent in last epoch: 223.85 secs\n",
            "\n",
            "-----------------------------------------------------------\n",
            "-----------------------------------------------------------\n",
            "Epoch: 10, Batch: 0, Loss: 1.9311, Accuracy: 0.6105 \n",
            "\n",
            "Input Sentence: \n",
            "` ` ` ` sub - prime pedaling . ' ' ` ` barclays takes you for a ride . ' ' ' '\n",
            "\n",
            "Predicted Sentence: \n",
            "` ` ` ` ' ' onetuizadameru ' ' ' ' . ` ` ` ` ` baralhoucha leva - nos .\n",
            "\n",
            "Real Translation: \n",
            "` ` ` ` ' ' pedalar subprime ' ' ' ' . ` ` ` ` o barclays leva - o a dar uma volta ' ' ' ' . ' '\n",
            "\n",
            "-----------------------------------------------------------\n",
            "Epoch: 10, Batch: 800, Loss: 2.1460, Accuracy: 0.5610 \n",
            "\n",
            "Input Sentence: \n",
            "so it consists of two parts , what we call an encoder and a transducer .\n",
            "\n",
            "Predicted Sentence: \n",
            "dai em duas partes , o que chamamos um codificador e um transdutor . . . . . . . . . . . . . . . .\n",
            "\n",
            "Real Translation: \n",
            "consiste em duas partes , a que chamamos um codificador e um transdutor .\n",
            "\n",
            "-----------------------------------------------------------\n",
            "Saving training for Epoch10\n",
            "Epoch: 10, Batch: 809, Loss: 2.1457, Accuracy: 0.5610\n",
            "Time spent in last epoch: 224.06 secs\n",
            "\n",
            "-----------------------------------------------------------\n",
            "-----------------------------------------------------------\n",
            "Epoch: 11, Batch: 0, Loss: 1.8853, Accuracy: 0.6064 \n",
            "\n",
            "Input Sentence: \n",
            "you ' re putting yourself , you ' re binding yourself , and you ' re weaseling your way out of it , and then you ' re beating yourself up afterwards .\n",
            "\n",
            "Predicted Sentence: \n",
            "estamos a - nos a colocar voces se a - se a fazer - e - - se a sairpauilar - , e depois ,beuar\n",
            "\n",
            "Real Translation: \n",
            "estamo - nos a por , estamo - nos a prender , estamo - nos a esquivar dele , e depois castigamo - nos no fim .\n",
            "\n",
            "-----------------------------------------------------------\n",
            "Epoch: 11, Batch: 800, Loss: 2.0317, Accuracy: 0.5782 \n",
            "\n",
            "Input Sentence: \n",
            "this is a jellyfish .\n",
            "\n",
            "Predicted Sentence: \n",
            "esta e uma folhacar . . . .sass . desss dess de de . .sss\n",
            "\n",
            "Real Translation: \n",
            "isto e uma alforreca .\n",
            "\n",
            "-----------------------------------------------------------\n",
            "Saving training for Epoch11\n",
            "Epoch: 11, Batch: 809, Loss: 2.0318, Accuracy: 0.5782\n",
            "Time spent in last epoch: 223.27 secs\n",
            "\n",
            "-----------------------------------------------------------\n",
            "-----------------------------------------------------------\n",
            "Epoch: 12, Batch: 0, Loss: 1.9527, Accuracy: 0.5980 \n",
            "\n",
            "Input Sentence: \n",
            "ca : you asked me the question earlier of how popular traveling on cruises would be if you had to burn your ships afterward . em : certain cruises are apparently highly problematic .\n",
            "\n",
            "Predicted Sentence: \n",
            "ca : pediram perguntou - me a sempre a como popular a viajar no ceneiro . de tivessemos tivessem tivessemos deimasegarar os vossos navios\n",
            "\n",
            "Real Translation: \n",
            "ca : voce perguntou - me ha bocado sobre quao popular seria viajar em cruzeiros se depois se tivesse que incinerar os seus navios . em : certos navios de cruzeiro sao , aparentemente , muito problematicos .\n",
            "\n",
            "-----------------------------------------------------------\n",
            "Epoch: 12, Batch: 800, Loss: 1.9370, Accuracy: 0.5927 \n",
            "\n",
            "Input Sentence: \n",
            "` ` i would like to end with this thought : do you remember ` ` ' ' the truman show ? ' ' ' ' it ' s a media satire in which a real person does n ' t know he ' s living in a fabricated world . ' '\n",
            "\n",
            "Predicted Sentence: \n",
            "` ` gostaria de terminar com isto pensamento : ` - se de t ` ' ' o trumll 'upw ' ' ' ' ?\n",
            "\n",
            "Real Translation: \n",
            "` ` gostaria de terminar com este pensamento : lembram - se do ` ` ' ' the truman show ' ' ' ' ? e uma satira em que uma pessoa real nao sabe que vive num mundo fabricado . ' '\n",
            "\n",
            "-----------------------------------------------------------\n",
            "Saving training for Epoch12\n",
            "Epoch: 12, Batch: 809, Loss: 1.9367, Accuracy: 0.5928\n",
            "Time spent in last epoch: 224.93 secs\n",
            "\n",
            "-----------------------------------------------------------\n",
            "-----------------------------------------------------------\n",
            "Epoch: 13, Batch: 0, Loss: 1.9673, Accuracy: 0.5851 \n",
            "\n",
            "Input Sentence: \n",
            "depression is so exhausting .\n",
            "\n",
            "Predicted Sentence: \n",
            "a depressao e tao rnsativa . . . -ssss .s .sssssssssss\n",
            "\n",
            "Real Translation: \n",
            "a depressao e tao cansativa .\n",
            "\n",
            "-----------------------------------------------------------\n",
            "Epoch: 13, Batch: 800, Loss: 1.8511, Accuracy: 0.6057 \n",
            "\n",
            "Input Sentence: \n",
            "but it matters a lot how fast we win it .\n",
            "\n",
            "Predicted Sentence: \n",
            "mas e muito o velocidade que que ganhamos ganhamos vencer . - . . . . . . . . . . . - . - . . .\n",
            "\n",
            "Real Translation: \n",
            "mas importa muito a velocidade com que a vamos vencer .\n",
            "\n",
            "-----------------------------------------------------------\n",
            "Saving training for Epoch13\n",
            "Epoch: 13, Batch: 809, Loss: 1.8510, Accuracy: 0.6057\n",
            "Time spent in last epoch: 224.26 secs\n",
            "\n",
            "-----------------------------------------------------------\n",
            "-----------------------------------------------------------\n",
            "Epoch: 14, Batch: 0, Loss: 1.6354, Accuracy: 0.6344 \n",
            "\n",
            "Input Sentence: \n",
            "this is how i remember what i need as a chemist .\n",
            "\n",
            "Predicted Sentence: \n",
            "e e como que lembro - que eu de quimico . de . . . . . . . de de . . . . . . . .\n",
            "\n",
            "Real Translation: \n",
            "isto e como eu lembro o que preciso como quimico .\n",
            "\n",
            "-----------------------------------------------------------\n",
            "Epoch: 14, Batch: 800, Loss: 1.7792, Accuracy: 0.6172 \n",
            "\n",
            "Input Sentence: \n",
            "and especially if you then ride with your bicycle , and pass these cars , then that ' s not very nice .\n",
            "\n",
            "Predicted Sentence: \n",
            "e se la a la , e nos e por estes carros , e e isso bom . . . . . . . . . . . .\n",
            "\n",
            "Real Translation: \n",
            "especialmente andando de bicicleta , se voce passa por estes carros , nao e muito bom .\n",
            "\n",
            "-----------------------------------------------------------\n",
            "Saving training for Epoch14\n",
            "Epoch: 14, Batch: 809, Loss: 1.7807, Accuracy: 0.6170\n",
            "Time spent in last epoch: 222.88 secs\n",
            "\n",
            "-----------------------------------------------------------\n",
            "-----------------------------------------------------------\n",
            "Epoch: 15, Batch: 0, Loss: 1.6287, Accuracy: 0.6536 \n",
            "\n",
            "Input Sentence: \n",
            "you can see that this is a very early step into limits and differential calculus and what happens when you take things to an extreme — and very small sides and a very large number of sides .\n",
            "\n",
            "Predicted Sentence: \n",
            "podem ver que isto e um passo muito inicial para dentro interesses limites e o calculo diferentesiferencial e o que acontece quando se pegarmos a coisas a\n",
            "\n",
            "Real Translation: \n",
            "podem ver que este e um passo muito inicial para introduzir os limites e o calculo diferencial e o que acontece quando se levam as coisas a um extremo — e numeros de lados muito baixos e muito elevados .\n",
            "\n",
            "-----------------------------------------------------------\n",
            "Epoch: 15, Batch: 800, Loss: 1.7217, Accuracy: 0.6257 \n",
            "\n",
            "Input Sentence: \n",
            "` ` advise me — when this kid acted up , how should i have dealt with that ? ' ' ' ' and they could all sit and work together on those problems . ' '\n",
            "\n",
            "Predicted Sentence: \n",
            "` ` ` - me : quando este miudo sex estrangeiro , , como devia ter dedado com isso ? ' ' ' ' e eles ficar -\n",
            "\n",
            "Real Translation: \n",
            "` ` digam - me — quanto este miudo se portou mal , como devia ter lidado com isso ? ' ' ' ' e podiam sentar - se a trabalhar em conjunto nesses problemas . ' '\n",
            "\n",
            "-----------------------------------------------------------\n",
            "Saving training for Epoch15\n",
            "Epoch: 15, Batch: 809, Loss: 1.7222, Accuracy: 0.6255\n",
            "Time spent in last epoch: 223.17 secs\n",
            "\n",
            "-----------------------------------------------------------\n",
            "-----------------------------------------------------------\n",
            "Epoch: 16, Batch: 0, Loss: 1.5585, Accuracy: 0.6413 \n",
            "\n",
            "Input Sentence: \n",
            "and then , of course , to bring us to today .\n",
            "\n",
            "Predicted Sentence: \n",
            "e depois , claro , para nos levar hoje dias . hoje . - - - - - - - - - - - - - - - -\n",
            "\n",
            "Real Translation: \n",
            "e entao , claro , para nos trazer aos dias de hoje .\n",
            "\n",
            "-----------------------------------------------------------\n",
            "Epoch: 16, Batch: 800, Loss: 1.6640, Accuracy: 0.6349 \n",
            "\n",
            "Input Sentence: \n",
            "the first one is in the crisis itself .\n",
            "\n",
            "Predicted Sentence: \n",
            "a primeira e na crise em si mesmo . - . - - . - . . . . . . . - . - . . . .\n",
            "\n",
            "Real Translation: \n",
            "a primeira esta na crise em si .\n",
            "\n",
            "-----------------------------------------------------------\n",
            "Saving training for Epoch16\n",
            "Epoch: 16, Batch: 809, Loss: 1.6648, Accuracy: 0.6347\n",
            "Time spent in last epoch: 223.09 secs\n",
            "\n",
            "-----------------------------------------------------------\n",
            "-----------------------------------------------------------\n",
            "Epoch: 17, Batch: 0, Loss: 1.6850, Accuracy: 0.6319 \n",
            "\n",
            "Input Sentence: \n",
            "but curiosity , exploration , are part of the play scene .\n",
            "\n",
            "Predicted Sentence: \n",
            "mas a curiosidade , a exploracao sao parte da cena . . . . . . . . . . . . . . . . . . .\n",
            "\n",
            "Real Translation: \n",
            "mas a curiosidade , a exploracao fazem parte da brincadeira .\n",
            "\n",
            "-----------------------------------------------------------\n",
            "Epoch: 17, Batch: 800, Loss: 1.6158, Accuracy: 0.6424 \n",
            "\n",
            "Input Sentence: \n",
            "we used it [ 200 ] years ago to build banks .\n",
            "\n",
            "Predicted Sentence: \n",
            "usamos - lo ha 200 . atras construir bancos . [END]s - - - - - os - - - -m . .m .m -m\n",
            "\n",
            "Real Translation: \n",
            "usamo - lo ha 200 anos para construir bancos .\n",
            "\n",
            "-----------------------------------------------------------\n",
            "Saving training for Epoch17\n",
            "Epoch: 17, Batch: 809, Loss: 1.6161, Accuracy: 0.6423\n",
            "Time spent in last epoch: 220.68 secs\n",
            "\n",
            "-----------------------------------------------------------\n",
            "-----------------------------------------------------------\n",
            "Epoch: 18, Batch: 0, Loss: 1.3422, Accuracy: 0.6984 \n",
            "\n",
            "Input Sentence: \n",
            "so there ' s about 86 billion neurons in our brain .\n",
            "\n",
            "Predicted Sentence: \n",
            "ha cerca cerca , cerca de 86 mil milhoes de neuronios no nosso cerebro . . o . de dem .m . demm . de\n",
            "\n",
            "Real Translation: \n",
            "ha , entao , cerca de 86 mil milhoes de neuronios no nosso cerebro .\n",
            "\n",
            "-----------------------------------------------------------\n",
            "Epoch: 18, Batch: 800, Loss: 1.5731, Accuracy: 0.6494 \n",
            "\n",
            "Input Sentence: \n",
            "this is colonel picquart .\n",
            "\n",
            "Predicted Sentence: \n",
            "este e co coonel palcquaio . - - -s - . - - des .s . de - a\n",
            "\n",
            "Real Translation: \n",
            "este e o coronel picquart .\n",
            "\n",
            "-----------------------------------------------------------\n",
            "Saving training for Epoch18\n",
            "Epoch: 18, Batch: 809, Loss: 1.5738, Accuracy: 0.6493\n",
            "Time spent in last epoch: 220.97 secs\n",
            "\n",
            "-----------------------------------------------------------\n",
            "-----------------------------------------------------------\n",
            "Epoch: 19, Batch: 0, Loss: 1.1565, Accuracy: 0.7148 \n",
            "\n",
            "Input Sentence: \n",
            "and i was sitting in a hallway one night and a couple girls came up to me .\n",
            "\n",
            "Predicted Sentence: \n",
            "e estava estava sentado num caminhoato de uma um noite e duas raparigas vieram para comigo . . -ss . . . - .\n",
            "\n",
            "Real Translation: \n",
            "e eu estava sentada num patio de entrada uma noite e duas raparigas vieram ter comigo .\n",
            "\n",
            "-----------------------------------------------------------\n",
            "Epoch: 19, Batch: 800, Loss: 1.5321, Accuracy: 0.6563 \n",
            "\n",
            "Input Sentence: \n",
            "and i ' m making a real plea here .\n",
            "\n",
            "Predicted Sentence: \n",
            "e estou estou a a fazer um p . . de . de de de de de de de de de de de de de real de de de\n",
            "\n",
            "Real Translation: \n",
            "e aqui estou mesmo a fazer um apelo .\n",
            "\n",
            "-----------------------------------------------------------\n",
            "Saving training for Epoch19\n",
            "Epoch: 19, Batch: 809, Loss: 1.5329, Accuracy: 0.6561\n",
            "Time spent in last epoch: 220.98 secs\n",
            "\n",
            "-----------------------------------------------------------\n",
            "-----------------------------------------------------------\n",
            "Epoch: 20, Batch: 0, Loss: 1.3991, Accuracy: 0.6592 \n",
            "\n",
            "Input Sentence: \n",
            "this coral is eight meters tall , right .\n",
            "\n",
            "Predicted Sentence: \n",
            "este coral tem 8 metros de altura . . . . . . . . . . . . . . .ss . . . . .\n",
            "\n",
            "Real Translation: \n",
            "este coral tem oito metros de altura .\n",
            "\n",
            "-----------------------------------------------------------\n",
            "Epoch: 20, Batch: 800, Loss: 1.4972, Accuracy: 0.6618 \n",
            "\n",
            "Input Sentence: \n",
            "and having thought about this a little bit , i see a couple different possibilities .\n",
            "\n",
            "Predicted Sentence: \n",
            "e e pensado nisto pequena algum pouco , vejo algumas possibilidades . - -sss - - -sdas desdas - -dass\n",
            "\n",
            "Real Translation: \n",
            "como tenho pensado nisto ha algum tempo , vejo duas possibilidades .\n",
            "\n",
            "-----------------------------------------------------------\n",
            "Saving training for Epoch20\n",
            "Epoch: 20, Batch: 809, Loss: 1.4972, Accuracy: 0.6618\n",
            "Time spent in last epoch: 221.36 secs\n",
            "\n",
            "-----------------------------------------------------------\n"
          ]
        }
      ]
    },
    {
      "cell_type": "markdown",
      "metadata": {
        "id": "bieREEwKf9JK"
      },
      "source": [
        "# Using the Trained Model\n",
        "\n",
        "Note that during training we trained the model to predict the whole resulting sequence based on an input. This was done to make training more efficient (avoiding having to re-enter the latest predicted word back into the input sentence and so on). However, during inference/translation we only care about the next word in the sequence. \n",
        "\n",
        "**During training:**\n",
        "\n",
        "encoder input = portuguese sentence\n",
        "\n",
        "decoder input = english sentence\n",
        "\n",
        "output = whole english sentence\n",
        "\n",
        "labels = english sentence\n",
        "\n",
        "**During inference:**\n",
        "\n",
        "encoder input = portugues sentence\n",
        "\n",
        "decoder input = first n words in the sequence (starting from eng. start token)\n",
        "\n",
        "output = whole english sentence (we only care about n+1 word, which we then re-enter into the decoder for the next word prediciton)."
      ],
      "id": "bieREEwKf9JK"
    },
    {
      "cell_type": "markdown",
      "metadata": {
        "id": "Z6lLTrO4rROE"
      },
      "source": [
        "## Creating a Translator"
      ],
      "id": "Z6lLTrO4rROE"
    },
    {
      "cell_type": "code",
      "metadata": {
        "id": "xXDVsTJaf8p8"
      },
      "source": [
        "class Translator (tf.Module):\n",
        "  def __init__(self,tokenizer,transformer):\n",
        "    \n",
        "    #initalizing class models\n",
        "    #we input the trained tokenizer and the trained transformer instance\n",
        "    self.tokenizer = tokenizer\n",
        "    self.transformer = transformer\n",
        "\n",
        "  def __call__(self,input_sentence,max_sentence_length=30):\n",
        "    #input sentence (portuguese)\n",
        "    #check if sentence is a TF tensor\n",
        "    assert isinstance(input_sentence,tf.Tensor)\n",
        "\n",
        "    #making the sentence into a tensor if its just 1 dimensional\n",
        "    if len(input_sentence.shape) == 0:\n",
        "      input_sentence = input_sentence[tf.newaxis]\n",
        "\n",
        "    #tokenizing the input sentence\n",
        "    encoder_input = self.tokenizer.en.tokenize(input_sentence).to_tensor()\n",
        "\n",
        "    #obtaining the start tokens for the decoder input\n",
        "    empty_sentence = [\"\"]\n",
        "    start_and_end_tokens = self.tokenizer.pt.tokenize(empty_sentence)[0]\n",
        "    start_token = start_and_end_tokens[0][tf.newaxis]\n",
        "    end_token = start_and_end_tokens[1][tf.newaxis]\n",
        "    \n",
        "    #initalizing an transformer output array. This is going to be used to \n",
        "    #show the results, but also to feed back into the decoder until \n",
        "    #the end_token is produced.\n",
        "    output_list = tf.TensorArray(dtype=tf.int64, size=0, dynamic_size=True)\n",
        "    \n",
        "    #inputing the start_token into the output array in location zero\n",
        "    output_list = output_list.write(0,start_token)\n",
        "\n",
        "    #starting the loop of calling the transformer and filling out the output\n",
        "    for i in tf.range(max_sentence_length):\n",
        "\n",
        "      #changing the output list into a readable format\n",
        "      decoder_input = tf.transpose(output_list.stack())\n",
        "\n",
        "      #geting the n+1 predictions\n",
        "      prediction, trash = self.transformer([encoder_input,decoder_input],\n",
        "                                             is_training=False)\n",
        "\n",
        "      #getting the output probabilites predicting the last sentence\n",
        "      prediction = prediction[:, -1:, :]  # (batch_size, 1, vocab_size)\n",
        "\n",
        "      #getting the last token\n",
        "      prediction_token = tf.argmax(prediction,axis=-1)\n",
        "\n",
        "      #adding to the output array\n",
        "      output_list = output_list.write(i+1,prediction_token[0])\n",
        "\n",
        "      #stop if predicted token is the end_token\n",
        "      if prediction_token == end_token:\n",
        "        break\n",
        "\n",
        "    #casting output into readoble frorm\n",
        "    output = tf.transpose(output_list.stack())\n",
        "\n",
        "    #detokenizing into a sentence\n",
        "    detokenized_text = self.tokenizer.pt.detokenize(output)[0]\n",
        "\n",
        "    #detokenizing into tokens\n",
        "    detokenized_tokens = self.tokenizer.pt.lookup(output)[0]\n",
        "\n",
        "    #getting the weights of the last prediction \n",
        "    trash_2, weights = self.transformer([encoder_input,output[:,:-1]],\n",
        "                                        is_training=False)\n",
        "\n",
        "    return detokenized_text, detokenized_tokens, weights\n"
      ],
      "id": "xXDVsTJaf8p8",
      "execution_count": 42,
      "outputs": []
    },
    {
      "cell_type": "markdown",
      "metadata": {
        "id": "NP4OCVaQtRqk"
      },
      "source": [
        "## Running/Testing the Translator"
      ],
      "id": "NP4OCVaQtRqk"
    },
    {
      "cell_type": "code",
      "metadata": {
        "id": "dmtABvsbZiWI"
      },
      "source": [
        "#restoring latest checkpoint if neccesary\n",
        "\n",
        "#latest = tf.train.latest_checkpoint(path)\n",
        "#check_pt.restore(latest)"
      ],
      "id": "dmtABvsbZiWI",
      "execution_count": 43,
      "outputs": []
    },
    {
      "cell_type": "code",
      "metadata": {
        "id": "zlugiA6_rNai"
      },
      "source": [
        "#creating the instance with trained tokenizer and transformer models\n",
        "translator=Translator(tokenizer,transformer)\n",
        "\n",
        "#defining attention plotting function\n",
        "def plot_attention(input_sentence,output_tokens,att_weights):\n",
        "\n",
        "  #trasforming input sentence to tokens\n",
        "  input_tokens = tf.convert_to_tensor([input_sentence])\n",
        "  input_tokens = tokenizer.en.tokenize(input_tokens).to_tensor()\n",
        "  input_tokens = tokenizer.en.lookup(input_tokens)[0]\n",
        "  \n",
        "  #removing the first token (we gave this to the model)\n",
        "  output_tokens = output_tokens [1:]\n",
        "\n",
        "  #getting the attention weights of all heads of the 2nd block\n",
        "  # of the last decoder (4th layer)\n",
        "  attention_heads = tf.squeeze(att_weights['decoder_layer_4block_2_weights'], 0)\n",
        "  \n",
        "  weights = attention_heads[0]\n",
        "\n",
        "  print(\"The attention plot for the 1st head of the last decoder attention block is:\")\n",
        "\n",
        "  #making plot\n",
        "  plot = plt.gca()\n",
        "  plot.matshow(weights)\n",
        "  plot.set_xticks(range(len(input_tokens)))\n",
        "  plot.set_yticks(range(len(output_tokens)))\n",
        "  \n",
        "  labels_x = [label.decode('utf-8') for label in input_tokens.numpy()]\n",
        "  plot.set_xticklabels(labels_x, rotation=90)\n",
        "\n",
        "  labels_y = [label.decode('utf-8') for label in output_tokens.numpy()]\n",
        "  plot.set_yticklabels(labels_y)\n",
        "\n",
        "#defining evaluating function\n",
        "def eval_plotting_function(input_sentence,predicted_sentence,output_tokens, att_weights, real_translation):\n",
        "  print(\"Input Sentence: \\n\" + input_sentence +\"\\n\" )\n",
        "  print(\"Predicted Sentence: \\n\" + predicted_sentence.numpy().decode(\"utf-8\")+\"\\n\")\n",
        "  print(\"Real Translation: \\n\" + real_translation+\"\\n\")\n",
        "\n",
        "  #pritting attention plots\n",
        "  plot_attention(input_sentence,output_tokens,att_weights)\n",
        "\n",
        "\n"
      ],
      "id": "zlugiA6_rNai",
      "execution_count": 44,
      "outputs": []
    },
    {
      "cell_type": "code",
      "metadata": {
        "colab": {
          "base_uri": "https://localhost:8080/",
          "height": 467
        },
        "id": "0lzIEvdjN2Dv",
        "outputId": "568a4181-2872-4846-d360-da31bd98176f"
      },
      "source": [
        "#test sentence 1:\n",
        "input_sentence = \"The cat fell from the tree.\"\n",
        "real_translation = \"o gato caiu da árvore\"\n",
        "\n",
        "#getting predicting\n",
        "prediction, tokens, weights = translator(tf.constant(input_sentence))\n",
        "\n",
        "eval_plotting_function(input_sentence,prediction,tokens,weights,real_translation)"
      ],
      "id": "0lzIEvdjN2Dv",
      "execution_count": 46,
      "outputs": [
        {
          "output_type": "stream",
          "name": "stdout",
          "text": [
            "Input Sentence: \n",
            "The cat fell from the tree.\n",
            "\n",
            "Predicted Sentence: \n",
            "o gato caiu da arvore .\n",
            "\n",
            "Real Translation: \n",
            "o gato caiu da árvore\n",
            "\n",
            "The attention plot for the 1st head of the last decoder attention block is:\n"
          ]
        },
        {
          "output_type": "display_data",
          "data": {
            "image/png": "[encoded data removed]",
            "text/plain": [
              "<Figure size 432x288 with 1 Axes>"
            ]
          },
          "metadata": {
            "needs_background": "light"
          }
        }
      ]
    },
    {
      "cell_type": "code",
      "metadata": {
        "id": "fDnqbc5KtYFm",
        "colab": {
          "base_uri": "https://localhost:8080/",
          "height": 478
        },
        "outputId": "8b3bfddf-57dd-4fdf-e663-55128032f9e9"
      },
      "source": [
        "#test sentence 1:\n",
        "input_sentence = \"I love to code transformers.\"\n",
        "real_translation = \"adoro programar os transformers.\"\n",
        "\n",
        "#getting predicting\n",
        "prediction, tokens, weights = translator(tf.constant(input_sentence))\n",
        "\n",
        "eval_plotting_function(input_sentence,prediction,tokens,weights,real_translation)"
      ],
      "id": "fDnqbc5KtYFm",
      "execution_count": 49,
      "outputs": [
        {
          "output_type": "stream",
          "name": "stdout",
          "text": [
            "Input Sentence: \n",
            "I love to code transformers.\n",
            "\n",
            "Predicted Sentence: \n",
            "adoro transformar os codigos .\n",
            "\n",
            "Real Translation: \n",
            "adoro programar os transformers.\n",
            "\n",
            "The attention plot for the 1st head of the last decoder attention block is:\n"
          ]
        },
        {
          "output_type": "display_data",
          "data": {
            "image/png": "[encoded data removed]",
            "text/plain": [
              "<Figure size 432x288 with 1 Axes>"
            ]
          },
          "metadata": {
            "needs_background": "light"
          }
        }
      ]
    },
    {
      "cell_type": "markdown",
      "metadata": {
        "id": "JFpkcDcmMr0c"
      },
      "source": [
        "Note that \"transformers\" is not a noun in the training vocabulary. However, the translator is able to relate it to the verb \"transformar\", portugese for \"transform\". As such, the algorithm writes a sentence that can be translated to english as: \"I love to transform code\". Not quite the original sentence, but one that makes sense. \n",
        "\n",
        "Remember that the weights plotted here are the outputs of the softmax function of the weighted query and key vectors. These weigths are then multiplied by the value vector to obtain the target mapping.  "
      ],
      "id": "JFpkcDcmMr0c"
    },
    {
      "cell_type": "code",
      "metadata": {
        "colab": {
          "base_uri": "https://localhost:8080/",
          "height": 476
        },
        "id": "LF9w5YDJMX_3",
        "outputId": "b8fe312b-c755-4695-e89d-30869f1b4403"
      },
      "source": [
        "#test sentence 3:\n",
        "input_sentence = \"Portugese is a beautiful language.\"\n",
        "real_translation = \"O português é uma língua linda.\"\n",
        "\n",
        "#getting predicting\n",
        "prediction, tokens, weights = translator(tf.constant(input_sentence))\n",
        "\n",
        "eval_plotting_function(input_sentence,prediction,tokens,weights,real_translation)"
      ],
      "id": "LF9w5YDJMX_3",
      "execution_count": 47,
      "outputs": [
        {
          "output_type": "stream",
          "name": "stdout",
          "text": [
            "Input Sentence: \n",
            "Portugese is a beautiful language.\n",
            "\n",
            "Predicted Sentence: \n",
            "o portugenes e uma lingua linda .\n",
            "\n",
            "Real Translation: \n",
            "O português é uma língua linda.\n",
            "\n",
            "The attention plot for the 1st head of the last decoder attention block is:\n"
          ]
        },
        {
          "output_type": "display_data",
          "data": {
            "image/png": "[encoded data removed]",
            "text/plain": [
              "<Figure size 432x288 with 1 Axes>"
            ]
          },
          "metadata": {
            "needs_background": "light"
          }
        }
      ]
    },
    {
      "cell_type": "code",
      "metadata": {
        "colab": {
          "base_uri": "https://localhost:8080/",
          "height": 475
        },
        "id": "iSD3o5Y5NUb_",
        "outputId": "b175b2e2-b23b-461f-a62d-a72e0f9ea5c9"
      },
      "source": [
        "#test sentence 4:\n",
        "input_sentence = \"I would love to work for your company.\"\n",
        "real_translation = \"Eu adoraria trabalhar para sua empresa.\"\n",
        "\n",
        "#getting predicting\n",
        "prediction, tokens, weights = translator(tf.constant(input_sentence))\n",
        "\n",
        "eval_plotting_function(input_sentence,prediction,tokens,weights,real_translation)"
      ],
      "id": "iSD3o5Y5NUb_",
      "execution_count": 48,
      "outputs": [
        {
          "output_type": "stream",
          "name": "stdout",
          "text": [
            "Input Sentence: \n",
            "I would love to work for your company.\n",
            "\n",
            "Predicted Sentence: \n",
            "gostaria de trabalhar para a vossa empresa .\n",
            "\n",
            "Real Translation: \n",
            "Eu adoraria trabalhar para sua empresa.\n",
            "\n",
            "The attention plot for the 1st head of the last decoder attention block is:\n"
          ]
        },
        {
          "output_type": "display_data",
          "data": {
            "image/png": "[encoded data removed]",
            "text/plain": [
              "<Figure size 432x288 with 1 Axes>"
            ]
          },
          "metadata": {
            "needs_background": "light"
          }
        }
      ]
    }
  ]
}