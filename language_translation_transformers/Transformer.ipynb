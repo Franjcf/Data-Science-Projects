{
  "nbformat": 4,
  "nbformat_minor": 5,
  "metadata": {
    "colab": {
      "name": "Transformer.ipynb",
      "provenance": [],
      "collapsed_sections": []
    },
    "kernelspec": {
      "display_name": "Python 3",
      "language": "python",
      "name": "python3"
    },
    "language_info": {
      "codemirror_mode": {
        "name": "ipython",
        "version": 3
      },
      "file_extension": ".py",
      "mimetype": "text/x-python",
      "name": "python",
      "nbconvert_exporter": "python",
      "pygments_lexer": "ipython3",
      "version": "3.6.13"
    },
    "accelerator": "GPU"
  },
  "cells": [
    {
      "cell_type": "markdown",
      "metadata": {
        "id": "b49ba28a"
      },
      "source": [
        "# Implementing a Transformer for language translation\n",
        "\n",
        "Credits: The transformer-building procedure shown here generally follows the excellent TensorFlow worklfow shown in: https://www.tensorflow.org/text/tutorials/transformer. Hoewever, in this particular instance I made it possible to have different amounts of recurrent encoder and decoder layers."
      ],
      "id": "b49ba28a"
    },
    {
      "cell_type": "markdown",
      "metadata": {
        "id": "021248cf"
      },
      "source": [
        "# Loading main libraries"
      ],
      "id": "021248cf"
    },
    {
      "cell_type": "code",
      "metadata": {
        "colab": {
          "base_uri": "https://localhost:8080/"
        },
        "id": "XFG0NDRu5mYQ",
        "outputId": "23c8b968-9d3a-4cd5-ee99-ddc0b2a02e7f"
      },
      "source": [
        "!pip install tensorflow_datasets\n",
        "!pip install -U tensorflow-text"
      ],
      "id": "XFG0NDRu5mYQ",
      "execution_count": 1,
      "outputs": [
        {
          "output_type": "stream",
          "name": "stdout",
          "text": [
            "Requirement already satisfied: tensorflow_datasets in /usr/local/lib/python3.7/dist-packages (4.0.1)\n",
            "Requirement already satisfied: protobuf>=3.6.1 in /usr/local/lib/python3.7/dist-packages (from tensorflow_datasets) (3.17.3)\n",
            "Requirement already satisfied: tqdm in /usr/local/lib/python3.7/dist-packages (from tensorflow_datasets) (4.62.3)\n",
            "Requirement already satisfied: numpy in /usr/local/lib/python3.7/dist-packages (from tensorflow_datasets) (1.19.5)\n",
            "Requirement already satisfied: requests>=2.19.0 in /usr/local/lib/python3.7/dist-packages (from tensorflow_datasets) (2.23.0)\n",
            "Requirement already satisfied: termcolor in /usr/local/lib/python3.7/dist-packages (from tensorflow_datasets) (1.1.0)\n",
            "Requirement already satisfied: importlib-resources in /usr/local/lib/python3.7/dist-packages (from tensorflow_datasets) (5.2.2)\n",
            "Requirement already satisfied: absl-py in /usr/local/lib/python3.7/dist-packages (from tensorflow_datasets) (0.12.0)\n",
            "Requirement already satisfied: dill in /usr/local/lib/python3.7/dist-packages (from tensorflow_datasets) (0.3.4)\n",
            "Requirement already satisfied: attrs>=18.1.0 in /usr/local/lib/python3.7/dist-packages (from tensorflow_datasets) (21.2.0)\n",
            "Requirement already satisfied: promise in /usr/local/lib/python3.7/dist-packages (from tensorflow_datasets) (2.3)\n",
            "Requirement already satisfied: tensorflow-metadata in /usr/local/lib/python3.7/dist-packages (from tensorflow_datasets) (1.2.0)\n",
            "Requirement already satisfied: six in /usr/local/lib/python3.7/dist-packages (from tensorflow_datasets) (1.15.0)\n",
            "Requirement already satisfied: dm-tree in /usr/local/lib/python3.7/dist-packages (from tensorflow_datasets) (0.1.6)\n",
            "Requirement already satisfied: future in /usr/local/lib/python3.7/dist-packages (from tensorflow_datasets) (0.16.0)\n",
            "Requirement already satisfied: chardet<4,>=3.0.2 in /usr/local/lib/python3.7/dist-packages (from requests>=2.19.0->tensorflow_datasets) (3.0.4)\n",
            "Requirement already satisfied: urllib3!=1.25.0,!=1.25.1,<1.26,>=1.21.1 in /usr/local/lib/python3.7/dist-packages (from requests>=2.19.0->tensorflow_datasets) (1.24.3)\n",
            "Requirement already satisfied: certifi>=2017.4.17 in /usr/local/lib/python3.7/dist-packages (from requests>=2.19.0->tensorflow_datasets) (2021.5.30)\n",
            "Requirement already satisfied: idna<3,>=2.5 in /usr/local/lib/python3.7/dist-packages (from requests>=2.19.0->tensorflow_datasets) (2.10)\n",
            "Requirement already satisfied: zipp>=3.1.0 in /usr/local/lib/python3.7/dist-packages (from importlib-resources->tensorflow_datasets) (3.5.0)\n",
            "Requirement already satisfied: googleapis-common-protos<2,>=1.52.0 in /usr/local/lib/python3.7/dist-packages (from tensorflow-metadata->tensorflow_datasets) (1.53.0)\n",
            "Requirement already satisfied: tensorflow-text in /usr/local/lib/python3.7/dist-packages (2.6.0)\n",
            "Requirement already satisfied: tensorflow-hub>=0.8.0 in /usr/local/lib/python3.7/dist-packages (from tensorflow-text) (0.12.0)\n",
            "Requirement already satisfied: tensorflow<2.7,>=2.6.0 in /usr/local/lib/python3.7/dist-packages (from tensorflow-text) (2.6.0)\n",
            "Requirement already satisfied: protobuf>=3.9.2 in /usr/local/lib/python3.7/dist-packages (from tensorflow<2.7,>=2.6.0->tensorflow-text) (3.17.3)\n",
            "Requirement already satisfied: numpy~=1.19.2 in /usr/local/lib/python3.7/dist-packages (from tensorflow<2.7,>=2.6.0->tensorflow-text) (1.19.5)\n",
            "Requirement already satisfied: typing-extensions~=3.7.4 in /usr/local/lib/python3.7/dist-packages (from tensorflow<2.7,>=2.6.0->tensorflow-text) (3.7.4.3)\n",
            "Requirement already satisfied: keras~=2.6 in /usr/local/lib/python3.7/dist-packages (from tensorflow<2.7,>=2.6.0->tensorflow-text) (2.6.0)\n",
            "Requirement already satisfied: flatbuffers~=1.12.0 in /usr/local/lib/python3.7/dist-packages (from tensorflow<2.7,>=2.6.0->tensorflow-text) (1.12)\n",
            "Requirement already satisfied: gast==0.4.0 in /usr/local/lib/python3.7/dist-packages (from tensorflow<2.7,>=2.6.0->tensorflow-text) (0.4.0)\n",
            "Requirement already satisfied: google-pasta~=0.2 in /usr/local/lib/python3.7/dist-packages (from tensorflow<2.7,>=2.6.0->tensorflow-text) (0.2.0)\n",
            "Requirement already satisfied: wheel~=0.35 in /usr/local/lib/python3.7/dist-packages (from tensorflow<2.7,>=2.6.0->tensorflow-text) (0.37.0)\n",
            "Requirement already satisfied: six~=1.15.0 in /usr/local/lib/python3.7/dist-packages (from tensorflow<2.7,>=2.6.0->tensorflow-text) (1.15.0)\n",
            "Requirement already satisfied: tensorboard~=2.6 in /usr/local/lib/python3.7/dist-packages (from tensorflow<2.7,>=2.6.0->tensorflow-text) (2.6.0)\n",
            "Requirement already satisfied: wrapt~=1.12.1 in /usr/local/lib/python3.7/dist-packages (from tensorflow<2.7,>=2.6.0->tensorflow-text) (1.12.1)\n",
            "Requirement already satisfied: clang~=5.0 in /usr/local/lib/python3.7/dist-packages (from tensorflow<2.7,>=2.6.0->tensorflow-text) (5.0)\n",
            "Requirement already satisfied: astunparse~=1.6.3 in /usr/local/lib/python3.7/dist-packages (from tensorflow<2.7,>=2.6.0->tensorflow-text) (1.6.3)\n",
            "Requirement already satisfied: keras-preprocessing~=1.1.2 in /usr/local/lib/python3.7/dist-packages (from tensorflow<2.7,>=2.6.0->tensorflow-text) (1.1.2)\n",
            "Requirement already satisfied: grpcio<2.0,>=1.37.0 in /usr/local/lib/python3.7/dist-packages (from tensorflow<2.7,>=2.6.0->tensorflow-text) (1.40.0)\n",
            "Requirement already satisfied: tensorflow-estimator~=2.6 in /usr/local/lib/python3.7/dist-packages (from tensorflow<2.7,>=2.6.0->tensorflow-text) (2.6.0)\n",
            "Requirement already satisfied: termcolor~=1.1.0 in /usr/local/lib/python3.7/dist-packages (from tensorflow<2.7,>=2.6.0->tensorflow-text) (1.1.0)\n",
            "Requirement already satisfied: h5py~=3.1.0 in /usr/local/lib/python3.7/dist-packages (from tensorflow<2.7,>=2.6.0->tensorflow-text) (3.1.0)\n",
            "Requirement already satisfied: absl-py~=0.10 in /usr/local/lib/python3.7/dist-packages (from tensorflow<2.7,>=2.6.0->tensorflow-text) (0.12.0)\n",
            "Requirement already satisfied: opt-einsum~=3.3.0 in /usr/local/lib/python3.7/dist-packages (from tensorflow<2.7,>=2.6.0->tensorflow-text) (3.3.0)\n",
            "Requirement already satisfied: cached-property in /usr/local/lib/python3.7/dist-packages (from h5py~=3.1.0->tensorflow<2.7,>=2.6.0->tensorflow-text) (1.5.2)\n",
            "Requirement already satisfied: setuptools>=41.0.0 in /usr/local/lib/python3.7/dist-packages (from tensorboard~=2.6->tensorflow<2.7,>=2.6.0->tensorflow-text) (57.4.0)\n",
            "Requirement already satisfied: werkzeug>=0.11.15 in /usr/local/lib/python3.7/dist-packages (from tensorboard~=2.6->tensorflow<2.7,>=2.6.0->tensorflow-text) (1.0.1)\n",
            "Requirement already satisfied: google-auth<2,>=1.6.3 in /usr/local/lib/python3.7/dist-packages (from tensorboard~=2.6->tensorflow<2.7,>=2.6.0->tensorflow-text) (1.35.0)\n",
            "Requirement already satisfied: tensorboard-plugin-wit>=1.6.0 in /usr/local/lib/python3.7/dist-packages (from tensorboard~=2.6->tensorflow<2.7,>=2.6.0->tensorflow-text) (1.8.0)\n",
            "Requirement already satisfied: tensorboard-data-server<0.7.0,>=0.6.0 in /usr/local/lib/python3.7/dist-packages (from tensorboard~=2.6->tensorflow<2.7,>=2.6.0->tensorflow-text) (0.6.1)\n",
            "Requirement already satisfied: markdown>=2.6.8 in /usr/local/lib/python3.7/dist-packages (from tensorboard~=2.6->tensorflow<2.7,>=2.6.0->tensorflow-text) (3.3.4)\n",
            "Requirement already satisfied: requests<3,>=2.21.0 in /usr/local/lib/python3.7/dist-packages (from tensorboard~=2.6->tensorflow<2.7,>=2.6.0->tensorflow-text) (2.23.0)\n",
            "Requirement already satisfied: google-auth-oauthlib<0.5,>=0.4.1 in /usr/local/lib/python3.7/dist-packages (from tensorboard~=2.6->tensorflow<2.7,>=2.6.0->tensorflow-text) (0.4.6)\n",
            "Requirement already satisfied: pyasn1-modules>=0.2.1 in /usr/local/lib/python3.7/dist-packages (from google-auth<2,>=1.6.3->tensorboard~=2.6->tensorflow<2.7,>=2.6.0->tensorflow-text) (0.2.8)\n",
            "Requirement already satisfied: cachetools<5.0,>=2.0.0 in /usr/local/lib/python3.7/dist-packages (from google-auth<2,>=1.6.3->tensorboard~=2.6->tensorflow<2.7,>=2.6.0->tensorflow-text) (4.2.2)\n",
            "Requirement already satisfied: rsa<5,>=3.1.4 in /usr/local/lib/python3.7/dist-packages (from google-auth<2,>=1.6.3->tensorboard~=2.6->tensorflow<2.7,>=2.6.0->tensorflow-text) (4.7.2)\n",
            "Requirement already satisfied: requests-oauthlib>=0.7.0 in /usr/local/lib/python3.7/dist-packages (from google-auth-oauthlib<0.5,>=0.4.1->tensorboard~=2.6->tensorflow<2.7,>=2.6.0->tensorflow-text) (1.3.0)\n",
            "Requirement already satisfied: importlib-metadata in /usr/local/lib/python3.7/dist-packages (from markdown>=2.6.8->tensorboard~=2.6->tensorflow<2.7,>=2.6.0->tensorflow-text) (4.8.1)\n",
            "Requirement already satisfied: pyasn1<0.5.0,>=0.4.6 in /usr/local/lib/python3.7/dist-packages (from pyasn1-modules>=0.2.1->google-auth<2,>=1.6.3->tensorboard~=2.6->tensorflow<2.7,>=2.6.0->tensorflow-text) (0.4.8)\n",
            "Requirement already satisfied: certifi>=2017.4.17 in /usr/local/lib/python3.7/dist-packages (from requests<3,>=2.21.0->tensorboard~=2.6->tensorflow<2.7,>=2.6.0->tensorflow-text) (2021.5.30)\n",
            "Requirement already satisfied: idna<3,>=2.5 in /usr/local/lib/python3.7/dist-packages (from requests<3,>=2.21.0->tensorboard~=2.6->tensorflow<2.7,>=2.6.0->tensorflow-text) (2.10)\n",
            "Requirement already satisfied: urllib3!=1.25.0,!=1.25.1,<1.26,>=1.21.1 in /usr/local/lib/python3.7/dist-packages (from requests<3,>=2.21.0->tensorboard~=2.6->tensorflow<2.7,>=2.6.0->tensorflow-text) (1.24.3)\n",
            "Requirement already satisfied: chardet<4,>=3.0.2 in /usr/local/lib/python3.7/dist-packages (from requests<3,>=2.21.0->tensorboard~=2.6->tensorflow<2.7,>=2.6.0->tensorflow-text) (3.0.4)\n",
            "Requirement already satisfied: oauthlib>=3.0.0 in /usr/local/lib/python3.7/dist-packages (from requests-oauthlib>=0.7.0->google-auth-oauthlib<0.5,>=0.4.1->tensorboard~=2.6->tensorflow<2.7,>=2.6.0->tensorflow-text) (3.1.1)\n",
            "Requirement already satisfied: zipp>=0.5 in /usr/local/lib/python3.7/dist-packages (from importlib-metadata->markdown>=2.6.8->tensorboard~=2.6->tensorflow<2.7,>=2.6.0->tensorflow-text) (3.5.0)\n"
          ]
        }
      ]
    },
    {
      "cell_type": "code",
      "metadata": {
        "id": "8522273c"
      },
      "source": [
        "import collections\n",
        "import logging\n",
        "import os\n",
        "import pathlib\n",
        "import re\n",
        "import string\n",
        "import sys\n",
        "import time\n",
        "\n",
        "import numpy as np\n",
        "import matplotlib.pyplot as plt\n",
        "\n",
        "import tensorflow_datasets as tfds\n",
        "import tensorflow_text as text\n",
        "import tensorflow as tf"
      ],
      "id": "8522273c",
      "execution_count": 2,
      "outputs": []
    },
    {
      "cell_type": "markdown",
      "metadata": {
        "id": "441f388f"
      },
      "source": [
        "# Loading and manipulating the data"
      ],
      "id": "441f388f"
    },
    {
      "cell_type": "code",
      "metadata": {
        "id": "1ab892b7"
      },
      "source": [
        "data, metadata = tfds.load('ted_hrlr_translate/pt_to_en', with_info=True, as_supervised=True)"
      ],
      "id": "1ab892b7",
      "execution_count": 3,
      "outputs": []
    },
    {
      "cell_type": "markdown",
      "metadata": {
        "id": "e27f7ac4"
      },
      "source": [
        "## Separate data into training, testing, and validation datasets"
      ],
      "id": "e27f7ac4"
    },
    {
      "cell_type": "code",
      "metadata": {
        "id": "589ae1e3"
      },
      "source": [
        "train_data = data['train']\n",
        "test_data = data['test']\n",
        "validation_data = data['validation']"
      ],
      "id": "589ae1e3",
      "execution_count": 4,
      "outputs": []
    },
    {
      "cell_type": "markdown",
      "metadata": {
        "id": "814460cb"
      },
      "source": [
        "## learning about the data"
      ],
      "id": "814460cb"
    },
    {
      "cell_type": "code",
      "metadata": {
        "colab": {
          "base_uri": "https://localhost:8080/"
        },
        "id": "b4a32be2",
        "outputId": "e159a83d-6472-4aab-e952-72d318c89de2"
      },
      "source": [
        "print(\"The traning, validation, and testing splits are:\")\n",
        "metadata.splits"
      ],
      "id": "b4a32be2",
      "execution_count": 5,
      "outputs": [
        {
          "output_type": "stream",
          "name": "stdout",
          "text": [
            "The traning, validation, and testing splits are:\n"
          ]
        },
        {
          "output_type": "execute_result",
          "data": {
            "text/plain": [
              "{'test': <tfds.core.SplitInfo num_examples=1803>,\n",
              " 'train': <tfds.core.SplitInfo num_examples=51785>,\n",
              " 'validation': <tfds.core.SplitInfo num_examples=1193>}"
            ]
          },
          "metadata": {},
          "execution_count": 5
        }
      ]
    },
    {
      "cell_type": "code",
      "metadata": {
        "colab": {
          "base_uri": "https://localhost:8080/"
        },
        "id": "f91aa56b",
        "outputId": "84aa0b7f-c011-4962-fe09-b414269381c1"
      },
      "source": [
        "print(\"the labeled keys are:\")\n",
        "metadata.supervised_keys"
      ],
      "id": "f91aa56b",
      "execution_count": 6,
      "outputs": [
        {
          "output_type": "stream",
          "name": "stdout",
          "text": [
            "the labeled keys are:\n"
          ]
        },
        {
          "output_type": "execute_result",
          "data": {
            "text/plain": [
              "('pt', 'en')"
            ]
          },
          "metadata": {},
          "execution_count": 6
        }
      ]
    },
    {
      "cell_type": "code",
      "metadata": {
        "colab": {
          "base_uri": "https://localhost:8080/"
        },
        "id": "6025170e",
        "outputId": "aa04666d-752d-4846-9f47-157e0c1d3c82"
      },
      "source": [
        "num_of_examples = 5\n",
        "\n",
        "for port, eng in train_data.batch(num_of_examples).take(1).as_numpy_iterator():\n",
        "    \n",
        "    print(\"Portuguse examples:\")\n",
        "    for p in port:\n",
        "        print(p.decode(\"utf-8\"))\n",
        "        \n",
        "    print(\"\")\n",
        "\n",
        "    print(\"English examples:\")\n",
        "    for e in eng:\n",
        "        print(e.decode(\"utf-8\"))"
      ],
      "id": "6025170e",
      "execution_count": 7,
      "outputs": [
        {
          "output_type": "stream",
          "name": "stdout",
          "text": [
            "Portuguse examples:\n",
            "e quando melhoramos a procura , tiramos a única vantagem da impressão , que é a serendipidade .\n",
            "mas e se estes fatores fossem ativos ?\n",
            "mas eles não tinham a curiosidade de me testar .\n",
            "e esta rebeldia consciente é a razão pela qual eu , como agnóstica , posso ainda ter fé .\n",
            "`` `` '' podem usar tudo sobre a mesa no meu corpo . ''\n",
            "\n",
            "English examples:\n",
            "and when you improve searchability , you actually take away the one advantage of print , which is serendipity .\n",
            "but what if it were active ?\n",
            "but they did n't test for curiosity .\n",
            "and this conscious defiance is why i , as an agnostic , can still have faith .\n",
            "you can use everything on the table on me .\n"
          ]
        }
      ]
    },
    {
      "cell_type": "markdown",
      "metadata": {
        "id": "c1eca29b"
      },
      "source": [
        "# Tokenizing words for Embedding \n",
        "\n",
        "Here we use a pre-trained model which we download from a google API. This has been trained for english to portuguese translation. These tokens will then be used for embedding when used as inputs in an embedding layer. \n",
        "\n",
        "The cool thing about this particular tokenizer is that it is a sub-word tokenizer, meaning that it not only learns the words themselved, but part of the words as well. This way it can interpolate and find meaning in new words that it might have not seen before.\n",
        "\n",
        "For example: for the word human, we generate {h, hu, hum, huma, human, ##u, ##um, ##uma, ##uman, ##m, ##ma, ##man, #a, ##an, ##n}.\n",
        "\n",
        "Tokenizers are built based on a particular vocabulary set, so they need to be trained on your vocabulary before using. \n",
        "\n",
        "Note that, in this case, embedding will not be a representation of similarity between words, just a vectorization of said words and sub words. The similarity embedding is actually the output of the encoder."
      ],
      "id": "c1eca29b"
    },
    {
      "cell_type": "code",
      "metadata": {
        "colab": {
          "base_uri": "https://localhost:8080/",
          "height": 35
        },
        "id": "c84bbcda",
        "outputId": "6a4d37b3-4170-4e27-8bc3-16e7c1ffc5c2"
      },
      "source": [
        "#downloading model\n",
        "embed_name = \"ted_hrlr_translate_pt_en_converter\"\n",
        "tf.keras.utils.get_file(\n",
        "    embed_name+\".zip\",\n",
        "    \"https://storage.googleapis.com/download.tensorflow.org/models/\"+embed_name+\".zip\",\n",
        "    cache_dir='.', cache_subdir='', extract=True\n",
        ")"
      ],
      "id": "c84bbcda",
      "execution_count": 8,
      "outputs": [
        {
          "output_type": "execute_result",
          "data": {
            "application/vnd.google.colaboratory.intrinsic+json": {
              "type": "string"
            },
            "text/plain": [
              "'./ted_hrlr_translate_pt_en_converter.zip'"
            ]
          },
          "metadata": {},
          "execution_count": 8
        }
      ]
    },
    {
      "cell_type": "code",
      "metadata": {
        "id": "n3I81S79tlfi"
      },
      "source": [
        "#load tokenizer model\n",
        "tokenizer = tf.saved_model.load(embed_name)"
      ],
      "id": "n3I81S79tlfi",
      "execution_count": 9,
      "outputs": []
    },
    {
      "cell_type": "code",
      "metadata": {
        "colab": {
          "base_uri": "https://localhost:8080/"
        },
        "id": "MqGicVseuRa9",
        "outputId": "7ea55e7d-e7a4-4096-8d3b-91aa6bd0530c"
      },
      "source": [
        "#testing tokenizing english words\n",
        "#Each word token maps to a word-embedding vector in the full embedding matrix.\n",
        "print(\"Example text: \\n\", eng)\n",
        "en_tokens = tokenizer.en.tokenize(eng)\n",
        "print(\"\")\n",
        "print(\"Example tokens: \\n\", en_tokens)\n",
        "en_retoken = tokenizer.en.lookup(en_tokens)\n",
        "print(\"\")\n",
        "print(\"Example un-tokenized text: \\n\",en_retoken)"
      ],
      "id": "MqGicVseuRa9",
      "execution_count": 10,
      "outputs": [
        {
          "output_type": "stream",
          "name": "stdout",
          "text": [
            "Example text: \n",
            " [b'and when you improve searchability , you actually take away the one advantage of print , which is serendipity .'\n",
            " b'but what if it were active ?' b\"but they did n't test for curiosity .\"\n",
            " b'and this conscious defiance is why i , as an agnostic , can still have faith .'\n",
            " b'you can use everything on the table on me .']\n",
            "\n",
            "Example tokens: \n",
            " <tf.RaggedTensor [[2, 72, 117, 79, 1259, 1491, 2362, 13, 79, 150, 184, 311, 71, 103, 2308, 74, 2679, 13, 148, 80, 55, 4840, 1434, 2423, 540, 15, 3], [2, 87, 90, 107, 76, 129, 1852, 30, 3], [2, 87, 83, 149, 50, 9, 56, 664, 85, 2512, 15, 3], [2, 72, 81, 2508, 2159, 3072, 1282, 80, 192, 45, 13, 100, 111, 6040, 3176, 3186, 13, 94, 235, 89, 1938, 15, 3], [2, 79, 94, 212, 299, 92, 71, 1356, 92, 114, 15, 3]]>\n",
            "\n",
            "Example un-tokenized text: \n",
            " <tf.RaggedTensor [[b'[START]', b'and', b'when', b'you', b'improve', b'search', b'##ability', b',', b'you', b'actually', b'take', b'away', b'the', b'one', b'advantage', b'of', b'print', b',', b'which', b'is', b's', b'##ere', b'##nd', b'##ip', b'##ity', b'.', b'[END]'], [b'[START]', b'but', b'what', b'if', b'it', b'were', b'active', b'?', b'[END]'], [b'[START]', b'but', b'they', b'did', b'n', b\"'\", b't', b'test', b'for', b'curiosity', b'.', b'[END]'], [b'[START]', b'and', b'this', b'conscious', b'de', b'##fi', b'##ance', b'is', b'why', b'i', b',', b'as', b'an', b'ag', b'##no', b'##stic', b',', b'can', b'still', b'have', b'faith', b'.', b'[END]'], [b'[START]', b'you', b'can', b'use', b'everything', b'on', b'the', b'table', b'on', b'me', b'.', b'[END]']]>\n"
          ]
        }
      ]
    },
    {
      "cell_type": "markdown",
      "metadata": {
        "id": "BTdtuHArxfjs"
      },
      "source": [
        "# Creating a Positional Encoder\n",
        "\n",
        "We now complement the encoder with a measure of position for each word in the sentence. This is done with a sinosoidal function, where words with similar values are close together. This will help us with the self-attention steps. Note that this does not take any data as input; every position in a sentence up to \"n\" words long is encoded into a vector that is \"d\" dimensions in size. Therefore, each word in a given sentence/input will have a different position which is described by a different d-sized vector. The result of the following is a n by d tensor."
      ],
      "id": "BTdtuHArxfjs"
    },
    {
      "cell_type": "markdown",
      "metadata": {
        "id": "4jJtIVO-QiSb"
      },
      "source": [
        "## Defining Functions"
      ],
      "id": "4jJtIVO-QiSb"
    },
    {
      "cell_type": "code",
      "metadata": {
        "id": "ZCn-1p2Ex6sF"
      },
      "source": [
        "def angle_arguments(position, index, embedding_dimension):\n",
        "  angle_argument = position / np.power(10000,index/embedding_dimension)\n",
        "  return angle_argument\n",
        "\n",
        "def pos_encoding(max_positions, embedding_dimension):\n",
        "  #creating a max_position by embedding_dimension matrix\n",
        "  angles = angle_arguments(\n",
        "                          np.arange(max_positions)[:,np.newaxis], #creating a max_positions by 1 matrix \n",
        "                          np.arange(embedding_dimension)[np.newaxis,:], #creating a 1 by emedding_dimension matrix \n",
        "                          embedding_dimension\n",
        "                          )\n",
        "  \n",
        "  #appling sine to even indices\n",
        "  angles[:,0::2] = np.sin(angles[:,0::2])\n",
        "\n",
        "  #applying cosine to uneven indices\n",
        "  angles[:,1::2] = np.cos(angles[:,1::2])\n",
        "\n",
        "  #returning a 3-D matrix of 1 by max_position by embedding_dimension\n",
        "  return tf.cast(angles[np.newaxis, ...], dtype=tf.float32)\n"
      ],
      "id": "ZCn-1p2Ex6sF",
      "execution_count": 11,
      "outputs": []
    },
    {
      "cell_type": "markdown",
      "metadata": {
        "id": "x4xUGcMQX9T6"
      },
      "source": [
        "## Performing encoding and checking"
      ],
      "id": "x4xUGcMQX9T6"
    },
    {
      "cell_type": "code",
      "metadata": {
        "colab": {
          "base_uri": "https://localhost:8080/",
          "height": 313
        },
        "id": "c1ex5uXLYAQW",
        "outputId": "4b9a9be4-4edf-4f37-cac8-5460216ebf78"
      },
      "source": [
        "#defining variables\n",
        "max_position = 2048\n",
        "embedding_dimension = 512\n",
        "\n",
        "#performing enconding\n",
        "positional_encoding = pos_encoding(max_position,embedding_dimension)\n",
        "\n",
        "#checking shape\n",
        "print(\"The shape of the positional encoding is: \", positional_encoding.shape)\n",
        "\n",
        "#visual check\n",
        "positional_encoding = tf.reshape(positional_encoding, (max_position, embedding_dimension//2, 2)) #reshaping into a max_position, by embedding/2 by 2\n",
        "positional_encoding = tf.transpose(positional_encoding, (2, 1, 0)) # transposing to make 2-d vector\n",
        "positional_encoding = tf.reshape(positional_encoding, (embedding_dimension, max_position)) # reshaping vector\n",
        "plt.pcolormesh(positional_encoding,cmap=\"inferno\")\n",
        "plt.xlabel(\"Position\")\n",
        "plt.ylabel(\"Embedding Dimension\")"
      ],
      "id": "c1ex5uXLYAQW",
      "execution_count": 12,
      "outputs": [
        {
          "output_type": "stream",
          "name": "stdout",
          "text": [
            "The shape of the positional encoding is:  (1, 2048, 512)\n"
          ]
        },
        {
          "output_type": "execute_result",
          "data": {
            "text/plain": [
              "Text(0, 0.5, 'Embedding Dimension')"
            ]
          },
          "metadata": {},
          "execution_count": 12
        },
        {
          "output_type": "display_data",
          "data": {
            "image/png": "[encoded data removed]",
            "text/plain": [
              "<Figure size 432x288 with 1 Axes>"
            ]
          },
          "metadata": {
            "needs_background": "light"
          }
        }
      ]
    },
    {
      "cell_type": "markdown",
      "metadata": {
        "id": "3n10a1FYcce0"
      },
      "source": [
        "# Creating masks for the input"
      ],
      "id": "3n10a1FYcce0"
    },
    {
      "cell_type": "markdown",
      "metadata": {
        "id": "jRu8Y7Hbcm_L"
      },
      "source": [
        "## Create mask to prevent looking into future words"
      ],
      "id": "jRu8Y7Hbcm_L"
    },
    {
      "cell_type": "code",
      "metadata": {
        "colab": {
          "base_uri": "https://localhost:8080/"
        },
        "id": "1YNXLRjtcfUW",
        "outputId": "5093a8d0-0116-421e-b11a-5ad8953ec4da"
      },
      "source": [
        "def make_look_ahead_mask(entry_size):\n",
        "  \"\"\"\n",
        "  This will create a diagonal matrix with 0's on the lower half and 1 in the upper half. \n",
        "  The code will only use the 0 entries when training the i'th word. \n",
        "  We want to use the values with mask =0 and discard values with mask = 1\n",
        "  \"\"\"\n",
        "  base = tf.ones((entry_size,entry_size))\n",
        "  mask = 1-tf.linalg.band_part(base,-1,0) #the -1, 0 arguments zero-out the lower diagonal\n",
        "  return mask\n",
        "\n",
        "make_look_ahead_mask(5)"
      ],
      "id": "1YNXLRjtcfUW",
      "execution_count": 13,
      "outputs": [
        {
          "output_type": "execute_result",
          "data": {
            "text/plain": [
              "<tf.Tensor: shape=(5, 5), dtype=float32, numpy=\n",
              "array([[0., 1., 1., 1., 1.],\n",
              "       [0., 0., 1., 1., 1.],\n",
              "       [0., 0., 0., 1., 1.],\n",
              "       [0., 0., 0., 0., 1.],\n",
              "       [0., 0., 0., 0., 0.]], dtype=float32)>"
            ]
          },
          "metadata": {},
          "execution_count": 13
        }
      ]
    },
    {
      "cell_type": "markdown",
      "metadata": {
        "id": "t_OU7tBkfr1w"
      },
      "source": [
        "## create maks to prevent pad tokens from being used\n",
        "\n",
        "padding is done to make all the sentences the same length by adding zeros. We dont want to procces these zeros. "
      ],
      "id": "t_OU7tBkfr1w"
    },
    {
      "cell_type": "code",
      "metadata": {
        "colab": {
          "base_uri": "https://localhost:8080/"
        },
        "id": "HQfkdbs7fvBe",
        "outputId": "6988b96e-0f57-424f-9adc-8fe51c44206e"
      },
      "source": [
        "def make_padding_mask(entry):\n",
        "  \"\"\"\n",
        "  Returns a 1 where there is padding, i.e where entry = 0\n",
        "  We want to use the values with mask =0 and discard values with mask = 1\n",
        "  \"\"\"\n",
        "  #getting the mask\n",
        "  entry = tf.math.equal(entry,0)\n",
        "\n",
        "  #casting into a tf tensor\n",
        "  entry = tf.cast(entry, tf.float32)\n",
        "\n",
        "  #adding extra dimensions for input into attention heads\n",
        "  #this will have the size: batchSize, 1, 1, sentence_size\n",
        "  return entry[:,tf.newaxis,tf.newaxis,:]\n",
        "\n",
        "#test\n",
        "test = tf.constant([[0, 5 , 5, 5, 5, 0, 0],[0, 0 , 0, 0, 5, 0, 0]])\n",
        "make_padding_mask(test)\n"
      ],
      "id": "HQfkdbs7fvBe",
      "execution_count": 14,
      "outputs": [
        {
          "output_type": "execute_result",
          "data": {
            "text/plain": [
              "<tf.Tensor: shape=(2, 1, 1, 7), dtype=float32, numpy=\n",
              "array([[[[1., 0., 0., 0., 0., 1., 1.]]],\n",
              "\n",
              "\n",
              "       [[[1., 1., 1., 1., 0., 1., 1.]]]], dtype=float32)>"
            ]
          },
          "metadata": {},
          "execution_count": 14
        }
      ]
    },
    {
      "cell_type": "markdown",
      "metadata": {
        "id": "qDlkBvkCjwTQ"
      },
      "source": [
        "# Implementing attention"
      ],
      "id": "qDlkBvkCjwTQ"
    },
    {
      "cell_type": "markdown",
      "metadata": {
        "id": "r3ZqxlailVoX"
      },
      "source": [
        "## Scaled dot product attention\n",
        "\n",
        "the q = query value is a matrix that indicated which k=key values you want to sample and compare. The k = key values then map the query values to the actual values. Therefore, the scaled weights (the output of the softmax) indicated which values you are comparing and will always add up to one. You will see this in the testing phase."
      ],
      "id": "r3ZqxlailVoX"
    },
    {
      "cell_type": "code",
      "metadata": {
        "id": "uQcHcxOVjymX"
      },
      "source": [
        "def dot_product_attention(q, k, v, mask):\n",
        "  \n",
        "  #multiply q with k^t\n",
        "  #this will create a ... by q_length by k_length matrix\n",
        "  q_k = tf.matmul(q,k,transpose_b=True)\n",
        "\n",
        "  #scale by the size of the embedding dimension (the last dimension in the keys input\n",
        "  sqrt_d = tf.math.sqrt(tf.cast(tf.shape(k)[-1],tf.float32))\n",
        "  q_k_scaled = q_k / sqrt_d\n",
        "\n",
        "  #adding the mask\n",
        "  #if mask is = 1 then values will be esentially zeroed-out\n",
        "  #large negative values in the softmax will essentially by zero. \n",
        "  if mask is not None:\n",
        "    q_k_scaled -= (mask*1e9) \n",
        "\n",
        "  #applying the softmax\n",
        "  #this will keep the ... by q_length by k_length matrix\n",
        "  weights = tf.nn.softmax(q_k_scaled,axis=-1)\n",
        "\n",
        "  #multiplying by v\n",
        "  #create a ... by q_length by v_length matrix\n",
        "  output  = tf.matmul(weights,v)\n",
        "\n",
        "  return tf.cast(output,tf.float32), tf.cast(weights,tf.float32)\n",
        "\n"
      ],
      "id": "uQcHcxOVjymX",
      "execution_count": 15,
      "outputs": []
    },
    {
      "cell_type": "code",
      "metadata": {
        "id": "zAp-RC9znyzQ"
      },
      "source": [
        "#testing and getting intuition\n",
        "\n",
        "def print_attention(q,k,v):\n",
        "  out, weights = dot_product_attention(q,k,v,None)\n",
        "  print(\"The weights are: \")\n",
        "  print(weights)\n",
        "  print(\"the output is:\")\n",
        "  print(out)\n",
        "\n",
        "np.set_printoptions(suppress=True)\n"
      ],
      "id": "zAp-RC9znyzQ",
      "execution_count": 16,
      "outputs": []
    },
    {
      "cell_type": "code",
      "metadata": {
        "colab": {
          "base_uri": "https://localhost:8080/"
        },
        "id": "sabB-8ipvUGM",
        "outputId": "568125de-6d14-4ae6-c78c-aafc7e1547b9"
      },
      "source": [
        "k_test = tf.constant([[10, 0, 0],\n",
        "                     [0, 10, 0],\n",
        "                     [0, 0, 10],\n",
        "                     [0, 0, 10]], dtype=tf.float32)  # (4, 3)\n",
        "\n",
        "v_test = tf.constant([[1, 0],\n",
        "                     [10, 0],\n",
        "                     [100, 5],\n",
        "                    [1000, 6]], dtype=tf.float32)  # (4, 2)\n",
        "\n",
        "\n",
        "q_test = tf.constant([[0, 10, 0]], dtype=tf.float32)  # (1, 3)\n",
        "\n",
        "#Note that this query maps towards the second key (they are the same)\n",
        "#therefore the output will pertain to the secod value\n",
        "print_attention(q_test, k_test, v_test)"
      ],
      "id": "sabB-8ipvUGM",
      "execution_count": 17,
      "outputs": [
        {
          "output_type": "stream",
          "name": "stdout",
          "text": [
            "The weights are: \n",
            "tf.Tensor([[0. 1. 0. 0.]], shape=(1, 4), dtype=float32)\n",
            "the output is:\n",
            "tf.Tensor([[10.  0.]], shape=(1, 2), dtype=float32)\n"
          ]
        }
      ]
    },
    {
      "cell_type": "markdown",
      "metadata": {
        "id": "3iIi144yxZzW"
      },
      "source": [
        "note how the weights =1 because we only select one value. and how the output is the selected value vector (the second one).\n"
      ],
      "id": "3iIi144yxZzW"
    },
    {
      "cell_type": "code",
      "metadata": {
        "colab": {
          "base_uri": "https://localhost:8080/"
        },
        "id": "EqzBOOViyG9k",
        "outputId": "960e8e3f-e308-4f6b-e892-357c6047493c"
      },
      "source": [
        "k_test = tf.constant([[10, 0, 0],\n",
        "                     [0, 10, 0],\n",
        "                     [0, 0, 10],\n",
        "                     [0, 0, 10]], dtype=tf.float32)  # (4, 3)\n",
        "\n",
        "v_test = tf.constant([[1, 0],\n",
        "                     [10, 0],\n",
        "                     [100, 5],\n",
        "                    [1000, 6]], dtype=tf.float32)  # (4, 2)\n",
        "\n",
        "\n",
        "q_test = tf.constant([[10, 10, 0]], dtype=tf.float32)  # (1, 3)\n",
        "\n",
        "#Note that this query is similar to both the first and second key \n",
        "#therefore the weight will weight the first and second key equaly\n",
        "# and the output will then be the weighted value of the first and second value\n",
        "print_attention(q_test, k_test, v_test)"
      ],
      "id": "EqzBOOViyG9k",
      "execution_count": 18,
      "outputs": [
        {
          "output_type": "stream",
          "name": "stdout",
          "text": [
            "The weights are: \n",
            "tf.Tensor([[0.5 0.5 0.  0. ]], shape=(1, 4), dtype=float32)\n",
            "the output is:\n",
            "tf.Tensor([[5.5 0. ]], shape=(1, 2), dtype=float32)\n"
          ]
        }
      ]
    },
    {
      "cell_type": "markdown",
      "metadata": {
        "id": "QcRGsDxJzQfj"
      },
      "source": [
        "Note how the sum weights = 1 (due to the softmax), and the outputs are the weighted values of the 1st and second values.\n",
        "\n",
        "Essetially the \"attention\" procces uses the query and key vectors to create a weighted vector of certain values.\n",
        "\n",
        "Note that for self-attention, q,k,v are all the same\n"
      ],
      "id": "QcRGsDxJzQfj"
    },
    {
      "cell_type": "markdown",
      "metadata": {
        "id": "IVcygLGElYjx"
      },
      "source": [
        "## Multiheaded attention\n",
        "\n",
        "In this section we essentially transform and train the q,k,x values before feeding them into the dot product attention layer. "
      ],
      "id": "IVcygLGElYjx"
    },
    {
      "cell_type": "code",
      "metadata": {
        "id": "FII9T6aC0F_D"
      },
      "source": [
        "class MultiHeadAttention(tf.keras.layers.Layer):\n",
        "\n",
        "  #note: \n",
        "        #batch_size = # of sentences/samples in each batch\n",
        "        #sample_length = #numbef of words in a sentence\n",
        "        #num heads = number of self-attention heads\n",
        "        #depth =  number of embedding dimensions handled by each head\n",
        "\n",
        "  #initializing the object\n",
        "  def __init__(self, embedding_dimension, number_of_heads):\n",
        "    #inheriting the same init as the base class (tf.keras.layers.Layer)\n",
        "    super().__init__()\n",
        "    self.num_heads = number_of_heads\n",
        "    self.embed_dim = embedding_dimension\n",
        "\n",
        "    #calculating how many units each linear layer should have\n",
        "    self.depth = self.embed_dim // self.num_heads \n",
        "\n",
        "    #checking that we can separate the number of dimenisons into the number of heads\n",
        "    #if not stop building the layer\n",
        "  \n",
        "    assert self.embed_dim % self.num_heads ==0\n",
        "\n",
        "    #create linear layers with the number of dimensions (these will be split later)\n",
        "    #creating the q layer\n",
        "    self.q_layer = tf.keras.layers.Dense(embedding_dimension)\n",
        "\n",
        "    #creating the k layer\n",
        "    self.k_layer = tf.keras.layers.Dense(embedding_dimension)\n",
        "\n",
        "    #creating the v layer\n",
        "    self.v_layer = tf.keras.layers.Dense(embedding_dimension)\n",
        "\n",
        "    #creating the output layer (after attention is calculated)\n",
        "    self.output_layer = tf.keras.layers.Dense(embedding_dimension)\n",
        "\n",
        "\n",
        "  def separating_heads(self, layer, batch_size):\n",
        "    #input layer has size of sequence_length by embedding dimension\n",
        "    #we will create layers that have size: depth by sequence_length\n",
        "\n",
        "    #reshaping the layer\n",
        "    #-1 implies the length of the dimension is infered by the program\n",
        "    layer = tf.reshape(layer,(batch_size,-1, self.num_heads, self.depth)) \n",
        "\n",
        "    #transposing the layer to get (batch_size, num_heads, sequence_length, depth)\n",
        "    layer = tf.transpose(layer,perm=[0, 2, 1, 3])\n",
        "\n",
        "    return layer\n",
        "\n",
        "  def call(self, q, k, v, mask):\n",
        "    #obtaining the batch size. This will be the number of sentences in the query vector\n",
        "    batch_size = tf.shape(q)[0] \n",
        "\n",
        "    #passing q, v, and k into their respective layers and getting the output\n",
        "    #size  = sequence_length (q_size) by embedding_dimension\n",
        "    q = self.q_layer(q) \n",
        "    k = self.k_layer(k) \n",
        "    v = self.v_layer(v) \n",
        "\n",
        "    #splitting the output layers\n",
        "    #size = (size_batche, num_heads, sequence_length, depth)\n",
        "    q_out = self.separating_heads(q,batch_size)\n",
        "    k_out = self.separating_heads(k,batch_size)\n",
        "    v_out = self.separating_heads(v,batch_size)\n",
        "\n",
        "    #passing the output of the linearized q,k,v vectors into the dot product attention\n",
        "    #output shape = (batch_size, num_heads, sequence_length, depth)\n",
        "    #weight shape = (batch_size, num_heads, sequence_length, length_k)\n",
        "    attention_output, attention_weights = dot_product_attention(q=q_out,k=k_out,v=v_out,mask=mask)\n",
        "\n",
        "    #combining the previous outputs to fit into the output layer (un-doing the separating_heads opperation)\n",
        "    attention_output = tf.transpose(attention_output, perm=[0, 2, 1, 3])\n",
        "    attention_output = tf.reshape(attention_output,(batch_size,-1,self.embed_dim))\n",
        "\n",
        "    #the result is a tensor with the size: batch_size , sequence_length, embedding_dimension)\n",
        "\n",
        "    #passing through the output layer\n",
        "    out = self.output_layer(attention_output)\n",
        "\n",
        "    return out, attention_weights\n",
        "\n"
      ],
      "id": "FII9T6aC0F_D",
      "execution_count": 19,
      "outputs": []
    },
    {
      "cell_type": "markdown",
      "metadata": {
        "id": "txzrZB8ePY-Q"
      },
      "source": [
        "## Testing full self-attention"
      ],
      "id": "txzrZB8ePY-Q"
    },
    {
      "cell_type": "code",
      "metadata": {
        "colab": {
          "base_uri": "https://localhost:8080/"
        },
        "id": "30CapxNhPFtH",
        "outputId": "5cf20f58-db70-4d2b-be2a-41d6b5cd4384"
      },
      "source": [
        "#initializing attention head\n",
        "num_heads = 4\n",
        "test_attention = MultiHeadAttention(embedding_dimension,num_heads)\n",
        "\n",
        "#initializing input of size: batch_size, sequence_length, embedding_dimension\n",
        "batch_size = 1\n",
        "test_q_size = 60 #length of sequence (how long is a sentence)\n",
        "test_input = tf.random.uniform((batch_size,test_q_size,embedding_dimension)) #Outputs random values from a uniform distribution.\n",
        "\n",
        "#running attention\n",
        "#Note that for self-attention, q,k,v are all the same\n",
        "test_output, test_weights = test_attention(test_input,test_input,test_input,None)\n",
        "\n",
        "#looking at sizes\n",
        "print(\"Shape of the output:\", test_output.shape)\n",
        "print(\"Shape of the weights:\", test_weights.shape)\n"
      ],
      "id": "30CapxNhPFtH",
      "execution_count": 20,
      "outputs": [
        {
          "output_type": "stream",
          "name": "stdout",
          "text": [
            "Shape of the output: (1, 60, 512)\n",
            "Shape of the weights: (1, 4, 60, 60)\n"
          ]
        }
      ]
    },
    {
      "cell_type": "markdown",
      "metadata": {
        "id": "iP0Cf9PzUZwB"
      },
      "source": [
        "# Last component of encoder: the standard feed-forward network"
      ],
      "id": "iP0Cf9PzUZwB"
    },
    {
      "cell_type": "code",
      "metadata": {
        "id": "h5tXe843UlC7"
      },
      "source": [
        "def feed_forward_nn(embedding_dimension,hidden_units):\n",
        "  #note that we want hidden_units = length_of_positional encoder for a 1-to-1\n",
        "  #ratio, but it could be anything\n",
        "  #here we create a NN object, but no data is passed through yet\n",
        "  \n",
        "  ffnn = tf.keras.Sequential([\n",
        "              #input size: batch_size by sample_legth, by embed_dimension\n",
        "              #output size = batch_size by sample_length by hidden units. \n",
        "              tf.keras.layers.Dense(hidden_units,activation=\"relu\"),\n",
        "\n",
        "              #output size = batch_size,num_samples, embedding dimension. \n",
        "              tf.keras.layers.Dense(embedding_dimension)\n",
        "  ])\n",
        "\n",
        "  return ffnn\n"
      ],
      "id": "h5tXe843UlC7",
      "execution_count": 21,
      "outputs": []
    },
    {
      "cell_type": "markdown",
      "metadata": {
        "id": "Z7ymvEGqYUAQ"
      },
      "source": [
        "#Putting things together into a single Encoder layer"
      ],
      "id": "Z7ymvEGqYUAQ"
    },
    {
      "cell_type": "code",
      "metadata": {
        "id": "4kUiypHUYYVd"
      },
      "source": [
        "class encoder_layer(tf.keras.layers.Layer):\n",
        "  def __init__(self, embed_dim, num_heads, hidden_units_ffnn, dropout_rate = 0.1):\n",
        "    super().__init__()\n",
        "\n",
        "    #initializing the layer objects\n",
        "    self.MHA_layer = MultiHeadAttention(embed_dim,num_heads)\n",
        "    self.MHA_dropout = tf.keras.layers.Dropout(dropout_rate)\n",
        "    self.MHA_norm_layer = tf.keras.layers.LayerNormalization(epsilon=1e-6)\n",
        "\n",
        "    self.ffnn_layer = feed_forward_nn(embed_dim, hidden_units_ffnn)\n",
        "    self.ffnn_dropout = tf.keras.layers.Dropout(dropout_rate)\n",
        "    self.ffnn_norm_layer = tf.keras.layers.LayerNormalization(epsilon=1e-6)\n",
        "\n",
        "  def call (self,data,mask,is_training):\n",
        "\n",
        "    #running Multihead attention\n",
        "    att_output, MHA_weights = self.MHA_layer(q=data,k=data,v=data,mask=mask)\n",
        "    drop_output = self.MHA_dropout(att_output, training=is_training)\n",
        "    #re-adding original data back before normalization\n",
        "    norm_output = self.MHA_norm_layer(drop_output+data)\n",
        "\n",
        "    #running feed-forward neural network\n",
        "    ffnn_output = self.ffnn_layer(norm_output)\n",
        "    ffnn_drop_output = self.ffnn_dropout(ffnn_output, training=is_training)\n",
        "    final_output = self.ffnn_norm_layer(ffnn_drop_output + norm_output)\n",
        "\n",
        "    return final_output\n"
      ],
      "id": "4kUiypHUYYVd",
      "execution_count": 22,
      "outputs": []
    },
    {
      "cell_type": "code",
      "metadata": {
        "colab": {
          "base_uri": "https://localhost:8080/"
        },
        "id": "f1P_z-eHcyVK",
        "outputId": "499437a8-9b59-45f9-95c9-55ac4b04a0e0"
      },
      "source": [
        "#testing\n",
        "\n",
        "#initializing\n",
        "enconder_test = encoder_layer(512,8,2048)\n",
        "\n",
        "#creating data: batch_size, sequence_length, embed_dimension\n",
        "data_encoder_test = tf.random.uniform((54,204,512))\n",
        "\n",
        "#running\n",
        "enconder_out_test = enconder_test(data_encoder_test,None,False)\n",
        "\n",
        "print(\"encoder input shape: \",data_encoder_test.shape)\n",
        "print(\"encoder output shape: \",enconder_out_test.shape)"
      ],
      "id": "f1P_z-eHcyVK",
      "execution_count": 23,
      "outputs": [
        {
          "output_type": "stream",
          "name": "stdout",
          "text": [
            "encoder input shape:  (54, 204, 512)\n",
            "encoder output shape:  (54, 204, 512)\n"
          ]
        }
      ]
    },
    {
      "cell_type": "markdown",
      "metadata": {
        "id": "NBDEu7BTd5jO"
      },
      "source": [
        "# Putting things together into a single Decoder layer"
      ],
      "id": "NBDEu7BTd5jO"
    },
    {
      "cell_type": "code",
      "metadata": {
        "id": "4xlfSYnod9U3"
      },
      "source": [
        "class decoder_layer(tf.keras.layers.Layer):\n",
        "  def __init__(self, embed_dim, num_heads, hidden_units_ffnn, dropout_rate = 0.1):\n",
        "    super().__init__()\n",
        "\n",
        "    #initializing the layer objects\n",
        "    self.MHA_layer_1 = MultiHeadAttention(embed_dim,num_heads)\n",
        "    self.MHA_dropout_1 = tf.keras.layers.Dropout(dropout_rate)\n",
        "    self.MHA_norm_layer_1 = tf.keras.layers.LayerNormalization(epsilon=1e-6)\n",
        "\n",
        "    self.MHA_layer_2 = MultiHeadAttention(embed_dim,num_heads)\n",
        "    self.MHA_dropout_2 = tf.keras.layers.Dropout(dropout_rate)\n",
        "    self.MHA_norm_layer_2 = tf.keras.layers.LayerNormalization(epsilon=1e-6)\n",
        "\n",
        "    self.ffnn_layer = feed_forward_nn(embed_dim, hidden_units_ffnn)\n",
        "    self.ffnn_dropout = tf.keras.layers.Dropout(dropout_rate)\n",
        "    self.ffnn_norm_layer = tf.keras.layers.LayerNormalization(epsilon=1e-6)\n",
        "\n",
        "  def call(self,data,encoder_output,padding_mask,lookahead_mask,is_training):\n",
        "    #running 1st multihead attention\n",
        "    att_output_1, MHA_weights_1 = self.MHA_layer_1(\n",
        "        q=data,k=data,v=data,mask=lookahead_mask)\n",
        "    drop_output_1 = self.MHA_dropout_1(att_output_1, training=is_training)\n",
        "    #re-adding original data back before normalization\n",
        "    norm_output_1 = self.MHA_norm_layer_1(drop_output_1+data)\n",
        "\n",
        "    #running 2nd multihead attention\n",
        "    #note that now q = last output, and v, k = encoder_output\n",
        "    att_output_2, MHA_weights_2 = self.MHA_layer_2(\n",
        "        q=norm_output_1,k=encoder_output,v=encoder_output,mask=padding_mask)\n",
        "    drop_output_2 = self.MHA_dropout_2(att_output_2, training=is_training)\n",
        "    #re-adding original data back before normalization\n",
        "    norm_output_2 = self.MHA_norm_layer_2(drop_output_2+norm_output_1)\n",
        "\n",
        "    #running feed-forward neural network\n",
        "    ffnn_output = self.ffnn_layer(norm_output_2)\n",
        "    ffnn_drop_output = self.ffnn_dropout(ffnn_output, training=is_training)\n",
        "    final_output = self.ffnn_norm_layer(ffnn_drop_output+norm_output_2)\n",
        "\n",
        "    return final_output, MHA_weights_1, MHA_weights_2"
      ],
      "id": "4xlfSYnod9U3",
      "execution_count": 24,
      "outputs": []
    },
    {
      "cell_type": "code",
      "metadata": {
        "colab": {
          "base_uri": "https://localhost:8080/"
        },
        "id": "rFJOD1jRfdn8",
        "outputId": "0b262332-fd7e-4596-df09-f89088e35e35"
      },
      "source": [
        "#testing\n",
        "\n",
        "#defining data (note batch size and embed_dim must be the same as for the encoder)\n",
        "decoder_data_test = tf.random.uniform((54,45,512))\n",
        "\n",
        "#initalizing decoder\n",
        "decoder_test = decoder_layer(512,4,2048,0.1)\n",
        "\n",
        "#running decoder\n",
        "output_decoder_test, w, w2 = decoder_test(decoder_data_test,enconder_out_test,None,None,False)\n",
        "\n",
        "print(\"decoder input shape: \",decoder_data_test.shape)\n",
        "print(\"decoder output shape: \",output_decoder_test.shape)"
      ],
      "id": "rFJOD1jRfdn8",
      "execution_count": 25,
      "outputs": [
        {
          "output_type": "stream",
          "name": "stdout",
          "text": [
            "decoder input shape:  (54, 45, 512)\n",
            "decoder output shape:  (54, 45, 512)\n"
          ]
        }
      ]
    },
    {
      "cell_type": "markdown",
      "metadata": {
        "id": "9Ber4NdmjL0f"
      },
      "source": [
        "# Creating a full **Encoder** (embedding + positional encoding + encoder layers)"
      ],
      "id": "9Ber4NdmjL0f"
    },
    {
      "cell_type": "code",
      "metadata": {
        "id": "KiwxVg3RjVao"
      },
      "source": [
        "class Encoder(tf.keras.layers.Layer):\n",
        "  def __init__(self, embedding_dimension, max_position_encoding,\n",
        "               input_vocabulary_size,MHA_num_heads,number_of_encoder_layers,\n",
        "               num_ffnn_hidden_layers,dropout_rate=0.1,):\n",
        "    super().__init__()\n",
        "\n",
        "    #initializing parameters\n",
        "    self.embed_dim = embedding_dimension\n",
        "    self.num_of_layers = number_of_encoder_layers\n",
        "\n",
        "    #initializing word embedding layer\n",
        "    self.embedding = tf.keras.layers.Embedding(input_vocabulary_size,\n",
        "                                               embedding_dimension)\n",
        "\n",
        "    #creating positional encodings (no data needed for this)\n",
        "    self.pos_encode = pos_encoding(max_position_encoding,embedding_dimension)\n",
        "\n",
        "    #creating list containing N embedding layers\n",
        "    self.encoder_layers = [encoder_layer(embedding_dimension,MHA_num_heads,\n",
        "                          num_ffnn_hidden_layers,dropout_rate)\n",
        "                          for i in range(number_of_encoder_layers)]\n",
        "\n",
        "    #creating dropout layer\n",
        "    self.dropout = tf.keras.layers.Dropout(dropout_rate)\n",
        "\n",
        "  def call (self,input_data,is_training,mask):\n",
        "\n",
        "    #calculating the length of the sentence/sequence (size of second column)\n",
        "    length = tf.shape(input_data)[1]\n",
        "\n",
        "    #embedding data\n",
        "    embed_data = self.embedding(input_data)\n",
        "    #scaling the data by the sqrt of the embedding dimension\n",
        "    embed_data *= tf.math.sqrt(tf.cast(self.embed_dim,tf.float32))\n",
        "\n",
        "    #adding the positional encoding which has size (batch_size ,position, embed_dim)\n",
        "    #Here we are only adding the positional encoder up to the number of words \n",
        "    #in the sequence\n",
        "    embed_data += self.pos_encode[:,:length,:]\n",
        "\n",
        "    #adding a dropout layer at the start of the encoder (this is optional)\n",
        "    out = self.dropout(embed_data,training=is_training)\n",
        "\n",
        "    #passing data through the N encoding layers\n",
        "    for i in range(self.num_of_layers):\n",
        "      out= self.encoder_layers[i](out,mask,is_training)\n",
        "\n",
        "    return out"
      ],
      "id": "KiwxVg3RjVao",
      "execution_count": 26,
      "outputs": []
    },
    {
      "cell_type": "code",
      "metadata": {
        "colab": {
          "base_uri": "https://localhost:8080/"
        },
        "id": "_doSF-wpjnIA",
        "outputId": "a57b7897-9740-4759-9bba-59827ae295b9"
      },
      "source": [
        "#Testing encoder\n",
        "\n",
        "#initializing encoder\n",
        "test_Encoder = Encoder(512,10000,8500,8,2,20148)\n",
        "\n",
        "#initializing data (just a number samples by num of tokenized words matrix)\n",
        "test_Encoder_input = tf.random.uniform((55,87),dtype=tf.int64,minval=0, maxval=500)\n",
        "\n",
        "#running encoder\n",
        "test_E_output = test_Encoder(test_Encoder_input,False,None)\n",
        "\n",
        "print(\"Encoder input shape: \",test_Encoder_input.shape)\n",
        "print(\"Encoder output shape: \",test_E_output.shape)\n"
      ],
      "id": "_doSF-wpjnIA",
      "execution_count": 27,
      "outputs": [
        {
          "output_type": "stream",
          "name": "stdout",
          "text": [
            "Encoder input shape:  (55, 87)\n",
            "Encoder output shape:  (55, 87, 512)\n"
          ]
        }
      ]
    },
    {
      "cell_type": "markdown",
      "metadata": {
        "id": "kfD19BWSxaua"
      },
      "source": [
        "# Creating a full **Decoder** (embedding + positional encoding + decoder layers)"
      ],
      "id": "kfD19BWSxaua"
    },
    {
      "cell_type": "code",
      "metadata": {
        "id": "Wx13M7IIxaab"
      },
      "source": [
        "class Decoder(tf.keras.layers.Layer):\n",
        "  def __init__(self, embedding_dimension, max_position_encoding,\n",
        "               target_vocabulary_size,MHA_num_heads,number_of_decoder_layers,\n",
        "               num_ffnn_hidden_layers,dropout_rate=0.1,):\n",
        "    super().__init__()\n",
        "\n",
        "    #initializing parameters\n",
        "    self.embed_dim = embedding_dimension\n",
        "\n",
        "    #initializing word embedding layer\n",
        "    self.embedding = tf.keras.layers.Embedding(target_vocabulary_size,\n",
        "                                               embedding_dimension)\n",
        "\n",
        "    #creating positional encodings (no data needed for this)\n",
        "    self.pos_encode = pos_encoding(max_position_encoding,embedding_dimension)\n",
        "\n",
        "    #creating list containing N embedding layers\n",
        "    self.decoder_layers = [decoder_layer(embedding_dimension,MHA_num_heads,\n",
        "                          num_ffnn_hidden_layers,dropout_rate)\n",
        "                          for i in range(number_of_decoder_layers)]\n",
        "\n",
        "    #creating dropout layer\n",
        "    self.dropout = tf.keras.layers.Dropout(dropout_rate)\n",
        "\n",
        "  def call(self,input_data, encoder_data,padding_mask,lookahead_mask,is_training):\n",
        "\n",
        "    #calculating the length of the sentence/sequence (size of second column)\n",
        "    length = tf.shape(input_data)[1]\n",
        "    weights = {}\n",
        "\n",
        "    #embedding data\n",
        "    embed_data = self.embedding(input_data)\n",
        "    #scaling the data by the sqrt of the embedding dimension\n",
        "    embed_data *= tf.math.sqrt(tf.cast(self.embed_dim,tf.float32))\n",
        "\n",
        "    #adding the positional encoding which has size (batch_size ,position, embed_dim)\n",
        "    #Here we are only adding the positional encoder up to the number of words \n",
        "    #in the sequence\n",
        "    embed_data += self.pos_encode[:,:length,:]\n",
        "\n",
        "    #adding a dropout layer at the start of the encoder (this is optional)\n",
        "    out = self.dropout(embed_data,training=is_training)\n",
        "\n",
        "    #passing data through the N decoding layers\n",
        "    i=0\n",
        "    for layer in self.decoder_layers:\n",
        "      padding_mask,lookahead_mask,is_training\n",
        "      out, w1, w2 = layer(out,encoder_data,padding_mask,\n",
        "                  lookahead_mask,is_training)\n",
        "      \n",
        "      weights[\"decoder_layer_\"+str(i+1)+\"block_1_weights\"] = w1\n",
        "      weights[\"decoder_layer_\"+str(i+1)+\"block_2_weights\"] = w2\n",
        "     \n",
        "      i+=1\n",
        "\n",
        "    return out, weights"
      ],
      "id": "Wx13M7IIxaab",
      "execution_count": 28,
      "outputs": []
    },
    {
      "cell_type": "code",
      "metadata": {
        "colab": {
          "base_uri": "https://localhost:8080/"
        },
        "id": "qEqAI06Q0PVL",
        "outputId": "20bda3cd-f1d0-4889-a4e4-d217e992c227"
      },
      "source": [
        "#Testing decoder\n",
        "\n",
        "#initializing encoder\n",
        "test_Decoder = Decoder(512,10000,8500,8,2,20148)\n",
        "\n",
        "#initializing data (just a number samples by num of tokenized words matrix)\n",
        "#batch size has to be the same as encoder input\n",
        "test_Decoder_input = tf.random.uniform((55,45),dtype=tf.int64,minval=0, maxval=500)\n",
        "\n",
        "#running encoder\n",
        "test_D_output, test_D_weights = test_Decoder(test_Decoder_input,test_Encoder_input,None,None,False)\n",
        "\n",
        "print(\"Decoder input shape: \",test_Decoder_input.shape)\n",
        "print(\"Decoder output shape: \",test_D_output.shape)"
      ],
      "id": "qEqAI06Q0PVL",
      "execution_count": 29,
      "outputs": [
        {
          "output_type": "stream",
          "name": "stdout",
          "text": [
            "Decoder input shape:  (55, 45)\n",
            "Decoder output shape:  (55, 45, 512)\n"
          ]
        }
      ]
    },
    {
      "cell_type": "markdown",
      "metadata": {
        "id": "4HF6Ms4o1Gpi"
      },
      "source": [
        "# Finally! Creating the **Transformer**"
      ],
      "id": "4HF6Ms4o1Gpi"
    },
    {
      "cell_type": "code",
      "metadata": {
        "id": "xltCZOkl1LB2"
      },
      "source": [
        "class Transformer(tf.keras.Model):\n",
        "  def __init__(self, embedding_dimension, max_position_encoding_input,\n",
        "              max_position_encoding_target, input_vocabulary_size,\n",
        "              target_vocabulary_size, MHA_num_heads, number_of_encoder_layers,\n",
        "              number_of_decoder_layers, num_ffnn_hidden_layers,dropout_rate=0.1\n",
        "              ):\n",
        "    super().__init__()\n",
        "\n",
        "    #creating the encoder\n",
        "    self.Encoder = Encoder(embedding_dimension, max_position_encoding_input,\n",
        "                           input_vocabulary_size,MHA_num_heads,\n",
        "                           number_of_encoder_layers,num_ffnn_hidden_layers)\n",
        "    \n",
        "    #creating decoder layer\n",
        "    self.Decoder = Decoder(embedding_dimension,max_position_encoding_target,\n",
        "                           target_vocabulary_size,MHA_num_heads,\n",
        "                           number_of_decoder_layers,num_ffnn_hidden_layers)\n",
        "    \n",
        "    #creating final layer\n",
        "    self.final = tf.keras.layers.Dense(target_vocabulary_size)\n",
        "\n",
        "  def createMasks(self,input_val,target_val):\n",
        "\n",
        "    #creating mask for encoder (this is a padding mask)\n",
        "    encoder_pad_mask = make_padding_mask(input_val)\n",
        "\n",
        "    #creating masks for 1st decoder block (both padding and lookahead mask)\n",
        "    decoder_pad_mask_1=make_padding_mask(target_val)\n",
        "    decoder_la_mask_1=make_look_ahead_mask(tf.shape(target_val)[1]) #val_length\n",
        "    #combining both decoder masks for lookahead mask \n",
        "    #(we dont want to account for padding values here either)\n",
        "    decoder_la_mask_1=tf.maximum(decoder_pad_mask_1, decoder_la_mask_1)\n",
        "\n",
        "    #creating masks for 2nd decoder block\n",
        "    decoder_pad_mask_2 = make_padding_mask(input_val)\n",
        "\n",
        "    return encoder_pad_mask, decoder_la_mask_1, decoder_pad_mask_2\n",
        "\n",
        "  def call(self, all_inputs, is_training):\n",
        "    \n",
        "    #remember inputs are in the form of a 2-part tuple/list (english first\n",
        "    # then portuguse)\n",
        "    inputs, targets = all_inputs\n",
        "\n",
        "    #getting the masks\n",
        "    enc_pad_mask, dec_la_mask, dec_pad_mask = self.createMasks(inputs,targets)\n",
        "\n",
        "    #running the encoder\n",
        "    enc_out = self.Encoder(inputs, is_training, enc_pad_mask)\n",
        "\n",
        "    #running the decoder\n",
        "    dec_out, weights = self.Decoder(targets, enc_out,dec_pad_mask,\n",
        "                           dec_la_mask, is_training)\n",
        "    \n",
        "    #running through last layer\n",
        "    #shape: # (batch_size, target_sencence_len, target_vocab_size)\n",
        "    last_output = self.final(dec_out)\n",
        "\n",
        "    return last_output, weights"
      ],
      "id": "xltCZOkl1LB2",
      "execution_count": 30,
      "outputs": []
    },
    {
      "cell_type": "code",
      "metadata": {
        "colab": {
          "base_uri": "https://localhost:8080/"
        },
        "id": "irY9m3hJQO_N",
        "outputId": "3d248dda-6dcf-4165-8d9e-15ba2bd3e100"
      },
      "source": [
        "#Testing Transformer\n",
        "\n",
        "#initializing transformer\n",
        "test_T = Transformer(512,10000,6000,8500,8000,8,2,2,2048)\n",
        "\n",
        "#initializing data (just a number samples by num of tokenized words matrix)\n",
        "#batch size has to be the same as encoder input\n",
        "test_T_input = tf.random.uniform((55,45),dtype=tf.int64,minval=0, maxval=500)\n",
        "test_T_target = tf.random.uniform((55,47),dtype=tf.int64,minval=0, maxval=500)\n",
        "\n",
        "#running Transformer\n",
        "test_T_output, test_T_weights = test_T([test_T_input,test_T_target],False)\n",
        "\n",
        "#output shape should be # (batch_size, tar_seq_len, target_vocab_size)\n",
        "print(\"Transformer input shape: \",test_T_input.shape)\n",
        "print(\"Transformer output shape: \",test_T_output.shape)"
      ],
      "id": "irY9m3hJQO_N",
      "execution_count": 31,
      "outputs": [
        {
          "output_type": "stream",
          "name": "stdout",
          "text": [
            "Transformer input shape:  (55, 45)\n",
            "Transformer output shape:  (55, 47, 8000)\n"
          ]
        }
      ]
    },
    {
      "cell_type": "markdown",
      "metadata": {
        "id": "b80Iou_QSz7f"
      },
      "source": [
        "# Defining Training Procedures"
      ],
      "id": "b80Iou_QSz7f"
    },
    {
      "cell_type": "markdown",
      "metadata": {
        "id": "DRbbABW5rji8"
      },
      "source": [
        "## Defining a Loss Function\n",
        "\n",
        "We will be using a cross-entropy loss function (negative log-likelyhood). Also, remember that we dont want to calculate a loss function on the padding sentence values. "
      ],
      "id": "DRbbABW5rji8"
    },
    {
      "cell_type": "code",
      "metadata": {
        "id": "D7G6ApqCrhMz"
      },
      "source": [
        "#initailizing loss function oject\n",
        "#we will be inputing the logits instead of the outputs of a softmax function\n",
        "cross_loss = tf.keras.losses.SparseCategoricalCrossentropy(from_logits=True,reduction=\"none\")\n",
        "\n",
        "def loss_fn(labels,predictions):\n",
        "  #creating a mask for padding labels\n",
        "  #(first returning 1's where there are zeros, then inverting)\n",
        "  #note that summing over pad_mask gives total number of classifiable samples\n",
        "  pad_mask = tf.math.logical_not(tf.math.equal(labels,0))\n",
        "\n",
        "  #calculating loss\n",
        "  calc_loss = cross_loss(labels,predictions)\n",
        "\n",
        "  #applying mask to loss\n",
        "  pad_mask = tf.cast(pad_mask,dtype=calc_loss.dtype)\n",
        "  calc_loss = calc_loss*pad_mask #multipyling padding losses by zero\n",
        "\n",
        "  #calculating total loss\n",
        "  calc_loss = tf.reduce_sum(calc_loss)/tf.reduce_sum(pad_mask)\n",
        "\n",
        "  return calc_loss\n",
        "\n",
        "def calc_accuracy(labels, predictions):\n",
        "\n",
        "  #checking if the predictid value equals the label\n",
        "  #here we check if the word with the max output probabilty matches the label\n",
        "  equal = tf.equal(labels,tf.argmax(predictions,axis=2))\n",
        "\n",
        "  #creating a mask for padding labels\n",
        "  #(first returning 1's where there are zeros, then inverting)\n",
        "  #note that summing over pad_mask gives total number of classifiable samples\n",
        "  pad_mask = tf.math.logical_not(tf.math.equal(labels,0))\n",
        "\n",
        "  #applying the mask using AND function (only equals 1 if both equal 1)\n",
        "  equal = tf.math.logical_and(pad_mask,equal)\n",
        "\n",
        "  #casting into appropriate types\n",
        "  equal = tf.cast(equal,tf.float32)\n",
        "  pad_mask = tf.cast(pad_mask,tf.float32)\n",
        "\n",
        "  #calculating accuracy\n",
        "  acc = tf.reduce_sum(equal)/tf.reduce_sum(pad_mask)\n",
        "\n",
        "  return acc"
      ],
      "id": "D7G6ApqCrhMz",
      "execution_count": 32,
      "outputs": []
    },
    {
      "cell_type": "markdown",
      "metadata": {
        "id": "LX4LVuvZT3OH"
      },
      "source": [
        "## Defining an optimal learning rate\n",
        "\n",
        "Here we follow the formula specified in \"Attention is all you Need\" (i.e. the landmark transformer paper which we are using here). The following class \"modulates how the learning rate of your optimizer changes over time.\"\n",
        "\n"
      ],
      "id": "LX4LVuvZT3OH"
    },
    {
      "cell_type": "code",
      "metadata": {
        "id": "a4jwbkL0S42Y"
      },
      "source": [
        "class learning_rate_optimizer(tf.keras.optimizers.schedules.LearningRateSchedule):\n",
        "  def __init__(self, embedding_dimension, warm_up_steps=4000):\n",
        "    super().__init__()\n",
        "\n",
        "    self.emb_dim = embedding_dimension\n",
        "    self.w_s = warm_up_steps\n",
        "\n",
        "  def __call__(self,current_step):\n",
        "    #calculating arguments in minimun function\n",
        "    min1 = tf.math.rsqrt(current_step)\n",
        "    min2 = current_step * (self.w_s ** -1.5)\n",
        "\n",
        "    #calculating result of min function\n",
        "    min = tf.math.minimum(min1,min2)\n",
        "\n",
        "    #calculating sqrt of the embeding dimension\n",
        "    d_rsqrt =  tf.math.rsqrt(tf.cast(self.emb_dim,tf.float32))\n",
        "\n",
        "    #calculating rate\n",
        "    rate = d_rsqrt*min\n",
        "\n",
        "    return rate\n"
      ],
      "id": "a4jwbkL0S42Y",
      "execution_count": 33,
      "outputs": []
    },
    {
      "cell_type": "code",
      "metadata": {
        "colab": {
          "base_uri": "https://localhost:8080/",
          "height": 296
        },
        "id": "QvG3BzNmWCDO",
        "outputId": "017d5ac5-53e0-43fa-8992-d231eac777a9"
      },
      "source": [
        "#Testing learning rate\n",
        "\n",
        "#initializing rate optimizer\n",
        "rate_test = learning_rate_optimizer(100)\n",
        "\n",
        "#plotting learning rate vs time step\n",
        "plt.plot(rate_test(tf.range(50000, dtype=tf.float32)))\n",
        "plt.ylabel(\"Rate\")\n",
        "plt.xlabel(\"Current Step\")"
      ],
      "id": "QvG3BzNmWCDO",
      "execution_count": 34,
      "outputs": [
        {
          "output_type": "execute_result",
          "data": {
            "text/plain": [
              "Text(0.5, 0, 'Current Step')"
            ]
          },
          "metadata": {},
          "execution_count": 34
        },
        {
          "output_type": "display_data",
          "data": {
            "image/png": "[encoded data removed]",
            "text/plain": [
              "<Figure size 432x288 with 1 Axes>"
            ]
          },
          "metadata": {
            "needs_background": "light"
          }
        }
      ]
    },
    {
      "cell_type": "markdown",
      "metadata": {
        "id": "9METPhHs3RMA"
      },
      "source": [
        "# Training "
      ],
      "id": "9METPhHs3RMA"
    },
    {
      "cell_type": "markdown",
      "metadata": {
        "id": "bDSX7KUUFvhf"
      },
      "source": [
        "## Creating Suitable Input Data"
      ],
      "id": "bDSX7KUUFvhf"
    },
    {
      "cell_type": "code",
      "metadata": {
        "id": "K5SrInDNvuXN"
      },
      "source": [
        "# creating function to tokenize the text\n",
        "\n",
        "def tokenize_text(port_data, eng_data):\n",
        "  eng_data = tokenizer.en.tokenize(eng_data).to_tensor() #we cast into a sparse tensor \n",
        "  port_data = tokenizer.pt.tokenize(port_data).to_tensor() #we cast into a sparse tensor\n",
        "\n",
        "  return port_data, eng_data"
      ],
      "id": "K5SrInDNvuXN",
      "execution_count": 35,
      "outputs": []
    },
    {
      "cell_type": "code",
      "metadata": {
        "id": "tCUWm_xSFvrK"
      },
      "source": [
        "#making batches\n",
        "def make_batches(Data,buffer_size,batch_size):\n",
        "  return (\n",
        "      Data\n",
        "      .cache()\n",
        "      .shuffle(buffer_size)\n",
        "      .batch(batch_size)\n",
        "      .map(tokenize_text, num_parallel_calls=tf.data.AUTOTUNE)\n",
        "      .prefetch(tf.data.AUTOTUNE))\n",
        "  \n",
        "#final data\n",
        "train_batches = make_batches(train_data,20000,64)\n",
        "test_batches = make_batches(test_data,20000,64)\n",
        "val_batches = make_batches(validation_data,20000,64) "
      ],
      "id": "tCUWm_xSFvrK",
      "execution_count": 36,
      "outputs": []
    },
    {
      "cell_type": "markdown",
      "metadata": {
        "id": "Il3Ioe_-4Kaz"
      },
      "source": [
        "## Initalizing the Transformer and Training Procedures"
      ],
      "id": "Il3Ioe_-4Kaz"
    },
    {
      "cell_type": "code",
      "metadata": {
        "id": "89j4NHwT4TU3"
      },
      "source": [
        "#defining model hyperparameters\n",
        "embed_dim = 128\n",
        "max_positional_input = 1000\n",
        "max_positional_target = 1000\n",
        "input_vocab_size = 8000# tokenizer.pt.get_vocab_size().numpy() #translate eng  to port\n",
        "target_vocab_size = 8500 # tokenizer.en.get_vocab_size().numpy()\n",
        "num_MHA_heads = 8\n",
        "num_E_layers = 4\n",
        "num_D_layers = 4\n",
        "ffnn_layers = 512\n",
        "dropout_rate = 0.1\n",
        "\n",
        "#defining Transformer\n",
        "transformer = Transformer(embed_dim,max_positional_input,max_positional_target,\n",
        "                          input_vocab_size,target_vocab_size,num_MHA_heads,\n",
        "                          num_E_layers,num_D_layers,ffnn_layers,dropout_rate)\n",
        "\n",
        "#defining learning rate optimizer\n",
        "learn_rate = learning_rate_optimizer(embed_dim)\n",
        "\n",
        "#defining Neural Network optimizer \n",
        "optimizer = tf.keras.optimizers.Adam(learn_rate, beta_1=0.9, beta_2=0.98,\n",
        "                                     epsilon=1e-9)\n",
        "\n",
        "#initailzing training loss objects (will calculate mean of loss after e/ epoch)\n",
        "train_loss = tf.keras.metrics.Mean(name='train_loss')\n",
        "train_acc =  tf.keras.metrics.Mean(name='train_acc')\n"
      ],
      "id": "89j4NHwT4TU3",
      "execution_count": 37,
      "outputs": []
    },
    {
      "cell_type": "markdown",
      "metadata": {
        "id": "Zfh0ptlmbPfJ"
      },
      "source": [
        "## Defining function to print inputs, predictions,and labels"
      ],
      "id": "Zfh0ptlmbPfJ"
    },
    {
      "cell_type": "code",
      "metadata": {
        "id": "JpIY5WbxbPo1"
      },
      "source": [
        "#defining evaluating function\n",
        "def eval_function(input_sentence,predicted_sentence,real_translation):\n",
        "\n",
        "  #Getting Input sentence\n",
        "  detokenized_input = tokenizer.en.detokenize(input_sentence)[0]\n",
        "  print(\"Input Sentence: \\n\" + detokenized_input.numpy().decode('utf-8') + \"\\n\")\n",
        "\n",
        "  #Getting Prediction Sentence\n",
        "  prediction = predicted_sentence[:, :30, :] \n",
        "  prediction_tokens = tf.argmax(prediction,axis=-1)\n",
        "  detokenized_pred = tokenizer.pt.detokenize(prediction_tokens)[0]\n",
        "  print(\"Predicted Sentence: \\n\" + detokenized_pred.numpy().decode('utf-8') + \"\\n\")\n",
        "\n",
        "  #Getting Target Sentence\n",
        "  detokenized_real = tokenizer.pt.detokenize(real_translation)[0]\n",
        "  print(\"Real Translation: \\n\" + detokenized_real.numpy().decode('utf-8') + \"\\n\")\n"
      ],
      "id": "JpIY5WbxbPo1",
      "execution_count": 38,
      "outputs": []
    },
    {
      "cell_type": "markdown",
      "metadata": {
        "id": "ioGmxqY-3d7d"
      },
      "source": [
        "\n",
        "## Checkpoint training \n",
        "\n",
        "Here we will efine a checkpoint routine in case training stops or we want to continue training later. "
      ],
      "id": "ioGmxqY-3d7d"
    },
    {
      "cell_type": "code",
      "metadata": {
        "colab": {
          "base_uri": "https://localhost:8080/"
        },
        "id": "nWxOxOwN3dW0",
        "outputId": "e0b7e543-ed4d-4b01-f9ab-9b3bbb87975d"
      },
      "source": [
        "from google.colab import drive\n",
        "drive.mount('/content/gdrive/',force_remount=True)\n",
        "\n",
        "# defining directory to store checkpoints\n",
        "path = \"/content/gdrive/MyDrive/ColabNotebooks/\"\n",
        "\n",
        "#check point will save the states of the transformer and optimizer\n",
        "check_pt = tf.train.Checkpoint(transformer=transformer, optimizer=optimizer)\n",
        "\n",
        "#defining checkpoint manager\n",
        "check_pt_manager = tf.train.CheckpointManager(check_pt,path,5)"
      ],
      "id": "nWxOxOwN3dW0",
      "execution_count": 39,
      "outputs": [
        {
          "output_type": "stream",
          "name": "stdout",
          "text": [
            "Mounted at /content/gdrive/\n"
          ]
        }
      ]
    },
    {
      "cell_type": "markdown",
      "metadata": {
        "id": "3aCQpP_F8l_3"
      },
      "source": [
        "## Single step training"
      ],
      "id": "3aCQpP_F8l_3"
    },
    {
      "cell_type": "code",
      "metadata": {
        "id": "ECVJvYuX3Tlt"
      },
      "source": [
        "# defining how training happens in a single step (i.e. training gradient decent)\n",
        "\n",
        "#defining the size of the inputs in the training step\n",
        "train_step_sig = [\n",
        "    tf.TensorSpec(shape=(None, None), dtype=tf.int64),\n",
        "    tf.TensorSpec(shape=(None, None), dtype=tf.int64)\n",
        "]\n",
        "\n",
        "#this function is defined through @tf to signal in order to compile the \n",
        "#subfunctions within it into the tensorflow code. This way it does not need to\n",
        "# be recompiled in each iteration. In other words, it makes it a part of the \n",
        "#tensorflow graph\n",
        "@tf.function(input_signature=train_step_sig)\n",
        "def training_step(input,target):\n",
        "  \n",
        "  #shifting the target input and target labels \n",
        "  #(the transformer needs to predict the nth word in the target label\n",
        "  #by only recieving the n-1 words before it. )\n",
        "  #note we are making them the same size\n",
        "  target_input = target[:,:-1]\n",
        "  target_label = target[:,1:]\n",
        "\n",
        "  #Training the model\n",
        "  #the WITH and AS syntax allows the code to run cleanly\n",
        "  with tf.GradientTape() as tape:\n",
        "    \n",
        "    #getting predictions from transformer\n",
        "    prediction, weights = transformer([input,target_input],is_training=True)\n",
        "\n",
        "    #calculating losses\n",
        "    loss = loss_fn(target_label,prediction)\n",
        "\n",
        "  #calculating gradients w.r.t. the trainable variables\n",
        "  grad = tape.gradient(loss,transformer.trainable_variables)\n",
        "\n",
        "  #applying the gradients to the trainable variables\n",
        "  #note that \"zip\" groups together the nth values of each input\n",
        "  optimizer.apply_gradients(zip(grad, transformer.trainable_variables))\n",
        "\n",
        "  #calculating the mean loss and accuracy\n",
        "  train_loss(loss)\n",
        "  train_acc(calc_accuracy(target_label,prediction))\n",
        "\n",
        "  return prediction\n"
      ],
      "id": "ECVJvYuX3Tlt",
      "execution_count": 40,
      "outputs": []
    },
    {
      "cell_type": "markdown",
      "metadata": {
        "id": "oG38i8UrD95D"
      },
      "source": [
        "## Epoch Training"
      ],
      "id": "oG38i8UrD95D"
    },
    {
      "cell_type": "code",
      "metadata": {
        "colab": {
          "base_uri": "https://localhost:8080/"
        },
        "id": "-OMjAcUZ8oX4",
        "outputId": "05b9f485-8bd2-41aa-9b10-d9da0ff47546"
      },
      "source": [
        "#defining training epochs (number of times the complete data set is passed)\n",
        "EPOCHS = 20\n",
        "\n",
        "#restore latest checkpoint\n",
        "if check_pt_manager.latest_checkpoint:\n",
        "  check_pt.restore(check_pt_manager.latest_checkpoint)\n",
        "\n",
        "#defining how we train for each epoch\n",
        "for epoch in range(EPOCHS):\n",
        "\n",
        "  #defining start time\n",
        "  start_time = time.time()\n",
        "\n",
        "  #reset epoch-mean losses\n",
        "  train_loss.reset_states()\n",
        "  train_acc.reset_states()\n",
        "\n",
        "  #using the data from the train_batches defined above\n",
        "  for (batch,(target,input)) in enumerate(train_batches):\n",
        "    \n",
        "    #running gradient decent\n",
        "    prediction = training_step(input,target)\n",
        "\n",
        "    #print intermediate results every 100 batches\n",
        "    if batch % 200 == 0:\n",
        "      print(\"-----------------------------------------------------------\")\n",
        "      print(f\"Epoch: {epoch +1}, Batch: {batch}, Loss: {train_loss.result():.4f}, Accuracy: {train_acc.result():.4f} \\n\")\n",
        "\n",
        "      #looking at outputs\n",
        "      eval_function(input,prediction,target)\n",
        "      \n",
        "      #save checkpoint\n",
        "      check_pt_save = check_pt_manager.save()\n",
        "\n",
        "  #print resut every N epochs\n",
        "  print(\"-----------------------------------------------------------\")\n",
        "  check_pt_save = check_pt_manager.save()\n",
        "  print(f\"Saving training for Epoch{epoch+1}\")\n",
        "\n",
        "  #print final result\n",
        "  print(f\"Epoch: {epoch +1}, Batch: {batch}, Loss: {train_loss.result():.4f}, Accuracy: {train_acc.result():.4f}\")\n",
        "\n",
        "  #printing time\n",
        "  print(f'Time spent in last epoch: {time.time() - start_time:.2f} secs\\n') \n",
        "\n",
        "  #stop at aronud 0.68 (inclemental gains)"
      ],
      "id": "-OMjAcUZ8oX4",
      "execution_count": 41,
      "outputs": [
        {
          "output_type": "stream",
          "name": "stdout",
          "text": [
            "-----------------------------------------------------------\n",
            "Epoch: 1, Batch: 0, Loss: 9.0368, Accuracy: 0.0000 \n",
            "\n",
            "Input Sentence: \n",
            "so they have for millennia .\n",
            "\n",
            "Predicted Sentence: \n",
            "etiopia chamada prisioneirosidos testemunhar [UNK] [UNK]tificar [UNK] traumatico agricolas chocante sistema vendedor femea [UNK] [UNK] paradoxotificar veiculostidaiu [UNK]osos levado\n",
            "\n",
            "Real Translation: \n",
            "tem - no feito durnte milenios .\n",
            "\n",
            "-----------------------------------------------------------\n",
            "Epoch: 1, Batch: 200, Loss: 8.6490, Accuracy: 0.0434 \n",
            "\n",
            "Input Sentence: \n",
            "( applause )\n",
            "\n",
            "Predicted Sentence: \n",
            ". . . . . . . . . . . . . . . . . . . . . .\n",
            "\n",
            "Real Translation: \n",
            "( aplausos )\n",
            "\n",
            "-----------------------------------------------------------\n",
            "Epoch: 1, Batch: 400, Loss: 7.9289, Accuracy: 0.0641 \n",
            "\n",
            "Input Sentence: \n",
            "and we even find it in neanderthals and animals .\n",
            "\n",
            "Predicted Sentence: \n",
            ", , , , , , , , , . . . . . . . . . . . . . . .\n",
            "\n",
            "Real Translation: \n",
            "e ate o encontramos em neandertais e em animais .\n",
            "\n",
            "-----------------------------------------------------------\n",
            "Epoch: 1, Batch: 600, Loss: 7.3703, Accuracy: 0.0885 \n",
            "\n",
            "Input Sentence: \n",
            "i ' ll give you a couple of more examples on irrational decision - making .\n",
            "\n",
            "Predicted Sentence: \n",
            "e , , a , . . . . . . . . . . . . . . . . . . .\n",
            "\n",
            "Real Translation: \n",
            "vou dar - vos mais uns exemplos da tomada de decisao irracional .\n",
            "\n",
            "-----------------------------------------------------------\n",
            "Epoch: 1, Batch: 800, Loss: 6.9817, Accuracy: 0.1089 \n",
            "\n",
            "Input Sentence: \n",
            "it ' s a reusable mug . it has all these things printed on it .\n",
            "\n",
            "Predicted Sentence: \n",
            "e a que , , a que que , . de . . . . . . . . . . . . .\n",
            "\n",
            "Real Translation: \n",
            "e reutilizavel e tem umas coisas impressas .\n",
            "\n",
            "Saving training for Epoch1\n",
            "Epoch: 1, Batch: 809, Loss: 6.9675, Accuracy: 0.1097\n",
            "Time spent in last epoch: 236.45 secs\n",
            "\n",
            "-----------------------------------------------------------\n",
            "Epoch: 2, Batch: 0, Loss: 5.4823, Accuracy: 0.2080 \n",
            "\n",
            "Input Sentence: \n",
            "figure out some of the problems that are affecting us these days ?\n",
            "\n",
            "Predicted Sentence: \n",
            "e que que que que , o que a que a . que . . . . . . . . . . .\n",
            "\n",
            "Real Translation: \n",
            "a compreender alguns dos problemas que nos estao a afectar hoje em dia ?\n",
            "\n",
            "-----------------------------------------------------------\n",
            "Epoch: 2, Batch: 200, Loss: 5.5080, Accuracy: 0.1912 \n",
            "\n",
            "Input Sentence: \n",
            "so we need something to be able to explain that .\n",
            "\n",
            "Predicted Sentence: \n",
            "nao , , que que o ? . . . . . . . . . . . . . . . . .\n",
            "\n",
            "Real Translation: \n",
            "entao precisamos de algo para podermos explicar isso .\n",
            "\n",
            "-----------------------------------------------------------\n",
            "Epoch: 2, Batch: 400, Loss: 5.3998, Accuracy: 0.1986 \n",
            "\n",
            "Input Sentence: \n",
            "again , the same thing with coding .\n",
            "\n",
            "Predicted Sentence: \n",
            "e que que , a minha , . . de . . . . . . . . . . . . . .\n",
            "\n",
            "Real Translation: \n",
            "o mesmo acontece com a programacao .\n",
            "\n",
            "-----------------------------------------------------------\n",
            "Epoch: 2, Batch: 600, Loss: 5.3082, Accuracy: 0.2055 \n",
            "\n",
            "Input Sentence: \n",
            "the first point was the importance of rules , like those rules that say you ca n ' t come in and disturb all the existing apartment holders .\n",
            "\n",
            "Predicted Sentence: \n",
            "e que que de que minha de pessoas , nao que a que es - nao , ser de arsrr\n",
            "\n",
            "Real Translation: \n",
            "o primeiro ponto e a importancia das regras , regras como aquelas que indicam que ninguem pode vir e perturbar os donos de apartamentos ja existentes .\n",
            "\n",
            "-----------------------------------------------------------\n",
            "Epoch: 2, Batch: 800, Loss: 5.2210, Accuracy: 0.2117 \n",
            "\n",
            "Input Sentence: \n",
            "so i ' ve said a number of times that we grow materials .\n",
            "\n",
            "Predicted Sentence: \n",
            "eu eu eu - pessoas que eu , . . - - - - - - -s - - - - - -\n",
            "\n",
            "Real Translation: \n",
            "eu ja disse varias vezes que cultivamos materiais .\n",
            "\n",
            "Saving training for Epoch2\n",
            "Epoch: 2, Batch: 809, Loss: 5.2177, Accuracy: 0.2119\n",
            "Time spent in last epoch: 219.54 secs\n",
            "\n",
            "-----------------------------------------------------------\n",
            "Epoch: 3, Batch: 0, Loss: 4.9400, Accuracy: 0.2220 \n",
            "\n",
            "Input Sentence: \n",
            "the way at the bottom is a confined masonry building , where the walls are tied together , the building is symmetric , and it will stand up to an earthquake .\n",
            "\n",
            "Predicted Sentence: \n",
            "e nossa ,u , , , que , , oo , ,n , , , e o pessoas , a , ,\n",
            "\n",
            "Real Translation: \n",
            "a maneira minoritaria e um edificio feito com alvenaria confinada , onde as paredes estao seguras umas as outras , o edifiio e simetrico , e ira aguentar um terramoto .\n",
            "\n",
            "-----------------------------------------------------------\n",
            "Epoch: 3, Batch: 200, Loss: 4.8075, Accuracy: 0.2401 \n",
            "\n",
            "Input Sentence: \n",
            "` ` isabelle : ` ` ' ' the filmmaker georges melies was one of the first to realize that films had the power to capture dreams . ' ' ' ' ( music ) [ ` ` ' ' ' a trip to the moon ' ( 1902 ) ' ' ' ' ] [ ` ` ' ' 2011 restoration of the original hand - tinted color ' ' ' ' ] [ ` ` ' ' ' 2001 : a space odyssey ' ( 1968 ) ' ' ' ' ] [ ` ` ' ' academy award winner for visual effects ' ' ' ' ] [ ` ` ' ' ' avatar ' ( 2009 ) ' ' ' ' ] first doctor : how are you feeling , jake ? ' '\n",
            "\n",
            "Predicted Sentence: \n",
            "` ` ` : :e : ` ` ' ' ' ' ' ' ' : ' ' ' ' ` ' ' '\n",
            "\n",
            "Real Translation: \n",
            "` ` isabelle : ` ` ' ' o cineasta georges melies ` ` ' ' foi um dos primeiros a perceber que ` ` ' ' os filmes tinham o poder ` ` ' ' de atrair os sonhos ' ' ' ' . ( musica ) [ ` ` ' ' le voyage dans la lune ' ' ' ' ( 1902 ) ] [ restauracao de 2011 das cores originais pintadas a mao ] [ ` ` ' ' 2001 : odisseia no espaco ' ' ' ' ( 1968 ) ] [ vencedor do ` ` ' ' oscar de melhores efeitos visuais ' ' ' ' ] [ ` ` ' ' avatar ' ' ' ' ( 2009 ) ] primeiro medico : como te sentes , jake ? ' '\n",
            "\n",
            "-----------------------------------------------------------\n",
            "Epoch: 3, Batch: 400, Loss: 4.7559, Accuracy: 0.2433 \n",
            "\n",
            "Input Sentence: \n",
            "tomato growers often pollinate their tomato flowers with a hand - held vibrator .\n",
            "\n",
            "Predicted Sentence: \n",
            "os pessoas , os seus desmcros osss . o ano . . . . . .\n",
            "\n",
            "Real Translation: \n",
            "muitas vezes , os produtores de tomate polinizam flores de tomateiro com um vibrador manual .\n",
            "\n",
            "-----------------------------------------------------------\n",
            "Epoch: 3, Batch: 600, Loss: 4.6924, Accuracy: 0.2488 \n",
            "\n",
            "Input Sentence: \n",
            "at mit media lab , along with my advisor hiroshi ishii and my collaborator rehmi post , we created this one physical pixel .\n",
            "\n",
            "Predicted Sentence: \n",
            "o verdade , , , , a , o meu pai meup , ,u ,rm ,to - a meu ano\n",
            "\n",
            "Real Translation: \n",
            "na mit media lab , juntamente com o meu orientador hiroshi ishii e o meu colaborador rehmi post , nos criamos este pixel fisico .\n",
            "\n",
            "-----------------------------------------------------------\n",
            "Epoch: 3, Batch: 800, Loss: 4.6297, Accuracy: 0.2542 \n",
            "\n",
            "Input Sentence: \n",
            "but you are made of stuff , and you are using stuff , and you enslave stuff .\n",
            "\n",
            "Predicted Sentence: \n",
            "mas sao podemos sao as de pessoas , e podemos a fazer as e e a fazerperinsr . . .\n",
            "\n",
            "Real Translation: \n",
            "mas , voces sao feitos de coisas , e estao a usar coisas , estao a escravizar coisas .\n",
            "\n",
            "Saving training for Epoch3\n",
            "Epoch: 3, Batch: 809, Loss: 4.6264, Accuracy: 0.2545\n",
            "Time spent in last epoch: 219.44 secs\n",
            "\n",
            "-----------------------------------------------------------\n",
            "Epoch: 4, Batch: 0, Loss: 4.3620, Accuracy: 0.2788 \n",
            "\n",
            "Input Sentence: \n",
            "and watch , you ' re going to see another south african crime taking place right now . ( laughter ) and his neighbor steals one of his dung pellets .\n",
            "\n",
            "Predicted Sentence: \n",
            "e depois para vamos sao a a e para de se para a a a e risos ) e o seu deols\n",
            "\n",
            "Real Translation: \n",
            "e olhem , voces vao ver outro crime sul - africano mesmo a acontecer . ( risos ) e o vizinho rouba uma das bolas de excremento .\n",
            "\n",
            "-----------------------------------------------------------\n",
            "Epoch: 4, Batch: 200, Loss: 4.2291, Accuracy: 0.2905 \n",
            "\n",
            "Input Sentence: \n",
            "and the red line is the treatment as usual — medication with a medical doctor .\n",
            "\n",
            "Predicted Sentence: \n",
            "e e e e e o seu de , como com um pouco . . . . . . . . . . .\n",
            "\n",
            "Real Translation: \n",
            "a linha a vermelho e o tratamento normal — medicacao com um medico .\n",
            "\n",
            "-----------------------------------------------------------\n",
            "Epoch: 4, Batch: 400, Loss: 4.1615, Accuracy: 0.2988 \n",
            "\n",
            "Input Sentence: \n",
            "he ' d call out terrorism for what it is , not only criminal but an obscene travesty of everything he believed in and struggled for .\n",
            "\n",
            "Predicted Sentence: \n",
            "ele estasam a que que que e que nao e eronsni , , mas ele ar que de que\n",
            "\n",
            "Real Translation: \n",
            "ele denunciaria o terrorismo pelo que e , nao so criminoso , mas uma caricatura obscena de tudo em que ele acreditava e pelo que lutou .\n",
            "\n",
            "-----------------------------------------------------------\n",
            "Epoch: 4, Batch: 600, Loss: 4.0921, Accuracy: 0.3071 \n",
            "\n",
            "Input Sentence: \n",
            "` ` ` ` i think maybe the laws of physics are not so unbreakable after all . ' ' ' '\n",
            "\n",
            "Predicted Sentence: \n",
            "` ` penso ` ' que me pensar nao historias nao palavra nao nao sao por : bemceginados . ' ' '\n",
            "\n",
            "Real Translation: \n",
            "` ` ` ` parece - me que as leis da fisica afinal nao sao assim tao inquebraveis . ' ' ' '\n",
            "\n",
            "-----------------------------------------------------------\n",
            "Epoch: 4, Batch: 800, Loss: 4.0368, Accuracy: 0.3142 \n",
            "\n",
            "Input Sentence: \n",
            "many philosophers , like hobbes , have said so .\n",
            "\n",
            "Predicted Sentence: \n",
            "muitos de , como , oipri , , elep . . se . . . . . . . .\n",
            "\n",
            "Real Translation: \n",
            "muitos filosofos , tal como hobbes , afirmaram - no .\n",
            "\n",
            "Saving training for Epoch4\n",
            "Epoch: 4, Batch: 809, Loss: 4.0330, Accuracy: 0.3147\n",
            "Time spent in last epoch: 217.93 secs\n",
            "\n",
            "-----------------------------------------------------------\n",
            "Epoch: 5, Batch: 0, Loss: 3.7274, Accuracy: 0.3512 \n",
            "\n",
            "Input Sentence: \n",
            "and so glaciers are these magnificent beings , and there ' s lots of reasons to be obsessed with them , but what i ' m particularly interested in is in human - glacier relations .\n",
            "\n",
            "Predicted Sentence: \n",
            "e paises e estes humanoss , os muitas razoes com os nao com com , , mas , que e trata e e com\n",
            "\n",
            "Real Translation: \n",
            "os glaciares sao seres magnificos e ha imensas razoes para se ficar obcecado por eles , mas aquilo que me interessa mais sao as relacoes entre humanos e glaciares .\n",
            "\n",
            "-----------------------------------------------------------\n",
            "Epoch: 5, Batch: 200, Loss: 3.6512, Accuracy: 0.3584 \n",
            "\n",
            "Input Sentence: \n",
            "so we ' ve set out to look for genes that control aging .\n",
            "\n",
            "Predicted Sentence: \n",
            "estamos , rep - tudo para estessres de estes envelhecimento . . .ss de . . . . -\n",
            "\n",
            "Real Translation: \n",
            "entao fomos a procura de genes que regulassem o envelhecimento .\n",
            "\n",
            "-----------------------------------------------------------\n",
            "Epoch: 5, Batch: 400, Loss: 3.6178, Accuracy: 0.3629 \n",
            "\n",
            "Input Sentence: \n",
            "internet search engines work by drawing revenues from sponsored links that appear when you do a search .\n",
            "\n",
            "Predicted Sentence: \n",
            "a cursos da modo de sabedoria , por das linhas debsri in ps )roitamtestos quando se quando nos\n",
            "\n",
            "Real Translation: \n",
            "os motores de busca da internet funcionam atraves das receitas obtidas dos links patrocinados que aparecem quando fazemos uma busca .\n",
            "\n",
            "-----------------------------------------------------------\n",
            "Epoch: 5, Batch: 600, Loss: 3.5731, Accuracy: 0.3691 \n",
            "\n",
            "Input Sentence: \n",
            "the women in this room and watching in l . a .\n",
            "\n",
            "Predicted Sentence: \n",
            "as mulheres nesta sala e vejam ver nesta num uma angeles . . . . . . . . . . . . . .\n",
            "\n",
            "Real Translation: \n",
            "as mulheres nesta sala e a assistirem em los angeles\n",
            "\n",
            "-----------------------------------------------------------\n",
            "Epoch: 5, Batch: 800, Loss: 3.5322, Accuracy: 0.3749 \n",
            "\n",
            "Input Sentence: \n",
            "so the cost of the propellant is about . 3 percent of the cost of the rocket .\n",
            "\n",
            "Predicted Sentence: \n",
            "o , custo de calpriluito sobre de 3 . 5 % do dinheiro . c . . .\n",
            "\n",
            "Real Translation: \n",
            "entao o custo do propulsor e perto de 0 , 3 % do custo do foguetao .\n",
            "\n",
            "Saving training for Epoch5\n",
            "Epoch: 5, Batch: 809, Loss: 3.5300, Accuracy: 0.3753\n",
            "Time spent in last epoch: 218.94 secs\n",
            "\n",
            "-----------------------------------------------------------\n",
            "Epoch: 6, Batch: 0, Loss: 3.1727, Accuracy: 0.4181 \n",
            "\n",
            "Input Sentence: \n",
            "there are thousands of other kids just like me , who deserve this , too .\n",
            "\n",
            "Predicted Sentence: \n",
            "ha centenas de outros criancas como eu , que me ajudam , . , , , , , , , , - , ,\n",
            "\n",
            "Real Translation: \n",
            "ha milhares de outras criancas como eu , que tambem merecem isto .\n",
            "\n",
            "-----------------------------------------------------------\n",
            "Epoch: 6, Batch: 200, Loss: 3.2001, Accuracy: 0.4150 \n",
            "\n",
            "Input Sentence: \n",
            "apart from all those products , the forest is very important for climate regulation .\n",
            "\n",
            "Predicted Sentence: \n",
            "a a de produtos , , a floresta e muito importante para as alteracaosula . . . . . . . .\n",
            "\n",
            "Real Translation: \n",
            "para alem destes produtos todos , a floresta e muito importante para a regulacao climatica .\n",
            "\n",
            "-----------------------------------------------------------\n",
            "Epoch: 6, Batch: 400, Loss: 3.1533, Accuracy: 0.4226 \n",
            "\n",
            "Input Sentence: \n",
            "we ' re simply trying to recreate in this tiny chip the smallest functional unit that represents the biochemistry , the function and the mechanical strain that the cells experience in our bodies .\n",
            "\n",
            "Predicted Sentence: \n",
            "estamos ` estamos a a tentar tentarcusa neste ` ` ' ' pequeno ' ' ' ' ' ` unidade unidade de que\n",
            "\n",
            "Real Translation: \n",
            "` ` estamos simplesmente a tentar recriar neste ` ` ' ' chip ' ' ' ' minusculo a menor unidade funcional que represente a bioquimica , a funcao e tensao mecanica que as celulas vivenciam nos nossos corpos . ' '\n",
            "\n",
            "-----------------------------------------------------------\n",
            "Epoch: 6, Batch: 600, Loss: 3.1145, Accuracy: 0.4277 \n",
            "\n",
            "Input Sentence: \n",
            "it ' s subject to peer review and subject to publication .\n",
            "\n",
            "Predicted Sentence: \n",
            "e e a procurar e e e as trabalhar . . . . . . . . . . . . . .\n",
            "\n",
            "Real Translation: \n",
            "esta sujeito a revisao dos pares e sujeito a publicacao .\n",
            "\n",
            "-----------------------------------------------------------\n",
            "Epoch: 6, Batch: 800, Loss: 3.0861, Accuracy: 0.4321 \n",
            "\n",
            "Input Sentence: \n",
            "but what i always have to do is stop at one of the corners and get a hot dog from the immigrant pushcart peddler .\n",
            "\n",
            "Predicted Sentence: \n",
            "mas o sempre que fazer a cabeca esquinas da um um canto quente e caorri de um de b pmnante\n",
            "\n",
            "Real Translation: \n",
            "mas tenho sempre que parar numa das esquinas e comer um cachorro quente do carrinho de mao de um imigrante\n",
            "\n",
            "Saving training for Epoch6\n",
            "Epoch: 6, Batch: 809, Loss: 3.0849, Accuracy: 0.4323\n",
            "Time spent in last epoch: 218.79 secs\n",
            "\n",
            "-----------------------------------------------------------\n",
            "Epoch: 7, Batch: 0, Loss: 2.6252, Accuracy: 0.4944 \n",
            "\n",
            "Input Sentence: \n",
            "we ' re looking for one that crosses east - west .\n",
            "\n",
            "Predicted Sentence: \n",
            "estamos a olhar um c a do de do mundo de mundo leste . . . - .o . . . . .\n",
            "\n",
            "Real Translation: \n",
            "estavamos a procurar uma que atravessasse no sentido este - oeste .\n",
            "\n",
            "-----------------------------------------------------------\n",
            "Epoch: 7, Batch: 200, Loss: 2.7818, Accuracy: 0.4694 \n",
            "\n",
            "Input Sentence: \n",
            "isabel and i were serious about doing this .\n",
            "\n",
            "Predicted Sentence: \n",
            "e hma ea eu eu prestesdos sobre fazer isto . . . . . . . . . . . .\n",
            "\n",
            "Real Translation: \n",
            "a isabel e eu estavamos decididas em fazer isto .\n",
            "\n",
            "-----------------------------------------------------------\n",
            "Epoch: 7, Batch: 400, Loss: 2.7704, Accuracy: 0.4718 \n",
            "\n",
            "Input Sentence: \n",
            "it no longer just makes sense .\n",
            "\n",
            "Predicted Sentence: \n",
            "nao nao faz sentido . . . . . . . . . . . . . . . . . . . .\n",
            "\n",
            "Real Translation: \n",
            "ja nao fazem sentido .\n",
            "\n",
            "-----------------------------------------------------------\n",
            "Epoch: 7, Batch: 600, Loss: 2.7415, Accuracy: 0.4764 \n",
            "\n",
            "Input Sentence: \n",
            "` ` [ ` ` ' ' the visual vernacular . ' ' ' ' ] this is a way to use a more familiar kind of mystery . ' '\n",
            "\n",
            "Predicted Sentence: \n",
            "` ` [ ` ' ' ' o gto visual visual ' ' ' ' ] . uma forma uma forma de usar mais\n",
            "\n",
            "Real Translation: \n",
            "` ` [ ` ` ' ' o vernaculo visual ' ' ' ' ] e esta e uma maneira de usar um tipo de misterio mais familiar . ' '\n",
            "\n",
            "-----------------------------------------------------------\n",
            "Epoch: 7, Batch: 800, Loss: 2.7291, Accuracy: 0.4785 \n",
            "\n",
            "Input Sentence: \n",
            "but where we are today , things have changed .\n",
            "\n",
            "Predicted Sentence: \n",
            "mas onde onde que hoje dias coisas coisas mudaram . - . . . - . . . - . .svamosvamos\n",
            "\n",
            "Real Translation: \n",
            "mas , aqui estamos nos , as coisas mudaram .\n",
            "\n",
            "Saving training for Epoch7\n",
            "Epoch: 7, Batch: 809, Loss: 2.7276, Accuracy: 0.4788\n",
            "Time spent in last epoch: 218.26 secs\n",
            "\n",
            "-----------------------------------------------------------\n",
            "Epoch: 8, Batch: 0, Loss: 2.6078, Accuracy: 0.4855 \n",
            "\n",
            "Input Sentence: \n",
            "of course , left - leaning policies have also tended to blur the lines between government , ngos and private sector .\n",
            "\n",
            "Predicted Sentence: \n",
            "claro claro , a politicas de politica tambem sido ser para bxervaupacer as linhas entre o governo , entre e o\n",
            "\n",
            "Real Translation: \n",
            "e claro , as politicas de esquerda tem tendido a obscurecer as linhas entre o governo , ongs e o setor privado .\n",
            "\n",
            "-----------------------------------------------------------\n",
            "Epoch: 8, Batch: 200, Loss: 2.5012, Accuracy: 0.5087 \n",
            "\n",
            "Input Sentence: \n",
            "remember dr . alzheimer found strange plaques and tangles in auguste ' s brain a century ago .\n",
            "\n",
            "Predicted Sentence: \n",
            "lembremm o o dr . dr descobriu p de trans e e cerebro de agostoulitin ha ha um\n",
            "\n",
            "Real Translation: \n",
            "recordem que o dr . alzheimer encontrou placas e trancas estranhas no cerebro de auguste , ha cem anos .\n",
            "\n",
            "-----------------------------------------------------------\n",
            "Epoch: 8, Batch: 400, Loss: 2.4987, Accuracy: 0.5095 \n",
            "\n",
            "Input Sentence: \n",
            "thank you for listening .\n",
            "\n",
            "Predicted Sentence: \n",
            "obrigada por si ouvirem . . . . . . . . . . . . . . . . . . . .\n",
            "\n",
            "Real Translation: \n",
            "obrigado por me ouvirem .\n",
            "\n",
            "-----------------------------------------------------------\n",
            "Epoch: 8, Batch: 600, Loss: 2.4884, Accuracy: 0.5113 \n",
            "\n",
            "Input Sentence: \n",
            "the suicide rate went down .\n",
            "\n",
            "Predicted Sentence: \n",
            "a suicidios de suicidio foramam . . . . . . . . . . . . - . . . .\n",
            "\n",
            "Real Translation: \n",
            "os indices de suicidio diminuiram .\n",
            "\n",
            "-----------------------------------------------------------\n",
            "Epoch: 8, Batch: 800, Loss: 2.4798, Accuracy: 0.5132 \n",
            "\n",
            "Input Sentence: \n",
            "one of these was more stereotypical for me .\n",
            "\n",
            "Predicted Sentence: \n",
            "um destes eram mais de deo deci para mim . . . . . . . . - . - . .\n",
            "\n",
            "Real Translation: \n",
            "um desses e mais estereotipado para mim .\n",
            "\n",
            "Saving training for Epoch8\n",
            "Epoch: 8, Batch: 809, Loss: 2.4810, Accuracy: 0.5130\n",
            "Time spent in last epoch: 217.29 secs\n",
            "\n",
            "-----------------------------------------------------------\n",
            "Epoch: 9, Batch: 0, Loss: 2.1252, Accuracy: 0.5487 \n",
            "\n",
            "Input Sentence: \n",
            "finally , make sure that you can tell them that you will make this process as annoying and as painful and as difficult as possible for them .\n",
            "\n",
            "Predicted Sentence: \n",
            "finalmente , osinaguraciam podem dizer que lhes que o tornar fazer esse processo e processo dificiltmns e e\n",
            "\n",
            "Real Translation: \n",
            "finalmente , assegure que pode dizer - lhes que voce vai fazer deste processo o mais incomodativo e o mais doloroso e o mais dificil possivel para eles .\n",
            "\n",
            "-----------------------------------------------------------\n",
            "Epoch: 9, Batch: 200, Loss: 2.2990, Accuracy: 0.5372 \n",
            "\n",
            "Input Sentence: \n",
            "let ' s just do it , let ' s end anonymous companies .\n",
            "\n",
            "Predicted Sentence: \n",
            "vamos - - lo , vamos vamosdencia - empresas empresas empresas anonimas . . . . . . . . .\n",
            "\n",
            "Real Translation: \n",
            "facamo - lo . acabemos com as empresas anonimas !\n",
            "\n",
            "-----------------------------------------------------------\n",
            "Epoch: 9, Batch: 400, Loss: 2.2988, Accuracy: 0.5379 \n",
            "\n",
            "Input Sentence: \n",
            "and it was this particular little behavior , the dance , that we thought was important , because look , it takes a pause every now and then , and then heads off in the direction that it wants to go in .\n",
            "\n",
            "Predicted Sentence: \n",
            "e era este pequeno comportamento de , danca danca , pensamos pensamos , era importante , porque , e para agora agora agora leva uma\n",
            "\n",
            "Real Translation: \n",
            "e foi esse pequeno comportamento particular , a danca que nos pensamos que seria importante , porque , olhem . . . ele faz uma pausa de vez em quando e depois dirige - se na direccao em que quer ir .\n",
            "\n",
            "-----------------------------------------------------------\n",
            "Epoch: 9, Batch: 600, Loss: 2.2954, Accuracy: 0.5389 \n",
            "\n",
            "Input Sentence: \n",
            "` ` the amazon is the ` ` ' ' lung of the world , ' ' ' ' because of its massive power to have vital gases exchanged between the forest and the atmosphere . ' '\n",
            "\n",
            "Predicted Sentence: \n",
            "` a amazonia e o canal do mundo , porque por por porque porque que de tem gas aumentar acar a deol entre\n",
            "\n",
            "Real Translation: \n",
            "— a amazonia e o pulmao do mundo , nao e ? — pelo poder que tem de trocar massivamente gases vitais — a floresta com a atmosfera .\n",
            "\n",
            "-----------------------------------------------------------\n",
            "Epoch: 9, Batch: 800, Loss: 2.2984, Accuracy: 0.5387 \n",
            "\n",
            "Input Sentence: \n",
            "you could count them in five minutes .\n",
            "\n",
            "Predicted Sentence: \n",
            "podem contar - los em cinco minutos . - . - - - - - . . . . - - - - -\n",
            "\n",
            "Real Translation: \n",
            "poderiamos conta - los em cinco minutos .\n",
            "\n",
            "Saving training for Epoch9\n",
            "Epoch: 9, Batch: 809, Loss: 2.2994, Accuracy: 0.5386\n",
            "Time spent in last epoch: 218.11 secs\n",
            "\n",
            "-----------------------------------------------------------\n",
            "Epoch: 10, Batch: 0, Loss: 2.0919, Accuracy: 0.5676 \n",
            "\n",
            "Input Sentence: \n",
            "when disaster hits , when turmoil hits , we share the consequences .\n",
            "\n",
            "Predicted Sentence: \n",
            "quando o , desastre , quando abi aur , partilhamos as consequencias . [END]moss - -tamos - .vamos -\n",
            "\n",
            "Real Translation: \n",
            "quando acontece um desastre , quando ha agitacao , partilhamos as consequencias .\n",
            "\n",
            "-----------------------------------------------------------\n",
            "Epoch: 10, Batch: 200, Loss: 2.1381, Accuracy: 0.5619 \n",
            "\n",
            "Input Sentence: \n",
            "when is it suddenly not okay to love the way that we look ?\n",
            "\n",
            "Predicted Sentence: \n",
            "quando e de , de nao bems seeretem a modo aspeto ? ? ? ? ? ? ? ? ? ?\n",
            "\n",
            "Real Translation: \n",
            "quando e que deixa de ser aceite que gostemos do nosso aspeto ?\n",
            "\n",
            "-----------------------------------------------------------\n",
            "Epoch: 10, Batch: 400, Loss: 2.1518, Accuracy: 0.5597 \n",
            "\n",
            "Input Sentence: \n",
            "all of a sudden , there ' s nature all around us .\n",
            "\n",
            "Predicted Sentence: \n",
            "de repente , ha toda a nosso redor . . - -o . - -o -oo .ooo\n",
            "\n",
            "Real Translation: \n",
            "de repente , existe natureza ao nosso redor .\n",
            "\n",
            "-----------------------------------------------------------\n",
            "Epoch: 10, Batch: 600, Loss: 2.1540, Accuracy: 0.5597 \n",
            "\n",
            "Input Sentence: \n",
            "but nonetheless , it ' s what the argument is about .\n",
            "\n",
            "Predicted Sentence: \n",
            "mas , de , , e que e e sobre argumentonte . . . . . . . . . . . .\n",
            "\n",
            "Real Translation: \n",
            "mas , ainda assim , o que interessa e o amago dessas discussoes .\n",
            "\n",
            "-----------------------------------------------------------\n",
            "Epoch: 10, Batch: 800, Loss: 2.1573, Accuracy: 0.5597 \n",
            "\n",
            "Input Sentence: \n",
            "i ' d like to start by introducing you to someone whose life has been changed by a marketplace fueled by reputation .\n",
            "\n",
            "Predicted Sentence: \n",
            "gostaria de comecar a - a lo alguem pessoa que vida mudou mudouda por um mercado deisect por reputacao . .\n",
            "\n",
            "Real Translation: \n",
            "gostaria de comecar apresentando - vos uma pessoa cuja vida foi alterada por um mercado dirigido pela reputacao .\n",
            "\n",
            "Saving training for Epoch10\n",
            "Epoch: 10, Batch: 809, Loss: 2.1572, Accuracy: 0.5598\n",
            "Time spent in last epoch: 217.14 secs\n",
            "\n",
            "-----------------------------------------------------------\n",
            "Epoch: 11, Batch: 0, Loss: 2.2875, Accuracy: 0.5505 \n",
            "\n",
            "Input Sentence: \n",
            "i love my food .\n",
            "\n",
            "Predicted Sentence: \n",
            "eu a minha comida . - - . - . . . . - . - . - . . . . . .\n",
            "\n",
            "Real Translation: \n",
            "adoro a minha comida .\n",
            "\n",
            "-----------------------------------------------------------\n",
            "Epoch: 11, Batch: 200, Loss: 2.0261, Accuracy: 0.5786 \n",
            "\n",
            "Input Sentence: \n",
            "and the only people in there is a bartender and an old man nursing a beer .\n",
            "\n",
            "Predicted Sentence: \n",
            "e a unicas pessoas la estao uma depresdor e barro um homem homem des a cerveja cerveja . .\n",
            "\n",
            "Real Translation: \n",
            "e as unicas pessoas ali sao o empregado do bar e um velho , de volta de uma cerveja .\n",
            "\n",
            "-----------------------------------------------------------\n",
            "Epoch: 11, Batch: 400, Loss: 2.0315, Accuracy: 0.5774 \n",
            "\n",
            "Input Sentence: \n",
            "these meerkats are replicating an evolved tactic that is thousands of generations old , and they ' re adapting it to a modern risk , in this case a road built by humans .\n",
            "\n",
            "Predicted Sentence: \n",
            "estes suricatas estao a rep um traicula que milhareslta que milhares milhares de milhares de geracoes , e eles a re\n",
            "\n",
            "Real Translation: \n",
            "estes suricatas estao a replicar uma tatica evoluida ao longo de milhares de geracoes , e estao a adapta - la a um risco moderno , neste caso , uma estrada construida por humanos .\n",
            "\n",
            "-----------------------------------------------------------\n",
            "Epoch: 11, Batch: 600, Loss: 2.0374, Accuracy: 0.5771 \n",
            "\n",
            "Input Sentence: \n",
            "i never got to meet him .\n",
            "\n",
            "Predicted Sentence: \n",
            "nunca consegui a ele - lo . - - . - . . . . - - - . . . - - -\n",
            "\n",
            "Real Translation: \n",
            "nunca cheguei a conhece - lo ,\n",
            "\n",
            "-----------------------------------------------------------\n",
            "Epoch: 11, Batch: 800, Loss: 2.0437, Accuracy: 0.5765 \n",
            "\n",
            "Input Sentence: \n",
            "now on to the detection algorithms .\n",
            "\n",
            "Predicted Sentence: \n",
            "agora nos algoritmos aos algoritmos . deteccao . . - - - .o .o . . . . . .o .\n",
            "\n",
            "Real Translation: \n",
            "agora em relacao aos algoritmos de deteccao .\n",
            "\n",
            "Saving training for Epoch11\n",
            "Epoch: 11, Batch: 809, Loss: 2.0439, Accuracy: 0.5765\n",
            "Time spent in last epoch: 216.86 secs\n",
            "\n",
            "-----------------------------------------------------------\n",
            "Epoch: 12, Batch: 0, Loss: 2.0065, Accuracy: 0.5730 \n",
            "\n",
            "Input Sentence: \n",
            "i ' ll give you a couple seconds .\n",
            "\n",
            "Predicted Sentence: \n",
            "vou dar - vos alguns segundos . . . -os -ondo -s . - . algumass - -\n",
            "\n",
            "Real Translation: \n",
            "vou dar - vos alguns segundos .\n",
            "\n",
            "-----------------------------------------------------------\n",
            "Epoch: 12, Batch: 200, Loss: 1.9279, Accuracy: 0.5941 \n",
            "\n",
            "Input Sentence: \n",
            "forced labor does occur in many industries , especially those where the workers are migrants or otherwise vulnerable , and this needs to be addressed .\n",
            "\n",
            "Predicted Sentence: \n",
            "o trabalho forcado acontece em muitas industrias , especialmente que quais os trabalhadores sao a ou vulneraveis , e isto isto de . .\n",
            "\n",
            "Real Translation: \n",
            "o trabalho forcado acontece em muitas industrias , sobretudo naquelas onde os trabalhadores sao imigrantes ou vulneraveis , e e preciso solucionar isto .\n",
            "\n",
            "-----------------------------------------------------------\n",
            "Epoch: 12, Batch: 400, Loss: 1.9330, Accuracy: 0.5927 \n",
            "\n",
            "Input Sentence: \n",
            "robots touch something deeply human within us .\n",
            "\n",
            "Predicted Sentence: \n",
            "robos robos tocam algo algo profundamente humanos . nos . . .ss humanos humanoss . . . . . -\n",
            "\n",
            "Real Translation: \n",
            "os robos tocam em algo profundamente humano em nos .\n",
            "\n",
            "-----------------------------------------------------------\n",
            "Epoch: 12, Batch: 600, Loss: 1.9384, Accuracy: 0.5919 \n",
            "\n",
            "Input Sentence: \n",
            "so with the act of observing consumers , changes their behavior .\n",
            "\n",
            "Predicted Sentence: \n",
            "entao ato de o dos consumidores ,m seu comportamento . o o o o . o . o - . . . .\n",
            "\n",
            "Real Translation: \n",
            "o acto de observacao dos consumidores altera o seu comportamento .\n",
            "\n",
            "-----------------------------------------------------------\n",
            "Epoch: 12, Batch: 800, Loss: 1.9466, Accuracy: 0.5910 \n",
            "\n",
            "Input Sentence: \n",
            "green is output , blue is power , pink is input and orange is wire .\n",
            "\n",
            "Predicted Sentence: \n",
            "o produto e que , a poder e o energia der e a e t tan e . t cabo . .\n",
            "\n",
            "Real Translation: \n",
            "o verde e saida , o azul e a energia o rosa e entrada e o laranja e o fio eletrico .\n",
            "\n",
            "Saving training for Epoch12\n",
            "Epoch: 12, Batch: 809, Loss: 1.9474, Accuracy: 0.5908\n",
            "Time spent in last epoch: 218.43 secs\n",
            "\n",
            "-----------------------------------------------------------\n",
            "Epoch: 13, Batch: 0, Loss: 1.8010, Accuracy: 0.6144 \n",
            "\n",
            "Input Sentence: \n",
            "teachers paid less than what it costs them to be here .\n",
            "\n",
            "Predicted Sentence: \n",
            "professores pagos menos menos do que os que os osm aqui . . - - -m - - . - . .\n",
            "\n",
            "Real Translation: \n",
            "professores pagos com menos do que o que lhes custa estar aqui .\n",
            "\n",
            "-----------------------------------------------------------\n",
            "Epoch: 13, Batch: 200, Loss: 1.8371, Accuracy: 0.6068 \n",
            "\n",
            "Input Sentence: \n",
            "i had to work at it .\n",
            "\n",
            "Predicted Sentence: \n",
            "tinha tinha que trabalhar trabalharco . o . . - . - - . . . . . . . . . .\n",
            "\n",
            "Real Translation: \n",
            "eu tive que me esforcar para isso .\n",
            "\n",
            "-----------------------------------------------------------\n",
            "Epoch: 13, Batch: 400, Loss: 1.8525, Accuracy: 0.6048 \n",
            "\n",
            "Input Sentence: \n",
            "but if you ' re boltzmann , you know that if you wait long enough , the random fluctuations of those molecules will occasionally bring them into lower entropy configurations .\n",
            "\n",
            "Predicted Sentence: \n",
            "mas se , que se se esperarmos muito suficiente , as flutuacoes aleatorias destas moleculas a juntar a - - las em maisn\n",
            "\n",
            "Real Translation: \n",
            "mas boltzmann sabia que , se esperarmos tempo suficiente , as flutuacoes aleatorias destas moleculas irao ocasionalmente traze - las ate configuracoes de mais baixa entropia .\n",
            "\n",
            "-----------------------------------------------------------\n",
            "Epoch: 13, Batch: 600, Loss: 1.8597, Accuracy: 0.6039 \n",
            "\n",
            "Input Sentence: \n",
            "today , farmers can take those samples themselves .\n",
            "\n",
            "Predicted Sentence: \n",
            "hoje , os agricultores agricultoresusntosst podem levar essas amostras . . . .s . . . . . . .\n",
            "\n",
            "Real Translation: \n",
            "hoje , os proprios suinicultores podem recolher as amostras .\n",
            "\n",
            "-----------------------------------------------------------\n",
            "Epoch: 13, Batch: 800, Loss: 1.8647, Accuracy: 0.6032 \n",
            "\n",
            "Input Sentence: \n",
            "wherever there is injustice there ' s anger .\n",
            "\n",
            "Predicted Sentence: \n",
            "onde onde ha a injustica ali ha raiva . . . . . . . . . . . . . . . .\n",
            "\n",
            "Real Translation: \n",
            "sempre que ha uma injustica , ha raiva .\n",
            "\n",
            "Saving training for Epoch13\n",
            "Epoch: 13, Batch: 809, Loss: 1.8656, Accuracy: 0.6032\n",
            "Time spent in last epoch: 216.44 secs\n",
            "\n",
            "-----------------------------------------------------------\n",
            "Epoch: 14, Batch: 0, Loss: 1.8543, Accuracy: 0.6009 \n",
            "\n",
            "Input Sentence: \n",
            "we showed it increases donations to charity by 50 percent .\n",
            "\n",
            "Predicted Sentence: \n",
            "mostraram que aumenta a activos a a caridade durante 50 % cento . . . . . . . . . .\n",
            "\n",
            "Real Translation: \n",
            "mostramos que aumenta os donativos para a caridade em 50 por cento .\n",
            "\n",
            "-----------------------------------------------------------\n",
            "Epoch: 14, Batch: 200, Loss: 1.7743, Accuracy: 0.6163 \n",
            "\n",
            "Input Sentence: \n",
            "what ' s green carbon ?\n",
            "\n",
            "Predicted Sentence: \n",
            "o que e carbono verde ? . ? - - ? - ? ? ? - ? respeito ? - ? ? ? -\n",
            "\n",
            "Real Translation: \n",
            "o que e carbono verde ?\n",
            "\n",
            "-----------------------------------------------------------\n",
            "Epoch: 14, Batch: 400, Loss: 1.7779, Accuracy: 0.6163 \n",
            "\n",
            "Input Sentence: \n",
            "i also think that in the coming decade or so , we ' re going to start to see that actually , it pervades life — that life has evolved tricks that utilize the quantum world .\n",
            "\n",
            "Predicted Sentence: \n",
            "penso penso que , decada decada ou comecar a ver que , na verdade , per permprevisivelu a vida —\n",
            "\n",
            "Real Translation: \n",
            "tambem penso que na proxima decada vamos comecar a ver que , na verdade , ela impregna a vida , que a vida desenvolveu truques que utilizam o mundo quantico .\n",
            "\n",
            "-----------------------------------------------------------\n",
            "Epoch: 14, Batch: 600, Loss: 1.7844, Accuracy: 0.6154 \n",
            "\n",
            "Input Sentence: \n",
            "( applause ) bc : there ' s a horror movie in there somewhere .\n",
            "\n",
            "Predicted Sentence: \n",
            "( aplausos ) cc ) ha um um filme de terror . . . .s . . . . . . .\n",
            "\n",
            "Real Translation: \n",
            "( aplausos ) bc : ha ali um filme de terror algures .\n",
            "\n",
            "-----------------------------------------------------------\n",
            "Epoch: 14, Batch: 800, Loss: 1.7961, Accuracy: 0.6139 \n",
            "\n",
            "Input Sentence: \n",
            "people ask the wrong question , and surprisingly enough , they get the wrong answer , for that reason , if not for others .\n",
            "\n",
            "Predicted Sentence: \n",
            "as pessoas perguntam a questao errada , e surpreendentemente surpreendentemente , eles a resposta errada , por essa razao , se nao fosse assim outros\n",
            "\n",
            "Real Translation: \n",
            "as pessoas colocam a questao errada , e , surpreendentemente , obtem a resposta errada , por essa razao , se nao for por outras .\n",
            "\n",
            "Saving training for Epoch14\n",
            "Epoch: 14, Batch: 809, Loss: 1.7973, Accuracy: 0.6137\n",
            "Time spent in last epoch: 217.28 secs\n",
            "\n",
            "-----------------------------------------------------------\n",
            "Epoch: 15, Batch: 0, Loss: 1.5642, Accuracy: 0.6615 \n",
            "\n",
            "Input Sentence: \n",
            "they can disrupt the economy through strikes and boycotts .\n",
            "\n",
            "Predicted Sentence: \n",
            "podem substituirfurbar a economia e de garza e boyts . . [END]s . .s .s\n",
            "\n",
            "Real Translation: \n",
            "podem perturbar a economia atraves de greves e boicotes .\n",
            "\n",
            "-----------------------------------------------------------\n",
            "Epoch: 15, Batch: 200, Loss: 1.6983, Accuracy: 0.6289 \n",
            "\n",
            "Input Sentence: \n",
            "they like to play around . they ' re in second grade .\n",
            "\n",
            "Predicted Sentence: \n",
            "eles gostam de desempenhar . estao em segunda primaria . .sss . - . . . . . . .\n",
            "\n",
            "Real Translation: \n",
            "eles gostam de brincar . estao na escola primaria .\n",
            "\n",
            "-----------------------------------------------------------\n",
            "Epoch: 15, Batch: 400, Loss: 1.7132, Accuracy: 0.6265 \n",
            "\n",
            "Input Sentence: \n",
            "this delusion is a kind of prison for us . . .\n",
            "\n",
            "Predicted Sentence: \n",
            "esta ` ` ` ' ' esta ilusao e uma especie de ` para nos . . . . ' . . . .\n",
            "\n",
            "Real Translation: \n",
            "` ` ` ` ' ' esta ilusao e uma especie de prisao para nos . . . ' '\n",
            "\n",
            "-----------------------------------------------------------\n",
            "Epoch: 15, Batch: 600, Loss: 1.7213, Accuracy: 0.6253 \n",
            "\n",
            "Input Sentence: \n",
            "i have forgotten that what is socially necessary can also be personally gruelling .\n",
            "\n",
            "Predicted Sentence: \n",
            "esqueci que me que social genero social social tambem necessario para ser pessoalmente rtrotica . [END]dos . . . .\n",
            "\n",
            "Real Translation: \n",
            "esqueci - me que o que e socialmente necessario pode ser pessoalmente penoso .\n",
            "\n",
            "-----------------------------------------------------------\n",
            "Epoch: 15, Batch: 800, Loss: 1.7329, Accuracy: 0.6238 \n",
            "\n",
            "Input Sentence: \n",
            "i think that technology has altered that flow of time .\n",
            "\n",
            "Predicted Sentence: \n",
            "penso acho que a tecnologia mudacau que fluxo de tempo . . - - - tempo tempo de de . - -\n",
            "\n",
            "Real Translation: \n",
            "eu penso que a tecnologia alterou o fluxo do tempo .\n",
            "\n",
            "Saving training for Epoch15\n",
            "Epoch: 15, Batch: 809, Loss: 1.7334, Accuracy: 0.6237\n",
            "Time spent in last epoch: 218.28 secs\n",
            "\n",
            "-----------------------------------------------------------\n",
            "Epoch: 16, Batch: 0, Loss: 1.6421, Accuracy: 0.6407 \n",
            "\n",
            "Input Sentence: \n",
            "but it ' s sublinear , and what that translates into is that , if you double the size of the organism , you actually only need 75 percent more energy .\n",
            "\n",
            "Predicted Sentence: \n",
            "mas e sublinear , e que t e se duplicarmos o tamanho do organismo , so realidade precisam precisamemos de 25\n",
            "\n",
            "Real Translation: \n",
            "mas e sublinear , o que significa que se duplicarmos o tamanho do organismo , na verdade so precisaremos de mais 75 % de energia .\n",
            "\n",
            "-----------------------------------------------------------\n",
            "Epoch: 16, Batch: 200, Loss: 1.6505, Accuracy: 0.6363 \n",
            "\n",
            "Input Sentence: \n",
            "for this particular problem , we designed a new category of worker who , like a sars worker or someone looking for bird flu , might find first cases .\n",
            "\n",
            "Predicted Sentence: \n",
            "para este problema , , co uma nova categoria de trabalhador que , como como um trabalhador p sra ,r descira\n",
            "\n",
            "Real Translation: \n",
            "para este problema particular , criamos uma nova categoria de trabalhador que , tal como um trabalhador da sra ( sindrome respiratoria aguda ) ou alguem a procura da gripe aviaria , pode encontrar os primeiros casos .\n",
            "\n",
            "-----------------------------------------------------------\n",
            "Epoch: 16, Batch: 400, Loss: 1.6539, Accuracy: 0.6356 \n",
            "\n",
            "Input Sentence: \n",
            "time and again , people went out of their way to help me .\n",
            "\n",
            "Predicted Sentence: \n",
            "e vez outra vez , as pessoas sairam da forma . me ajudar . . . . . . . . . . .\n",
            "\n",
            "Real Translation: \n",
            "uma e outra vez , as pessoas faziam de tudo para me ajudar .\n",
            "\n",
            "-----------------------------------------------------------\n",
            "Epoch: 16, Batch: 600, Loss: 1.6682, Accuracy: 0.6336 \n",
            "\n",
            "Input Sentence: \n",
            "so what i ' m thinking about is taking a few physical extensions from the body as i move , and i move them , and i do that by suggesting things to them : if , then ; if , then . okay , so here we go .\n",
            "\n",
            "Predicted Sentence: \n",
            "entao a pensar sobre algumas informacoestensaccoess fisicas do o movergoras movevo , las move a - auj\n",
            "\n",
            "Real Translation: \n",
            "estou a pensar fazer algumas extensoes fisicas conforme me movo e movo - o e faco isso sugerindo - lhes coisas : se , entao ; se , entao . ok , entao vamos la .\n",
            "\n",
            "-----------------------------------------------------------\n",
            "Epoch: 16, Batch: 800, Loss: 1.6793, Accuracy: 0.6320 \n",
            "\n",
            "Input Sentence: \n",
            "we had our work cut out for us .\n",
            "\n",
            "Predicted Sentence: \n",
            "tinhamos o cor de . nossa . [END]mosmos - - - - - - - -dos .o -vamosvamos -\n",
            "\n",
            "Real Translation: \n",
            "tinhamos uma tarefa dificil pela frente .\n",
            "\n",
            "Saving training for Epoch16\n",
            "Epoch: 16, Batch: 809, Loss: 1.6803, Accuracy: 0.6319\n",
            "Time spent in last epoch: 219.74 secs\n",
            "\n",
            "-----------------------------------------------------------\n",
            "Epoch: 17, Batch: 0, Loss: 1.7046, Accuracy: 0.6283 \n",
            "\n",
            "Input Sentence: \n",
            "we ' ve been laying out our dead for all of human history ; it ' s call exposure burial .\n",
            "\n",
            "Predicted Sentence: \n",
            "temos vindo a nossos mortosquetido para pela toda a humanidade humana , e - se b b b . . . .\n",
            "\n",
            "Real Translation: \n",
            "temos deixado os nossos cadaveres expostos durante toda a historia humana . chama - se sepultura de exposicao .\n",
            "\n",
            "-----------------------------------------------------------\n",
            "Epoch: 17, Batch: 200, Loss: 1.5946, Accuracy: 0.6445 \n",
            "\n",
            "Input Sentence: \n",
            "well , what ' s that got to do with this ?\n",
            "\n",
            "Predicted Sentence: \n",
            "bem , o que e que a ver com isto ? ? ? - - ? - ? ? ? ? ? -o\n",
            "\n",
            "Real Translation: \n",
            "bem , o que tem isso a ver com isto ?\n",
            "\n",
            "-----------------------------------------------------------\n",
            "Epoch: 17, Batch: 400, Loss: 1.6116, Accuracy: 0.6420 \n",
            "\n",
            "Input Sentence: \n",
            "together , we raised four wonderful children .\n",
            "\n",
            "Predicted Sentence: \n",
            "juntos , a quatro filhos maravilhosos . [END]ss . .sossso . . . . .\n",
            "\n",
            "Real Translation: \n",
            "juntos , criamos quatro filhos maravilhosos .\n",
            "\n",
            "-----------------------------------------------------------\n",
            "Epoch: 17, Batch: 600, Loss: 1.6208, Accuracy: 0.6408 \n",
            "\n",
            "Input Sentence: \n",
            "let ' s turn to europe .\n",
            "\n",
            "Predicted Sentence: \n",
            "vamosoltemo - nos a a europa . [END]mosssndo - - - - .ndondo - .do\n",
            "\n",
            "Real Translation: \n",
            "voltemo - nos para a europa .\n",
            "\n",
            "-----------------------------------------------------------\n",
            "Epoch: 17, Batch: 800, Loss: 1.6307, Accuracy: 0.6396 \n",
            "\n",
            "Input Sentence: \n",
            "this coral is eight meters tall , right .\n",
            "\n",
            "Predicted Sentence: \n",
            "este coral tem oito metros de altura . . . . . . . . . . . . . . . . .\n",
            "\n",
            "Real Translation: \n",
            "este coral tem oito metros de altura .\n",
            "\n",
            "Saving training for Epoch17\n",
            "Epoch: 17, Batch: 809, Loss: 1.6305, Accuracy: 0.6396\n",
            "Time spent in last epoch: 221.50 secs\n",
            "\n",
            "-----------------------------------------------------------\n",
            "Epoch: 18, Batch: 0, Loss: 1.3539, Accuracy: 0.6846 \n",
            "\n",
            "Input Sentence: \n",
            "planets do n ' t get much bigger than jupiter .\n",
            "\n",
            "Predicted Sentence: \n",
            "nao e planetas muito maiores que jupiter . . - : . . . . . . . . . . . . .\n",
            "\n",
            "Real Translation: \n",
            "nao ha planetas muito maiores que jupiter .\n",
            "\n",
            "-----------------------------------------------------------\n",
            "Epoch: 18, Batch: 200, Loss: 1.5525, Accuracy: 0.6524 \n",
            "\n",
            "Input Sentence: \n",
            "if we do n ' t listen to what father berrigan described as the stories of the dead , they will soon become the stories of ourselves .\n",
            "\n",
            "Predicted Sentence: \n",
            "se nao nos o o que o pairire naorgangan descreveu como descrever historias dos mortos , vao breve , vao\n",
            "\n",
            "Real Translation: \n",
            "se nao ouvirmos o que o padre berrigan descreveu como as historias dos mortos , em breve elas serao as nossas historias .\n",
            "\n",
            "-----------------------------------------------------------\n",
            "Epoch: 18, Batch: 400, Loss: 1.5669, Accuracy: 0.6498 \n",
            "\n",
            "Input Sentence: \n",
            "it ' s important that , if our feelings match reality , we make better security trade - offs .\n",
            "\n",
            "Predicted Sentence: \n",
            "e importante que , se os nossos sentimentos cointidenem a a realidade , nos fazemos melhores escolhas de seguranca .\n",
            "\n",
            "Real Translation: \n",
            "e importante porque , se os nossos sentimentos coincidirem com a realidade , nos fazemos melhores escolhas de seguranca .\n",
            "\n",
            "-----------------------------------------------------------\n",
            "Epoch: 18, Batch: 600, Loss: 1.5751, Accuracy: 0.6486 \n",
            "\n",
            "Input Sentence: \n",
            "and basically they do n ' t fear the people .\n",
            "\n",
            "Predicted Sentence: \n",
            "e basicamente basicamente , eles temem o medo . - - - - . - -s - - - - . .\n",
            "\n",
            "Real Translation: \n",
            "e , basicamente , nao temem o povo .\n",
            "\n",
            "-----------------------------------------------------------\n",
            "Epoch: 18, Batch: 800, Loss: 1.5856, Accuracy: 0.6472 \n",
            "\n",
            "Input Sentence: \n",
            "there ' s another one about personal health and nutrition .\n",
            "\n",
            "Predicted Sentence: \n",
            "ha mais outra sobre saude pessoal nutrientes pessoal . . . . . . . . . . . . . . . .\n",
            "\n",
            "Real Translation: \n",
            "ha uma outra sobre nutricao e saude pessoal .\n",
            "\n",
            "Saving training for Epoch18\n",
            "Epoch: 18, Batch: 809, Loss: 1.5863, Accuracy: 0.6470\n",
            "Time spent in last epoch: 219.48 secs\n",
            "\n",
            "-----------------------------------------------------------\n",
            "Epoch: 19, Batch: 0, Loss: 1.6186, Accuracy: 0.6385 \n",
            "\n",
            "Input Sentence: \n",
            "yet he can still be influenced by a principal who had opened up a school that believes in all children .\n",
            "\n",
            "Predicted Sentence: \n",
            "contudo ele pode ser influenciado por um diretora que abriria uma escola que acredita em todos os filhos . [END]m - .\n",
            "\n",
            "Real Translation: \n",
            "mas ainda pode ser influenciado por uma diretora que abrira uma escola que acredita em todos os miudos .\n",
            "\n",
            "-----------------------------------------------------------\n",
            "Epoch: 19, Batch: 200, Loss: 1.5034, Accuracy: 0.6594 \n",
            "\n",
            "Input Sentence: \n",
            "good for g . e . , right ?\n",
            "\n",
            "Predicted Sentence: \n",
            "bom bom para g gidade . . .e . ? ? ? ? ? , ? ? ? ? ? ? ? ?\n",
            "\n",
            "Real Translation: \n",
            "e bom para a general electric\n",
            "\n",
            "-----------------------------------------------------------\n",
            "Epoch: 19, Batch: 400, Loss: 1.5185, Accuracy: 0.6574 \n",
            "\n",
            "Input Sentence: \n",
            "( applause )\n",
            "\n",
            "Predicted Sentence: \n",
            "( aplausos ) [END]s . . . .s . .s . .\n",
            "\n",
            "Real Translation: \n",
            "( aplausos )\n",
            "\n",
            "-----------------------------------------------------------\n",
            "Epoch: 19, Batch: 600, Loss: 1.5322, Accuracy: 0.6555 \n",
            "\n",
            "Input Sentence: \n",
            "which would not be the end of physics , but a novel beginning .\n",
            "\n",
            "Predicted Sentence: \n",
            "que que nao seria o fim da fisica , mas um romance comeco . . . . . . . . . . .\n",
            "\n",
            "Real Translation: \n",
            "o que nao seria o fim da fisica , mas um novo comeco .\n",
            "\n",
            "-----------------------------------------------------------\n",
            "Epoch: 19, Batch: 800, Loss: 1.5442, Accuracy: 0.6535 \n",
            "\n",
            "Input Sentence: \n",
            "yet we consider it a taboo .\n",
            "\n",
            "Predicted Sentence: \n",
            "mas , nosnsidera - nos um tabo . - - - -o -ooo .\n",
            "\n",
            "Real Translation: \n",
            "contudo , consideramo - lo um tabu .\n",
            "\n",
            "Saving training for Epoch19\n",
            "Epoch: 19, Batch: 809, Loss: 1.5440, Accuracy: 0.6535\n",
            "Time spent in last epoch: 218.66 secs\n",
            "\n",
            "-----------------------------------------------------------\n",
            "Epoch: 20, Batch: 0, Loss: 1.2368, Accuracy: 0.7109 \n",
            "\n",
            "Input Sentence: \n",
            "that is an 80 cent gallon .\n",
            "\n",
            "Predicted Sentence: \n",
            "isto e 80 qeno de 80 q por . . . . .ssss . . . . .\n",
            "\n",
            "Real Translation: \n",
            "isso e um galao por 80 centimos .\n",
            "\n",
            "-----------------------------------------------------------\n",
            "Epoch: 20, Batch: 200, Loss: 1.4652, Accuracy: 0.6669 \n",
            "\n",
            "Input Sentence: \n",
            "rather than broadening the frame to include african - american women , the court simply tossed their case completely out of court .\n",
            "\n",
            "Predicted Sentence: \n",
            "em vez de alargar a moldura para incluem as mulheres afro - americanas , o tribunal desseiuxomitai - o\n",
            "\n",
            "Real Translation: \n",
            "em vez de alargar a moldura para incluir as mulheres afro - americanas , o tribunal rejeitou liminarmente o processo do tribunal .\n",
            "\n",
            "-----------------------------------------------------------\n",
            "Epoch: 20, Batch: 400, Loss: 1.4860, Accuracy: 0.6632 \n",
            "\n",
            "Input Sentence: \n",
            "what schools are encouraged to do is to find out what kids can do across a very narrow spectrum of achievement .\n",
            "\n",
            "Predicted Sentence: \n",
            "as escolas sao encorajados e descobrir o que os miudos podem atraves atraves espectrotrero detretro de co\n",
            "\n",
            "Real Translation: \n",
            "as escolas sao encorajadas a encontrar o que os miudos sabem fazer num estreito espetro de realizacao .\n",
            "\n",
            "-----------------------------------------------------------\n",
            "Epoch: 20, Batch: 600, Loss: 1.4978, Accuracy: 0.6610 \n",
            "\n",
            "Input Sentence: \n",
            "her name was elvis .\n",
            "\n",
            "Predicted Sentence: \n",
            "o - lhe elvis . . . problemas - - . .amssdos . . . . . . . tempo\n",
            "\n",
            "Real Translation: \n",
            "chamava - se elvis .\n",
            "\n",
            "-----------------------------------------------------------\n",
            "Epoch: 20, Batch: 800, Loss: 1.5094, Accuracy: 0.6593 \n",
            "\n",
            "Input Sentence: \n",
            "this is an mr suite with a focused ultrasound system .\n",
            "\n",
            "Predicted Sentence: \n",
            "isto e uma atuatua com um com um com foco de alta intensidade . . . . . . . . . .\n",
            "\n",
            "Real Translation: \n",
            "esta e uma cabine de rm com ultrassonografia com foco de alta intensidade\n",
            "\n",
            "Saving training for Epoch20\n",
            "Epoch: 20, Batch: 809, Loss: 1.5099, Accuracy: 0.6593\n",
            "Time spent in last epoch: 218.36 secs\n",
            "\n"
          ]
        }
      ]
    },
    {
      "cell_type": "markdown",
      "metadata": {
        "id": "bieREEwKf9JK"
      },
      "source": [
        "# Using the Trained Model\n",
        "\n",
        "Note that during training we trained the model to predict the whole resulting sequence based on an input. This was done to make training more efficient (avoiding having to re-enter the latest predicted word back into the input sentence and so on). However, during inference/translation we only care about the next word in the sequence. \n",
        "\n",
        "**During training:**\n",
        "\n",
        "encoder input = portuguese sentence\n",
        "\n",
        "decoder input = english sentence\n",
        "\n",
        "output = whole english sentence\n",
        "\n",
        "labels = english sentence\n",
        "\n",
        "**During inference:**\n",
        "\n",
        "encoder input = portugues sentence\n",
        "\n",
        "decoder input = first n words in the sequence (starting from eng. start token)\n",
        "\n",
        "output = whole english sentence (we only care about n+1 word, which we then re-enter into the decoder for the next word prediciton)."
      ],
      "id": "bieREEwKf9JK"
    },
    {
      "cell_type": "markdown",
      "metadata": {
        "id": "Z6lLTrO4rROE"
      },
      "source": [
        "## Creating a Translator"
      ],
      "id": "Z6lLTrO4rROE"
    },
    {
      "cell_type": "code",
      "metadata": {
        "id": "xXDVsTJaf8p8"
      },
      "source": [
        "class Translator (tf.Module):\n",
        "  def __init__(self,tokenizer,transformer):\n",
        "    \n",
        "    #initalizing class models\n",
        "    #we input the trained tokenizer and the trained transformer instance\n",
        "    self.tokenizer = tokenizer\n",
        "    self.transformer = transformer\n",
        "\n",
        "  def __call__(self,input_sentence,max_sentence_length=30):\n",
        "    #input sentence (portuguese)\n",
        "    #check if sentence is a TF tensor\n",
        "    assert isinstance(input_sentence,tf.Tensor)\n",
        "\n",
        "    #making the sentence into a tensor if its just 1 dimensional\n",
        "    if len(input_sentence.shape) == 0:\n",
        "      input_sentence = input_sentence[tf.newaxis]\n",
        "\n",
        "    #tokenizing the input sentence\n",
        "    encoder_input = self.tokenizer.en.tokenize(input_sentence).to_tensor()\n",
        "\n",
        "    #obtaining the start tokens for the decoder input\n",
        "    empty_sentence = [\"\"]\n",
        "    start_and_end_tokens = self.tokenizer.pt.tokenize(empty_sentence)[0]\n",
        "    start_token = start_and_end_tokens[0][tf.newaxis]\n",
        "    end_token = start_and_end_tokens[1][tf.newaxis]\n",
        "    \n",
        "    #initalizing an transformer output array. This is going to be used to \n",
        "    #show the results, but also to feed back into the decoder until \n",
        "    #the end_token is produced.\n",
        "    output_list = tf.TensorArray(dtype=tf.int64, size=0, dynamic_size=True)\n",
        "    \n",
        "    #inputing the start_token into the output array in location zero\n",
        "    output_list = output_list.write(0,start_token)\n",
        "\n",
        "    #starting the loop of calling the transformer and filling out the output\n",
        "    for i in tf.range(max_sentence_length):\n",
        "\n",
        "      #changing the output list into a readable format\n",
        "      decoder_input = tf.transpose(output_list.stack())\n",
        "\n",
        "      #geting the n+1 predictions\n",
        "      prediction, trash = self.transformer([encoder_input,decoder_input],\n",
        "                                             is_training=False)\n",
        "\n",
        "      #getting the output probabilites predicting the last sentence\n",
        "      prediction = prediction[:, -1:, :]  # (batch_size, 1, vocab_size)\n",
        "\n",
        "      #getting the last token\n",
        "      prediction_token = tf.argmax(prediction,axis=-1)\n",
        "\n",
        "      #adding to the output array\n",
        "      output_list = output_list.write(i+1,prediction_token[0])\n",
        "\n",
        "      #stop if predicted token is the end_token\n",
        "      if prediction_token == end_token:\n",
        "        break\n",
        "\n",
        "    #casting output into readoble frorm\n",
        "    output = tf.transpose(output_list.stack())\n",
        "\n",
        "    #detokenizing into a sentence\n",
        "    detokenized_text = self.tokenizer.pt.detokenize(output)[0]\n",
        "\n",
        "    #detokenizing into tokens\n",
        "    detokenized_tokens = self.tokenizer.pt.lookup(output)[0]\n",
        "\n",
        "    #getting the weights of the last prediction \n",
        "    trash_2, weights = self.transformer([encoder_input,output[:,:-1]],\n",
        "                                        is_training=False)\n",
        "\n",
        "    return detokenized_text, detokenized_tokens, weights\n"
      ],
      "id": "xXDVsTJaf8p8",
      "execution_count": 47,
      "outputs": []
    },
    {
      "cell_type": "markdown",
      "metadata": {
        "id": "NP4OCVaQtRqk"
      },
      "source": [
        "## Running/Testing the Translator"
      ],
      "id": "NP4OCVaQtRqk"
    },
    {
      "cell_type": "code",
      "metadata": {
        "colab": {
          "base_uri": "https://localhost:8080/"
        },
        "id": "dmtABvsbZiWI",
        "outputId": "2b66a13d-c29f-418b-d809-d583c7d1a36f"
      },
      "source": [
        "#restoring latest checkpoint if neccesary\n",
        "\n",
        "#latest = tf.train.latest_checkpoint(path)\n",
        "#check_pt.restore(latest)"
      ],
      "id": "dmtABvsbZiWI",
      "execution_count": 43,
      "outputs": [
        {
          "output_type": "execute_result",
          "data": {
            "text/plain": [
              "<tensorflow.python.training.tracking.util.CheckpointLoadStatus at 0x7f6539e86750>"
            ]
          },
          "metadata": {},
          "execution_count": 43
        }
      ]
    },
    {
      "cell_type": "code",
      "metadata": {
        "id": "zlugiA6_rNai"
      },
      "source": [
        "#creating the instance with trained tokenizer and transformer models\n",
        "translator=Translator(tokenizer,transformer)\n",
        "\n",
        "#defining attention plotting function\n",
        "def plot_attention(input_sentence,output_tokens,att_weights):\n",
        "\n",
        "  #trasforming input sentence to tokens\n",
        "  input_tokens = tf.convert_to_tensor([input_sentence])\n",
        "  input_tokens = tokenizer.en.tokenize(input_tokens).to_tensor()\n",
        "  input_tokens = tokenizer.en.lookup(input_tokens)[0]\n",
        "  \n",
        "  #removing the first token (we gave this to the model)\n",
        "  output_tokens = output_tokens [1:]\n",
        "\n",
        "  #getting the attention weights of all heads of the 2nd block\n",
        "  # of the last decoder (4th layer)\n",
        "  attention_heads = tf.squeeze(att_weights['decoder_layer_4block_2_weights'], 0)\n",
        "  \n",
        "  weights = attention_heads[0]\n",
        "\n",
        "  print(\"The attention plot for the 1st head of the last decoder attention block is:\")\n",
        "\n",
        "  #making plot\n",
        "  plot = plt.gca()\n",
        "  plot.matshow(weights)\n",
        "  plot.set_xticks(range(len(input_tokens)))\n",
        "  plot.set_yticks(range(len(output_tokens)))\n",
        "  \n",
        "  labels_x = [label.decode('utf-8') for label in input_tokens.numpy()]\n",
        "  plot.set_xticklabels(labels_x, rotation=90)\n",
        "\n",
        "  labels_y = [label.decode('utf-8') for label in output_tokens.numpy()]\n",
        "  plot.set_yticklabels(labels_y)\n",
        "\n",
        "#defining evaluating function\n",
        "def eval_plotting_function(input_sentence,predicted_sentence,output_tokens, att_weights, real_translation):\n",
        "  print(\"Input Sentence: \\n\" + input_sentence +\"\\n\" )\n",
        "  print(\"Predicted Sentence: \\n\" + predicted_sentence.numpy().decode(\"utf-8\")+\"\\n\")\n",
        "  print(\"Real Translation: \\n\" + real_translation+\"\\n\")\n",
        "\n",
        "  #pritting attention plots\n",
        "  plot_attention(input_sentence,output_tokens,att_weights)\n",
        "\n",
        "\n"
      ],
      "id": "zlugiA6_rNai",
      "execution_count": 70,
      "outputs": []
    },
    {
      "cell_type": "code",
      "metadata": {
        "id": "fDnqbc5KtYFm",
        "colab": {
          "base_uri": "https://localhost:8080/",
          "height": 478
        },
        "outputId": "8a479a00-63e7-4e55-f800-e11e539d5c46"
      },
      "source": [
        "#test sentence 1:\n",
        "input_sentence = \"I love to code transformers.\"\n",
        "real_translation = \"adoro programar os transformers.\"\n",
        "\n",
        "#getting predicting\n",
        "prediction, tokens, weights = translator(tf.constant(input_sentence))\n",
        "\n",
        "eval_plotting_function(input_sentence,prediction,tokens,weights,real_translation)"
      ],
      "id": "fDnqbc5KtYFm",
      "execution_count": 71,
      "outputs": [
        {
          "output_type": "stream",
          "name": "stdout",
          "text": [
            "Input Sentence: \n",
            "I love to code transformers.\n",
            "\n",
            "Predicted Sentence: \n",
            "adoro programar os construtos .\n",
            "\n",
            "Real Translation: \n",
            "adoro programar os transformers.\n",
            "\n",
            "The attention plot for the 1st head of the last decoder attention block is:\n"
          ]
        },
        {
          "output_type": "display_data",
          "data": {
            "image/png": "[encoded data removed]",
            "text/plain": [
              "<Figure size 432x288 with 1 Axes>"
            ]
          },
          "metadata": {
            "needs_background": "light"
          }
        }
      ]
    },
    {
      "cell_type": "markdown",
      "metadata": {
        "id": "JFpkcDcmMr0c"
      },
      "source": [
        "Note that \"transformers\" is not a word in the training vocabulary. However the translator is able to relate it to the relatively close word \"construtos\", portugese for \"constructs\". "
      ],
      "id": "JFpkcDcmMr0c"
    },
    {
      "cell_type": "code",
      "metadata": {
        "colab": {
          "base_uri": "https://localhost:8080/",
          "height": 467
        },
        "id": "0lzIEvdjN2Dv",
        "outputId": "5b3a8633-3e89-4c6d-c081-5694377ee2d8"
      },
      "source": [
        "#test sentence 2:\n",
        "input_sentence = \"The cat fell from the tree.\"\n",
        "real_translation = \"o gato caiu da árvore\"\n",
        "\n",
        "#getting predicting\n",
        "prediction, tokens, weights = translator(tf.constant(input_sentence))\n",
        "\n",
        "eval_plotting_function(input_sentence,prediction,tokens,weights,real_translation)"
      ],
      "id": "0lzIEvdjN2Dv",
      "execution_count": 82,
      "outputs": [
        {
          "output_type": "stream",
          "name": "stdout",
          "text": [
            "Input Sentence: \n",
            "The cat fell from the tree.\n",
            "\n",
            "Predicted Sentence: \n",
            "o gato caiu da arvore .\n",
            "\n",
            "Real Translation: \n",
            "o gato caiu da árvore\n",
            "\n",
            "The attention plot for the 1st head of the last decoder attention block is:\n"
          ]
        },
        {
          "output_type": "display_data",
          "data": {
            "image/png": "[encoded data removed]",
            "text/plain": [
              "<Figure size 432x288 with 1 Axes>"
            ]
          },
          "metadata": {
            "needs_background": "light"
          }
        }
      ]
    },
    {
      "cell_type": "code",
      "metadata": {
        "colab": {
          "base_uri": "https://localhost:8080/",
          "height": 476
        },
        "id": "LF9w5YDJMX_3",
        "outputId": "dd7130c6-e501-41b5-aa64-013ebda0c938"
      },
      "source": [
        "#test sentence 3:\n",
        "input_sentence = \"Portugese is a beautiful language.\"\n",
        "real_translation = \"O português é uma língua linda.\"\n",
        "\n",
        "#getting predicting\n",
        "prediction, tokens, weights = translator(tf.constant(input_sentence))\n",
        "\n",
        "eval_plotting_function(input_sentence,prediction,tokens,weights,real_translation)"
      ],
      "id": "LF9w5YDJMX_3",
      "execution_count": 75,
      "outputs": [
        {
          "output_type": "stream",
          "name": "stdout",
          "text": [
            "Input Sentence: \n",
            "Portugese is a beautiful language\n",
            "\n",
            "Predicted Sentence: \n",
            "portundado e uma bela lingua .\n",
            "\n",
            "Real Translation: \n",
            "Eu trabalho muito duro\n",
            "\n",
            "The attention plot for the 1st head of the last decoder attention block is:\n"
          ]
        },
        {
          "output_type": "display_data",
          "data": {
            "image/png": "[encoded data removed]",
            "text/plain": [
              "<Figure size 432x288 with 1 Axes>"
            ]
          },
          "metadata": {
            "needs_background": "light"
          }
        }
      ]
    },
    {
      "cell_type": "code",
      "metadata": {
        "colab": {
          "base_uri": "https://localhost:8080/",
          "height": 475
        },
        "id": "iSD3o5Y5NUb_",
        "outputId": "4935d41d-34db-40c9-9e3f-e3ee0756036a"
      },
      "source": [
        "#test sentence 4:\n",
        "input_sentence = \"I would love to work for your company.\"\n",
        "real_translation = \"Eu adoraria trabalhar para sua empresa.\"\n",
        "\n",
        "#getting predicting\n",
        "prediction, tokens, weights = translator(tf.constant(input_sentence))\n",
        "\n",
        "eval_plotting_function(input_sentence,prediction,tokens,weights,real_translation)"
      ],
      "id": "iSD3o5Y5NUb_",
      "execution_count": 79,
      "outputs": [
        {
          "output_type": "stream",
          "name": "stdout",
          "text": [
            "Input Sentence: \n",
            "I would love to work for your company.\n",
            "\n",
            "Predicted Sentence: \n",
            "adoraria trabalhar para a vossa companhia .\n",
            "\n",
            "Real Translation: \n",
            "Eu adoraria trabalhar para sua empresa.\n",
            "\n",
            "The attention plot for the 1st head of the last decoder attention block is:\n"
          ]
        },
        {
          "output_type": "display_data",
          "data": {
            "image/png": "[encoded data removed]",
            "text/plain": [
              "<Figure size 432x288 with 1 Axes>"
            ]
          },
          "metadata": {
            "needs_background": "light"
          }
        }
      ]
    }
  ]
}