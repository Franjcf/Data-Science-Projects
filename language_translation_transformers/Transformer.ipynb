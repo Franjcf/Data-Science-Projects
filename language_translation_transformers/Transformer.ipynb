{
  "nbformat": 4,
  "nbformat_minor": 5,
  "metadata": {
    "kernelspec": {
      "display_name": "Python 3",
      "language": "python",
      "name": "python3"
    },
    "language_info": {
      "codemirror_mode": {
        "name": "ipython",
        "version": 3
      },
      "file_extension": ".py",
      "mimetype": "text/x-python",
      "name": "python",
      "nbconvert_exporter": "python",
      "pygments_lexer": "ipython3",
      "version": "3.6.13"
    },
    "colab": {
      "name": "Transformer.ipynb",
      "provenance": [],
      "collapsed_sections": [],
      "include_colab_link": true
    }
  },
  "cells": [
    {
      "cell_type": "markdown",
      "metadata": {
        "id": "view-in-github",
        "colab_type": "text"
      },
      "source": [
        "<a href=\"https://colab.research.google.com/github/Franjcf/Data-Science-Projects/blob/main/language_translation_transformers/Transformer.ipynb\" target=\"_parent\"><img src=\"https://colab.research.google.com/assets/colab-badge.svg\" alt=\"Open In Colab\"/></a>"
      ]
    },
    {
      "cell_type": "markdown",
      "metadata": {
        "id": "b49ba28a"
      },
      "source": [
        "# Implementing a Transformer for language translation\n",
        "\n",
        "Credits: The transformer-building procedure shown here generally follows the excellent TensorFlow worklfow shown in: https://www.tensorflow.org/text/tutorials/transformer. Hoewever, in this particular instance I made it possible to have different amounts of recurrent encoder and decoder layers."
      ],
      "id": "b49ba28a"
    },
    {
      "cell_type": "markdown",
      "metadata": {
        "id": "021248cf"
      },
      "source": [
        "# Loading main libraries"
      ],
      "id": "021248cf"
    },
    {
      "cell_type": "code",
      "metadata": {
        "id": "XFG0NDRu5mYQ",
        "colab": {
          "base_uri": "https://localhost:8080/"
        },
        "outputId": "97441386-7281-4279-ffa7-1ce931117ecd"
      },
      "source": [
        "!pip install tensorflow_datasets\n",
        "!pip install -U tensorflow-text"
      ],
      "id": "XFG0NDRu5mYQ",
      "execution_count": 90,
      "outputs": [
        {
          "output_type": "stream",
          "name": "stdout",
          "text": [
            "Requirement already satisfied: tensorflow_datasets in /usr/local/lib/python3.7/dist-packages (4.0.1)\n",
            "Requirement already satisfied: dill in /usr/local/lib/python3.7/dist-packages (from tensorflow_datasets) (0.3.4)\n",
            "Requirement already satisfied: future in /usr/local/lib/python3.7/dist-packages (from tensorflow_datasets) (0.16.0)\n",
            "Requirement already satisfied: six in /usr/local/lib/python3.7/dist-packages (from tensorflow_datasets) (1.15.0)\n",
            "Requirement already satisfied: absl-py in /usr/local/lib/python3.7/dist-packages (from tensorflow_datasets) (0.12.0)\n",
            "Requirement already satisfied: tqdm in /usr/local/lib/python3.7/dist-packages (from tensorflow_datasets) (4.62.2)\n",
            "Requirement already satisfied: tensorflow-metadata in /usr/local/lib/python3.7/dist-packages (from tensorflow_datasets) (1.2.0)\n",
            "Requirement already satisfied: protobuf>=3.6.1 in /usr/local/lib/python3.7/dist-packages (from tensorflow_datasets) (3.17.3)\n",
            "Requirement already satisfied: termcolor in /usr/local/lib/python3.7/dist-packages (from tensorflow_datasets) (1.1.0)\n",
            "Requirement already satisfied: numpy in /usr/local/lib/python3.7/dist-packages (from tensorflow_datasets) (1.19.5)\n",
            "Requirement already satisfied: dm-tree in /usr/local/lib/python3.7/dist-packages (from tensorflow_datasets) (0.1.6)\n",
            "Requirement already satisfied: importlib-resources in /usr/local/lib/python3.7/dist-packages (from tensorflow_datasets) (5.2.2)\n",
            "Requirement already satisfied: attrs>=18.1.0 in /usr/local/lib/python3.7/dist-packages (from tensorflow_datasets) (21.2.0)\n",
            "Requirement already satisfied: requests>=2.19.0 in /usr/local/lib/python3.7/dist-packages (from tensorflow_datasets) (2.23.0)\n",
            "Requirement already satisfied: promise in /usr/local/lib/python3.7/dist-packages (from tensorflow_datasets) (2.3)\n",
            "Requirement already satisfied: chardet<4,>=3.0.2 in /usr/local/lib/python3.7/dist-packages (from requests>=2.19.0->tensorflow_datasets) (3.0.4)\n",
            "Requirement already satisfied: urllib3!=1.25.0,!=1.25.1,<1.26,>=1.21.1 in /usr/local/lib/python3.7/dist-packages (from requests>=2.19.0->tensorflow_datasets) (1.24.3)\n",
            "Requirement already satisfied: idna<3,>=2.5 in /usr/local/lib/python3.7/dist-packages (from requests>=2.19.0->tensorflow_datasets) (2.10)\n",
            "Requirement already satisfied: certifi>=2017.4.17 in /usr/local/lib/python3.7/dist-packages (from requests>=2.19.0->tensorflow_datasets) (2021.5.30)\n",
            "Requirement already satisfied: zipp>=3.1.0 in /usr/local/lib/python3.7/dist-packages (from importlib-resources->tensorflow_datasets) (3.5.0)\n",
            "Requirement already satisfied: googleapis-common-protos<2,>=1.52.0 in /usr/local/lib/python3.7/dist-packages (from tensorflow-metadata->tensorflow_datasets) (1.53.0)\n",
            "Requirement already satisfied: tensorflow-text in /usr/local/lib/python3.7/dist-packages (2.6.0)\n",
            "Requirement already satisfied: tensorflow-hub>=0.8.0 in /usr/local/lib/python3.7/dist-packages (from tensorflow-text) (0.12.0)\n",
            "Requirement already satisfied: tensorflow<2.7,>=2.6.0 in /usr/local/lib/python3.7/dist-packages (from tensorflow-text) (2.6.0)\n",
            "Requirement already satisfied: gast==0.4.0 in /usr/local/lib/python3.7/dist-packages (from tensorflow<2.7,>=2.6.0->tensorflow-text) (0.4.0)\n",
            "Requirement already satisfied: absl-py~=0.10 in /usr/local/lib/python3.7/dist-packages (from tensorflow<2.7,>=2.6.0->tensorflow-text) (0.12.0)\n",
            "Requirement already satisfied: grpcio<2.0,>=1.37.0 in /usr/local/lib/python3.7/dist-packages (from tensorflow<2.7,>=2.6.0->tensorflow-text) (1.40.0)\n",
            "Requirement already satisfied: protobuf>=3.9.2 in /usr/local/lib/python3.7/dist-packages (from tensorflow<2.7,>=2.6.0->tensorflow-text) (3.17.3)\n",
            "Requirement already satisfied: keras~=2.6 in /usr/local/lib/python3.7/dist-packages (from tensorflow<2.7,>=2.6.0->tensorflow-text) (2.6.0)\n",
            "Requirement already satisfied: h5py~=3.1.0 in /usr/local/lib/python3.7/dist-packages (from tensorflow<2.7,>=2.6.0->tensorflow-text) (3.1.0)\n",
            "Requirement already satisfied: keras-preprocessing~=1.1.2 in /usr/local/lib/python3.7/dist-packages (from tensorflow<2.7,>=2.6.0->tensorflow-text) (1.1.2)\n",
            "Requirement already satisfied: termcolor~=1.1.0 in /usr/local/lib/python3.7/dist-packages (from tensorflow<2.7,>=2.6.0->tensorflow-text) (1.1.0)\n",
            "Requirement already satisfied: tensorboard~=2.6 in /usr/local/lib/python3.7/dist-packages (from tensorflow<2.7,>=2.6.0->tensorflow-text) (2.6.0)\n",
            "Requirement already satisfied: numpy~=1.19.2 in /usr/local/lib/python3.7/dist-packages (from tensorflow<2.7,>=2.6.0->tensorflow-text) (1.19.5)\n",
            "Requirement already satisfied: flatbuffers~=1.12.0 in /usr/local/lib/python3.7/dist-packages (from tensorflow<2.7,>=2.6.0->tensorflow-text) (1.12)\n",
            "Requirement already satisfied: google-pasta~=0.2 in /usr/local/lib/python3.7/dist-packages (from tensorflow<2.7,>=2.6.0->tensorflow-text) (0.2.0)\n",
            "Requirement already satisfied: six~=1.15.0 in /usr/local/lib/python3.7/dist-packages (from tensorflow<2.7,>=2.6.0->tensorflow-text) (1.15.0)\n",
            "Requirement already satisfied: clang~=5.0 in /usr/local/lib/python3.7/dist-packages (from tensorflow<2.7,>=2.6.0->tensorflow-text) (5.0)\n",
            "Requirement already satisfied: opt-einsum~=3.3.0 in /usr/local/lib/python3.7/dist-packages (from tensorflow<2.7,>=2.6.0->tensorflow-text) (3.3.0)\n",
            "Requirement already satisfied: typing-extensions~=3.7.4 in /usr/local/lib/python3.7/dist-packages (from tensorflow<2.7,>=2.6.0->tensorflow-text) (3.7.4.3)\n",
            "Requirement already satisfied: astunparse~=1.6.3 in /usr/local/lib/python3.7/dist-packages (from tensorflow<2.7,>=2.6.0->tensorflow-text) (1.6.3)\n",
            "Requirement already satisfied: wheel~=0.35 in /usr/local/lib/python3.7/dist-packages (from tensorflow<2.7,>=2.6.0->tensorflow-text) (0.37.0)\n",
            "Requirement already satisfied: tensorflow-estimator~=2.6 in /usr/local/lib/python3.7/dist-packages (from tensorflow<2.7,>=2.6.0->tensorflow-text) (2.6.0)\n",
            "Requirement already satisfied: wrapt~=1.12.1 in /usr/local/lib/python3.7/dist-packages (from tensorflow<2.7,>=2.6.0->tensorflow-text) (1.12.1)\n",
            "Requirement already satisfied: cached-property in /usr/local/lib/python3.7/dist-packages (from h5py~=3.1.0->tensorflow<2.7,>=2.6.0->tensorflow-text) (1.5.2)\n",
            "Requirement already satisfied: setuptools>=41.0.0 in /usr/local/lib/python3.7/dist-packages (from tensorboard~=2.6->tensorflow<2.7,>=2.6.0->tensorflow-text) (57.4.0)\n",
            "Requirement already satisfied: tensorboard-data-server<0.7.0,>=0.6.0 in /usr/local/lib/python3.7/dist-packages (from tensorboard~=2.6->tensorflow<2.7,>=2.6.0->tensorflow-text) (0.6.1)\n",
            "Requirement already satisfied: markdown>=2.6.8 in /usr/local/lib/python3.7/dist-packages (from tensorboard~=2.6->tensorflow<2.7,>=2.6.0->tensorflow-text) (3.3.4)\n",
            "Requirement already satisfied: requests<3,>=2.21.0 in /usr/local/lib/python3.7/dist-packages (from tensorboard~=2.6->tensorflow<2.7,>=2.6.0->tensorflow-text) (2.23.0)\n",
            "Requirement already satisfied: werkzeug>=0.11.15 in /usr/local/lib/python3.7/dist-packages (from tensorboard~=2.6->tensorflow<2.7,>=2.6.0->tensorflow-text) (1.0.1)\n",
            "Requirement already satisfied: tensorboard-plugin-wit>=1.6.0 in /usr/local/lib/python3.7/dist-packages (from tensorboard~=2.6->tensorflow<2.7,>=2.6.0->tensorflow-text) (1.8.0)\n",
            "Requirement already satisfied: google-auth-oauthlib<0.5,>=0.4.1 in /usr/local/lib/python3.7/dist-packages (from tensorboard~=2.6->tensorflow<2.7,>=2.6.0->tensorflow-text) (0.4.6)\n",
            "Requirement already satisfied: google-auth<2,>=1.6.3 in /usr/local/lib/python3.7/dist-packages (from tensorboard~=2.6->tensorflow<2.7,>=2.6.0->tensorflow-text) (1.35.0)\n",
            "Requirement already satisfied: cachetools<5.0,>=2.0.0 in /usr/local/lib/python3.7/dist-packages (from google-auth<2,>=1.6.3->tensorboard~=2.6->tensorflow<2.7,>=2.6.0->tensorflow-text) (4.2.2)\n",
            "Requirement already satisfied: rsa<5,>=3.1.4 in /usr/local/lib/python3.7/dist-packages (from google-auth<2,>=1.6.3->tensorboard~=2.6->tensorflow<2.7,>=2.6.0->tensorflow-text) (4.7.2)\n",
            "Requirement already satisfied: pyasn1-modules>=0.2.1 in /usr/local/lib/python3.7/dist-packages (from google-auth<2,>=1.6.3->tensorboard~=2.6->tensorflow<2.7,>=2.6.0->tensorflow-text) (0.2.8)\n",
            "Requirement already satisfied: requests-oauthlib>=0.7.0 in /usr/local/lib/python3.7/dist-packages (from google-auth-oauthlib<0.5,>=0.4.1->tensorboard~=2.6->tensorflow<2.7,>=2.6.0->tensorflow-text) (1.3.0)\n",
            "Requirement already satisfied: importlib-metadata in /usr/local/lib/python3.7/dist-packages (from markdown>=2.6.8->tensorboard~=2.6->tensorflow<2.7,>=2.6.0->tensorflow-text) (4.8.1)\n",
            "Requirement already satisfied: pyasn1<0.5.0,>=0.4.6 in /usr/local/lib/python3.7/dist-packages (from pyasn1-modules>=0.2.1->google-auth<2,>=1.6.3->tensorboard~=2.6->tensorflow<2.7,>=2.6.0->tensorflow-text) (0.4.8)\n",
            "Requirement already satisfied: certifi>=2017.4.17 in /usr/local/lib/python3.7/dist-packages (from requests<3,>=2.21.0->tensorboard~=2.6->tensorflow<2.7,>=2.6.0->tensorflow-text) (2021.5.30)\n",
            "Requirement already satisfied: idna<3,>=2.5 in /usr/local/lib/python3.7/dist-packages (from requests<3,>=2.21.0->tensorboard~=2.6->tensorflow<2.7,>=2.6.0->tensorflow-text) (2.10)\n",
            "Requirement already satisfied: urllib3!=1.25.0,!=1.25.1,<1.26,>=1.21.1 in /usr/local/lib/python3.7/dist-packages (from requests<3,>=2.21.0->tensorboard~=2.6->tensorflow<2.7,>=2.6.0->tensorflow-text) (1.24.3)\n",
            "Requirement already satisfied: chardet<4,>=3.0.2 in /usr/local/lib/python3.7/dist-packages (from requests<3,>=2.21.0->tensorboard~=2.6->tensorflow<2.7,>=2.6.0->tensorflow-text) (3.0.4)\n",
            "Requirement already satisfied: oauthlib>=3.0.0 in /usr/local/lib/python3.7/dist-packages (from requests-oauthlib>=0.7.0->google-auth-oauthlib<0.5,>=0.4.1->tensorboard~=2.6->tensorflow<2.7,>=2.6.0->tensorflow-text) (3.1.1)\n",
            "Requirement already satisfied: zipp>=0.5 in /usr/local/lib/python3.7/dist-packages (from importlib-metadata->markdown>=2.6.8->tensorboard~=2.6->tensorflow<2.7,>=2.6.0->tensorflow-text) (3.5.0)\n"
          ]
        }
      ]
    },
    {
      "cell_type": "code",
      "metadata": {
        "id": "8522273c"
      },
      "source": [
        "import collections\n",
        "import logging\n",
        "import os\n",
        "import pathlib\n",
        "import re\n",
        "import string\n",
        "import sys\n",
        "import time\n",
        "\n",
        "import numpy as np\n",
        "import matplotlib.pyplot as plt\n",
        "\n",
        "import tensorflow_datasets as tfds\n",
        "import tensorflow_text as text\n",
        "import tensorflow as tf"
      ],
      "id": "8522273c",
      "execution_count": 91,
      "outputs": []
    },
    {
      "cell_type": "markdown",
      "metadata": {
        "id": "441f388f"
      },
      "source": [
        "# Loading and manipulating the data"
      ],
      "id": "441f388f"
    },
    {
      "cell_type": "code",
      "metadata": {
        "id": "1ab892b7"
      },
      "source": [
        "data, metadata = tfds.load('ted_hrlr_translate/pt_to_en', with_info=True, as_supervised=True)"
      ],
      "id": "1ab892b7",
      "execution_count": 92,
      "outputs": []
    },
    {
      "cell_type": "markdown",
      "metadata": {
        "id": "e27f7ac4"
      },
      "source": [
        "## Separate data into training, testing, and validation datasets"
      ],
      "id": "e27f7ac4"
    },
    {
      "cell_type": "code",
      "metadata": {
        "id": "589ae1e3"
      },
      "source": [
        "train_data = data['train']\n",
        "test_data = data['test']\n",
        "validation_data = data['validation']"
      ],
      "id": "589ae1e3",
      "execution_count": 93,
      "outputs": []
    },
    {
      "cell_type": "markdown",
      "metadata": {
        "id": "814460cb"
      },
      "source": [
        "## learning about the data"
      ],
      "id": "814460cb"
    },
    {
      "cell_type": "code",
      "metadata": {
        "colab": {
          "base_uri": "https://localhost:8080/"
        },
        "id": "b4a32be2",
        "outputId": "7c37c267-73b2-41cd-f11b-ddb7d927e204"
      },
      "source": [
        "print(\"The traning, validation, and testing splits are:\")\n",
        "metadata.splits"
      ],
      "id": "b4a32be2",
      "execution_count": 94,
      "outputs": [
        {
          "output_type": "stream",
          "name": "stdout",
          "text": [
            "The traning, validation, and testing splits are:\n"
          ]
        },
        {
          "output_type": "execute_result",
          "data": {
            "text/plain": [
              "{'test': <tfds.core.SplitInfo num_examples=1803>,\n",
              " 'train': <tfds.core.SplitInfo num_examples=51785>,\n",
              " 'validation': <tfds.core.SplitInfo num_examples=1193>}"
            ]
          },
          "metadata": {},
          "execution_count": 94
        }
      ]
    },
    {
      "cell_type": "code",
      "metadata": {
        "colab": {
          "base_uri": "https://localhost:8080/"
        },
        "id": "f91aa56b",
        "outputId": "07e418b5-9c60-435c-883c-cc9195af1b9d"
      },
      "source": [
        "print(\"the labeled keys are:\")\n",
        "metadata.supervised_keys"
      ],
      "id": "f91aa56b",
      "execution_count": 95,
      "outputs": [
        {
          "output_type": "stream",
          "name": "stdout",
          "text": [
            "the labeled keys are:\n"
          ]
        },
        {
          "output_type": "execute_result",
          "data": {
            "text/plain": [
              "('pt', 'en')"
            ]
          },
          "metadata": {},
          "execution_count": 95
        }
      ]
    },
    {
      "cell_type": "code",
      "metadata": {
        "colab": {
          "base_uri": "https://localhost:8080/"
        },
        "id": "6025170e",
        "outputId": "373398a0-5b8b-4b83-8c91-372c5e452d75"
      },
      "source": [
        "num_of_examples = 5\n",
        "\n",
        "for port, eng in train_data.batch(num_of_examples).take(1).as_numpy_iterator():\n",
        "    \n",
        "    print(\"Portuguse examples:\")\n",
        "    for p in port:\n",
        "        print(p.decode(\"utf-8\"))\n",
        "        \n",
        "    print(\"\")\n",
        "\n",
        "    print(\"English examples:\")\n",
        "    for e in eng:\n",
        "        print(e.decode(\"utf-8\"))"
      ],
      "id": "6025170e",
      "execution_count": 96,
      "outputs": [
        {
          "output_type": "stream",
          "name": "stdout",
          "text": [
            "Portuguse examples:\n",
            "e quando melhoramos a procura , tiramos a única vantagem da impressão , que é a serendipidade .\n",
            "mas e se estes fatores fossem ativos ?\n",
            "mas eles não tinham a curiosidade de me testar .\n",
            "e esta rebeldia consciente é a razão pela qual eu , como agnóstica , posso ainda ter fé .\n",
            "`` `` '' podem usar tudo sobre a mesa no meu corpo . ''\n",
            "\n",
            "English examples:\n",
            "and when you improve searchability , you actually take away the one advantage of print , which is serendipity .\n",
            "but what if it were active ?\n",
            "but they did n't test for curiosity .\n",
            "and this conscious defiance is why i , as an agnostic , can still have faith .\n",
            "you can use everything on the table on me .\n"
          ]
        }
      ]
    },
    {
      "cell_type": "markdown",
      "metadata": {
        "id": "c1eca29b"
      },
      "source": [
        "# Tokenizing words for Embedding \n",
        "\n",
        "Here we use a pre-trained model which we download from a google API. This has been trained for english to portuguese translation. These tokens will then be used for embedding when used as inputs in an embedding layer. \n",
        "\n",
        "The cool thing about this particular tokenizer is that it is a sub-word tokenizer, meaning that it not only learns the words themselved, but part of the words as well. This way it can interpolate and find meaning in new words that it might have not seen before.\n",
        "\n",
        "For example: for the word human, we generate {h, hu, hum, huma, human, ##u, ##um, ##uma, ##uman, ##m, ##ma, ##man, #a, ##an, ##n}.\n",
        "\n",
        "Tokenizers are built based on a particular vocabulary set, so they need to be trained on your vocabulary before using. \n",
        "\n",
        "Note that, in this case, embedding will not be a representation of similarity between words, just a vectorization of said words and sub words. The similarity embedding is actually the output of the encoder."
      ],
      "id": "c1eca29b"
    },
    {
      "cell_type": "code",
      "metadata": {
        "colab": {
          "base_uri": "https://localhost:8080/",
          "height": 35
        },
        "id": "c84bbcda",
        "outputId": "1e34e834-7d3b-43ff-873c-cc8fc3ee0dd9"
      },
      "source": [
        "#downloading model\n",
        "embed_name = \"ted_hrlr_translate_pt_en_converter\"\n",
        "tf.keras.utils.get_file(\n",
        "    embed_name+\".zip\",\n",
        "    \"https://storage.googleapis.com/download.tensorflow.org/models/\"+embed_name+\".zip\",\n",
        "    cache_dir='.', cache_subdir='', extract=True\n",
        ")"
      ],
      "id": "c84bbcda",
      "execution_count": 97,
      "outputs": [
        {
          "output_type": "execute_result",
          "data": {
            "application/vnd.google.colaboratory.intrinsic+json": {
              "type": "string"
            },
            "text/plain": [
              "'./ted_hrlr_translate_pt_en_converter.zip'"
            ]
          },
          "metadata": {},
          "execution_count": 97
        }
      ]
    },
    {
      "cell_type": "code",
      "metadata": {
        "id": "n3I81S79tlfi"
      },
      "source": [
        "#load tokenizer model\n",
        "tokenizer = tf.saved_model.load(embed_name)"
      ],
      "id": "n3I81S79tlfi",
      "execution_count": 98,
      "outputs": []
    },
    {
      "cell_type": "code",
      "metadata": {
        "colab": {
          "base_uri": "https://localhost:8080/"
        },
        "id": "MqGicVseuRa9",
        "outputId": "8f55cfd6-e975-4f16-8192-b750167c3006"
      },
      "source": [
        "#testing tokenizing english words\n",
        "#Each word token maps to a word-embedding vector in the full embedding matrix.\n",
        "print(\"Example text: \\n\", eng)\n",
        "en_tokens = tokenizer.en.tokenize(eng)\n",
        "print(\"\")\n",
        "print(\"Example tokens: \\n\", en_tokens)\n",
        "en_retoken = tokenizer.en.lookup(en_tokens)\n",
        "print(\"\")\n",
        "print(\"Example un-tokenized text: \\n\",en_retoken)"
      ],
      "id": "MqGicVseuRa9",
      "execution_count": 99,
      "outputs": [
        {
          "output_type": "stream",
          "name": "stdout",
          "text": [
            "Example text: \n",
            " [b'and when you improve searchability , you actually take away the one advantage of print , which is serendipity .'\n",
            " b'but what if it were active ?' b\"but they did n't test for curiosity .\"\n",
            " b'and this conscious defiance is why i , as an agnostic , can still have faith .'\n",
            " b'you can use everything on the table on me .']\n",
            "\n",
            "Example tokens: \n",
            " <tf.RaggedTensor [[2, 72, 117, 79, 1259, 1491, 2362, 13, 79, 150, 184, 311, 71, 103, 2308, 74, 2679, 13, 148, 80, 55, 4840, 1434, 2423, 540, 15, 3], [2, 87, 90, 107, 76, 129, 1852, 30, 3], [2, 87, 83, 149, 50, 9, 56, 664, 85, 2512, 15, 3], [2, 72, 81, 2508, 2159, 3072, 1282, 80, 192, 45, 13, 100, 111, 6040, 3176, 3186, 13, 94, 235, 89, 1938, 15, 3], [2, 79, 94, 212, 299, 92, 71, 1356, 92, 114, 15, 3]]>\n",
            "\n",
            "Example un-tokenized text: \n",
            " <tf.RaggedTensor [[b'[START]', b'and', b'when', b'you', b'improve', b'search', b'##ability', b',', b'you', b'actually', b'take', b'away', b'the', b'one', b'advantage', b'of', b'print', b',', b'which', b'is', b's', b'##ere', b'##nd', b'##ip', b'##ity', b'.', b'[END]'], [b'[START]', b'but', b'what', b'if', b'it', b'were', b'active', b'?', b'[END]'], [b'[START]', b'but', b'they', b'did', b'n', b\"'\", b't', b'test', b'for', b'curiosity', b'.', b'[END]'], [b'[START]', b'and', b'this', b'conscious', b'de', b'##fi', b'##ance', b'is', b'why', b'i', b',', b'as', b'an', b'ag', b'##no', b'##stic', b',', b'can', b'still', b'have', b'faith', b'.', b'[END]'], [b'[START]', b'you', b'can', b'use', b'everything', b'on', b'the', b'table', b'on', b'me', b'.', b'[END]']]>\n"
          ]
        }
      ]
    },
    {
      "cell_type": "code",
      "metadata": {
        "id": "K5SrInDNvuXN"
      },
      "source": [
        "# creating function to tokenize the text\n",
        "\n",
        "def tokenize_text(eng_data, port_data):\n",
        "  eng_data = tokenizer.en.tokenize(eng_data).to_tensor() #we cast into a sparse tensor \n",
        "  port_data = tokenizer.pt.tokenize(port_data).to_tensor() #we cast into a sparse tensor\n",
        "\n",
        "  return eng_data, port_data\n"
      ],
      "id": "K5SrInDNvuXN",
      "execution_count": 100,
      "outputs": []
    },
    {
      "cell_type": "markdown",
      "metadata": {
        "id": "BTdtuHArxfjs"
      },
      "source": [
        "# Creating a Positional Encoder\n",
        "\n",
        "We now complement the encoder with a measure of position for each word in the sentence. This is done with a sinosoidal function, where words with similar values are close together. This will help us with the self-attention steps. Note that this does not take any data as input; every position in a sentence up to \"n\" words long is encoded into a vector that is \"d\" dimensions in size. Therefore, each word in a given sentence/input will have a different position which is described by a different d-sized vector. The result of the following is a n by d tensor."
      ],
      "id": "BTdtuHArxfjs"
    },
    {
      "cell_type": "markdown",
      "metadata": {
        "id": "4jJtIVO-QiSb"
      },
      "source": [
        "## Defining Functions"
      ],
      "id": "4jJtIVO-QiSb"
    },
    {
      "cell_type": "code",
      "metadata": {
        "id": "ZCn-1p2Ex6sF"
      },
      "source": [
        "def angle_arguments(position, index, embedding_dimension):\n",
        "  angle_argument = position / np.power(10000,index/embedding_dimension)\n",
        "  return angle_argument\n",
        "\n",
        "def pos_encoding(max_positions, embedding_dimension):\n",
        "  #creating a max_position by embedding_dimension matrix\n",
        "  angles = angle_arguments(\n",
        "                          np.arange(max_positions)[:,np.newaxis], #creating a max_positions by 1 matrix \n",
        "                          np.arange(embedding_dimension)[np.newaxis,:], #creating a 1 by emedding_dimension matrix \n",
        "                          embedding_dimension\n",
        "                          )\n",
        "  \n",
        "  #appling sine to even indices\n",
        "  angles[:,0::2] = np.sin(angles[:,0::2])\n",
        "\n",
        "  #applying cosine to uneven indices\n",
        "  angles[:,1::2] = np.cos(angles[:,1::2])\n",
        "\n",
        "  #returning a 3-D matrix of 1 by max_position by embedding_dimension\n",
        "  return tf.cast(angles[np.newaxis, ...], dtype=tf.float32)\n"
      ],
      "id": "ZCn-1p2Ex6sF",
      "execution_count": 101,
      "outputs": []
    },
    {
      "cell_type": "markdown",
      "metadata": {
        "id": "x4xUGcMQX9T6"
      },
      "source": [
        "## Performing encoding and checking"
      ],
      "id": "x4xUGcMQX9T6"
    },
    {
      "cell_type": "code",
      "metadata": {
        "colab": {
          "base_uri": "https://localhost:8080/",
          "height": 299
        },
        "id": "c1ex5uXLYAQW",
        "outputId": "4ef47a7c-e6db-41ad-8894-ecf58d9df651"
      },
      "source": [
        "#defining variables\n",
        "max_position = 2048\n",
        "embedding_dimension = 512\n",
        "\n",
        "#performing enconding\n",
        "positional_encoding = pos_encoding(max_position,embedding_dimension)\n",
        "\n",
        "#checking shape\n",
        "print(\"The shape of the positional encoding is: \", positional_encoding.shape)\n",
        "\n",
        "#visual check\n",
        "positional_encoding = tf.reshape(positional_encoding, (max_position, embedding_dimension//2, 2)) #reshaping into a max_position, by embedding/2 by 2\n",
        "positional_encoding = tf.transpose(positional_encoding, (2, 1, 0)) # transposing to make 2-d vector\n",
        "positional_encoding = tf.reshape(positional_encoding, (embedding_dimension, max_position)) # reshaping vector\n",
        "plt.pcolormesh(positional_encoding,cmap=\"inferno\")"
      ],
      "id": "c1ex5uXLYAQW",
      "execution_count": 102,
      "outputs": [
        {
          "output_type": "stream",
          "name": "stdout",
          "text": [
            "The shape of the positional encoding is:  (1, 2048, 512)\n"
          ]
        },
        {
          "output_type": "execute_result",
          "data": {
            "text/plain": [
              "<matplotlib.collections.QuadMesh at 0x7f4bee830650>"
            ]
          },
          "metadata": {},
          "execution_count": 102
        },
        {
          "output_type": "display_data",
          "data": {
            "image/png": "[encoded data removed]",
            "text/plain": [
              "<Figure size 432x288 with 1 Axes>"
            ]
          },
          "metadata": {
            "needs_background": "light"
          }
        }
      ]
    },
    {
      "cell_type": "markdown",
      "metadata": {
        "id": "3n10a1FYcce0"
      },
      "source": [
        "# Creating masks for the input"
      ],
      "id": "3n10a1FYcce0"
    },
    {
      "cell_type": "markdown",
      "metadata": {
        "id": "jRu8Y7Hbcm_L"
      },
      "source": [
        "## Create mask to prevent looking into future words"
      ],
      "id": "jRu8Y7Hbcm_L"
    },
    {
      "cell_type": "code",
      "metadata": {
        "colab": {
          "base_uri": "https://localhost:8080/"
        },
        "id": "1YNXLRjtcfUW",
        "outputId": "a0dd44ae-63a2-4e90-dc32-3cb91dfeca19"
      },
      "source": [
        "def make_look_ahead_mask(entry_size):\n",
        "  \"\"\"\n",
        "  This will create a diagonal matrix with 0's on the lower half and 1 in the upper half. \n",
        "  The code will only use the 0 entries when training the i'th word. \n",
        "  We want to use the values with mask =0 and discard values with mask = 1\n",
        "  \"\"\"\n",
        "  base = tf.ones((entry_size,entry_size))\n",
        "  mask = 1-tf.linalg.band_part(base,-1,0) #the -1, 0 arguments zero-out the lower diagonal\n",
        "  return mask\n",
        "\n",
        "make_look_ahead_mask(5)"
      ],
      "id": "1YNXLRjtcfUW",
      "execution_count": 103,
      "outputs": [
        {
          "output_type": "execute_result",
          "data": {
            "text/plain": [
              "<tf.Tensor: shape=(5, 5), dtype=float32, numpy=\n",
              "array([[0., 1., 1., 1., 1.],\n",
              "       [0., 0., 1., 1., 1.],\n",
              "       [0., 0., 0., 1., 1.],\n",
              "       [0., 0., 0., 0., 1.],\n",
              "       [0., 0., 0., 0., 0.]], dtype=float32)>"
            ]
          },
          "metadata": {},
          "execution_count": 103
        }
      ]
    },
    {
      "cell_type": "markdown",
      "metadata": {
        "id": "t_OU7tBkfr1w"
      },
      "source": [
        "## create maks to prevent pad tokens from being used\n",
        "\n",
        "padding is done to make all the sentences the same length by adding zeros. We dont want to procces these zeros. "
      ],
      "id": "t_OU7tBkfr1w"
    },
    {
      "cell_type": "code",
      "metadata": {
        "colab": {
          "base_uri": "https://localhost:8080/"
        },
        "id": "HQfkdbs7fvBe",
        "outputId": "f8695ee2-b472-4dad-cfb9-69a14e3d418d"
      },
      "source": [
        "def make_padding_mask(entry):\n",
        "  \"\"\"\n",
        "  Returns a 1 where there is padding, i.e where entry = 0\n",
        "  We want to use the values with mask =0 and discard values with mask = 1\n",
        "  \"\"\"\n",
        "  #getting the mask\n",
        "  entry = tf.math.equal(entry,0)\n",
        "\n",
        "  #casting into a tf tensor\n",
        "  entry = tf.cast(entry, tf.float32)\n",
        "\n",
        "  #adding extra dimensions for input into attention heads\n",
        "  #this will have the size: batchSize, 1, 1, sentence_size\n",
        "  return entry[:,tf.newaxis,tf.newaxis,:]\n",
        "\n",
        "#test\n",
        "test = tf.constant([[0, 5 , 5, 5, 5, 0, 0],[0, 0 , 0, 0, 5, 0, 0]])\n",
        "make_padding_mask(test)\n"
      ],
      "id": "HQfkdbs7fvBe",
      "execution_count": 104,
      "outputs": [
        {
          "output_type": "execute_result",
          "data": {
            "text/plain": [
              "<tf.Tensor: shape=(2, 1, 1, 7), dtype=float32, numpy=\n",
              "array([[[[1., 0., 0., 0., 0., 1., 1.]]],\n",
              "\n",
              "\n",
              "       [[[1., 1., 1., 1., 0., 1., 1.]]]], dtype=float32)>"
            ]
          },
          "metadata": {},
          "execution_count": 104
        }
      ]
    },
    {
      "cell_type": "markdown",
      "metadata": {
        "id": "qDlkBvkCjwTQ"
      },
      "source": [
        "# Implementing attention"
      ],
      "id": "qDlkBvkCjwTQ"
    },
    {
      "cell_type": "markdown",
      "metadata": {
        "id": "r3ZqxlailVoX"
      },
      "source": [
        "## Scaled dot product attention\n",
        "\n",
        "the q = query value is a matrix that indicated which k=key values you want to sample and compare. The k = key values then map the query values to the actual values. Therefore, the scaled weights (the output of the softmax) indicated which values you are comparing and will always add up to one. You will see this in the testing phase."
      ],
      "id": "r3ZqxlailVoX"
    },
    {
      "cell_type": "code",
      "metadata": {
        "id": "uQcHcxOVjymX"
      },
      "source": [
        "def dot_product_attention(q, k, v, mask):\n",
        "  \n",
        "  #multiply q with k^t\n",
        "  #this will create a ... by q_length by k_length matrix\n",
        "  q_k = tf.matmul(q,k,transpose_b=True)\n",
        "\n",
        "  #scale by the size of the embedding dimension (the last dimension in the keys input\n",
        "  sqrt_d = tf.math.sqrt(tf.cast(tf.shape(k)[-1],tf.float32))\n",
        "  q_k_scaled = q_k / sqrt_d\n",
        "\n",
        "  #adding the mask\n",
        "  #if mask is = 1 then values will be esentially zeroed-out\n",
        "  #large negative values in the softmax will essentially by zero. \n",
        "  if mask is not None:\n",
        "    q_k_scaled -= (mask*1e9) \n",
        "\n",
        "  #applying the softmax\n",
        "  #this will keep the ... by q_length by k_length matrix\n",
        "  weights = tf.nn.softmax(q_k_scaled,axis=-1)\n",
        "\n",
        "  #multiplying by v\n",
        "  #create a ... by q_length by v_length matrix\n",
        "  output  = tf.matmul(weights,v)\n",
        "\n",
        "  return tf.cast(output,tf.float32), tf.cast(weights,tf.float32)\n",
        "\n"
      ],
      "id": "uQcHcxOVjymX",
      "execution_count": 105,
      "outputs": []
    },
    {
      "cell_type": "code",
      "metadata": {
        "id": "zAp-RC9znyzQ"
      },
      "source": [
        "#testing and getting intuition\n",
        "\n",
        "def print_attention(q,k,v):\n",
        "  out, weights = dot_product_attention(q,k,v,None)\n",
        "  print(\"The weights are: \")\n",
        "  print(weights)\n",
        "  print(\"the output is:\")\n",
        "  print(out)\n",
        "\n",
        "np.set_printoptions(suppress=True)\n"
      ],
      "id": "zAp-RC9znyzQ",
      "execution_count": 106,
      "outputs": []
    },
    {
      "cell_type": "code",
      "metadata": {
        "colab": {
          "base_uri": "https://localhost:8080/"
        },
        "id": "sabB-8ipvUGM",
        "outputId": "c9e044b5-92f4-4e22-eb3a-4588c3aa1d69"
      },
      "source": [
        "k_test = tf.constant([[10, 0, 0],\n",
        "                     [0, 10, 0],\n",
        "                     [0, 0, 10],\n",
        "                     [0, 0, 10]], dtype=tf.float32)  # (4, 3)\n",
        "\n",
        "v_test = tf.constant([[1, 0],\n",
        "                     [10, 0],\n",
        "                     [100, 5],\n",
        "                    [1000, 6]], dtype=tf.float32)  # (4, 2)\n",
        "\n",
        "\n",
        "q_test = tf.constant([[0, 10, 0]], dtype=tf.float32)  # (1, 3)\n",
        "\n",
        "#Note that this query maps towards the second key (they are the same)\n",
        "#therefore the output will pertain to the secod value\n",
        "print_attention(q_test, k_test, v_test)"
      ],
      "id": "sabB-8ipvUGM",
      "execution_count": 107,
      "outputs": [
        {
          "output_type": "stream",
          "name": "stdout",
          "text": [
            "The weights are: \n",
            "tf.Tensor([[0. 1. 0. 0.]], shape=(1, 4), dtype=float32)\n",
            "the output is:\n",
            "tf.Tensor([[10.  0.]], shape=(1, 2), dtype=float32)\n"
          ]
        }
      ]
    },
    {
      "cell_type": "markdown",
      "metadata": {
        "id": "3iIi144yxZzW"
      },
      "source": [
        "note how the weights =1 because we only select one value. and how the output is the selected value vector (the second one).\n"
      ],
      "id": "3iIi144yxZzW"
    },
    {
      "cell_type": "code",
      "metadata": {
        "colab": {
          "base_uri": "https://localhost:8080/"
        },
        "id": "EqzBOOViyG9k",
        "outputId": "3623a098-254a-430a-821c-532573f66b31"
      },
      "source": [
        "k_test = tf.constant([[10, 0, 0],\n",
        "                     [0, 10, 0],\n",
        "                     [0, 0, 10],\n",
        "                     [0, 0, 10]], dtype=tf.float32)  # (4, 3)\n",
        "\n",
        "v_test = tf.constant([[1, 0],\n",
        "                     [10, 0],\n",
        "                     [100, 5],\n",
        "                    [1000, 6]], dtype=tf.float32)  # (4, 2)\n",
        "\n",
        "\n",
        "q_test = tf.constant([[10, 10, 0]], dtype=tf.float32)  # (1, 3)\n",
        "\n",
        "#Note that this query is similar to both the first and second key \n",
        "#therefore the weight will weight the first and second key equaly\n",
        "# and the output will then be the weighted value of the first and second value\n",
        "print_attention(q_test, k_test, v_test)"
      ],
      "id": "EqzBOOViyG9k",
      "execution_count": 108,
      "outputs": [
        {
          "output_type": "stream",
          "name": "stdout",
          "text": [
            "The weights are: \n",
            "tf.Tensor([[0.5 0.5 0.  0. ]], shape=(1, 4), dtype=float32)\n",
            "the output is:\n",
            "tf.Tensor([[5.5 0. ]], shape=(1, 2), dtype=float32)\n"
          ]
        }
      ]
    },
    {
      "cell_type": "markdown",
      "metadata": {
        "id": "QcRGsDxJzQfj"
      },
      "source": [
        "Note how the sum weights = 1 (due to the softmax), and the outputs are the weighted values of the 1st and second values.\n",
        "\n",
        "Essetially the \"attention\" procces uses the query and key vectors to create a weighted vector of certain values.\n",
        "\n",
        "Note that for self-attention, q,k,v are all the same\n"
      ],
      "id": "QcRGsDxJzQfj"
    },
    {
      "cell_type": "markdown",
      "metadata": {
        "id": "IVcygLGElYjx"
      },
      "source": [
        "## Multiheaded attention\n",
        "\n",
        "In this section we essentially transform and train the q,k,x values before feeding them into the dot product attention layer. "
      ],
      "id": "IVcygLGElYjx"
    },
    {
      "cell_type": "code",
      "metadata": {
        "id": "FII9T6aC0F_D"
      },
      "source": [
        "class MultiHeadAttention(tf.keras.layers.Layer):\n",
        "\n",
        "  #note: \n",
        "        #batch_size = # of sentences/samples in each batch\n",
        "        #sample_length = #numbef of words in a sentence\n",
        "        #num heads = number of self-attention heads\n",
        "        #depth =  number of embedding dimensions handled by each head\n",
        "\n",
        "  #initializing the object\n",
        "  def __init__(self, embedding_dimension, number_of_heads):\n",
        "    #inheriting the same init as the base class (tf.keras.layers.Layer)\n",
        "    super(MultiHeadAttention,self).__init__()\n",
        "    self.num_heads = number_of_heads\n",
        "    self.embed_dim = embedding_dimension\n",
        "\n",
        "    #calculating how many units each linear layer should have\n",
        "    self.depth = self.embed_dim // self.num_heads \n",
        "\n",
        "    #checking that we can separate the number of dimenisons into the number of heads\n",
        "    #if not stop building the layer\n",
        "  \n",
        "    assert self.embed_dim % self.num_heads ==0\n",
        "\n",
        "    #create linear layers with the number of dimensions (these will be split later)\n",
        "    #creating the q layer\n",
        "    self.q_layer = tf.keras.layers.Dense(embedding_dimension)\n",
        "\n",
        "    #creating the k layer\n",
        "    self.k_layer = tf.keras.layers.Dense(embedding_dimension)\n",
        "\n",
        "    #creating the v layer\n",
        "    self.v_layer = tf.keras.layers.Dense(embedding_dimension)\n",
        "\n",
        "    #creating the output layer (after attention is calculated)\n",
        "    self.output_layer = tf.keras.layers.Dense(embedding_dimension)\n",
        "\n",
        "\n",
        "  def separating_heads(self, layer, batch_size):\n",
        "    #input layer has size of sequence_length by embedding dimension\n",
        "    #we will create layers that have size: depth by sequence_length\n",
        "\n",
        "    #reshaping the layer\n",
        "    #-1 implies the length of the dimension is infered by the program\n",
        "    layer = tf.reshape(layer,(batch_size,-1, self.num_heads, self.depth)) \n",
        "\n",
        "    #transposing the layer to get (batch_size, num_heads, sequence_length, depth)\n",
        "    layer = tf.transpose(layer,perm=[0, 2, 1, 3])\n",
        "\n",
        "    return layer\n",
        "\n",
        "  def call(self, q, k, v, mask):\n",
        "    #obtaining the batch size. This will be the number of sentences in the query vector\n",
        "    batch_size = tf.shape(q)[0] \n",
        "\n",
        "    #passing q, v, and k into their respective layers and getting the output\n",
        "    #size  = sequence_length (q_size) by embedding_dimension\n",
        "    q = self.q_layer(q) \n",
        "    k = self.k_layer(k) \n",
        "    v = self.v_layer(v) \n",
        "\n",
        "    #splitting the output layers\n",
        "    #size = (size_batche, num_heads, sequence_length, depth)\n",
        "    q_out = self.separating_heads(q,batch_size)\n",
        "    k_out = self.separating_heads(k,batch_size)\n",
        "    v_out = self.separating_heads(v,batch_size)\n",
        "\n",
        "    #passing the output of the linearized q,k,v vectors into the dot product attention\n",
        "    #output shape = (batch_size, num_heads, sequence_length, depth)\n",
        "    #weight shape = (batch_size, num_heads, sequence_length, length_k)\n",
        "    attention_output, attention_weights = dot_product_attention(q=q_out,k=k_out,v=v_out,mask=mask)\n",
        "\n",
        "    #combining the previous outputs to fit into the output layer (un-doing the separating_heads opperation)\n",
        "    attention_output = tf.transpose(attention_output, perm=[0, 2, 1, 3])\n",
        "    attention_output = tf.reshape(attention_output,(batch_size,-1,self.embed_dim))\n",
        "\n",
        "    #the result is a tensor with the size: batch_size , sequence_length, embedding_dimension)\n",
        "\n",
        "    #passing through the output layer\n",
        "    out = self.output_layer(attention_output)\n",
        "\n",
        "    return out, attention_weights\n",
        "\n"
      ],
      "id": "FII9T6aC0F_D",
      "execution_count": 109,
      "outputs": []
    },
    {
      "cell_type": "markdown",
      "metadata": {
        "id": "txzrZB8ePY-Q"
      },
      "source": [
        "## Testing full self-attention"
      ],
      "id": "txzrZB8ePY-Q"
    },
    {
      "cell_type": "code",
      "metadata": {
        "colab": {
          "base_uri": "https://localhost:8080/"
        },
        "id": "30CapxNhPFtH",
        "outputId": "7d4441f0-af5d-44b5-df21-efa6da21f71f"
      },
      "source": [
        "#initializing attention head\n",
        "num_heads = 4\n",
        "test_attention = MultiHeadAttention(embedding_dimension,num_heads)\n",
        "\n",
        "#initializing input of size: batch_size, sequence_length, embedding_dimension\n",
        "batch_size = 1\n",
        "test_q_size = 60 #length of sequence (how long is a sentence)\n",
        "test_input = tf.random.uniform((batch_size,test_q_size,embedding_dimension)) #Outputs random values from a uniform distribution.\n",
        "\n",
        "#running attention\n",
        "#Note that for self-attention, q,k,v are all the same\n",
        "test_output, test_weights = test_attention(test_input,test_input,test_input,None)\n",
        "\n",
        "#looking at sizes\n",
        "print(\"Shape of the output:\", test_output.shape)\n",
        "print(\"Shape of the weights:\", test_weights.shape)\n"
      ],
      "id": "30CapxNhPFtH",
      "execution_count": 110,
      "outputs": [
        {
          "output_type": "stream",
          "name": "stdout",
          "text": [
            "Shape of the output: (1, 60, 512)\n",
            "Shape of the weights: (1, 4, 60, 60)\n"
          ]
        }
      ]
    },
    {
      "cell_type": "markdown",
      "metadata": {
        "id": "iP0Cf9PzUZwB"
      },
      "source": [
        "# Last component of encoder: the standard feed-forward network"
      ],
      "id": "iP0Cf9PzUZwB"
    },
    {
      "cell_type": "code",
      "metadata": {
        "id": "h5tXe843UlC7"
      },
      "source": [
        "def feed_forward_nn(embedding_dimension,hidden_units):\n",
        "  #note that we want hidden_units = length_of_positional encoder for a 1-to-1\n",
        "  #ratio, but it could be anything\n",
        "  #here we create a NN object, but no data is passed through yet\n",
        "  \n",
        "  ffnn = tf.keras.Sequential([\n",
        "              #input size: batch_size by sample_legth, by embed_dimension\n",
        "              #output size = batch_size by sample_length by hidden units. \n",
        "              tf.keras.layers.Dense(hidden_units,activation=\"relu\"),\n",
        "\n",
        "              #output size = batch_size,num_samples, embedding dimension. \n",
        "              tf.keras.layers.Dense(embedding_dimension)\n",
        "  ])\n",
        "\n",
        "  return ffnn\n"
      ],
      "id": "h5tXe843UlC7",
      "execution_count": 111,
      "outputs": []
    },
    {
      "cell_type": "markdown",
      "metadata": {
        "id": "Z7ymvEGqYUAQ"
      },
      "source": [
        "#Putting things together into a single Encoder layer"
      ],
      "id": "Z7ymvEGqYUAQ"
    },
    {
      "cell_type": "code",
      "metadata": {
        "id": "4kUiypHUYYVd"
      },
      "source": [
        "class encoder_layer(tf.keras.layers.Layer):\n",
        "  def __init__(self, embed_dim, num_heads, hidden_units_ffnn, dropout_rate = 0.1):\n",
        "    super().__init__()\n",
        "\n",
        "    #initializing the layer objects\n",
        "    self.MHA_layer = MultiHeadAttention(embed_dim,num_heads)\n",
        "    self.MHA_dropout = tf.keras.layers.Dropout(dropout_rate)\n",
        "    self.MHA_norm_layer = tf.keras.layers.LayerNormalization(epsilon=1e-6)\n",
        "\n",
        "    self.ffnn_layer = feed_forward_nn(embed_dim, hidden_units_ffnn)\n",
        "    self.ffnn_dropout = tf.keras.layers.Dropout(dropout_rate)\n",
        "    self.ffnn_norm_layer = tf.keras.layers.LayerNormalization(epsilon=1e-6)\n",
        "\n",
        "  def call (self,data,mask,is_training):\n",
        "\n",
        "    #running Multihead attention\n",
        "    att_output, MHA_weights = self.MHA_layer(q=data,k=data,v=data,mask=mask)\n",
        "    drop_output = self.MHA_dropout(att_output, training=is_training)\n",
        "    #re-adding original data back before normalization\n",
        "    norm_output = self.MHA_norm_layer(drop_output+data)\n",
        "\n",
        "    #running feed-forward neural network\n",
        "    ffnn_output = self.ffnn_layer(norm_output)\n",
        "    ffnn_drop_output = self.ffnn_dropout(ffnn_output, training=is_training)\n",
        "    final_output = self.ffnn_norm_layer(ffnn_drop_output + norm_output)\n",
        "\n",
        "    return final_output\n"
      ],
      "id": "4kUiypHUYYVd",
      "execution_count": 112,
      "outputs": []
    },
    {
      "cell_type": "code",
      "metadata": {
        "colab": {
          "base_uri": "https://localhost:8080/"
        },
        "id": "f1P_z-eHcyVK",
        "outputId": "6b7ed2d8-57e2-4998-8927-f810c8cb7b53"
      },
      "source": [
        "#testing\n",
        "\n",
        "#initializing\n",
        "enconder_test = encoder_layer(512,8,2048)\n",
        "\n",
        "#creating data: batch_size, sequence_length, embed_dimension\n",
        "data_encoder_test = tf.random.uniform((54,204,512))\n",
        "\n",
        "#running\n",
        "enconder_out_test = enconder_test(data_encoder_test,None,False)\n",
        "\n",
        "print(\"encoder input shape: \",data_encoder_test.shape)\n",
        "print(\"encoder output shape: \",enconder_out_test.shape)"
      ],
      "id": "f1P_z-eHcyVK",
      "execution_count": 113,
      "outputs": [
        {
          "output_type": "stream",
          "name": "stdout",
          "text": [
            "encoder input shape:  (54, 204, 512)\n",
            "encoder output shape:  (54, 204, 512)\n"
          ]
        }
      ]
    },
    {
      "cell_type": "markdown",
      "metadata": {
        "id": "NBDEu7BTd5jO"
      },
      "source": [
        "# Putting things together into a single Decoder layer"
      ],
      "id": "NBDEu7BTd5jO"
    },
    {
      "cell_type": "code",
      "metadata": {
        "id": "4xlfSYnod9U3"
      },
      "source": [
        "class decoder_layer(tf.keras.layers.Layer):\n",
        "  def __init__(self, embed_dim, num_heads, hidden_units_ffnn, dropout_rate = 0.1):\n",
        "    super().__init__()\n",
        "\n",
        "    #initializing the layer objects\n",
        "    self.MHA_layer_1 = MultiHeadAttention(embed_dim,num_heads)\n",
        "    self.MHA_dropout_1 = tf.keras.layers.Dropout(dropout_rate)\n",
        "    self.MHA_norm_layer_1 = tf.keras.layers.LayerNormalization(epsilon=1e-6)\n",
        "\n",
        "    self.MHA_layer_2 = MultiHeadAttention(embed_dim,num_heads)\n",
        "    self.MHA_dropout_2 = tf.keras.layers.Dropout(dropout_rate)\n",
        "    self.MHA_norm_layer_2 = tf.keras.layers.LayerNormalization(epsilon=1e-6)\n",
        "\n",
        "    self.ffnn_layer = feed_forward_nn(embed_dim, hidden_units_ffnn)\n",
        "    self.ffnn_dropout = tf.keras.layers.Dropout(dropout_rate)\n",
        "    self.ffnn_norm_layer = tf.keras.layers.LayerNormalization(epsilon=1e-6)\n",
        "\n",
        "  def call(self,data,encoder_output,padding_mask,lookahead_mask,is_training):\n",
        "    #running 1st multihead attention\n",
        "    att_output_1, MHA_weights_1 = self.MHA_layer_1(\n",
        "        q=data,k=data,v=data,mask=lookahead_mask)\n",
        "    drop_output_1 = self.MHA_dropout_1(att_output_1, training=is_training)\n",
        "    #re-adding original data back before normalization\n",
        "    norm_output_1 = self.MHA_norm_layer_1(drop_output_1+data)\n",
        "\n",
        "    #running 2nd multihead attention\n",
        "    #note that now q = last output, and v, k = encoder_output\n",
        "    att_output_2, MHA_weights_2 = self.MHA_layer_2(\n",
        "        q=norm_output_1,k=encoder_output,v=encoder_output,mask=padding_mask)\n",
        "    drop_output_2 = self.MHA_dropout_2(att_output_2, training=is_training)\n",
        "    #re-adding original data back before normalization\n",
        "    norm_output_2 = self.MHA_norm_layer_2(drop_output_2+norm_output_1)\n",
        "\n",
        "    #running feed-forward neural network\n",
        "    ffnn_output = self.ffnn_layer(norm_output_2)\n",
        "    ffnn_drop_output = self.ffnn_dropout(ffnn_output, training=is_training)\n",
        "    final_output = self.ffnn_norm_layer(ffnn_drop_output+norm_output_2)\n",
        "\n",
        "    return final_output, MHA_weights_1, MHA_weights_2"
      ],
      "id": "4xlfSYnod9U3",
      "execution_count": 114,
      "outputs": []
    },
    {
      "cell_type": "code",
      "metadata": {
        "colab": {
          "base_uri": "https://localhost:8080/"
        },
        "id": "rFJOD1jRfdn8",
        "outputId": "7ce7cce8-02f1-430a-fd17-0332deae2997"
      },
      "source": [
        "#testing\n",
        "\n",
        "#defining data (note batch size and embed_dim must be the same as for the encoder)\n",
        "decoder_data_test = tf.random.uniform((54,45,512))\n",
        "\n",
        "#initalizing decoder\n",
        "decoder_test = decoder_layer(512,4,2048,0.1)\n",
        "\n",
        "#running decoder\n",
        "output_decoder_test, w, w2 = decoder_test(decoder_data_test,enconder_out_test,None,None,False)\n",
        "\n",
        "print(\"decoder input shape: \",decoder_data_test.shape)\n",
        "print(\"decoder output shape: \",output_decoder_test.shape)"
      ],
      "id": "rFJOD1jRfdn8",
      "execution_count": 115,
      "outputs": [
        {
          "output_type": "stream",
          "name": "stdout",
          "text": [
            "decoder input shape:  (54, 45, 512)\n",
            "decoder output shape:  (54, 45, 512)\n"
          ]
        }
      ]
    },
    {
      "cell_type": "markdown",
      "metadata": {
        "id": "9Ber4NdmjL0f"
      },
      "source": [
        "# Creating a full **Encoder** (embedding + positional encoding + encoder layers)"
      ],
      "id": "9Ber4NdmjL0f"
    },
    {
      "cell_type": "code",
      "metadata": {
        "id": "KiwxVg3RjVao"
      },
      "source": [
        "class Encoder(tf.keras.layers.Layer):\n",
        "  def __init__(self, embedding_dimension, max_position_encoding,\n",
        "               input_vocabulary_size,MHA_num_heads,number_of_encoder_layers,\n",
        "               num_ffnn_hidden_layers,dropout_rate=0.1,):\n",
        "    super().__init__()\n",
        "\n",
        "    #initializing parameters\n",
        "    self.embed_dim = embedding_dimension\n",
        "\n",
        "    #initializing word embedding layer\n",
        "    self.embedding = tf.keras.layers.Embedding(input_vocabulary_size,\n",
        "                                               embedding_dimension)\n",
        "\n",
        "    #creating positional encodings (no data needed for this)\n",
        "    self.pos_encode = pos_encoding(max_position_encoding,embedding_dimension)\n",
        "\n",
        "    #creating list containing N embedding layers\n",
        "    self.encoder_layers = [encoder_layer(embedding_dimension,MHA_num_heads,\n",
        "                          num_ffnn_hidden_layers,dropout_rate)\n",
        "                          for i in range(number_of_encoder_layers)]\n",
        "\n",
        "    #creating dropout layer\n",
        "    self.dropout = tf.keras.layers.Dropout(dropout_rate)\n",
        "\n",
        "  def call (self,input_data,is_training,mask):\n",
        "\n",
        "    #calculating the length of the sentence/sequence (size of second column)\n",
        "    length = tf.shape(input_data)[1]\n",
        "\n",
        "    #embedding data\n",
        "    embed_data = self.embedding(input_data)\n",
        "    #scaling the data by the sqrt of the embedding dimension\n",
        "    embed_data *= tf.math.sqrt(tf.cast(self.embed_dim,tf.float32))\n",
        "\n",
        "    #adding the positional encoding which has size (batch_size ,position, embed_dim)\n",
        "    #Here we are only adding the positional encoder up to the number of words \n",
        "    #in the sequence\n",
        "    embed_data += self.pos_encode[:,:length,:]\n",
        "\n",
        "    #adding a dropout layer at the start of the encoder (this is optional)\n",
        "    out = self.dropout(embed_data,training=is_training)\n",
        "\n",
        "    #passing data through the N encoding layers\n",
        "    for layer in self.encoder_layers:\n",
        "      out= layer(out,mask,is_training)\n",
        "\n",
        "    return out"
      ],
      "id": "KiwxVg3RjVao",
      "execution_count": 116,
      "outputs": []
    },
    {
      "cell_type": "code",
      "metadata": {
        "colab": {
          "base_uri": "https://localhost:8080/"
        },
        "id": "_doSF-wpjnIA",
        "outputId": "7d4cf0bd-c523-40c4-9234-4cdc54e8b70a"
      },
      "source": [
        "#Testing encoder\n",
        "\n",
        "#initializing encoder\n",
        "test_Encoder = Encoder(512,10000,8500,8,2,20148)\n",
        "\n",
        "#initializing data (just a number samples by num of tokenized words matrix)\n",
        "test_Encoder_input = tf.random.uniform((55,87),dtype=tf.int64,minval=0, maxval=500)\n",
        "\n",
        "#running encoder\n",
        "test_E_output = test_Encoder(test_Encoder_input,False,None)\n",
        "\n",
        "print(\"Encoder input shape: \",test_Encoder_input.shape)\n",
        "print(\"Encoder output shape: \",test_E_output.shape)\n"
      ],
      "id": "_doSF-wpjnIA",
      "execution_count": 117,
      "outputs": [
        {
          "output_type": "stream",
          "name": "stdout",
          "text": [
            "Encoder input shape:  (55, 87)\n",
            "Encoder output shape:  (55, 87, 512)\n"
          ]
        }
      ]
    },
    {
      "cell_type": "markdown",
      "metadata": {
        "id": "kfD19BWSxaua"
      },
      "source": [
        "# Creating a full **Decoder** (embedding + positional encoding + decoder layers)"
      ],
      "id": "kfD19BWSxaua"
    },
    {
      "cell_type": "code",
      "metadata": {
        "id": "Wx13M7IIxaab"
      },
      "source": [
        "class Decoder(tf.keras.layers.Layer):\n",
        "  def __init__(self, embedding_dimension, max_position_encoding,\n",
        "               target_vocabulary_size,MHA_num_heads,number_of_decoder_layers,\n",
        "               num_ffnn_hidden_layers,dropout_rate=0.1,):\n",
        "    super().__init__()\n",
        "\n",
        "    #initializing parameters\n",
        "    self.embed_dim = embedding_dimension\n",
        "\n",
        "    #initializing word embedding layer\n",
        "    self.embedding = tf.keras.layers.Embedding(target_vocabulary_size,\n",
        "                                               embedding_dimension)\n",
        "\n",
        "    #creating positional encodings (no data needed for this)\n",
        "    self.pos_encode = pos_encoding(max_position_encoding,embedding_dimension)\n",
        "\n",
        "    #creating list containing N embedding layers\n",
        "    self.decoder_layers = [decoder_layer(embedding_dimension,MHA_num_heads,\n",
        "                          num_ffnn_hidden_layers,dropout_rate)\n",
        "                          for i in range(number_of_decoder_layers)]\n",
        "\n",
        "    #creating dropout layer\n",
        "    self.dropout = tf.keras.layers.Dropout(dropout_rate)\n",
        "\n",
        "  def call(self,input_data, encoder_data,padding_mask,lookahead_mask,is_training):\n",
        "\n",
        "    #calculating the length of the sentence/sequence (size of second column)\n",
        "    length = tf.shape(input_data)[1]\n",
        "    weights = {}\n",
        "\n",
        "    #embedding data\n",
        "    embed_data = self.embedding(input_data)\n",
        "    #scaling the data by the sqrt of the embedding dimension\n",
        "    embed_data *= tf.math.sqrt(tf.cast(self.embed_dim,tf.float32))\n",
        "\n",
        "    #adding the positional encoding which has size (batch_size ,position, embed_dim)\n",
        "    #Here we are only adding the positional encoder up to the number of words \n",
        "    #in the sequence\n",
        "    embed_data += self.pos_encode[:,:length,:]\n",
        "\n",
        "    #adding a dropout layer at the start of the encoder (this is optional)\n",
        "    out = self.dropout(embed_data,training=is_training)\n",
        "\n",
        "    #passing data through the N encoding layers\n",
        "    i=1\n",
        "    for layer in self.decoder_layers:\n",
        "      padding_mask,lookahead_mask,is_training\n",
        "      out, w1, w2 = layer(out,encoder_data,padding_mask,\n",
        "                  lookahead_mask,is_training)\n",
        "      \n",
        "      weights[\"decoder_layer_\"+str(i+1)+\"block_1_weights\"] = w1\n",
        "      weights[\"decoder_layer_\"+str(i+1)+\"block_2_weights\"] = w2\n",
        "     \n",
        "      i+=1\n",
        "\n",
        "    return out, weights"
      ],
      "id": "Wx13M7IIxaab",
      "execution_count": 118,
      "outputs": []
    },
    {
      "cell_type": "code",
      "metadata": {
        "colab": {
          "base_uri": "https://localhost:8080/"
        },
        "id": "qEqAI06Q0PVL",
        "outputId": "23325c1c-c699-4774-9915-6e843338113a"
      },
      "source": [
        "#Testing decoder\n",
        "\n",
        "#initializing encoder\n",
        "test_Decoder = Decoder(512,10000,8500,8,2,20148)\n",
        "\n",
        "#initializing data (just a number samples by num of tokenized words matrix)\n",
        "#batch size has to be the same as encoder input\n",
        "test_Decoder_input = tf.random.uniform((55,45),dtype=tf.int64,minval=0, maxval=500)\n",
        "\n",
        "#running encoder\n",
        "test_D_output, test_D_weights = test_Decoder(test_Decoder_input,test_Encoder_input,None,None,False)\n",
        "\n",
        "print(\"Decoder input shape: \",test_Decoder_input.shape)\n",
        "print(\"Decoder output shape: \",test_D_output.shape)"
      ],
      "id": "qEqAI06Q0PVL",
      "execution_count": 119,
      "outputs": [
        {
          "output_type": "stream",
          "name": "stdout",
          "text": [
            "Decoder input shape:  (55, 45)\n",
            "Decoder output shape:  (55, 45, 512)\n"
          ]
        }
      ]
    },
    {
      "cell_type": "markdown",
      "metadata": {
        "id": "4HF6Ms4o1Gpi"
      },
      "source": [
        "# Finally! Creating the **Transformer**"
      ],
      "id": "4HF6Ms4o1Gpi"
    },
    {
      "cell_type": "code",
      "metadata": {
        "id": "xltCZOkl1LB2"
      },
      "source": [
        "class Transformer(tf.keras.Model):\n",
        "  def __init__(self, embedding_dimension, max_position_encoding_input,\n",
        "              max_position_encoding_target, input_vocabulary_size,\n",
        "              target_vocabulary_size, MHA_num_heads, number_of_encoder_layers,\n",
        "              number_of_decoder_layers, num_ffnn_hidden_layers,dropout_rate=0.1\n",
        "              ):\n",
        "    super().__init__()\n",
        "\n",
        "    #creating the encoder\n",
        "    self.Encoder = Encoder(embedding_dimension,max_position_encoding_input,\n",
        "                           input_vocabulary_size,MHA_num_heads,\n",
        "                           number_of_encoder_layers,num_ffnn_hidden_layers)\n",
        "    \n",
        "    #creating decoder layer\n",
        "    self.Decoder = Decoder(embedding_dimension,max_position_encoding_target,\n",
        "                           target_vocabulary_size,MHA_num_heads,\n",
        "                           number_of_decoder_layers,num_ffnn_hidden_layers)\n",
        "    \n",
        "    #creating final layer\n",
        "    self.final = tf.keras.layers.Dense(target_vocabulary_size)\n",
        "\n",
        "  def createMasks(self,input_val,target_val):\n",
        "\n",
        "    #creating mask for encoder (this is a padding mask)\n",
        "    encoder_pad_mask = make_padding_mask(input_val)\n",
        "\n",
        "    #creating masks for 1st decoder block (both padding and lookahead mask)\n",
        "    decoder_pad_mask_1=make_padding_mask(target_val)\n",
        "    decoder_la_mask_1=make_look_ahead_mask(tf.shape(target_val)[1]) #val_length\n",
        "    #combining both decoder masks for lookahead mask \n",
        "    #(we dont want to account for padding values here either)\n",
        "    decoder_la_mask_1=tf.maximum(decoder_pad_mask_1, decoder_la_mask_1)\n",
        "\n",
        "    #creating masks for 2nd decoder block\n",
        "    decoder_pad_mask_2 = make_padding_mask(input_val)\n",
        "\n",
        "    return encoder_pad_mask, decoder_la_mask_1, decoder_pad_mask_2\n",
        "\n",
        "  def call(self, all_inputs, is_training):\n",
        "    \n",
        "    #remember inputs are in the form of a 2-part tuple/list (english first\n",
        "    # then portuguse)\n",
        "    inputs, targets = all_inputs\n",
        "\n",
        "    #getting the masks\n",
        "    enc_pad_mask, dec_la_mask, dec_pad_mask = self.createMasks(inputs,targets)\n",
        "\n",
        "    #running the encoder\n",
        "    enc_out = self.Encoder(inputs, is_training, enc_pad_mask)\n",
        "\n",
        "    #running the decoder\n",
        "    dec_out, weights = self.Decoder(targets, enc_out, dec_pad_mask,\n",
        "                           dec_la_mask, is_training)\n",
        "    \n",
        "    #running through last layer\n",
        "    #shape: # (batch_size, target_sencence_len, target_vocab_size)\n",
        "    last_output = self.final(dec_out)\n",
        "\n",
        "    return last_output, weights"
      ],
      "id": "xltCZOkl1LB2",
      "execution_count": 120,
      "outputs": []
    },
    {
      "cell_type": "code",
      "metadata": {
        "colab": {
          "base_uri": "https://localhost:8080/"
        },
        "id": "irY9m3hJQO_N",
        "outputId": "ad42fb60-062e-4da6-d981-04dd6f539d5b"
      },
      "source": [
        "#Testing Transformer\n",
        "\n",
        "#initializing transformer\n",
        "test_T = Transformer(512,10000,6000,8500,8000,8,2,2,2048)\n",
        "\n",
        "#initializing data (just a number samples by num of tokenized words matrix)\n",
        "#batch size has to be the same as encoder input\n",
        "test_T_input = tf.random.uniform((55,45),dtype=tf.int64,minval=0, maxval=500)\n",
        "test_T_target = tf.random.uniform((55,47),dtype=tf.int64,minval=0, maxval=500)\n",
        "\n",
        "#running Transformer\n",
        "test_T_output, test_T_weights = test_T([test_T_input,test_T_target],False)\n",
        "\n",
        "#output shape should be # (batch_size, tar_seq_len, target_vocab_size)\n",
        "print(\"Transformer input shape: \",test_T_input.shape)\n",
        "print(\"Transformer output shape: \",test_T_output.shape)"
      ],
      "id": "irY9m3hJQO_N",
      "execution_count": 121,
      "outputs": [
        {
          "output_type": "stream",
          "name": "stdout",
          "text": [
            "Transformer input shape:  (55, 45)\n",
            "Transformer output shape:  (55, 47, 8000)\n"
          ]
        }
      ]
    },
    {
      "cell_type": "markdown",
      "metadata": {
        "id": "b80Iou_QSz7f"
      },
      "source": [
        "# Defining Training Procedures"
      ],
      "id": "b80Iou_QSz7f"
    },
    {
      "cell_type": "markdown",
      "metadata": {
        "id": "DRbbABW5rji8"
      },
      "source": [
        "## Defining a Loss Function\n",
        "\n",
        "We will be using a cross-entropy loss function (negative log-likelyhood). Also, remember that we dont want to calculate a loss function on the padding sentence values. "
      ],
      "id": "DRbbABW5rji8"
    },
    {
      "cell_type": "code",
      "metadata": {
        "id": "D7G6ApqCrhMz"
      },
      "source": [
        "#initailizing loss function oject\n",
        "#we will be inputing the logits instead of the outputs of a softmax function\n",
        "cross_loss = tf.keras.losses.SparseCategoricalCrossentropy(from_logits=True,reduction=\"none\")\n",
        "\n",
        "def loss_fn(labels,predictions):\n",
        "  #creating a mask for padding labels\n",
        "  #(first returning 1's where there are zeros, then inverting)\n",
        "  #note that summing over pad_mask gives total number of classifiable samples\n",
        "  pad_mask = tf.math.logical_not(tf.math.equal(labels,0))\n",
        "\n",
        "  #calculating loss\n",
        "  calc_loss = cross_loss(labels,predictions)\n",
        "\n",
        "  #applying mask to loss\n",
        "  pad_mask = tf.cast(pad_mask,dtype=calc_loss.dtype)\n",
        "  calc_loss = calc_loss*pad_mask #multipyling padding losses by zero\n",
        "\n",
        "  #calculating total loss\n",
        "  calc_loss = tf.reduce_sum(calc_loss)/tf.reduce_sum(pad_mask)\n",
        "\n",
        "  return calc_loss\n",
        "\n",
        "def calc_accuracy(labels, predictions):\n",
        "\n",
        "  #checking if the predictid value equals the label\n",
        "  #here we check if the word with the max output probabilty matches the label\n",
        "  equal = tf.equal(labels,tf.argmax(predictions,axis=2))\n",
        "\n",
        "  #creating a mask for padding labels\n",
        "  #(first returning 1's where there are zeros, then inverting)\n",
        "  #note that summing over pad_mask gives total number of classifiable samples\n",
        "  pad_mask = tf.math.logical_not(tf.math.equal(labels,0))\n",
        "\n",
        "  #applying the mask using AND function (only equals 1 if both equal 1)\n",
        "  equal = tf.math.logical_and(pad_mask,equal)\n",
        "\n",
        "  #casting into appropriate types\n",
        "  equal = tf.cast(equal,tf.float32)\n",
        "  pad_mask = tf.cast(pad_mask,tf.float32)\n",
        "\n",
        "  #calculating accuracy\n",
        "  acc = tf.reduce_sum(equal)/tf.reduce_sum(pad_mask)\n",
        "\n",
        "  return acc"
      ],
      "id": "D7G6ApqCrhMz",
      "execution_count": 122,
      "outputs": []
    },
    {
      "cell_type": "markdown",
      "metadata": {
        "id": "LX4LVuvZT3OH"
      },
      "source": [
        "## Defining an optimal learning rate\n",
        "\n",
        "Here we follow the formula specified in \"Attention is all you Need\" (i.e. the landmark transformer paper which we are using here). The following class \"modulates how the learning rate of your optimizer changes over time.\"\n",
        "\n"
      ],
      "id": "LX4LVuvZT3OH"
    },
    {
      "cell_type": "code",
      "metadata": {
        "id": "a4jwbkL0S42Y"
      },
      "source": [
        "class learning_rate_optimizer(tf.keras.optimizers.schedules.LearningRateSchedule):\n",
        "  def __init__(self, embedding_dimension, warm_up_steps=4000):\n",
        "    super().__init__()\n",
        "\n",
        "    self.emb_dim = embedding_dimension\n",
        "    self.w_s = warm_up_steps\n",
        "\n",
        "  def __call__(self,current_step):\n",
        "    #calculating arguments in minimun function\n",
        "    min1 = tf.math.rsqrt(current_step)\n",
        "    min2 = current_step * (self.w_s ** -1.5)\n",
        "\n",
        "    #calculating result of min function\n",
        "    min = tf.math.minimum(min1,min2)\n",
        "\n",
        "    #calculating sqrt of the embeding dimension\n",
        "    d_rsqrt =  tf.math.rsqrt(tf.cast(self.emb_dim,tf.float32))\n",
        "\n",
        "    #calculating rate\n",
        "    rate = d_rsqrt*min\n",
        "\n",
        "    return rate\n"
      ],
      "id": "a4jwbkL0S42Y",
      "execution_count": 123,
      "outputs": []
    },
    {
      "cell_type": "code",
      "metadata": {
        "colab": {
          "base_uri": "https://localhost:8080/",
          "height": 296
        },
        "id": "QvG3BzNmWCDO",
        "outputId": "fa174f6d-eac7-4381-a32b-51cd8871afb3"
      },
      "source": [
        "#Testing learning rate\n",
        "\n",
        "#initializing rate optimizer\n",
        "rate_test = learning_rate_optimizer(100)\n",
        "\n",
        "#plotting learning rate vs time step\n",
        "plt.plot(rate_test(tf.range(50000, dtype=tf.float32)))\n",
        "plt.ylabel(\"Rate\")\n",
        "plt.xlabel(\"Current Step\")"
      ],
      "id": "QvG3BzNmWCDO",
      "execution_count": 124,
      "outputs": [
        {
          "output_type": "execute_result",
          "data": {
            "text/plain": [
              "Text(0.5, 0, 'Current Step')"
            ]
          },
          "metadata": {},
          "execution_count": 124
        },
        {
          "output_type": "display_data",
          "data": {
            "image/png": "[encoded data removed]",
            "text/plain": [
              "<Figure size 432x288 with 1 Axes>"
            ]
          },
          "metadata": {
            "needs_background": "light"
          }
        }
      ]
    },
    {
      "cell_type": "markdown",
      "metadata": {
        "id": "9METPhHs3RMA"
      },
      "source": [
        "# Training "
      ],
      "id": "9METPhHs3RMA"
    },
    {
      "cell_type": "markdown",
      "metadata": {
        "id": "bDSX7KUUFvhf"
      },
      "source": [
        "## Creating Suitable Input Data"
      ],
      "id": "bDSX7KUUFvhf"
    },
    {
      "cell_type": "code",
      "metadata": {
        "id": "tCUWm_xSFvrK"
      },
      "source": [
        "#making batches\n",
        "def make_batches(Data,buffer_size,batch_size):\n",
        "  return (\n",
        "      Data\n",
        "      .cache()\n",
        "      .shuffle(buffer_size)\n",
        "      .batch(batch_size)\n",
        "      .map(tokenize_text, num_parallel_calls=tf.data.AUTOTUNE)\n",
        "      .prefetch(tf.data.AUTOTUNE))\n",
        "  \n",
        "\n",
        "#final data\n",
        "train_batches = make_batches(train_data,20000,64)\n",
        "test_batches = make_batches(test_data,20000,64)\n",
        "val_batches = make_batches(validation_data,20000,64) "
      ],
      "id": "tCUWm_xSFvrK",
      "execution_count": 125,
      "outputs": []
    },
    {
      "cell_type": "markdown",
      "metadata": {
        "id": "Il3Ioe_-4Kaz"
      },
      "source": [
        "## Initalizing the Transformer and Training Procedures"
      ],
      "id": "Il3Ioe_-4Kaz"
    },
    {
      "cell_type": "code",
      "metadata": {
        "id": "89j4NHwT4TU3"
      },
      "source": [
        "#defining model hyperparameters\n",
        "embed_dim = 128\n",
        "max_positional_input = 1000\n",
        "max_positional_target = 1000\n",
        "input_vocab_size = 8500# tokenizer.pt.get_vocab_size().numpy() #translate port  to eng\n",
        "target_vocab_size = 8000 # tokenizer.en.get_vocab_size().numpy()\n",
        "num_MHA_heads = 8\n",
        "num_E_layers = 4\n",
        "num_D_layers = 4\n",
        "ffnn_layers = 512\n",
        "dropout_rate = 0.1\n",
        "\n",
        "#defining Transformer\n",
        "transformer = Transformer(embed_dim,max_positional_input,max_positional_target,\n",
        "                          input_vocab_size,target_vocab_size,num_MHA_heads,\n",
        "                          num_E_layers,num_D_layers,ffnn_layers,dropout_rate)\n",
        "\n",
        "#defining learning rate optimizer\n",
        "learn_rate = learning_rate_optimizer(embed_dim)\n",
        "\n",
        "#defining Neural Network optimizer \n",
        "optimizer = tf.keras.optimizers.Adam(learn_rate, beta_1=0.9, beta_2=0.98,\n",
        "                                     epsilon=1e-9)\n",
        "\n",
        "#initailzing training loss objects (will calculate mean of loss after e/ epoch)\n",
        "train_loss = tf.keras.metrics.Mean(name='train_loss')\n",
        "train_acc =  tf.keras.metrics.Mean(name='train_acc')\n"
      ],
      "id": "89j4NHwT4TU3",
      "execution_count": 126,
      "outputs": []
    },
    {
      "cell_type": "markdown",
      "metadata": {
        "id": "ioGmxqY-3d7d"
      },
      "source": [
        "\n",
        "## Checkpoint training \n",
        "\n",
        "Here we will efine a checkpoint routine in case training stops or we want to continue training later. "
      ],
      "id": "ioGmxqY-3d7d"
    },
    {
      "cell_type": "code",
      "metadata": {
        "colab": {
          "base_uri": "https://localhost:8080/"
        },
        "id": "nWxOxOwN3dW0",
        "outputId": "58cd47f1-957a-4a8d-beee-563546b1ffbb"
      },
      "source": [
        "from google.colab import drive\n",
        "drive.mount('/content/gdrive/',force_remount=True)\n",
        "\n",
        "# defining directory to store checkpoints\n",
        "path = \"/content/gdrive/MyDrive/ColabNotebooks/\"\n",
        "\n",
        "#check point will save the states of the transformer and optimizer\n",
        "check_pt = tf.train.Checkpoint(transformer=transformer, optimizer=optimizer)\n",
        "\n",
        "#defining checkpoint manager\n",
        "check_pt_manager = tf.train.CheckpointManager(check_pt,path,5)\n",
        "\n",
        "#restore latest checkpoint\n",
        "if check_pt_manager.latest_checkpoint:\n",
        "  check_pt.restore(check_pt_manager.latest_checkpoint)"
      ],
      "id": "nWxOxOwN3dW0",
      "execution_count": 127,
      "outputs": [
        {
          "output_type": "stream",
          "name": "stdout",
          "text": [
            "Mounted at /content/gdrive/\n"
          ]
        }
      ]
    },
    {
      "cell_type": "markdown",
      "metadata": {
        "id": "3aCQpP_F8l_3"
      },
      "source": [
        "## Single step training"
      ],
      "id": "3aCQpP_F8l_3"
    },
    {
      "cell_type": "code",
      "metadata": {
        "id": "ECVJvYuX3Tlt"
      },
      "source": [
        "# defining how training happens in a single step (i.e. training gradient decent)\n",
        "\n",
        "#defining the size of the inputs in the training step\n",
        "train_step_sig = [\n",
        "    tf.TensorSpec(shape=(None, None), dtype=tf.int64),\n",
        "    tf.TensorSpec(shape=(None, None), dtype=tf.int64),\n",
        "]\n",
        "\n",
        "#this function is defined through @tf to signal in order to compile the \n",
        "#subfunctions within it into the tensorflow code. This way it does not need to\n",
        "# be recompiled in each iteration. In other words, it makes it a part of the \n",
        "#tensorflow graph\n",
        "@tf.function(input_signature=train_step_sig)\n",
        "def training_step(input,target):\n",
        "  \n",
        "  #shifting the target input and target labels \n",
        "  #(the transformer needs to predict the nth word in the target label\n",
        "  #by only recieving the n-1 words before it. )\n",
        "  #note we are making them the same size\n",
        "  target_input = target[:,:-1]\n",
        "  target_label = target[:,1:]\n",
        "\n",
        "  #Training the model\n",
        "  #the WITH and AS syntax allows the code to run cleanly\n",
        "  with tf.GradientTape() as tape:\n",
        "    \n",
        "    #getting predictions from transformer\n",
        "    prediction, weights = transformer([input,target_input],is_training=True)\n",
        "\n",
        "    #calculating losses\n",
        "    loss = loss_fn(target_label,prediction)\n",
        "\n",
        "  #calculating gradients w.r.t. the trainable variables\n",
        "  grad = tape.gradient(loss,transformer.trainable_variables)\n",
        "\n",
        "  #applying the gradients to the trainable variables\n",
        "  #note that \"zip\" groups together the nth values of each input\n",
        "  optimizer.apply_gradients(zip(grad, transformer.trainable_variables))\n",
        "\n",
        "  #calculating the mean loss and accuracy\n",
        "  train_loss(loss)\n",
        "  train_acc(calc_accuracy(target_label,prediction))\n"
      ],
      "id": "ECVJvYuX3Tlt",
      "execution_count": 128,
      "outputs": []
    },
    {
      "cell_type": "markdown",
      "metadata": {
        "id": "oG38i8UrD95D"
      },
      "source": [
        "## Epoch Training"
      ],
      "id": "oG38i8UrD95D"
    },
    {
      "cell_type": "code",
      "metadata": {
        "colab": {
          "base_uri": "https://localhost:8080/"
        },
        "id": "-OMjAcUZ8oX4",
        "outputId": "a976091a-16d7-457d-f066-512f8c8703b9"
      },
      "source": [
        "#defining training epochs (number of times the complete data set is passed)\n",
        "EPOCHS = 20\n",
        "\n",
        "#defining how we train for each epoch\n",
        "for epoch in range(EPOCHS):\n",
        "\n",
        "  #defining start time\n",
        "  start_time = time.time()\n",
        "\n",
        "  #reset epoch-mean losses\n",
        "  train_loss.reset_states()\n",
        "  train_acc.reset_states()\n",
        "\n",
        "  #using the data from the train_batches defined above\n",
        "  for (batch,(input,target)) in enumerate(train_batches):\n",
        "    \n",
        "    #running gradient decent\n",
        "    training_step(input,target)\n",
        "\n",
        "    #print intermediate results every 100 batches\n",
        "    if batch % 50 ==0:\n",
        "      print(f\"Epoch: {epoch +1}, Batch: {batch}, Loss: {train_loss.result():.4f}, Accuracy: {train_acc.result():.4f}\")\n",
        "      \n",
        "      #save checkpoint\n",
        "      check_pt_save = check_pt_manager.save()\n",
        "\n",
        "  #print resut every N epochs\n",
        "  if (epoch+1) %1 == 0:\n",
        "    check_pt_save = check_pt_manager.save()\n",
        "    print(f\"Saving training for Epoch{epoch+1}\")\n",
        "\n",
        "  #print final result\n",
        "  print(f\"Epoch: {epoch +1}, Batch: {batch}, Loss: {train_loss.result():.4f}, Accuracy: {train_acc.result():.4f}\")\n",
        "\n",
        "  #printing time\n",
        "  print(f'Time spent in last epoch: {time.time() - start_time:.2f} secs\\n')"
      ],
      "id": "-OMjAcUZ8oX4",
      "execution_count": null,
      "outputs": [
        {
          "output_type": "stream",
          "name": "stdout",
          "text": [
            "Epoch: 1, Batch: 0, Loss: 9.0185, Accuracy: 0.0000\n",
            "Epoch: 1, Batch: 50, Loss: 8.9332, Accuracy: 0.0010\n"
          ]
        }
      ]
    },
    {
      "cell_type": "markdown",
      "metadata": {
        "id": "bieREEwKf9JK"
      },
      "source": [
        "# Using the Trained Model\n",
        "\n",
        "Note that during training we trained the model to predict the whole resulting sequence based on an input. This was done to make training more efficient (avoiding having to re-enter the latest predicted word back into the input sentence and so on). However, during inference/translation we only care about the next word in the sequence. \n",
        "\n",
        "**During training:**\n",
        "\n",
        "encoder input = portuguese sentence\n",
        "\n",
        "decoder input = english sentence\n",
        "\n",
        "output = whole english sentence\n",
        "\n",
        "labels = english sentence\n",
        "\n",
        "**During inference:**\n",
        "\n",
        "encoder input = portugues sentence\n",
        "\n",
        "decoder input = first n words in the sequence (starting from eng. start token)\n",
        "\n",
        "output = whole english sentence (we only care about n+1 word, which we then re-enter into the decoder for the next word prediciton)."
      ],
      "id": "bieREEwKf9JK"
    },
    {
      "cell_type": "markdown",
      "metadata": {
        "id": "Z6lLTrO4rROE"
      },
      "source": [
        "## Creating a Translator"
      ],
      "id": "Z6lLTrO4rROE"
    },
    {
      "cell_type": "code",
      "metadata": {
        "id": "xXDVsTJaf8p8"
      },
      "source": [
        "class Translator (tf.Module):\n",
        "  def __init__(self,tokenizer,transformer):\n",
        "    \n",
        "    #initalizing class models\n",
        "    #we input the trained tokenizer and the trained transformer instance\n",
        "    self.tokenizer = tokenizer\n",
        "    self.transformer = transformer\n",
        "\n",
        "  def __call__(self,input_sentence,max_sentence_length=25):\n",
        "    #input sentence (portuguese)\n",
        "    #check if sentence is a TF tensor\n",
        "    assert isinstance(input_sentence,tf.Tensor)\n",
        "\n",
        "    #making the sentence into a tensor if its just 1 dimensional\n",
        "    if len(input_sentence.shape) == 0:\n",
        "      input_sentence = input_sentence[tf.newaxis]\n",
        "\n",
        "    #tokenizing the input sentence\n",
        "    encoder_input = self.tokenizer.pt.tokenize(input_sentence).to_tensor()\n",
        "\n",
        "    #obtaining the start tokens for the decoder input\n",
        "    empty_sentence = [\"\"]\n",
        "    start_and_end_tokens = self.tokenizer.en.tokenize(empty_sentence)[0]\n",
        "    start_token = start_and_end_tokens[0][tf.newaxis]\n",
        "    end_token = start_and_end_tokens[1][tf.newaxis]\n",
        "    \n",
        "    #initalizing an transformer output array. This is going to be used to \n",
        "    #show the results, but also to feed back into the decoder until \n",
        "    #the end_token is produced.\n",
        "    output_list = tf.TensorArray(dtype=tf.int64, size=0, dynamic_size=True)\n",
        "    \n",
        "    #inputing the start_token into the output array in location zero\n",
        "    output_list = output_list.write(0,start_token)\n",
        "\n",
        "    #starting the loop of calling the transformer and filling out the output\n",
        "    for i in range(max_sentence_length):\n",
        "\n",
        "      #changing the output list into a readable format\n",
        "      decoder_input = tf.transpose(output_list.stack())\n",
        "\n",
        "      #geting the n+1 predictions\n",
        "      prediction, trash = self.transformer([encoder_input,decoder_input],\n",
        "                                             is_training=False)\n",
        "\n",
        "      #getting the output probabilites predicting the last token \n",
        "      prediction = prediction[:, -1:, :]  # (batch_size, 1, vocab_size)\n",
        "\n",
        "      #getting result of the predictions for the last token\n",
        "      prediction_tokens = tf.argmax(prediction,axis=-1)\n",
        "      token = prediction_tokens[0]\n",
        "\n",
        "      #adding to the output array\n",
        "      output_list = output_list.write(i+1,token)\n",
        "\n",
        "      #stop if predicted token is the end_token\n",
        "      if token == end_token:\n",
        "        break\n",
        "\n",
        "    #casting output into readoble frorm\n",
        "    output = tf.transpose(output_list.stack())\n",
        "\n",
        "    #detokenizing into a sentence\n",
        "    detokenized_text = self.tokenizer.en.detokenize(output)[0]\n",
        "\n",
        "    #detokenizing into tokens\n",
        "    detokenized_tokens = self.tokenizer.en.lookup(output)[0]\n",
        "\n",
        "    #getting the weights of the last prediction \n",
        "    trash_2, weights = self.transformer([encoder_input,output[:,:-1]],\n",
        "                                        is_training=False)\n",
        "\n",
        "    return detokenized_text, detokenized_tokens, weights\n"
      ],
      "id": "xXDVsTJaf8p8",
      "execution_count": null,
      "outputs": []
    },
    {
      "cell_type": "markdown",
      "metadata": {
        "id": "NP4OCVaQtRqk"
      },
      "source": [
        "## Running/Testing the Translator"
      ],
      "id": "NP4OCVaQtRqk"
    },
    {
      "cell_type": "code",
      "metadata": {
        "id": "zlugiA6_rNai"
      },
      "source": [
        "#creating the instance with trained tokenizer and transformer models\n",
        "translator=Translator(tokenizer,transformer)\n",
        "\n",
        "#defining attention plotting function\n",
        "def plot_attention(input_sentence,output_tokens,att_weights):\n",
        "\n",
        "  #trasforming input sentence to tokens\n",
        "  input_tokens = tf.convert_to_tensor([input_sentence])\n",
        "  input_tokens = tokenizers.pt.tokenize(input_tokens).to_tensor()\n",
        "  input_tokens = tokenizers.pt.lookup(input_tokens)[0]\n",
        "  \n",
        "  #removing the first token (we gave this to the model)\n",
        "  output_tokens = output_tokens [1:]\n",
        "\n",
        "  #getting the attention weights of all heads of the 2nd block\n",
        "  # of the last decoder (4th layer)\n",
        "  attention_heads = tf.squeeze(att_weights['decoder_layer_4block_2_weights'], 0)\n",
        "  \n",
        "  weights = attention_heads[0]\n",
        "\n",
        "  #making plot\n",
        "  plot = plt.gca()\n",
        "  plot.matshow(weights)\n",
        "  plot.set_xticks(range(len(input_tokens)))\n",
        "  plot.set_yticks(range(len(output_tokens)))\n",
        "  \n",
        "  labels_x = [label.decode('utf-8') for label in input_tokens.numpy()]\n",
        "  ax.set_xticklabels(labels_x, rotation=90)\n",
        "\n",
        "  labels_y = [label.decode('utf-8') for label in output_tokens.numpy()]\n",
        "  ax.set_yticklabels(labels_y)\n",
        "\n",
        "#defining evaluating function\n",
        "def eval_function(input_sentence,predicted_sentence,real_translation):\n",
        "  print(\"Input Sentence: \" + input_sentence)\n",
        "  print(\"Predicted Sentence: \" + predicted_sentence.numpy().decode(\"utf-8\"))\n",
        "  print(\"Real Translation: \" + real_translation)\n",
        "  print(\"\")"
      ],
      "id": "zlugiA6_rNai",
      "execution_count": null,
      "outputs": []
    },
    {
      "cell_type": "code",
      "metadata": {
        "id": "fDnqbc5KtYFm"
      },
      "source": [
        "#test sentences:\n",
        "input_sentence = \"Eu amo ler muitos livros\"\n",
        "real_translation = \"I love to read a lot of books\"\n",
        "\n",
        "prediction, tokens, weights = translator(tf.constant(input_sentence))\n",
        "\n",
        "eval_function(input_sentence,prediction,real_translation)\n",
        "\n",
        "plot_attention(input_sentence,tokens,weights)"
      ],
      "id": "fDnqbc5KtYFm",
      "execution_count": null,
      "outputs": []
    }
  ]
}