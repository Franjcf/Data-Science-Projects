{
 "cells": [
  {
   "cell_type": "markdown",
   "metadata": {},
   "source": [
    "# ELE 435/535 Lab 6"
   ]
  },
  {
   "cell_type": "markdown",
   "metadata": {},
   "source": [
    "### Due Date : 11/11 Mon 11:59 PM\n",
    "\n",
    "Francisco Carrillo"
   ]
  },
  {
   "cell_type": "code",
   "execution_count": 1,
   "metadata": {},
   "outputs": [],
   "source": [
    "import numpy as np\n",
    "import sklearn as sk\n",
    "import matplotlib.pyplot as plt\n",
    "\n",
    "%matplotlib inline"
   ]
  },
  {
   "cell_type": "markdown",
   "metadata": {},
   "source": [
    "### Load MNIST Dataset "
   ]
  },
  {
   "cell_type": "markdown",
   "metadata": {},
   "source": [
    "We will be working with the subset of MNIST that was used for HW1 in this HW. The training data contains 10,000 samples of different digits. Let's call it matrix D (of dimension 784 * 10000). The first 1000 columns of D correspond to digit 0 ($D_0$), the next 1000 correspond to digit 1 ($D_1$), etc. "
   ]
  },
  {
   "cell_type": "code",
   "execution_count": 2,
   "metadata": {},
   "outputs": [],
   "source": [
    "train_data = np.load('MNISTcwtrain1000.npy')\n",
    "train_data = train_data.astype(dtype='float64')\n",
    "test_data = np.load('MNISTcwtest100.npy')\n",
    "test_data = test_data.astype(dtype='float64')\n",
    "\n",
    "train_data = train_data/255.0\n",
    "test_data = test_data/255.0"
   ]
  },
  {
   "cell_type": "markdown",
   "metadata": {},
   "source": [
    "### Q1) Collaborative Representation Based Classification Using Lasso"
   ]
  },
  {
   "cell_type": "markdown",
   "metadata": {},
   "source": [
    "In a previous HW, we used least squares regression for classifiying data. Given any new example (x), we would like to represent it as a linear combination of columns of D (hence, the name representation based classification). This can be acheived by finding a vector w (of dimension 1,000) that satisfies: $w = \\arg\\min \\hspace{1mm} \\|Dw - x \\|_2$.\n",
    "\n",
    "The first 100 elements of w ($w_0$) quantify how much of each column from digit 0 are needed to represent x. Similarly, the next 100 elements ($w_1$) correspond to weights on $D_1$, etc.\n",
    "\n",
    "Next, prediction of pixel values of any test image (x) based only on examples of a particual digit $i$ can be found using $y_i' = D_i \\times w_i$. Then, k-th digit that yields the lowest mean squared prediction error (i.e., $k = \\arg\\min \\hspace{1mm} \\|y -y'_i \\|_2$) will determine the label of x. \n",
    "\n",
    "Following this procedure to predict the labels of each test example, the testing accuracy is 0.76."
   ]
  },
  {
   "cell_type": "markdown",
   "metadata": {},
   "source": [
    "#### * Use reduced training set ($Xr$) and test set ($test$) defined below. This will save the running time."
   ]
  },
  {
   "cell_type": "code",
   "execution_count": 3,
   "metadata": {},
   "outputs": [],
   "source": [
    "Xr=np.zeros((784,1000))\n",
    "test=np.zeros((784,100))\n",
    "for ind in range(10):\n",
    "    Xr[:,100*ind:100*(ind+1)] = train_data[:,1000*ind:1000*ind+100]\n",
    "    test[:,10*ind:10*(ind+1)] = test_data[:,100*ind:100*ind+10]"
   ]
  },
  {
   "cell_type": "code",
   "execution_count": 4,
   "metadata": {},
   "outputs": [
    {
     "name": "stdout",
     "output_type": "stream",
     "text": [
      "Test Accuacy :::::: 0.76\n"
     ]
    }
   ],
   "source": [
    "# least square\n",
    "X = np.matrix(Xr)\n",
    "[U,sigma,V] = np.linalg.svd( X, full_matrices=False) #decompose X\n",
    "index = np.where(sigma>1e-4) #Make lower rank\n",
    "trunc = index[0][-1]\n",
    "INV_Mat = np.linalg.pinv(np.dot(X.T,X)) \n",
    "Projection_Mat = INV_Mat * (X.T) \n",
    "predicted_label = np.zeros((100,))\n",
    "for i in range(0,100):\n",
    "    test_ex = np.matrix(test[:,i]).T \n",
    "    p = Projection_Mat * test_ex\n",
    "    dist = np.zeros((10,))\n",
    "    for j in range(0,10):\n",
    "        sub_mat = X[:,j*100:(j+1)*100]\n",
    "        sub_W = p[j*100:(j+1)*100] \n",
    "        reconstructed = np.dot(sub_mat, sub_W) #forming Y\n",
    "        dist[j] = np.linalg.norm(reconstructed - test_ex)\n",
    "    predicted_label[i] = np.argmin(dist)\n",
    "true_label = np.zeros((100,))\n",
    "for i in range(0,10):\n",
    "    true_label[i*10:(i+1)*10] = i\n",
    "test_err = np.count_nonzero(predicted_label - true_label)\n",
    "test_acc = 1-(test_err/100.0)\n",
    "\n",
    "print(\"Test Accuacy :::::: \" + str(test_acc))"
   ]
  },
  {
   "cell_type": "markdown",
   "metadata": {},
   "source": [
    "Now, instead of using least square, we use LASSO in this question to find a sparse $w$. The idea behind is that we only want to use a small number of training samples to represent the test sample. Then, the objective is to find a vector $w$ that satisfies: $w = \\arg\\min \\hspace{2mm} \\|Dw - x \\|_2 ^2 + \\lambda \\|w \\|_1$. "
   ]
  },
  {
   "cell_type": "code",
   "execution_count": 5,
   "metadata": {},
   "outputs": [],
   "source": [
    "from sklearn.linear_model import Lasso\n",
    "from sklearn.linear_model import LinearRegression\n",
    "\n",
    "# Lasso\n",
    "\n",
    "def LassoFit(lam):\n",
    "    true_label = np.zeros((100,))\n",
    "    for i in range(0,10):\n",
    "        true_label[i*10:(i+1)*10] = i\n",
    "        \n",
    "    predicted_label = np.zeros((100,))\n",
    "    #wMaster = np.zeros((1000,100))\n",
    "    nonZeroWs = np.zeros((1,100))\n",
    "    nkMaster = np.zeros((1,100))\n",
    "    classifier = Lasso(alpha=lam, max_iter=2000)\n",
    "\n",
    "    for i in range(0,100):    \n",
    "        classifier.fit(Xr, test[:,i])\n",
    "        w = classifier.coef_\n",
    "        nonZeroWs[:,i] = np.count_nonzero(w)\n",
    "        nk= np.count_nonzero(w[int(true_label[i])*100:(int(true_label[i])+1)*100]) / (np.count_nonzero(w)+0.01)\n",
    "        nkMaster[:,i] = nk\n",
    "        #wMaster[:,i] = w\n",
    "        dist = np.zeros((10,))\n",
    "        for j in range(0,10):\n",
    "            sub_mat = Xr[:,j*100:(j+1)*100]\n",
    "            sub_W =w[j*100:(j+1)*100] \n",
    "            reconstructed = sub_mat @ sub_W \n",
    "            dist[j] = np.linalg.norm(reconstructed - test[:,i])\n",
    "        predicted_label[i] = np.argmin(dist)\n",
    "\n",
    "    test_err = np.count_nonzero(predicted_label - true_label)\n",
    "    test_acc = 1-(test_err/100.0)\n",
    "    avgNonZeroWs = nonZeroWs.mean()\n",
    "    avgNK = nkMaster.mean()\n",
    "\n",
    "    print(\"Test Accuacy :::::: \" + str(test_acc))\n",
    "    \n",
    "    return test_acc, avgNonZeroWs, avgNK"
   ]
  },
  {
   "cell_type": "markdown",
   "metadata": {},
   "source": [
    "1.Try $\\lambda = 10^{-5}, 10^{-4}, 10^{-3}, 10^{-2}, 10^{-1}, 1, 10, 100$ and plot testing accuracy vs. $\\lambda$. Compare the testing accuracy with that from least square. \n",
    "\n",
    "You can use the Lasso solver in Scikit-learn (http://scikit-learn.org/stable/modules/generated/sklearn.linear_model.Lasso.html). Note that the objective function of Lasso solver in Scikit-learn might be different from what we defined here. Please adjust your arguments to the solver accordingly."
   ]
  },
  {
   "cell_type": "code",
   "execution_count": 6,
   "metadata": {},
   "outputs": [],
   "source": [
    "##THIS TAKES A WHILE, SO I RAN IT, COMMENTED OUT AND, COPIED THE SOLUTIONS LATER ON\n",
    "\n",
    "#lambdaList = [1e-5, 1e-4 ,1e-3, 1e-2, 1e-1, 1, 10, 100]\n",
    "\n",
    "#acc=[]\n",
    "#wAvgNonZero=[]\n",
    "#avgNK = []\n",
    "\n",
    "#for l in lambdaList:\n",
    "#    acc1, wAvg1, avgNK1 = LassoFit(l)\n",
    "#    acc.append(acc1)\n",
    "#    wAvgNonZero.append(wAvg1)\n",
    "#    avgNK.append(avgNK1)\n",
    "\n",
    "#print(acc,wAvgNonZero,avgNK)"
   ]
  },
  {
   "cell_type": "code",
   "execution_count": 7,
   "metadata": {},
   "outputs": [
    {
     "data": {
      "image/png": "[encoded data removed]",
      "text/plain": [
       "<Figure size 432x288 with 1 Axes>"
      ]
     },
     "metadata": {
      "needs_background": "light"
     },
     "output_type": "display_data"
    },
    {
     "name": "stdout",
     "output_type": "stream",
     "text": [
      "ANSWER:\n",
      "The accuracy at the middle lambdas (~1e-3) improves when compared to least squares. The test acuracy worsens as we increase lambda. Furthermore, the decrease in accuracy at low lambdas has to do with the fact that the solver takes a very long time to reach the desired tolerance at low lambdas. If we increase the number of iterations until everything converges we would get a similar accuracy between lambda=1e-5 and lambda=0 (least squares). The graphed case refers to max-iter=2000\n"
     ]
    }
   ],
   "source": [
    "#Loading Solutions\n",
    "lambdaList = [1e-5, 1e-4 ,1e-3, 1e-2, 1e-1, 1, 10, 100]\n",
    "acc = [0.69, 0.91, 0.94, 0.9299999999999999, 0.14, 0.09999999999999998, 0.09999999999999998, 0.09999999999999998]\n",
    "wAvg = [581.4, 319.41, 107.59, 14.23, 0.12, 0.0, 0.0, 0.0]\n",
    "avgNK = [0.11208197080340128, 0.1298344619835709, 0.19528901848290875, 0.524054843483635, 0.08428156248460666, 0.0, 0.0, 0.0]\n",
    "\n",
    "#plotting\n",
    "plt.semilogx(lambdaList,acc)\n",
    "plt.title('Accuracy vs Lasso Parameter Lambda')\n",
    "plt.ylabel(\"Accuracy\")\n",
    "plt.xlabel(\"lambda\")\n",
    "plt.show()\n",
    "\n",
    "print(\"ANSWER:\")\n",
    "print('The accuracy at the middle lambdas (~1e-3) improves when compared to least squares. The test acuracy worsens as we increase lambda. Furthermore, the decrease in accuracy at low lambdas has to do with the fact that the solver takes a very long time to reach the desired tolerance at low lambdas. If we increase the number of iterations until everything converges we would get a similar accuracy between lambda=1e-5 and lambda=0 (least squares). The graphed case refers to max-iter=2000')"
   ]
  },
  {
   "cell_type": "markdown",
   "metadata": {},
   "source": [
    "2.Plot the average number of nonzero entries in $w$ vs. $\\lambda$."
   ]
  },
  {
   "cell_type": "code",
   "execution_count": 8,
   "metadata": {},
   "outputs": [
    {
     "data": {
      "image/png": "[encoded data removed]",
      "text/plain": [
       "<Figure size 432x288 with 1 Axes>"
      ]
     },
     "metadata": {
      "needs_background": "light"
     },
     "output_type": "display_data"
    }
   ],
   "source": [
    "#plotting\n",
    "plt.semilogx(lambdaList,wAvg)\n",
    "plt.title('Average Non-Zero Entries vs Lasso Parameter Lambda')\n",
    "plt.ylabel(\"Average non-zero entries\")\n",
    "plt.xlabel(\"lambda\")\n",
    "plt.show()"
   ]
  },
  {
   "cell_type": "markdown",
   "metadata": {},
   "source": [
    "3.For each test sample, suppose $k$ is the right label, define $nk$ as nonzeros in $w_k$ / total # nonzeros in $w$. Plot the average of $nk$ over all testing samples vs. $\\lambda$. What do you find?"
   ]
  },
  {
   "cell_type": "code",
   "execution_count": 9,
   "metadata": {},
   "outputs": [
    {
     "data": {
      "image/png": "[encoded data removed]",
      "text/plain": [
       "<Figure size 432x288 with 1 Axes>"
      ]
     },
     "metadata": {
      "needs_background": "light"
     },
     "output_type": "display_data"
    },
    {
     "name": "stdout",
     "output_type": "stream",
     "text": [
      "ANSWER:\n",
      "We find that we get an optimum at a around lambda = 1e-2. This refers to the fact that we have a high enough penalization term to zero most of the values in w, but not high enough to 'filter out', the relevant term in w_k.\n"
     ]
    }
   ],
   "source": [
    "#plotting\n",
    "plt.semilogx(lambdaList,avgNK)\n",
    "plt.title('average nk vs Lasso Parameter Lambda')\n",
    "plt.ylabel(\"NK\")\n",
    "plt.xlabel(\"lambda\")\n",
    "plt.show()\n",
    "\n",
    "print(\"ANSWER:\")\n",
    "print(\"We find that we get an optimum at a around lambda = 1e-2. This refers to the fact that we have a high enough penalization term to zero most of the values in w, but not high enough to 'filter out', the relevant term in w_k.\")"
   ]
  },
  {
   "cell_type": "markdown",
   "metadata": {},
   "source": [
    "### Q2) Collaborative Representation Based Classification Using Elastic Net"
   ]
  },
  {
   "cell_type": "markdown",
   "metadata": {},
   "source": [
    "We now use the elastic net objective function to find $w$: $w = \\arg\\min \\hspace{2mm} \\|Dw - x \\|_2 ^2 + \\lambda (\\alpha \\|w \\|_1+0.5(1-\\alpha) \\|w \\|_2 ^2 )$. It linearly combines the $L1$ and $L2$ penalties. Choose an appropriate $\\lambda$ from Q1, and vary $\\alpha$ in the range $(0,1)$.\n",
    "\n",
    "You can use Scikit-learn ElasticNet (http://scikit-learn.org/stable/modules/generated/sklearn.linear_model.ElasticNet.html). Refer to the documentation on the web."
   ]
  },
  {
   "cell_type": "markdown",
   "metadata": {},
   "source": [
    "4.Plot testing accuracy vs. $\\alpha$. Compare the testing accuracy with that from least square and Lasso. "
   ]
  },
  {
   "cell_type": "code",
   "execution_count": 10,
   "metadata": {},
   "outputs": [],
   "source": [
    "from sklearn.linear_model import ElasticNet\n",
    "\n",
    "# Elastic Net\n",
    "\n",
    "def NetFit(ratio):\n",
    "    true_label = np.zeros((100,))\n",
    "    for i in range(0,10):\n",
    "        true_label[i*10:(i+1)*10] = i\n",
    "        \n",
    "    predicted_label = np.zeros((100,))\n",
    "    nonZeroWs = np.zeros((1,100))\n",
    "    nkMaster = np.zeros((1,100))\n",
    "    classifier = ElasticNet(alpha=1e-3, l1_ratio = ratio, max_iter=2000)\n",
    "\n",
    "    for i in range(0,100):    \n",
    "        classifier.fit(Xr, test[:,i])\n",
    "        w = classifier.coef_\n",
    "        nk= np.count_nonzero(w[int(true_label[i])*100:(int(true_label[i])+1)*100]) / (np.count_nonzero(w)+0.01)\n",
    "        nkMaster[:,i] = nk\n",
    "        nonZeroWs[:,i] = np.count_nonzero(w)\n",
    "        dist = np.zeros((10,))\n",
    "        for j in range(0,10):\n",
    "            sub_mat = Xr[:,j*100:(j+1)*100]\n",
    "            sub_W =w[j*100:(j+1)*100] \n",
    "            reconstructed = sub_mat @ sub_W \n",
    "            dist[j] = np.linalg.norm(reconstructed - test[:,i])\n",
    "        predicted_label[i] = np.argmin(dist)\n",
    "\n",
    "    test_err = np.count_nonzero(predicted_label - true_label)\n",
    "    test_acc = 1-(test_err/100.0)\n",
    "    avgNonZeroWs = nonZeroWs.mean()\n",
    "    avgNK = nkMaster.mean()\n",
    "\n",
    "    print(\"Test Accuacy :::::: \" + str(test_acc))\n",
    "    \n",
    "    return test_acc, avgNonZeroWs, avgNK"
   ]
  },
  {
   "cell_type": "code",
   "execution_count": 11,
   "metadata": {},
   "outputs": [],
   "source": [
    "##THIS TAKES A WHILE, SO I RAN IT, COMMENTED OUT AND, COPIED THE SOLUTIONS LATER ON\n",
    "\n",
    "#Ratios = [0, 0.2, 0.4, 0.6, 0.8, 1]\n",
    "\n",
    "#accQ2=[]\n",
    "#avgNonZeroWsQ2=[]\n",
    "#avgNKQ2 = []\n",
    "\n",
    "#for r in Ratios:\n",
    "#    acc1, wAvg1, avgNK1 = NetFit(r)\n",
    "#    accQ2.append(acc1)\n",
    "#    avgNonZeroWsQ2.append(wAvg1)\n",
    "#    avgNKQ2.append(avgNK1)\n",
    "\n",
    "#print(accQ2,avgNonZeroWsQ2,avgNKQ2)"
   ]
  },
  {
   "cell_type": "code",
   "execution_count": 12,
   "metadata": {},
   "outputs": [],
   "source": [
    "#Loading Results\n",
    "Ratios = [0, 0.2, 0.4, 0.6, 0.8, 1]\n",
    "accQ2 = [0.83, 0.92, 0.9299999999999999, 0.9299999999999999, 0.94, 0.94]\n",
    "avgNonZeroWsQ2 = [1000.0, 285.17, 193.86, 151.66, 125.94, 107.59]\n",
    "avgNKQ2 = [0.0999990000099999, 0.14049364819878374, 0.1605660644277942, 0.17355305715068428, 0.18564418607272984, 0.19528901848290875]"
   ]
  },
  {
   "cell_type": "markdown",
   "metadata": {},
   "source": [
    "5.Plot the average number of nonzero entries in $w$ vs. $\\alpha$ and average $nk$ vs. $\\alpha$. What do you find?"
   ]
  },
  {
   "cell_type": "code",
   "execution_count": 13,
   "metadata": {},
   "outputs": [
    {
     "data": {
      "image/png": "[encoded data removed]",
      "text/plain": [
       "<Figure size 432x288 with 1 Axes>"
      ]
     },
     "metadata": {
      "needs_background": "light"
     },
     "output_type": "display_data"
    },
    {
     "data": {
      "image/png": "[encoded data removed]",
      "text/plain": [
       "<Figure size 432x288 with 1 Axes>"
      ]
     },
     "metadata": {
      "needs_background": "light"
     },
     "output_type": "display_data"
    },
    {
     "name": "stdout",
     "output_type": "stream",
     "text": [
      "ANSWER:\n",
      "These results make sense. As we decrease alpha to 0 we basically remove the lasso penalty, which is why the average non-zero entries increase towards the actual number of total values (1000), and NK goes to 10%, which is what the ratio should be for a 'w' that has no zero values. The oposite is true as we increase alpha to 1, where we recover the lasso behaviour shown in the previous question\n"
     ]
    }
   ],
   "source": [
    "#plotting  avg w vs alpha\n",
    "plt.plot(Ratios,avgNonZeroWsQ2)\n",
    "plt.title('average non-zero values vs alpha')\n",
    "plt.ylabel(\"Average non-zero entries\")\n",
    "plt.xlabel(\"alpha\")\n",
    "plt.show()\n",
    "\n",
    "#plotting NK vs alpha\n",
    "plt.plot(Ratios,avgNKQ2)\n",
    "plt.title('average nk vs alpha')\n",
    "plt.ylabel(\"NK\")\n",
    "plt.xlabel(\"alpha\")\n",
    "plt.show()\n",
    "\n",
    "print(\"ANSWER:\")\n",
    "print(\"These results make sense. As we decrease alpha to 0 we basically remove the lasso penalty, which is why the average non-zero entries increase towards the actual number of total values (1000), and NK goes to 10%, which is what the ratio should be for a 'w' that has no zero values. The oposite is true as we increase alpha to 1, where we recover the lasso behaviour shown in the previous question\")"
   ]
  },
  {
   "cell_type": "markdown",
   "metadata": {},
   "source": [
    "### Q3) Orthogonal Matching Pursuit (OMP)"
   ]
  },
  {
   "cell_type": "markdown",
   "metadata": {},
   "source": [
    "The general sparse least squares problem can be posed as below.\n",
    "\\begin{equation}\n",
    "\\min_{x\\in\\mathbb{R}^n} \\|y-Ax\\|_2^2\n",
    "\\end{equation}\n",
    "\\begin{equation}\n",
    "\\mbox{s.t.} \\|x\\|_0 \\leq k \n",
    "\\end{equation}\n",
    "\n",
    "Orthogonal Matching Pursuit (OMP) is a greedy algorithm for sparse least squares problem above. Refer to the section 13.5.2 in the notes for the details."
   ]
  },
  {
   "cell_type": "code",
   "execution_count": 14,
   "metadata": {},
   "outputs": [
    {
     "name": "stdout",
     "output_type": "stream",
     "text": [
      "X (train) : 100 x 512\n",
      "y (test) : 100 x 1\n",
      "w (weight) : 512 x 1\n"
     ]
    },
    {
     "name": "stderr",
     "output_type": "stream",
     "text": [
      "C:\\Users\\Franj\\AppData\\Local\\Continuum\\anaconda3\\lib\\site-packages\\ipykernel_launcher.py:12: UserWarning: In Matplotlib 3.3 individual lines on a stem plot will be added as a LineCollection instead of individual lines. This significantly improves the performance of a stem plot. To remove this warning and switch to the new behaviour, set the \"use_line_collection\" keyword argument to True.\n",
      "  if sys.path[0] == '':\n"
     ]
    },
    {
     "data": {
      "image/png": "[encoded data removed]",
      "text/plain": [
       "<Figure size 432x288 with 1 Axes>"
      ]
     },
     "metadata": {
      "needs_background": "light"
     },
     "output_type": "display_data"
    }
   ],
   "source": [
    "from sklearn import linear_model\n",
    "from sklearn.datasets import make_sparse_coded_signal\n",
    "\n",
    "y, X, w = make_sparse_coded_signal(n_samples=1,n_components=512,n_features=100,n_nonzero_coefs=15,random_state=0)\n",
    "print ('X (train) : ' + str(X.shape[0]) + ' x ' + str(X.shape[1]))\n",
    "print ('y (test) : ' + str(y.shape[0]) + ' x 1')\n",
    "print ('w (weight) : ' + str(w.shape[0]) + ' x 1')\n",
    "\n",
    "idx, = w.nonzero()\n",
    "\n",
    "plt.figure()\n",
    "plt.stem(idx, w[idx])\n",
    "plt.xlim([0,512])\n",
    "plt.title('Sparse weight')\n",
    "plt.show()"
   ]
  },
  {
   "cell_type": "markdown",
   "metadata": {},
   "source": [
    "6.Use the orthogonal matching pursuit algorithm to find the $\\hat{w}$ (coefficients) and compare it with the $w$ above (compute $\\|w-\\hat{w}\\|_2^2$). (http://scikit-learn.org/stable/auto_examples/linear_model/plot_omp.html)\n",
    "\n",
    "You can use scikit-learn OrthogonalMatchingPursuit (http://scikit-learn.org/stable/modules/generated/sklearn.linear_model.OrthogonalMatchingPursuit.html). Set $\\mbox{n_nonzero_coefs}=20$, $\\mbox{fit_intercept}=False$ and default for other parameters. "
   ]
  },
  {
   "cell_type": "code",
   "execution_count": 15,
   "metadata": {},
   "outputs": [
    {
     "name": "stderr",
     "output_type": "stream",
     "text": [
      "C:\\Users\\Franj\\AppData\\Local\\Continuum\\anaconda3\\lib\\site-packages\\sklearn\\linear_model\\omp.py:387: RuntimeWarning:  Orthogonal matching pursuit ended prematurely due to linear\n",
      "dependence in the dictionary. The requested precision might not have been met.\n",
      "\n",
      "  copy_X=copy_X, return_path=return_path)\n",
      "C:\\Users\\Franj\\AppData\\Local\\Continuum\\anaconda3\\lib\\site-packages\\ipykernel_launcher.py:11: UserWarning: In Matplotlib 3.3 individual lines on a stem plot will be added as a LineCollection instead of individual lines. This significantly improves the performance of a stem plot. To remove this warning and switch to the new behaviour, set the \"use_line_collection\" keyword argument to True.\n",
      "  # This is added back by InteractiveShellApp.init_path()\n"
     ]
    },
    {
     "name": "stdout",
     "output_type": "stream",
     "text": [
      "norm squared of (w-w_hat) is:  1.2335581293800247e-30\n"
     ]
    },
    {
     "data": {
      "image/png": "[encoded data removed]",
      "text/plain": [
       "<Figure size 432x288 with 1 Axes>"
      ]
     },
     "metadata": {
      "needs_background": "light"
     },
     "output_type": "display_data"
    }
   ],
   "source": [
    "from sklearn.linear_model import OrthogonalMatchingPursuit\n",
    "\n",
    "#Using code adapted from: http://scikit-learn.org/stable/auto_examples/linear_model/plot_omp.html\n",
    "omp1 = OrthogonalMatchingPursuit(n_nonzero_coefs=20, fit_intercept = False)\n",
    "omp1.fit(X, y)\n",
    "coef = omp1.coef_\n",
    "idx_r, = coef.nonzero()\n",
    "plt.subplot(4, 1, 2)\n",
    "plt.xlim(0, 512)\n",
    "plt.title(\"Recovered signal from noise-free measurements\")\n",
    "plt.stem(idx_r, coef[idx_r])\n",
    "\n",
    "norm1 = (np.linalg.norm(coef-w))**2\n",
    "print(\"norm squared of (w-w_hat) is: \", norm1)"
   ]
  },
  {
   "cell_type": "markdown",
   "metadata": {},
   "source": [
    "7.Implement the OMP function yourself with following requirements. (Refer to the section 13.5.2 in the notes for the details of the algorithm.)\n",
    "\n",
    "[Termination conditions]\n",
    "\n",
    "1)Number of nonzero elements in $w$. \n",
    "\\begin{equation}\n",
    "\\mbox{number of nonzero elements} = k\n",
    "\\end{equation}\n",
    "2)Tolerance of the residual.\n",
    "\\begin{equation}\n",
    "\\frac{\\|y-\\hat{y}\\|_2}{\\|y\\|_2} \\leq \\mbox{tolerance}\n",
    "\\end{equation}\n",
    "3)Maximum number of iterations."
   ]
  },
  {
   "cell_type": "code",
   "execution_count": 16,
   "metadata": {},
   "outputs": [],
   "source": [
    "# Function outline\n",
    "from sklearn.linear_model import LinearRegression\n",
    "\n",
    "def omp(X,y,n_nonzero,tol,max_iter):\n",
    "    \n",
    "    NonZero=0\n",
    "    error=0\n",
    "    iteration = 0\n",
    "    r = y \n",
    "    S = np.zeros((100,1))    \n",
    "    wMaster= np.zeros(512)\n",
    "    \n",
    "    while iteration <= max_iter: #tolerance and iteration termination conditions \n",
    "            \n",
    "        #increase iteration count\n",
    "        iteration+=1\n",
    "        \n",
    "        #select atom most correlated with residual\n",
    "        dotProduct = abs(X.T @ r)\n",
    "        similarAtomPosition = np.argmax(dotProduct)\n",
    "        similarAtom = X[:,similarAtomPosition]\n",
    "        similarAtom = np.reshape(similarAtom,(-1,1))\n",
    "        \n",
    "        if iteration == 1:\n",
    "            S[:] = similarAtom\n",
    "        else:\n",
    "            S = np.append(S, similarAtom,1)\n",
    "            \n",
    "        #solving least squares problem\n",
    "        w = np.linalg.inv(S.T @ S)@ S.T @ y\n",
    "        wi= w[iteration-1]\n",
    "        wMaster[similarAtomPosition] = wi\n",
    "            \n",
    "        #update residual\n",
    "        r = y - S @ w \n",
    "        error = np.linalg.norm(r)**2/np.linalg.norm(y)**2\n",
    "        #print(error)\n",
    "\n",
    "        #check if we got to the sparsity limit\n",
    "        NonZero = np.count_nonzero(wMaster)\n",
    "        \n",
    "        if NonZero >= n_nonzero: #sparsity termination condition \n",
    "            print(\"Stopped: Reached target sparsity\")\n",
    "            break\n",
    "            \n",
    "        if error < tol: #tolerance termination condition \n",
    "            print(\"Stopped: Reached target tolerance\")\n",
    "            break\n",
    "            \n",
    "    print(\"Final Error: \", error, \"\\n\")    \n",
    "    return wMaster"
   ]
  },
  {
   "cell_type": "markdown",
   "metadata": {},
   "source": [
    "8.Repeat question 6 using your OMP function. (Set parameters as $\\mbox{n_nonzero}=15$,$\\mbox{tol}=10^{-30}$,$\\mbox{max_iter}=300$)"
   ]
  },
  {
   "cell_type": "code",
   "execution_count": 17,
   "metadata": {},
   "outputs": [
    {
     "name": "stdout",
     "output_type": "stream",
     "text": [
      "Stopped: Reached target sparsity\n",
      "Final Error:  7.391540493375063e-32 \n",
      "\n",
      "ANSWER: norm squared of (w-w_hat) is:  0.2639261275635498\n"
     ]
    }
   ],
   "source": [
    "wOpm = omp(X,y,15,1e-30, 300)\n",
    "norm2 = (np.linalg.norm(w-wOpm))**2\n",
    "print(\"ANSWER: norm squared of (w-w_hat) is: \", norm2)"
   ]
  },
  {
   "cell_type": "markdown",
   "metadata": {},
   "source": [
    "9.Try changing the tolerance value from $10^{-3}$ to $10^{-30}$ in log scale. 1)Plot the error ($\\|w-\\hat{w}\\|_2^2$) vs. tolerance and 2)number of nonzero elements in $\\hat{w}$ vs. tolerance. (Keep $\\mbox{n_nonzero}=15$ and $\\mbox{max_iter}=300$.)"
   ]
  },
  {
   "cell_type": "code",
   "execution_count": 18,
   "metadata": {},
   "outputs": [
    {
     "name": "stdout",
     "output_type": "stream",
     "text": [
      "Stopped: Reached target tolerance\n",
      "Final Error:  0.0007712308077602594 \n",
      "\n",
      "Stopped: Reached target sparsity\n",
      "Final Error:  7.391540493375063e-32 \n",
      "\n",
      "Stopped: Reached target sparsity\n",
      "Final Error:  7.391540493375063e-32 \n",
      "\n",
      "Stopped: Reached target sparsity\n",
      "Final Error:  7.391540493375063e-32 \n",
      "\n",
      "Stopped: Reached target sparsity\n",
      "Final Error:  7.391540493375063e-32 \n",
      "\n",
      "Stopped: Reached target sparsity\n",
      "Final Error:  7.391540493375063e-32 \n",
      "\n",
      "Stopped: Reached target sparsity\n",
      "Final Error:  7.391540493375063e-32 \n",
      "\n"
     ]
    },
    {
     "data": {
      "image/png": "[encoded data removed]",
      "text/plain": [
       "<Figure size 432x288 with 1 Axes>"
      ]
     },
     "metadata": {
      "needs_background": "light"
     },
     "output_type": "display_data"
    },
    {
     "data": {
      "image/png": "[encoded data removed]",
      "text/plain": [
       "<Figure size 432x288 with 1 Axes>"
      ]
     },
     "metadata": {
      "needs_background": "light"
     },
     "output_type": "display_data"
    }
   ],
   "source": [
    "tolList = [1e-3,1e-5,1e-10,1e-15,1e-20,1e-25,1e-30]\n",
    "\n",
    "normList = []\n",
    "nonZeroList=[]\n",
    "testL=[]\n",
    "\n",
    "for tol in tolList:\n",
    "    wOpm = omp(X,y,15,tol,300)\n",
    "    nonZeroList.append(np.count_nonzero(wOpm))\n",
    "    normList.append(np.linalg.norm(w-wOpm)**2)\n",
    "    \n",
    "#plotting error vs tolerance\n",
    "plt.semilogx(tolList,normList)\n",
    "plt.title('error vs tolerance')\n",
    "plt.ylabel(\"error\")\n",
    "plt.xlabel(\"tolerance\")\n",
    "plt.show()\n",
    "\n",
    "#plotting number non-zero vs tolerance\n",
    "plt.semilogx(tolList,nonZeroList)\n",
    "plt.title('# non-zero vs tolerance')\n",
    "plt.ylabel(\"# non-zero\")\n",
    "plt.xlabel(\"tolerance\")\n",
    "plt.show()\n",
    "        "
   ]
  }
 ],
 "metadata": {
  "anaconda-cloud": {},
  "kernelspec": {
   "display_name": "Python 3",
   "language": "python",
   "name": "python3"
  },
  "language_info": {
   "codemirror_mode": {
    "name": "ipython",
    "version": 3
   },
   "file_extension": ".py",
   "mimetype": "text/x-python",
   "name": "python",
   "nbconvert_exporter": "python",
   "pygments_lexer": "ipython3",
   "version": "3.7.3"
  }
 },
 "nbformat": 4,
 "nbformat_minor": 1
}
