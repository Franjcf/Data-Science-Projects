{
 "cells": [
  {
   "cell_type": "markdown",
   "id": "ed00b72a",
   "metadata": {},
   "source": [
    "# Ethereum Price Prediction Using LSTMs "
   ]
  },
  {
   "cell_type": "markdown",
   "id": "cc1ea981",
   "metadata": {},
   "source": [
    "# Loading Basic Libraries"
   ]
  },
  {
   "cell_type": "code",
   "execution_count": 1,
   "id": "c430182a",
   "metadata": {},
   "outputs": [],
   "source": [
    "from google.cloud import bigquery\n",
    "import tensorflow as tf\n",
    "import numpy as np\n",
    "import pandas as pd\n",
    "import plotly.offline as py\n",
    "import plotly.graph_objs as go\n",
    "\n",
    "import tensorflow as tf\n",
    "from tensorflow.keras.models import Sequential\n",
    "from tensorflow.keras.layers import Activation, Dense, Dropout, LSTM\n",
    "\n",
    "import datetime\n",
    "import requests\n",
    "import sys, os\n",
    "\n",
    "#changing default figure renderer for github display\n",
    "import plotly.io as pio\n",
    "pio.renderers\n",
    "pio.renderers.default = \"svg\""
   ]
  },
  {
   "cell_type": "markdown",
   "id": "97a64a64",
   "metadata": {},
   "source": [
    "# Defining Basic Plotting Functions"
   ]
  },
  {
   "cell_type": "code",
   "execution_count": 14,
   "id": "04186e52",
   "metadata": {},
   "outputs": [],
   "source": [
    "def plotData(df, x_column, y_column): \n",
    "    \"\"\"simply the input plot data from a dataframe\"\"\"\n",
    "\n",
    "    figure = go.Figure()\n",
    "    figure.add_trace(go.Scatter(x=df[x_column],y=df[y_column],mode='lines'))\n",
    "    \n",
    "    figure.update_xaxes(title = \"Time\")\n",
    "    figure.update_yaxes(title = \"Price\")\n",
    "    \n",
    "    figure.show()\n",
    "    \n",
    "def plotArrays(train, prediction, plotBoth=False): \n",
    "    '''plots the training dataset array.\n",
    "    The \"plotBoth\" flag plots predictions in addition to just the training data.\n",
    "    Note the .ravel function flattens an array'''\n",
    "    \n",
    "    figure = go.Figure()\n",
    "    figure.add_trace(go.Scatter(y=train.ravel()\n",
    "                               ,x=list(range(len(train.ravel()))),\n",
    "                               mode='lines',\n",
    "                               name=\"labels\"\n",
    "                               )\n",
    "                        )\n",
    "    \n",
    "    if plotBoth:\n",
    "        figure.add_trace(go.Scatter(y=prediction.ravel()\n",
    "                               ,x=list(range(len(prediction.ravel()))),mode='lines',\n",
    "                                name = \"prediction\"\n",
    "                                )\n",
    "                        )\n",
    "        \n",
    "    figure.update_xaxes(title = \"Time\")\n",
    "    figure.update_yaxes(title = \"Normalized Price\")\n",
    "    \n",
    "    figure.show()"
   ]
  },
  {
   "cell_type": "markdown",
   "id": "99849148",
   "metadata": {},
   "source": [
    "# Defining API calls for Ethereum Prices\n"
   ]
  },
  {
   "cell_type": "code",
   "execution_count": 3,
   "id": "0ed0f513",
   "metadata": {},
   "outputs": [],
   "source": [
    "#Documentation and explanation of the API request can be found here:\n",
    "#https://min-api.cryptocompare.com/documentation?\n",
    "\n",
    "#my api key:\n",
    "my_api_key = '72183b21006f095800f3b2e4b665adaae27d08098ec380c72b3ee87d25c8164f'\n",
    "\n",
    "#Obtain price of a cryptocurrency right now\n",
    "def price(symbol, comparison_symbols=['USD'], exchange=''):\n",
    "    url = 'https://min-api.cryptocompare.com/data/price?fsym={}&tsyms={}&api_key={}'\\\n",
    "            .format(symbol.upper(), ','.join(comparison_symbols).upper(),my_api_key)\n",
    "    \n",
    "    #this would be the same as the following code for ETH price and BTC,USD,EUR comparisons\n",
    "    #url = 'https://min-api.cryptocompare.com/data/price?fsym=ETH & tsyms=BTC,USD,EUR & api_key={my_api_key}'\n",
    "\n",
    "    #adding the exchange if we want a specefic exchange\n",
    "    if exchange:\n",
    "        url += '&e={}'.format(exchange) \n",
    "        \n",
    "    page = requests.get(url)\n",
    "    data = page.json()\n",
    "    return data\n",
    "\n",
    "    #example use: \n",
    "    #price('LTC', exchange='Coinbase')\n",
    "\n",
    "#Get historical price with daily timestep\n",
    "def daily_price_historical(symbol, comparison_symbol, limit=1, aggregate=1, exchange='', allData='true'):\n",
    "    url = 'https://min-api.cryptocompare.com/data/histoday?fsym={}&tsym={}&limit={}&aggregate={}&allData={}&api_key={}'\\\n",
    "            .format(symbol.upper(), comparison_symbol.upper(), limit, aggregate, allData,my_api_key)\n",
    "    if exchange:\n",
    "        url += '&e={}'.format(exchange)\n",
    "    page = requests.get(url)\n",
    "    data = page.json()['Data']\n",
    "    df = pd.DataFrame(data)\n",
    "    df['timestamp'] = [datetime.datetime.fromtimestamp(d) for d in df.time] #seting up timestamp from time column\n",
    "    return df\n",
    "\n",
    "    #example use:\n",
    "    #df = daily_price_historical('BTC', 'USD')\n",
    "    #print('Max length = %s' % len(df))\n",
    "    #print('Max time = %s' % (df.timestamp.max() - df.timestamp.min()))\n",
    "    #df.head()\n",
    "\n",
    "#Get historical price with hourely timestep\n",
    "def hourly_price_historical(symbol, comparison_symbol, limit, aggregate, exchange=''):\n",
    "    url = 'https://min-api.cryptocompare.com/data/histohour?fsym={}&tsym={}&limit={}&aggregate={}&api_key={}'\\\n",
    "            .format(symbol.upper(), comparison_symbol.upper(), limit, aggregate,my_api_key)\n",
    "    if exchange:\n",
    "        url += '&e={}'.format(exchange)\n",
    "    page = requests.get(url)\n",
    "    data = page.json()['Data']\n",
    "    df = pd.DataFrame(data)\n",
    "    df['timestamp'] = [datetime.datetime.fromtimestamp(d) for d in df.time]\n",
    "    return df\n",
    "\n",
    "    #example use:\n",
    "    #time_delta = 1 # Bar width in hours\n",
    "    #df = hourly_price_historical('BTC', 'USD', 9999, time_delta)\n",
    "    #print('Max length = %s' % len(df))\n",
    "    #print('Max time = %s' % (df.timestamp.max() - df.timestamp.min()))\n",
    "\n",
    "#Get historical price with minute timestep\n",
    "def minute_price_historical(symbol, comparison_symbol, limit, aggregate, exchange=''):\n",
    "    url = 'https://min-api.cryptocompare.com/data/histominute?fsym={}&tsym={}&limit={}&aggregate={}&api_key={}'\\\n",
    "            .format(symbol.upper(), comparison_symbol.upper(), limit, aggregate,my_api_key)\n",
    "    if exchange:\n",
    "        url += '&e={}'.format(exchange)\n",
    "    page = requests.get(url)\n",
    "    data = page.json()['Data']\n",
    "    df = pd.DataFrame(data)\n",
    "    df['timestamp'] = [datetime.datetime.fromtimestamp(d) for d in df.time]\n",
    "    return df\n",
    "\n",
    "    #example use:\n",
    "    #time_delta = 1 # Bar width in minutes\n",
    "    #df = minute_price_historical('BTC', 'USD', 9999, time_delta)\n",
    "    #print('Max length = %s' % len(df))\n",
    "    #print('Max time = %s' % (df.timestamp.max() - df.timestamp.min()))"
   ]
  },
  {
   "cell_type": "markdown",
   "id": "cb0486c3",
   "metadata": {},
   "source": [
    "# Obtaining and Viewing Data"
   ]
  },
  {
   "cell_type": "code",
   "execution_count": 13,
   "id": "587a0196",
   "metadata": {},
   "outputs": [
    {
     "name": "stdout",
     "output_type": "stream",
     "text": [
      "Max length = 4070\n",
      "Max time = 4069 days 00:00:00\n"
     ]
    },
    {
     "data": {
      "image/svg+xml": [
       "<svg class=\"main-svg\" xmlns=\"http://www.w3.org/2000/svg\" xmlns:xlink=\"http://www.w3.org/1999/xlink\" width=\"700\" height=\"500\" style=\"\" viewBox=\"0 0 700 500\"><rect x=\"0\" y=\"0\" width=\"700\" height=\"500\" style=\"fill: rgb(255, 255, 255); fill-opacity: 1;\"/><defs id=\"defs-a73c9a\"><g class=\"clips\"><clipPath id=\"clipa73c9axyplot\" class=\"plotclip\"><rect width=\"540\" height=\"320\"/></clipPath><clipPath class=\"axesclip\" id=\"clipa73c9ax\"><rect x=\"80\" y=\"0\" width=\"540\" height=\"500\"/></clipPath><clipPath class=\"axesclip\" id=\"clipa73c9ay\"><rect x=\"0\" y=\"100\" width=\"700\" height=\"320\"/></clipPath><clipPath class=\"axesclip\" id=\"clipa73c9axy\"><rect x=\"80\" y=\"100\" width=\"540\" height=\"320\"/></clipPath></g><g class=\"gradients\"/><g class=\"patterns\"/></defs><g class=\"bglayer\"><rect class=\"bg\" x=\"80\" y=\"100\" width=\"540\" height=\"320\" style=\"fill: rgb(229, 236, 246); fill-opacity: 1; stroke-width: 0;\"/></g><g class=\"layer-below\"><g class=\"imagelayer\"/><g class=\"shapelayer\"/></g><g class=\"cartesianlayer\"><g class=\"subplot xy\"><g class=\"layer-subplot\"><g class=\"shapelayer\"/><g class=\"imagelayer\"/></g><g class=\"gridlayer\"><g class=\"x\"><path class=\"xgrid crisp\" transform=\"translate(90.95,0)\" d=\"M0,100v320\" style=\"stroke: rgb(255, 255, 255); stroke-opacity: 1; stroke-width: 1px;\"/><path class=\"xgrid crisp\" transform=\"translate(188.78,0)\" d=\"M0,100v320\" style=\"stroke: rgb(255, 255, 255); stroke-opacity: 1; stroke-width: 1px;\"/><path class=\"xgrid crisp\" transform=\"translate(288.24,0)\" d=\"M0,100v320\" style=\"stroke: rgb(255, 255, 255); stroke-opacity: 1; stroke-width: 1px;\"/><path class=\"xgrid crisp\" transform=\"translate(386.62,0)\" d=\"M0,100v320\" style=\"stroke: rgb(255, 255, 255); stroke-opacity: 1; stroke-width: 1px;\"/><path class=\"xgrid crisp\" transform=\"translate(486.08,0)\" d=\"M0,100v320\" style=\"stroke: rgb(255, 255, 255); stroke-opacity: 1; stroke-width: 1px;\"/><path class=\"xgrid crisp\" transform=\"translate(583.9200000000001,0)\" d=\"M0,100v320\" style=\"stroke: rgb(255, 255, 255); stroke-opacity: 1; stroke-width: 1px;\"/></g><g class=\"y\"><path class=\"ygrid crisp\" transform=\"translate(0,339.57)\" d=\"M80,0h540\" style=\"stroke: rgb(255, 255, 255); stroke-opacity: 1; stroke-width: 1px;\"/><path class=\"ygrid crisp\" transform=\"translate(0,269.22)\" d=\"M80,0h540\" style=\"stroke: rgb(255, 255, 255); stroke-opacity: 1; stroke-width: 1px;\"/><path class=\"ygrid crisp\" transform=\"translate(0,198.87)\" d=\"M80,0h540\" style=\"stroke: rgb(255, 255, 255); stroke-opacity: 1; stroke-width: 1px;\"/><path class=\"ygrid crisp\" transform=\"translate(0,128.52)\" d=\"M80,0h540\" style=\"stroke: rgb(255, 255, 255); stroke-opacity: 1; stroke-width: 1px;\"/></g></g><g class=\"zerolinelayer\"><path class=\"yzl zl crisp\" transform=\"translate(0,409.92)\" d=\"M80,0h540\" style=\"stroke: rgb(255, 255, 255); stroke-opacity: 1; stroke-width: 2px;\"/></g><path class=\"xlines-below\"/><path class=\"ylines-below\"/><g class=\"overlines-below\"/><g class=\"xaxislayer-below\"/><g class=\"yaxislayer-below\"/><g class=\"overaxes-below\"/><g class=\"plot\" transform=\"translate(80,100)\" clip-path=\"url(#clipa73c9axyplot)\"><g class=\"scatterlayer mlayer\"><g class=\"trace scatter trace202ab3\" style=\"stroke-miterlimit: 2; opacity: 1;\"><g class=\"fills\"/><g class=\"errorbars\"/><g class=\"lines\"><path class=\"js-line\" d=\"M0,303.56L2.16,303.91L2.7,303.23L6.49,300.01L7.03,300.7L7.57,300.65L8.11,301.71L8.65,300.09L9.19,300.28L9.73,300L10.27,300.55L10.81,299.94L11.35,298.94L11.89,299.43L12.43,298.94L15.14,299.28L15.68,300.92L17.3,301.71L17.84,300.79L18.92,301.24L19.46,301.19L22.16,301.56L22.7,301.68L24.86,302L25.41,302.46L27.57,302.41L28.11,302.14L30.81,302.62L31.35,301.53L35.68,301.29L36.22,300.49L37.3,299.78L37.84,299.44L38.92,299.49L39.46,298.73L40,300.55L40.54,300.17L41.08,300.3L44.32,301.04L44.86,300.26L52.97,300.1L53.51,300.4L59.46,299.96L60,298.31L61.08,298.82L61.62,298.22L62.7,297.59L63.24,297.2L65.95,298.37L66.49,298.09L67.57,298.19L68.11,298.18L69.19,297.68L69.73,297.68L73.51,298.87L74.05,298.89L75.68,298.63L76.22,298.52L77.3,298.39L77.84,298.42L78.92,298.07L79.46,297.87L80.54,297.79L81.08,296.36L82.16,296.13L82.7,294.63L83.78,291.31L84.32,292.7L84.86,293.45L85.41,291.58L87.03,292.78L87.57,292.65L88.65,292.22L89.19,291.07L90.81,290.97L91.35,292L92.43,291.3L92.97,290.97L94.05,292.96L94.59,292.6L96.22,292.72L96.76,293.64L98.38,291.42L98.92,291.96L101.08,290.64L101.62,291.31L102.7,290.79L103.24,289.1L104.32,288.31L104.86,288.03L105.41,287.68L105.95,286.39L106.49,289.24L107.03,288.14L107.57,287.56L108.11,289.48L108.65,289.23L109.19,289.4L109.73,288.66L110.27,290.01L111.35,289.66L111.89,288.36L112.97,288.24L113.51,289.6L114.05,291.03L114.59,290.54L115.14,290.99L116.76,295.94L117.3,295.05L117.84,294.03L118.38,294.35L118.92,293.83L121.08,294.68L121.62,294.51L122.16,294.49L122.7,295.34L125.41,294.61L125.95,294.6L128.11,294.02L128.65,294.01L130.27,295.43L130.81,294.71L131.89,295.23L132.43,296.8L134.59,296.22L135.14,295.68L136.76,296.52L137.3,296.24L141.62,297.81L142.16,297.86L143.24,297.32L143.78,297.61L145.41,297.39L145.95,297.13L148.65,297.15L149.19,296.65L150.27,296.01L150.81,295.3L152.97,294.78L153.51,295.05L154.05,295.78L154.59,298.19L156.76,297.68L157.3,297.98L158.38,297.51L158.92,297.18L160,297.53L160.54,297.46L161.08,297.93L161.62,297.23L162.16,297.18L162.7,296.31L169.73,297.86L170.27,298.48L170.81,298.59L171.35,297.14L172.97,297.1L173.51,296.48L174.59,297.08L175.14,297.01L184.32,297.39L184.86,297.54L185.41,297.63L185.95,298.58L187.57,300.04L188.11,299.62L191.89,299.42L192.43,299.53L194.59,299.54L195.14,299.3L198.38,299.93L198.92,299.88L200,301.32L200.54,300.55L202.16,300.95L202.7,300.61L204.86,301.08L205.41,301.03L208.11,300.73L208.65,300.98L210.81,299.78L211.35,299.87L213.51,299.89L214.05,299.62L214.59,299.82L215.14,298.26L219.46,298.1L220,298.49L222.16,297.98L222.7,297.55L223.24,297.71L223.78,296.94L224.86,297L225.41,296.67L226.49,296.66L227.03,295.58L229.19,293.83L229.73,294.22L231.89,289.82L232.43,291.3L233.51,291.1L234.05,290L235.14,291.79L235.68,291.23L236.22,291.48L236.76,290.53L237.84,292.56L238.38,294.16L239.46,293.9L240,294.59L240.54,294.56L241.08,293.59L242.16,294.1L242.7,293.82L243.24,292.63L243.78,293.2L244.32,295.87L245.41,295.81L245.95,296.21L246.49,302.16L247.03,300.41L247.57,301.29L248.11,301.22L248.65,302.09L249.73,301.57L250.27,300.29L251.89,301.3L252.43,300.31L254.05,300.15L254.59,300.65L256.76,300.55L257.3,300.35L258.92,299.75L259.46,299.87L260,297.83L260.54,298.33L261.08,297.73L263.78,298.89L264.32,298.76L264.86,299.16L265.41,297.78L265.95,297.9L266.49,296.7L268.11,297.89L268.65,297.04L271.89,296.07L272.43,294.75L273.51,294.99L274.05,294.86L276.22,295.91L276.76,294.98L277.84,295.13L278.38,296.71L279.46,296.54L280,295.86L280.54,295.62L281.08,296.22L283.24,294.82L283.78,295.15L284.32,295.95L284.86,295.33L287.57,295.26L288.11,294.42L288.65,294.4L289.19,292.78L289.73,293.63L290.27,292.44L290.81,293.19L291.35,292.71L291.89,292.8L293.51,292.7L294.05,292.58L295.14,292.47L295.68,293.72L296.76,293.16L297.3,293.62L301.08,293.88L301.62,292.8L303.24,293.57L303.78,293.77L304.86,294.1L305.41,293.89L307.57,294.08L308.11,293.79L308.65,293.88L309.19,292.91L311.89,293.09L312.43,292.85L315.14,293.54L315.68,293.33L317.3,292.62L317.84,291.33L320.54,287.25L321.08,287.58L321.62,287.54L322.16,286.33L322.7,285.51L323.24,282.66L323.78,283.75L324.32,282.75L325.95,282.13L326.49,283.22L327.03,281.95L327.57,282.46L328.11,282.08L328.65,283.26L329.19,282.68L329.73,280.02L330.27,279.07L330.81,279.49L331.35,279.4L332.43,280.22L332.97,281.23L333.51,280.65L334.05,282.62L335.68,281.21L336.22,282.95L338.38,281.85L338.92,279.73L339.46,279.38L340,276.43L342.16,286.33L342.7,285.11L343.24,285.04L343.78,286.18L345.95,282.62L346.49,284.15L347.03,283.38L347.57,284.3L348.11,284.23L348.65,282.51L350.27,283.82L350.81,285.99L351.35,285.7L351.89,287.39L352.97,285.15L353.51,285L355.68,284.6L356.22,285.07L357.3,285.55L357.84,285.11L358.38,285.03L358.92,285.94L360,285.21L360.54,284.21L362.7,283.09L363.24,283.25L364.86,283.98L365.41,283.3L365.95,283.23L366.49,283.98L367.57,280.76L368.11,281.11L368.65,280.9L369.73,282.26L370.27,281.52L371.35,282.65L371.89,282.99L372.97,282.01L373.51,282.93L374.59,281.59L375.14,280.59L375.68,277.82L376.22,279.26L376.76,277.93L377.3,278.65L379.46,276.37L380,277.48L380.54,278.37L381.08,277.49L381.62,275.96L382.16,276.24L382.7,276.73L384.86,267.07L385.41,267.36L387.03,273.42L387.57,272.07L388.65,266.57L389.19,268.68L390.27,266.54L390.81,269.98L391.89,267.55L392.43,268.32L392.97,270.89L393.51,269.58L394.59,271.64L395.14,269.94L395.68,268.36L396.22,268.67L396.76,268.47L397.84,264.67L398.38,263.87L398.92,263.58L399.46,265.02L400,267.15L400.54,265.09L401.08,268.75L401.62,266.84L402.7,265.17L403.24,261.8L404.32,258.45L404.86,256.98L405.95,258.52L406.49,255.4L408.11,232.31L408.65,224.75L409.19,223.71L409.73,224.3L410.27,219.87L410.81,221.58L411.35,233.35L411.89,236.05L412.43,230.44L412.97,223.24L413.51,227.68L414.59,223.13L415.14,221.4L416.22,212.99L416.76,231.73L418.38,211.96L418.92,217.17L419.46,213.67L420,222.58L421.08,212.9L421.62,212.88L422.16,217.47L422.7,213.22L423.78,192.63L424.32,197.54L424.86,188.81L425.41,191.79L425.95,196.33L427.03,185.26L427.57,187.3L428.65,180.14L429.19,182.06L430.81,184.5L431.35,179.69L432.43,172.21L432.97,175.19L433.51,173.78L434.05,184.83L434.59,198.89L435.14,195.59L435.68,205.67L437.3,209.84L437.84,199.37L438.38,205.19L438.92,199.57L440,202.3L440.54,193.74L442.16,178.22L442.7,183.6L443.24,181.39L443.78,185.56L444.32,174.77L444.86,179.87L445.41,183.65L445.95,182.89L446.49,181.67L447.03,184.97L447.57,182.6L448.11,182.9L448.65,184.42L450.27,198.54L450.81,198.28L451.89,189.34L452.43,191.26L454.05,174.91L454.59,171.49L455.14,159.76L455.68,168.57L456.76,161.64L457.3,161.32L457.84,171.74L458.38,163.51L458.92,164.54L459.46,159.81L460,158.63L460.54,159.53L462.16,132.84L462.7,139.25L464.32,157.73L464.86,145.83L465.95,140.99L466.49,143.21L467.03,153.99L467.57,146.56L469.19,116.4L469.73,115.86L470.27,114.63L470.81,102.54L471.35,102.25L471.89,68.52L472.43,81.91L472.97,61.67L474.05,64.83L474.59,34.42L475.68,32.06L476.22,16L477.3,48.29L477.84,22.89L479.46,79.12L480,72.3L480.54,138.06L481.08,114.85L481.62,138.56L482.7,162.29L483.24,123.58L483.78,119.45L484.32,106.68L485.95,149.62L486.49,142L487.03,119.46L487.57,124.6L488.11,119.52L488.65,109L489.19,120.6L489.73,124.92L490.27,119.2L491.35,133.4L491.89,126.26L492.97,144.24L493.51,143.22L494.05,133.36L494.59,128.27L495.14,130.98L496.76,152.79L497.3,157.5L497.84,152.08L498.38,177.11L498.92,177.6L499.46,171.43L500,169.99L500.54,182.57L501.08,181.11L501.62,170.39L503.24,149.79L503.78,161.53L504.86,153.24L505.41,146.48L505.95,155.38L506.49,146.52L507.03,146.91L507.57,161.16L508.11,158.97L508.65,161.45L509.19,159.34L509.73,166.91L510.27,173.4L510.81,169.63L511.89,177.87L512.43,176.26L512.97,176.82L513.51,181.98L514.05,184.24L514.59,169.57L515.14,167.48L515.68,160.39L517.84,147.98L518.38,148.04L521.08,126.42L521.62,133.47L523.78,87.45L524.32,97.9L524.86,87.27L525.41,88.91L525.95,87.38L526.49,95.55L527.03,76.06L527.57,80.11L528.11,76.99L529.19,98.03L529.73,97.92L530.27,85.88L530.81,78.72L531.35,82.93L531.89,81.87L532.43,76.17L532.97,86.73L533.51,82.77L534.05,92.29L534.59,79.46L535.14,81.51L535.68,83.02L536.22,82.8L536.76,68.26L537.3,40.54L537.84,43.46L538.38,32.76L538.92,36.47L539.46,31.88L540,32.46\" style=\"vector-effect: non-scaling-stroke; fill: none; stroke: rgb(99, 110, 250); stroke-opacity: 1; stroke-width: 2px; opacity: 1;\"/></g><g class=\"points\"/><g class=\"text\"/></g></g></g><g class=\"overplot\"/><path class=\"xlines-above crisp\" d=\"M0,0\" style=\"fill: none;\"/><path class=\"ylines-above crisp\" d=\"M0,0\" style=\"fill: none;\"/><g class=\"overlines-above\"/><g class=\"xaxislayer-above\"><g class=\"xtick\"><text text-anchor=\"middle\" x=\"0\" y=\"433\" transform=\"translate(90.95,0)\" style=\"font-family: 'Open Sans', verdana, arial, sans-serif; font-size: 12px; fill: rgb(42, 63, 95); fill-opacity: 1; white-space: pre; opacity: 1;\">Jan 2019</text></g><g class=\"xtick\"><text text-anchor=\"middle\" x=\"0\" y=\"433\" style=\"font-family: 'Open Sans', verdana, arial, sans-serif; font-size: 12px; fill: rgb(42, 63, 95); fill-opacity: 1; white-space: pre; opacity: 1;\" transform=\"translate(188.78,0)\">Jul 2019</text></g><g class=\"xtick\"><text text-anchor=\"middle\" x=\"0\" y=\"433\" style=\"font-family: 'Open Sans', verdana, arial, sans-serif; font-size: 12px; fill: rgb(42, 63, 95); fill-opacity: 1; white-space: pre; opacity: 1;\" transform=\"translate(288.24,0)\">Jan 2020</text></g><g class=\"xtick\"><text text-anchor=\"middle\" x=\"0\" y=\"433\" style=\"font-family: 'Open Sans', verdana, arial, sans-serif; font-size: 12px; fill: rgb(42, 63, 95); fill-opacity: 1; white-space: pre; opacity: 1;\" transform=\"translate(386.62,0)\">Jul 2020</text></g><g class=\"xtick\"><text text-anchor=\"middle\" x=\"0\" y=\"433\" style=\"font-family: 'Open Sans', verdana, arial, sans-serif; font-size: 12px; fill: rgb(42, 63, 95); fill-opacity: 1; white-space: pre; opacity: 1;\" transform=\"translate(486.08,0)\">Jan 2021</text></g><g class=\"xtick\"><text text-anchor=\"middle\" x=\"0\" y=\"433\" style=\"font-family: 'Open Sans', verdana, arial, sans-serif; font-size: 12px; fill: rgb(42, 63, 95); fill-opacity: 1; white-space: pre; opacity: 1;\" transform=\"translate(583.9200000000001,0)\">Jul 2021</text></g></g><g class=\"yaxislayer-above\"><g class=\"ytick\"><text text-anchor=\"end\" x=\"79\" y=\"4.199999999999999\" transform=\"translate(0,409.92)\" style=\"font-family: 'Open Sans', verdana, arial, sans-serif; font-size: 12px; fill: rgb(42, 63, 95); fill-opacity: 1; white-space: pre; opacity: 1;\">0</text></g><g class=\"ytick\"><text text-anchor=\"end\" x=\"79\" y=\"4.199999999999999\" style=\"font-family: 'Open Sans', verdana, arial, sans-serif; font-size: 12px; fill: rgb(42, 63, 95); fill-opacity: 1; white-space: pre; opacity: 1;\" transform=\"translate(0,339.57)\">1000</text></g><g class=\"ytick\"><text text-anchor=\"end\" x=\"79\" y=\"4.199999999999999\" style=\"font-family: 'Open Sans', verdana, arial, sans-serif; font-size: 12px; fill: rgb(42, 63, 95); fill-opacity: 1; white-space: pre; opacity: 1;\" transform=\"translate(0,269.22)\">2000</text></g><g class=\"ytick\"><text text-anchor=\"end\" x=\"79\" y=\"4.199999999999999\" style=\"font-family: 'Open Sans', verdana, arial, sans-serif; font-size: 12px; fill: rgb(42, 63, 95); fill-opacity: 1; white-space: pre; opacity: 1;\" transform=\"translate(0,198.87)\">3000</text></g><g class=\"ytick\"><text text-anchor=\"end\" x=\"79\" y=\"4.199999999999999\" style=\"font-family: 'Open Sans', verdana, arial, sans-serif; font-size: 12px; fill: rgb(42, 63, 95); fill-opacity: 1; white-space: pre; opacity: 1;\" transform=\"translate(0,128.52)\">4000</text></g></g><g class=\"overaxes-above\"/></g></g><g class=\"polarlayer\"/><g class=\"ternarylayer\"/><g class=\"geolayer\"/><g class=\"funnelarealayer\"/><g class=\"pielayer\"/><g class=\"iciclelayer\"/><g class=\"treemaplayer\"/><g class=\"sunburstlayer\"/><g class=\"glimages\"/><defs id=\"topdefs-a73c9a\"><g class=\"clips\"/></defs><g class=\"layer-above\"><g class=\"imagelayer\"/><g class=\"shapelayer\"/></g><g class=\"infolayer\"><g class=\"g-gtitle\"/><g class=\"g-xtitle\"><text class=\"xtitle\" x=\"350\" y=\"460.8\" text-anchor=\"middle\" style=\"font-family: 'Open Sans', verdana, arial, sans-serif; font-size: 14px; fill: rgb(42, 63, 95); opacity: 1; font-weight: normal; white-space: pre;\">Time</text></g><g class=\"g-ytitle\"><text class=\"ytitle\" transform=\"rotate(-90,23.684375000000003,260)\" x=\"23.684375000000003\" y=\"260\" text-anchor=\"middle\" style=\"font-family: 'Open Sans', verdana, arial, sans-serif; font-size: 14px; fill: rgb(42, 63, 95); opacity: 1; font-weight: normal; white-space: pre;\">Price</text></g></g></svg>"
      ]
     },
     "metadata": {},
     "output_type": "display_data"
    }
   ],
   "source": [
    "price_daily = daily_price_historical('ETH', 'USD')\n",
    "print('Max length = %s' % len(price_daily))\n",
    "print('Max time = %s' % (price_daily.timestamp.max() - price_daily.timestamp.min()))\n",
    "price_daily.tail()\n",
    "\n",
    "plotData(price_daily.iloc[-1000:],\"timestamp\",\"close\")"
   ]
  },
  {
   "cell_type": "markdown",
   "id": "3a000829",
   "metadata": {},
   "source": [
    "# Setting up RNN Configuration"
   ]
  },
  {
   "cell_type": "code",
   "execution_count": 5,
   "id": "30f846d2",
   "metadata": {},
   "outputs": [],
   "source": [
    "#LSTM setup roughtly follows the following configuration: \n",
    "#https://lilianweng.github.io/lil-log/2017/07/08/predict-stock-prices-using-RNN-part-1.html\n",
    "\n",
    "class configurationRNN():\n",
    "    \"\"\"\n",
    "    We will place the model configuration within a single object for easier handling\n",
    "    Note that the if-else statements are done to create default values in the constructor\n",
    "    \"\"\"\n",
    "    \n",
    "    def __init__(self, input_size=None, grouped_inputs=None,\n",
    "                 input_overlap=None, layer_size=None, num_layers=None,\n",
    "                keep_prob=None, start_learning_rate=None, initial_epochs=None,\n",
    "                decay_learning_rate=None, max_epochs=None, batch_size=None):\n",
    "    \n",
    "        # number of time inputs into a single time-step in the RNN. (size of sliding window/1 data point)\n",
    "        if input_size is None:\n",
    "            self.input_size = 3\n",
    "        else:\n",
    "            self.input_size = input_size       \n",
    "    \n",
    "        # number of inputs used during a training instance the \"unrolled\" version of the RNN\n",
    "        if grouped_inputs is None:\n",
    "            self.grouped_inputs = 2\n",
    "        else:\n",
    "            self.grouped_inputs = grouped_inputs\n",
    "            \n",
    "        #note a single training data set is going to have the size of input_size*grouped_inputs\n",
    "    \n",
    "        #overlap beetween windows when choosing input data \n",
    "        #(i.e. does the next input contain values from the previous one?)\n",
    "        if input_overlap is None:\n",
    "            self.input_overlap = 3\n",
    "        else:\n",
    "            self.input_overlap = input_overlap\n",
    "        \n",
    "        #setting number of units in an LSTM layer (layer size)\n",
    "        if layer_size is None:\n",
    "            self.layer_size = 128\n",
    "        else:\n",
    "            self.layer_size = layer_size\n",
    "        \n",
    "        #setting number of stacked LSTM layers (number of layers)\n",
    "        if num_layers is None:\n",
    "            self.num_layers = 1\n",
    "        else:\n",
    "            self.num_layers = num_layers\n",
    "\n",
    "        #percentage of cell units to keep in the dropout operation during training\n",
    "        if keep_prob is None:\n",
    "            self.keep_prob = 0.8\n",
    "        else:\n",
    "            self.keep_prob = keep_prob\n",
    "        \n",
    "        #setting start learning rate \n",
    "        if start_learning_rate is None:\n",
    "            self.start_learning_rate = 0.001\n",
    "        else:\n",
    "            self.start_learning_rate = start_learning_rate\n",
    "\n",
    "        #setting number of epochs we will use initial learning rate\n",
    "        if initial_epochs is None:\n",
    "            self.decay_learning_rate = 5\n",
    "        else:\n",
    "            self.initial_epochs = initial_epochs\n",
    "\n",
    "        #setting decay in learning rate after 1st epoch\n",
    "        if decay_learning_rate is None:\n",
    "            self.decay_learning_rate = 0.99\n",
    "        else:\n",
    "            self.decay_learning_rate = decay_learning_rate\n",
    "\n",
    "        #maximum number of epochs used for training\n",
    "        if max_epochs is None:\n",
    "            self.max_epochs = 3\n",
    "        else:\n",
    "            self.max_epochs = max_epochs\n",
    "\n",
    "        #setting mini batch size\n",
    "        if batch_size is None:\n",
    "            self.batch_size = 64\n",
    "        else:\n",
    "            self.batch_size = batch_size"
   ]
  },
  {
   "cell_type": "markdown",
   "id": "b2c9c16c",
   "metadata": {},
   "source": [
    "# Preparing Data for RNN"
   ]
  },
  {
   "cell_type": "code",
   "execution_count": 6,
   "id": "b57f8a2b",
   "metadata": {},
   "outputs": [],
   "source": [
    "def prepare_data(df,num_time_steps,train_test_split,config):\n",
    "    \"\"\"Function to split the raw data into time-step separated training and testing data\"\"\"\n",
    "    \n",
    "    #making a list sequence of closing prices\n",
    "    l = []\n",
    "    for i in df.iloc[-num_time_steps:][\"close\"]:\n",
    "        l.append(i)\n",
    "                \n",
    "    #formatting the data into a list of arrays (a 3-D array)\n",
    "    #each array has the size of the number of time steps included in each input\n",
    "    #each array does not share numbers with previous array (we can change that)\n",
    "\n",
    "    seq = [np.array(\n",
    "                l[config.input_size*i : config.input_size*(i + 1)]\n",
    "                ) \n",
    "           for i in range(len(l) // config.input_size)\n",
    "          ]\n",
    "\n",
    "    #non dimensionalize with respect to last unkwnown value in previous window\n",
    "    seq_ref = seq.copy()\n",
    "    seq[0] = seq_ref[0]/seq_ref[0][0] #first window normalization is different\n",
    " \n",
    "    for i in range(1,len(seq)):\n",
    "        seq[i] = seq_ref[i]/seq_ref[i-1][-1]\n",
    "\n",
    "    # group inputs by \"grouped inputs\" parameter (how many inputs are used as a training istance in unrolled version RNN)\n",
    "    features = np.array([seq[i: i + config.grouped_inputs] for i in range(len(seq) - config.grouped_inputs)])\n",
    "    labels = np.array([seq[i + config.grouped_inputs] for i in range(len(seq) - config.grouped_inputs)])\n",
    "    \n",
    "    #splitting the train-test data \n",
    "    cutoff = int(features.shape[0]*train_test_split)\n",
    "    \n",
    "    train_data = features[:cutoff]\n",
    "    train_labels = labels[:cutoff]\n",
    "    test_data = features[cutoff:]\n",
    "    test_labels = labels[cutoff:]\n",
    "    \n",
    "    return train_data, train_labels, test_data, test_labels, np.array(seq)"
   ]
  },
  {
   "cell_type": "markdown",
   "id": "8d4fec44",
   "metadata": {},
   "source": [
    "# Setting up RNN model constructor function"
   ]
  },
  {
   "cell_type": "code",
   "execution_count": 7,
   "id": "a756ea8a",
   "metadata": {},
   "outputs": [],
   "source": [
    "#defining the model\n",
    "\n",
    "def build_lstm_model(config):\n",
    "    model = Sequential() #linear stack of layers\n",
    "    \n",
    "    model.add(LSTM(config.layer_size,\n",
    "                input_shape =(config.grouped_inputs, config.input_size), #input shape\n",
    "                return_sequences = True #neccesary if multiple LSTM layers\n",
    "                )\n",
    "             )\n",
    "    \n",
    "    for i in range(config.num_layers-2):\n",
    "        model.add(LSTM(config.layer_size,\n",
    "                recurrent_dropout = (1-config.keep_prob), #dropout layer of the outputs\n",
    "                return_sequences = True)\n",
    "                 )\n",
    "        \n",
    "    model.add(LSTM(config.layer_size,\n",
    "                recurrent_dropout = (1-config.keep_prob))\n",
    "             )\n",
    "        \n",
    "    model.add(Dense(units = config.input_size))\n",
    "             \n",
    "    #model.compile(optimizer=\"Adam\", loss=\"mse\", metrics=[\"mae\"])\n",
    "    model.compile(optimizer=\"RMSprop\", loss=\"mse\", metrics=[\"mae\",\"mse\"])\n",
    "\n",
    "    return model\n"
   ]
  },
  {
   "cell_type": "markdown",
   "id": "ca72dc8b",
   "metadata": {},
   "source": [
    "# Defining pipleine for running and testing the model"
   ]
  },
  {
   "cell_type": "code",
   "execution_count": 8,
   "id": "d1894eba",
   "metadata": {},
   "outputs": [],
   "source": [
    "def run_model(df,total_steps,config):\n",
    "\n",
    "    #run data preparation\n",
    "    train_data, train_labels, test_data, test_labels, full_data = prepare_data(df,total_steps,0.8,config)\n",
    "    print(\"shape training data = \" + str(train_data.shape))\n",
    "    print(\"shape testing data = \" + str(test_data.shape))\n",
    "    \n",
    "    #build model\n",
    "    model =  build_lstm_model(config)\n",
    "    #model.summary()\n",
    "    \n",
    "    #fit model and predict \n",
    "    model.fit(train_data,train_labels, epochs = config.max_epochs)\n",
    "    prediction = model.predict(test_data)\n",
    "    \n",
    "    plotArrays(test_labels,prediction,True)\n",
    "    "
   ]
  },
  {
   "cell_type": "markdown",
   "id": "2f0f1f3d",
   "metadata": {},
   "source": [
    "# Running the Model"
   ]
  },
  {
   "cell_type": "code",
   "execution_count": 16,
   "id": "a343d07d",
   "metadata": {
    "scrolled": false
   },
   "outputs": [
    {
     "name": "stdout",
     "output_type": "stream",
     "text": [
      "shape training data = (158, 2, 5)\n",
      "shape testing data = (40, 2, 5)\n",
      "Epoch 1/3\n",
      "5/5 [==============================] - 6s 16ms/step - loss: 0.9276 - mae: 0.9571 - mse: 0.9276\n",
      "Epoch 2/3\n",
      "5/5 [==============================] - 0s 19ms/step - loss: 0.1631 - mae: 0.3326 - mse: 0.1631\n",
      "Epoch 3/3\n",
      "5/5 [==============================] - 0s 15ms/step - loss: 0.0214 - mae: 0.1239 - mse: 0.0214\n"
     ]
    },
    {
     "data": {
      "image/svg+xml": [
       "<svg class=\"main-svg\" xmlns=\"http://www.w3.org/2000/svg\" xmlns:xlink=\"http://www.w3.org/1999/xlink\" width=\"700\" height=\"500\" style=\"\" viewBox=\"0 0 700 500\"><rect x=\"0\" y=\"0\" width=\"700\" height=\"500\" style=\"fill: rgb(255, 255, 255); fill-opacity: 1;\"/><defs id=\"defs-be1cec\"><g class=\"clips\"><clipPath id=\"clipbe1cecxyplot\" class=\"plotclip\"><rect width=\"493\" height=\"320\"/></clipPath><clipPath class=\"axesclip\" id=\"clipbe1cecx\"><rect x=\"80\" y=\"0\" width=\"493\" height=\"500\"/></clipPath><clipPath class=\"axesclip\" id=\"clipbe1cecy\"><rect x=\"0\" y=\"100\" width=\"700\" height=\"320\"/></clipPath><clipPath class=\"axesclip\" id=\"clipbe1cecxy\"><rect x=\"80\" y=\"100\" width=\"493\" height=\"320\"/></clipPath></g><g class=\"gradients\"/><g class=\"patterns\"/></defs><g class=\"bglayer\"><rect class=\"bg\" x=\"80\" y=\"100\" width=\"493\" height=\"320\" style=\"fill: rgb(229, 236, 246); fill-opacity: 1; stroke-width: 0;\"/></g><g class=\"layer-below\"><g class=\"imagelayer\"/><g class=\"shapelayer\"/></g><g class=\"cartesianlayer\"><g class=\"subplot xy\"><g class=\"layer-subplot\"><g class=\"shapelayer\"/><g class=\"imagelayer\"/></g><g class=\"gridlayer\"><g class=\"x\"><path class=\"xgrid crisp\" transform=\"translate(203.87,0)\" d=\"M0,100v320\" style=\"stroke: rgb(255, 255, 255); stroke-opacity: 1; stroke-width: 1px;\"/><path class=\"xgrid crisp\" transform=\"translate(327.74,0)\" d=\"M0,100v320\" style=\"stroke: rgb(255, 255, 255); stroke-opacity: 1; stroke-width: 1px;\"/><path class=\"xgrid crisp\" transform=\"translate(451.61,0)\" d=\"M0,100v320\" style=\"stroke: rgb(255, 255, 255); stroke-opacity: 1; stroke-width: 1px;\"/></g><g class=\"y\"><path class=\"ygrid crisp\" transform=\"translate(0,403.44)\" d=\"M80,0h493\" style=\"stroke: rgb(255, 255, 255); stroke-opacity: 1; stroke-width: 1px;\"/><path class=\"ygrid crisp\" transform=\"translate(0,359.45)\" d=\"M80,0h493\" style=\"stroke: rgb(255, 255, 255); stroke-opacity: 1; stroke-width: 1px;\"/><path class=\"ygrid crisp\" transform=\"translate(0,315.46000000000004)\" d=\"M80,0h493\" style=\"stroke: rgb(255, 255, 255); stroke-opacity: 1; stroke-width: 1px;\"/><path class=\"ygrid crisp\" transform=\"translate(0,271.47)\" d=\"M80,0h493\" style=\"stroke: rgb(255, 255, 255); stroke-opacity: 1; stroke-width: 1px;\"/><path class=\"ygrid crisp\" transform=\"translate(0,227.48000000000002)\" d=\"M80,0h493\" style=\"stroke: rgb(255, 255, 255); stroke-opacity: 1; stroke-width: 1px;\"/><path class=\"ygrid crisp\" transform=\"translate(0,183.49)\" d=\"M80,0h493\" style=\"stroke: rgb(255, 255, 255); stroke-opacity: 1; stroke-width: 1px;\"/><path class=\"ygrid crisp\" transform=\"translate(0,139.5)\" d=\"M80,0h493\" style=\"stroke: rgb(255, 255, 255); stroke-opacity: 1; stroke-width: 1px;\"/></g></g><g class=\"zerolinelayer\"><path class=\"xzl zl crisp\" transform=\"translate(80,0)\" d=\"M0,100v320\" style=\"stroke: rgb(255, 255, 255); stroke-opacity: 1; stroke-width: 2px;\"/></g><path class=\"xlines-below\"/><path class=\"ylines-below\"/><g class=\"overlines-below\"/><g class=\"xaxislayer-below\"/><g class=\"yaxislayer-below\"/><g class=\"overaxes-below\"/><g class=\"plot\" transform=\"translate(80,100)\" clip-path=\"url(#clipbe1cecxyplot)\"><g class=\"scatterlayer mlayer\"><g class=\"trace scatter trace1bf7a3\" style=\"stroke-miterlimit: 2; opacity: 1;\"><g class=\"fills\"/><g class=\"errorbars\"/><g class=\"lines\"><path class=\"js-line\" d=\"M0,123.43L2.48,133.03L4.95,128.49L9.91,209.45L12.39,114.38L14.86,154.32L17.34,164.3L19.82,160.36L22.3,170.85L24.77,81.43L27.25,107.04L29.73,82.31L32.21,91.67L34.68,94.34L37.16,92.47L39.64,70.95L42.12,39.85L44.59,29.03L47.07,51.02L49.55,119.78L52.03,134.3L54.5,96.72L56.98,114.48L59.46,127.67L61.93,124.83L64.41,120.57L66.89,132.05L69.37,123.82L71.84,124.87L74.32,132.73L76.8,157.55L79.28,160.81L81.75,181.63L84.23,180.72L86.71,96.18L89.19,92.29L91.66,99.83L94.14,63.86L96.62,56.95L99.1,108.92L101.57,97.31L104.05,57.47L106.53,87.39L109.01,71.29L111.48,120.89L113.96,119.92L116.44,151.3L118.91,126.53L121.39,129.61L123.87,113.16L126.35,109.6L128.82,112.31L131.3,78.07L133.78,49.72L136.26,112.06L143.69,162.01L146.17,176.05L148.64,93.1L151.12,87.98L153.6,79.09L156.08,85.53L158.55,116.66L161.03,106.53L163.51,64.3L165.98,37.9L168.46,21.43L170.94,19.93L173.42,124.69L175.89,97.28L178.37,96.62L180.85,20.16L185.8,88.42L188.28,93.46L190.76,94.51L193.24,35.84L195.71,34.37L198.19,124.94L200.67,99.37L203.15,140.45L205.62,150.79L208.1,110.33L210.58,174.5L213.06,180.73L215.53,213.67L218.01,203.22L220.49,304L222.96,68.06L225.44,128.74L227.92,153.74L230.4,189.48L232.87,90.41L235.35,117.73L237.83,87.59L240.31,111.92L242.78,166.74L245.26,188.96L247.74,106.56L250.22,44.69L252.69,58.82L255.17,44.86L257.65,16L260.13,152.87L262.6,162.33L265.08,149.82L267.56,167.97L270.04,180.89L272.51,109.7L277.47,154.5L279.94,151.95L282.42,127.4L284.9,114.79L287.38,121.54L289.85,152.37L292.33,151.56L294.81,175.88L297.29,140.67L299.76,125.5L302.24,195.56L304.72,196.95L307.2,179.67L309.67,122.91L312.15,162.85L314.63,158.23L317.11,124.18L319.58,101.73L322.06,110.21L324.54,86.87L327.02,122.1L329.49,112.31L331.97,97.21L334.45,108.5L336.92,133.5L339.4,108.63L341.88,109.71L344.36,149.73L346.83,121L349.31,128.32L351.79,122.08L354.27,144.46L356.74,163.66L359.22,115.33L361.7,132.57L364.18,141.89L366.65,136.69L369.13,138.51L374.09,152L376.56,103.53L379.04,96.61L381.52,73.16L383.99,114.98L386.47,113.25L388.95,106.14L391.43,90.97L393.9,91.15L396.38,111.78L401.34,83.39L403.81,78.68L406.29,68.73L408.77,144.38L411.25,107.7L413.72,90.24L416.2,79.6L418.68,34.05L421.16,148.16L423.63,127.13L426.11,130.37L428.59,127.34L431.07,143.5L433.54,87.5L436.02,95.8L438.5,89.39L443.45,132.58L445.93,127.25L448.41,102.24L450.88,87.38L453.36,96.13L455.84,93.93L460.79,136.85L463.27,129.21L465.75,147.57L468.23,122.84L470.7,131.39L473.18,134.27L475.66,133.85L478.14,106.09L480.61,53.18L483.09,132.24L485.57,114.77L488.05,120.84L490.52,113.33L493,114.28\" style=\"vector-effect: non-scaling-stroke; fill: none; stroke: rgb(99, 110, 250); stroke-opacity: 1; stroke-width: 2px; opacity: 1;\"/></g><g class=\"points\"/><g class=\"text\"/></g><g class=\"trace scatter trace21d3de\" style=\"stroke-miterlimit: 2; opacity: 1;\"><g class=\"fills\"/><g class=\"errorbars\"/><g class=\"lines\"><path class=\"js-line\" d=\"M0,93.46L2.48,94.11L4.95,95.96L7.43,89.41L9.91,88.3L12.39,105.1L14.86,105.8L17.34,108L19.82,101.35L22.3,100.46L24.77,124.83L27.25,125.6L29.73,128.58L32.21,121.62L34.68,120.96L37.16,111.03L39.64,111.77L42.12,114.26L44.59,107.33L47.07,106.43L49.55,54.4L54.5,56.02L56.98,49.56L59.46,47.94L61.93,43.14L66.89,44.26L69.37,38.16L71.84,36.38L74.32,93.85L76.8,94.53L79.28,96.56L81.75,89.92L84.23,88.88L86.71,108.13L89.19,108.84L91.66,111.12L94.14,104.43L96.62,103.58L99.1,117.97L101.57,118.77L104.05,121.46L106.53,114.43L109.01,113.73L111.48,55.25L113.96,55.85L116.44,56.67L118.91,50.33L121.39,48.75L123.87,68.2L128.82,70.1L131.3,63.7L133.78,62.38L136.26,95.52L138.73,96.19L141.21,98.11L143.69,91.37L146.17,90.35L148.64,78.57L151.12,79.17L153.6,80.51L156.08,74.12L158.55,72.84L161.03,105.66L163.51,106.41L165.98,108.88L168.46,101.89L170.94,101.07L173.42,55.03L175.89,55.67L178.37,56.75L180.85,50.22L183.33,48.71L185.8,30.57L190.76,31.19L193.24,25.22L195.71,23.27L198.19,51.04L203.15,52.12L205.62,45.96L208.1,44.15L210.58,54.91L215.53,56.05L218.01,49.88L220.49,48.21L222.96,120.89L225.44,121.64L227.92,124.2L230.4,117.5L232.87,116.92L235.35,168.79L237.83,169.7L240.31,173.76L242.78,166.39L245.26,166.24L247.74,98.1L250.22,98.95L252.69,100.9L255.17,94.05L257.65,93.2L260.13,89.79L262.6,90.61L265.08,92.84L267.56,85.72L270.04,85L272.51,53.51L277.47,54.77L279.94,48.64L282.42,47.18L284.9,131.5L287.38,132.32L289.85,135.32L292.33,128.35L294.81,127.81L297.29,110.17L299.76,110.91L302.24,113.21L304.72,106.41L307.2,105.58L309.67,122.29L312.15,123.05L314.63,125.74L317.11,118.83L319.58,118.21L322.06,134.82L324.54,135.65L327.02,138.58L329.49,131.55L331.97,131.1L334.45,101.71L336.92,102.4L339.4,104.37L341.88,97.69L344.36,96.67L346.83,82.88L349.31,83.53L351.79,85.19L354.27,78.58L356.74,77.45L359.22,97.84L361.7,98.49L364.18,100.68L366.65,94.01L369.13,92.95L371.61,108.6L374.09,109.33L376.56,111.8L379.04,104.96L383.99,102.63L386.47,103.32L388.95,105.46L391.43,98.77L393.9,97.8L396.38,87.38L398.86,88.04L401.34,89.74L403.81,83.26L406.29,82.1L408.77,73.69L411.25,74.32L413.72,75.72L416.2,69.2L418.68,67.9L421.16,63.14L426.11,64.82L428.59,58.44L431.07,57.06L433.54,78.22L438.5,80.25L440.97,73.88L443.45,72.77L445.93,103.17L448.41,103.9L450.88,106.29L453.36,99.41L455.84,98.61L458.32,74.87L460.79,75.55L463.27,77.15L465.75,70.5L468.23,69.28L470.7,82.64L473.18,83.32L475.66,84.99L478.14,78.44L480.61,77.34L483.09,100.19L485.57,100.93L488.05,102.95L490.52,96.24L493,95.29\" style=\"vector-effect: non-scaling-stroke; fill: none; stroke: rgb(239, 85, 59); stroke-opacity: 1; stroke-width: 2px; opacity: 1;\"/></g><g class=\"points\"/><g class=\"text\"/></g></g></g><g class=\"overplot\"/><path class=\"xlines-above crisp\" d=\"M0,0\" style=\"fill: none;\"/><path class=\"ylines-above crisp\" d=\"M0,0\" style=\"fill: none;\"/><g class=\"overlines-above\"/><g class=\"xaxislayer-above\"><g class=\"xtick\"><text text-anchor=\"middle\" x=\"0\" y=\"433\" transform=\"translate(80,0)\" style=\"font-family: 'Open Sans', verdana, arial, sans-serif; font-size: 12px; fill: rgb(42, 63, 95); fill-opacity: 1; white-space: pre; opacity: 1;\">0</text></g><g class=\"xtick\"><text text-anchor=\"middle\" x=\"0\" y=\"433\" style=\"font-family: 'Open Sans', verdana, arial, sans-serif; font-size: 12px; fill: rgb(42, 63, 95); fill-opacity: 1; white-space: pre; opacity: 1;\" transform=\"translate(203.87,0)\">50</text></g><g class=\"xtick\"><text text-anchor=\"middle\" x=\"0\" y=\"433\" style=\"font-family: 'Open Sans', verdana, arial, sans-serif; font-size: 12px; fill: rgb(42, 63, 95); fill-opacity: 1; white-space: pre; opacity: 1;\" transform=\"translate(327.74,0)\">100</text></g><g class=\"xtick\"><text text-anchor=\"middle\" x=\"0\" y=\"433\" style=\"font-family: 'Open Sans', verdana, arial, sans-serif; font-size: 12px; fill: rgb(42, 63, 95); fill-opacity: 1; white-space: pre; opacity: 1;\" transform=\"translate(451.61,0)\">150</text></g></g><g class=\"yaxislayer-above\"><g class=\"ytick\"><text text-anchor=\"end\" x=\"79\" y=\"4.199999999999999\" transform=\"translate(0,403.44)\" style=\"font-family: 'Open Sans', verdana, arial, sans-serif; font-size: 12px; fill: rgb(42, 63, 95); fill-opacity: 1; white-space: pre; opacity: 1;\">0.6</text></g><g class=\"ytick\"><text text-anchor=\"end\" x=\"79\" y=\"4.199999999999999\" style=\"font-family: 'Open Sans', verdana, arial, sans-serif; font-size: 12px; fill: rgb(42, 63, 95); fill-opacity: 1; white-space: pre; opacity: 1;\" transform=\"translate(0,359.45)\">0.7</text></g><g class=\"ytick\"><text text-anchor=\"end\" x=\"79\" y=\"4.199999999999999\" style=\"font-family: 'Open Sans', verdana, arial, sans-serif; font-size: 12px; fill: rgb(42, 63, 95); fill-opacity: 1; white-space: pre; opacity: 1;\" transform=\"translate(0,315.46000000000004)\">0.8</text></g><g class=\"ytick\"><text text-anchor=\"end\" x=\"79\" y=\"4.199999999999999\" style=\"font-family: 'Open Sans', verdana, arial, sans-serif; font-size: 12px; fill: rgb(42, 63, 95); fill-opacity: 1; white-space: pre; opacity: 1;\" transform=\"translate(0,271.47)\">0.9</text></g><g class=\"ytick\"><text text-anchor=\"end\" x=\"79\" y=\"4.199999999999999\" style=\"font-family: 'Open Sans', verdana, arial, sans-serif; font-size: 12px; fill: rgb(42, 63, 95); fill-opacity: 1; white-space: pre; opacity: 1;\" transform=\"translate(0,227.48000000000002)\">1</text></g><g class=\"ytick\"><text text-anchor=\"end\" x=\"79\" y=\"4.199999999999999\" style=\"font-family: 'Open Sans', verdana, arial, sans-serif; font-size: 12px; fill: rgb(42, 63, 95); fill-opacity: 1; white-space: pre; opacity: 1;\" transform=\"translate(0,183.49)\">1.1</text></g><g class=\"ytick\"><text text-anchor=\"end\" x=\"79\" y=\"4.199999999999999\" style=\"font-family: 'Open Sans', verdana, arial, sans-serif; font-size: 12px; fill: rgb(42, 63, 95); fill-opacity: 1; white-space: pre; opacity: 1;\" transform=\"translate(0,139.5)\">1.2</text></g></g><g class=\"overaxes-above\"/></g></g><g class=\"polarlayer\"/><g class=\"ternarylayer\"/><g class=\"geolayer\"/><g class=\"funnelarealayer\"/><g class=\"pielayer\"/><g class=\"iciclelayer\"/><g class=\"treemaplayer\"/><g class=\"sunburstlayer\"/><g class=\"glimages\"/><defs id=\"topdefs-be1cec\"><g class=\"clips\"/><clipPath id=\"legendbe1cec\"><rect width=\"105\" height=\"48\" x=\"0\" y=\"0\"/></clipPath></defs><g class=\"layer-above\"><g class=\"imagelayer\"/><g class=\"shapelayer\"/></g><g class=\"infolayer\"><g class=\"legend\" pointer-events=\"all\" transform=\"translate(582.86,100)\"><rect class=\"bg\" shape-rendering=\"crispEdges\" width=\"105\" height=\"48\" x=\"0\" y=\"0\" style=\"stroke: rgb(68, 68, 68); stroke-opacity: 1; fill: rgb(255, 255, 255); fill-opacity: 1; stroke-width: 0px;\"/><g class=\"scrollbox\" transform=\"\" clip-path=\"url(#legendbe1cec)\"><g class=\"groups\"><g class=\"traces\" transform=\"translate(0,14.5)\" style=\"opacity: 1;\"><text class=\"legendtext\" text-anchor=\"start\" x=\"40\" y=\"4.680000000000001\" style=\"font-family: 'Open Sans', verdana, arial, sans-serif; font-size: 12px; fill: rgb(42, 63, 95); fill-opacity: 1; white-space: pre;\">labels</text><g class=\"layers\" style=\"opacity: 1;\"><g class=\"legendfill\"/><g class=\"legendlines\"><path class=\"js-line\" d=\"M5,0h30\" style=\"fill: none; stroke: rgb(99, 110, 250); stroke-opacity: 1; stroke-width: 2px;\"/></g><g class=\"legendsymbols\"><g class=\"legendpoints\"/></g></g><rect class=\"legendtoggle\" x=\"0\" y=\"-9.5\" width=\"99.671875\" height=\"19\" style=\"fill: rgb(0, 0, 0); fill-opacity: 0;\"/></g><g class=\"traces\" transform=\"translate(0,33.5)\" style=\"opacity: 1;\"><text class=\"legendtext\" text-anchor=\"start\" x=\"40\" y=\"4.680000000000001\" style=\"font-family: 'Open Sans', verdana, arial, sans-serif; font-size: 12px; fill: rgb(42, 63, 95); fill-opacity: 1; white-space: pre;\">prediction</text><g class=\"layers\" style=\"opacity: 1;\"><g class=\"legendfill\"/><g class=\"legendlines\"><path class=\"js-line\" d=\"M5,0h30\" style=\"fill: none; stroke: rgb(239, 85, 59); stroke-opacity: 1; stroke-width: 2px;\"/></g><g class=\"legendsymbols\"><g class=\"legendpoints\"/></g></g><rect class=\"legendtoggle\" x=\"0\" y=\"-9.5\" width=\"99.671875\" height=\"19\" style=\"fill: rgb(0, 0, 0); fill-opacity: 0;\"/></g></g></g><rect class=\"scrollbar\" rx=\"20\" ry=\"3\" width=\"0\" height=\"0\" x=\"0\" y=\"0\" style=\"fill: rgb(128, 139, 164); fill-opacity: 1;\"/></g><g class=\"g-gtitle\"/><g class=\"g-xtitle\"><text class=\"xtitle\" x=\"326.5\" y=\"460.8\" text-anchor=\"middle\" style=\"font-family: 'Open Sans', verdana, arial, sans-serif; font-size: 14px; fill: rgb(42, 63, 95); opacity: 1; font-weight: normal; white-space: pre;\">Time</text></g><g class=\"g-ytitle\"><text class=\"ytitle\" transform=\"rotate(-90,34.575,260)\" x=\"34.575\" y=\"260\" text-anchor=\"middle\" style=\"font-family: 'Open Sans', verdana, arial, sans-serif; font-size: 14px; fill: rgb(42, 63, 95); opacity: 1; font-weight: normal; white-space: pre;\">Normalized Price</text></g></g></svg>"
      ]
     },
     "metadata": {},
     "output_type": "display_data"
    }
   ],
   "source": [
    "#run configuration and model\n",
    "config1 = configurationRNN(input_size=5,num_layers=3)    \n",
    "run_model(price_daily,1000,config1)"
   ]
  },
  {
   "cell_type": "markdown",
   "id": "7567a959",
   "metadata": {},
   "source": [
    "Things left to do:\n",
    "    -use word embeddings for reddit posts (instead of bag of words)\n",
    "    -change aronud input size, grouped inputs, and input overalp. \n",
    "    -move around normalization value (it could just be last data point in previous sample)\n",
    "    -subtract 1 to make negative movements negative and positive movements positive\n",
    "    -can use different defenitions of the lstm cell (GRUs)\n",
    "    -make the NN a functional (not sequential) network, where layers can connect to many other layers. "
   ]
  }
 ],
 "metadata": {
  "kernelspec": {
   "display_name": "Python 3 (ipykernel)",
   "language": "python",
   "name": "python3"
  },
  "language_info": {
   "codemirror_mode": {
    "name": "ipython",
    "version": 3
   },
   "file_extension": ".py",
   "mimetype": "text/x-python",
   "name": "python",
   "nbconvert_exporter": "python",
   "pygments_lexer": "ipython3",
   "version": "3.8.10"
  }
 },
 "nbformat": 4,
 "nbformat_minor": 5
}
