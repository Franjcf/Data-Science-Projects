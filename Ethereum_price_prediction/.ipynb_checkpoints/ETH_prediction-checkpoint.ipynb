{
 "cells": [
  {
   "cell_type": "markdown",
   "id": "ed00b72a",
   "metadata": {},
   "source": [
    "# Ethereum Price Prediction Using LSTMs "
   ]
  },
  {
   "cell_type": "markdown",
   "id": "cc1ea981",
   "metadata": {},
   "source": [
    "# Loading Basic Libraries"
   ]
  },
  {
   "cell_type": "code",
   "execution_count": 1,
   "id": "c430182a",
   "metadata": {},
   "outputs": [],
   "source": [
    "from google.cloud import bigquery\n",
    "import tensorflow as tf\n",
    "import numpy as np\n",
    "import pandas as pd\n",
    "import plotly.offline as py\n",
    "import plotly.graph_objs as go\n",
    "\n",
    "import tensorflow as tf\n",
    "from tensorflow.keras.models import Sequential\n",
    "from tensorflow.keras.layers import Activation, Dense, Dropout, LSTM\n",
    "\n",
    "import datetime\n",
    "import requests\n",
    "import sys, os\n",
    "\n",
    "#changing default figure renderer for github display\n",
    "import plotly.io as pio\n",
    "pio.renderers\n",
    "pio.renderers.default = \"svg\""
   ]
  },
  {
   "cell_type": "markdown",
   "id": "97a64a64",
   "metadata": {},
   "source": [
    "# Defining Basic Plotting Functions"
   ]
  },
  {
   "cell_type": "code",
   "execution_count": 2,
   "id": "04186e52",
   "metadata": {},
   "outputs": [],
   "source": [
    "def plotData(df, x_column, y_column): \n",
    "    \"\"\"simply the input plot data from a dataframe\"\"\"\n",
    "\n",
    "    figure = go.Figure()\n",
    "    figure.add_trace(go.Scatter(x=df[x_column],y=df[y_column],mode='lines'))\n",
    "    \n",
    "    figure.update_xaxes(title = \"Time\")\n",
    "    figure.update_yaxes(title = \"Price\")\n",
    "    \n",
    "    figure.show()\n",
    "    \n",
    "def plotArrays(train, prediction, plotBoth=False): \n",
    "    '''plots the training dataset array.\n",
    "    The \"plotBoth\" flag plots predictions in addition to just the training data.\n",
    "    Note the .ravel function flattens an array'''\n",
    "    \n",
    "    figure = go.Figure()\n",
    "    figure.add_trace(go.Scatter(y=train.ravel()\n",
    "                               ,x=list(range(len(train.ravel()))),\n",
    "                               mode='lines',\n",
    "                               name=\"labels\"\n",
    "                               )\n",
    "                        )\n",
    "    \n",
    "    if plotBoth:\n",
    "        figure.add_trace(go.Scatter(y=prediction.ravel()\n",
    "                               ,x=list(range(len(prediction.ravel()))),mode='lines',\n",
    "                                name = \"prediction\"\n",
    "                                )\n",
    "                        )\n",
    "        \n",
    "    figure.update_xaxes(title = \"Time\")\n",
    "    figure.update_yaxes(title = \"Normalized Price\")\n",
    "    \n",
    "    figure.show()"
   ]
  },
  {
   "cell_type": "markdown",
   "id": "99849148",
   "metadata": {},
   "source": [
    "# Defining API calls to obtain Ethereum Prices\n",
    "\n",
    "These API calls will obtain the following features for the specificed time period: Time, high price, low price, open price, volume-from, volume-to, close price, conversionType, conversionSymbol, and timestamp.\n"
   ]
  },
  {
   "cell_type": "code",
   "execution_count": 3,
   "id": "0ed0f513",
   "metadata": {},
   "outputs": [],
   "source": [
    "#Documentation and explanation of the API request can be found here:\n",
    "#https://min-api.cryptocompare.com/documentation?\n",
    "\n",
    "#my api key:\n",
    "my_api_key = '72183b21006f095800f3b2e4b665adaae27d08098ec380c72b3ee87d25c8164f'\n",
    "\n",
    "#Obtain price of a cryptocurrency right now\n",
    "def price(symbol, comparison_symbols=['USD'], exchange=''):\n",
    "    url = 'https://min-api.cryptocompare.com/data/price?fsym={}&tsyms={}&api_key={}'\\\n",
    "            .format(symbol.upper(), ','.join(comparison_symbols).upper(),my_api_key)\n",
    "    \n",
    "    #this would be the same as the following code for ETH price and BTC,USD,EUR comparisons\n",
    "    #url = 'https://min-api.cryptocompare.com/data/price?fsym=ETH & tsyms=BTC,USD,EUR & api_key={my_api_key}'\n",
    "\n",
    "    #adding the exchange if we want a specefic exchange\n",
    "    if exchange:\n",
    "        url += '&e={}'.format(exchange) \n",
    "        \n",
    "    page = requests.get(url)\n",
    "    data = page.json()\n",
    "    return data\n",
    "\n",
    "    #example use: \n",
    "    #price('LTC', exchange='Coinbase')\n",
    "\n",
    "#Get historical price with daily timestep\n",
    "def daily_price_historical(symbol, comparison_symbol, limit=1, aggregate=1, exchange='', allData='true'):\n",
    "    url = 'https://min-api.cryptocompare.com/data/histoday?fsym={}&tsym={}&limit={}&aggregate={}&allData={}&api_key={}'\\\n",
    "            .format(symbol.upper(), comparison_symbol.upper(), limit, aggregate, allData,my_api_key)\n",
    "    if exchange:\n",
    "        url += '&e={}'.format(exchange)\n",
    "    page = requests.get(url)\n",
    "    data = page.json()['Data']\n",
    "    df = pd.DataFrame(data)\n",
    "    df['timestamp'] = [datetime.datetime.fromtimestamp(d) for d in df.time] #seting up timestamp from time column\n",
    "    return df\n",
    "\n",
    "    #example use:\n",
    "    #df = daily_price_historical('BTC', 'USD')\n",
    "    #print('Max length = %s' % len(df))\n",
    "    #print('Max time = %s' % (df.timestamp.max() - df.timestamp.min()))\n",
    "    #df.head()\n",
    "\n",
    "#Get historical price with hourely timestep\n",
    "def hourly_price_historical(symbol, comparison_symbol, limit, aggregate, exchange=''):\n",
    "    url = 'https://min-api.cryptocompare.com/data/histohour?fsym={}&tsym={}&limit={}&aggregate={}&api_key={}'\\\n",
    "            .format(symbol.upper(), comparison_symbol.upper(), limit, aggregate,my_api_key)\n",
    "    if exchange:\n",
    "        url += '&e={}'.format(exchange)\n",
    "    page = requests.get(url)\n",
    "    data = page.json()['Data']\n",
    "    df = pd.DataFrame(data)\n",
    "    df['timestamp'] = [datetime.datetime.fromtimestamp(d) for d in df.time]\n",
    "    return df\n",
    "\n",
    "    #example use:\n",
    "    #time_delta = 1 # Bar width in hours\n",
    "    #df = hourly_price_historical('BTC', 'USD', 9999, time_delta)\n",
    "    #print('Max length = %s' % len(df))\n",
    "    #print('Max time = %s' % (df.timestamp.max() - df.timestamp.min()))\n",
    "\n",
    "#Get historical price with minute timestep\n",
    "def minute_price_historical(symbol, comparison_symbol, limit, aggregate, exchange=''):\n",
    "    url = 'https://min-api.cryptocompare.com/data/histominute?fsym={}&tsym={}&limit={}&aggregate={}&api_key={}'\\\n",
    "            .format(symbol.upper(), comparison_symbol.upper(), limit, aggregate,my_api_key)\n",
    "    if exchange:\n",
    "        url += '&e={}'.format(exchange)\n",
    "    page = requests.get(url)\n",
    "    data = page.json()['Data']\n",
    "    df = pd.DataFrame(data)\n",
    "    df['timestamp'] = [datetime.datetime.fromtimestamp(d) for d in df.time]\n",
    "    return df\n",
    "\n",
    "    #example use:\n",
    "    #time_delta = 1 # Bar width in minutes\n",
    "    #df = minute_price_historical('BTC', 'USD', 9999, time_delta)\n",
    "    #print('Max length = %s' % len(df))\n",
    "    #print('Max time = %s' % (df.timestamp.max() - df.timestamp.min()))"
   ]
  },
  {
   "cell_type": "markdown",
   "id": "cb0486c3",
   "metadata": {},
   "source": [
    "# Obtaining and Viewing Data"
   ]
  },
  {
   "cell_type": "code",
   "execution_count": 4,
   "id": "587a0196",
   "metadata": {},
   "outputs": [
    {
     "name": "stdout",
     "output_type": "stream",
     "text": [
      "Max length = 4072\n",
      "Max time = 4071 days 00:00:00\n"
     ]
    },
    {
     "data": {
      "image/svg+xml": [
       "<svg class=\"main-svg\" xmlns=\"http://www.w3.org/2000/svg\" xmlns:xlink=\"http://www.w3.org/1999/xlink\" width=\"700\" height=\"500\" style=\"\" viewBox=\"0 0 700 500\"><rect x=\"0\" y=\"0\" width=\"700\" height=\"500\" style=\"fill: rgb(255, 255, 255); fill-opacity: 1;\"/><defs id=\"defs-bb7d9a\"><g class=\"clips\"><clipPath id=\"clipbb7d9axyplot\" class=\"plotclip\"><rect width=\"540\" height=\"320\"/></clipPath><clipPath class=\"axesclip\" id=\"clipbb7d9ax\"><rect x=\"80\" y=\"0\" width=\"540\" height=\"500\"/></clipPath><clipPath class=\"axesclip\" id=\"clipbb7d9ay\"><rect x=\"0\" y=\"100\" width=\"700\" height=\"320\"/></clipPath><clipPath class=\"axesclip\" id=\"clipbb7d9axy\"><rect x=\"80\" y=\"100\" width=\"540\" height=\"320\"/></clipPath></g><g class=\"gradients\"/><g class=\"patterns\"/></defs><g class=\"bglayer\"><rect class=\"bg\" x=\"80\" y=\"100\" width=\"540\" height=\"320\" style=\"fill: rgb(229, 236, 246); fill-opacity: 1; stroke-width: 0;\"/></g><g class=\"layer-below\"><g class=\"imagelayer\"/><g class=\"shapelayer\"/></g><g class=\"cartesianlayer\"><g class=\"subplot xy\"><g class=\"layer-subplot\"><g class=\"shapelayer\"/><g class=\"imagelayer\"/></g><g class=\"gridlayer\"><g class=\"x\"><path class=\"xgrid crisp\" transform=\"translate(89.86,0)\" d=\"M0,100v320\" style=\"stroke: rgb(255, 255, 255); stroke-opacity: 1; stroke-width: 1px;\"/><path class=\"xgrid crisp\" transform=\"translate(187.7,0)\" d=\"M0,100v320\" style=\"stroke: rgb(255, 255, 255); stroke-opacity: 1; stroke-width: 1px;\"/><path class=\"xgrid crisp\" transform=\"translate(287.15999999999997,0)\" d=\"M0,100v320\" style=\"stroke: rgb(255, 255, 255); stroke-opacity: 1; stroke-width: 1px;\"/><path class=\"xgrid crisp\" transform=\"translate(385.54,0)\" d=\"M0,100v320\" style=\"stroke: rgb(255, 255, 255); stroke-opacity: 1; stroke-width: 1px;\"/><path class=\"xgrid crisp\" transform=\"translate(485,0)\" d=\"M0,100v320\" style=\"stroke: rgb(255, 255, 255); stroke-opacity: 1; stroke-width: 1px;\"/><path class=\"xgrid crisp\" transform=\"translate(582.8399999999999,0)\" d=\"M0,100v320\" style=\"stroke: rgb(255, 255, 255); stroke-opacity: 1; stroke-width: 1px;\"/></g><g class=\"y\"><path class=\"ygrid crisp\" transform=\"translate(0,339.57)\" d=\"M80,0h540\" style=\"stroke: rgb(255, 255, 255); stroke-opacity: 1; stroke-width: 1px;\"/><path class=\"ygrid crisp\" transform=\"translate(0,269.22)\" d=\"M80,0h540\" style=\"stroke: rgb(255, 255, 255); stroke-opacity: 1; stroke-width: 1px;\"/><path class=\"ygrid crisp\" transform=\"translate(0,198.87)\" d=\"M80,0h540\" style=\"stroke: rgb(255, 255, 255); stroke-opacity: 1; stroke-width: 1px;\"/><path class=\"ygrid crisp\" transform=\"translate(0,128.52)\" d=\"M80,0h540\" style=\"stroke: rgb(255, 255, 255); stroke-opacity: 1; stroke-width: 1px;\"/></g></g><g class=\"zerolinelayer\"><path class=\"yzl zl crisp\" transform=\"translate(0,409.92)\" d=\"M80,0h540\" style=\"stroke: rgb(255, 255, 255); stroke-opacity: 1; stroke-width: 2px;\"/></g><path class=\"xlines-below\"/><path class=\"ylines-below\"/><g class=\"overlines-below\"/><g class=\"xaxislayer-below\"/><g class=\"yaxislayer-below\"/><g class=\"overaxes-below\"/><g class=\"plot\" transform=\"translate(80,100)\" clip-path=\"url(#clipbb7d9axyplot)\"><g class=\"scatterlayer mlayer\"><g class=\"trace scatter trace8f926a\" style=\"stroke-miterlimit: 2; opacity: 1;\"><g class=\"fills\"/><g class=\"errorbars\"/><g class=\"lines\"><path class=\"js-line\" d=\"M0,304L1.62,303.23L2.16,302.75L2.7,302.84L3.24,301.73L3.78,302.22L4.32,301.64L5.41,300.01L5.95,300.7L6.49,300.65L7.03,301.71L7.57,300.09L8.11,300.28L8.65,300L9.19,300.55L9.73,299.94L10.27,298.94L10.81,299.43L11.35,298.94L14.05,299.28L14.59,300.92L16.22,301.71L16.76,300.79L17.84,301.24L18.38,301.19L21.08,301.56L21.62,301.68L23.78,302L24.32,302.46L26.49,302.41L27.03,302.14L29.73,302.62L30.27,301.53L34.59,301.29L35.14,300.49L36.22,299.78L36.76,299.44L37.84,299.49L38.38,298.73L38.92,300.55L39.46,300.17L40,300.3L43.24,301.04L43.78,300.26L51.89,300.1L52.43,300.4L58.38,299.96L58.92,298.31L60,298.82L60.54,298.22L61.62,297.59L62.16,297.2L64.86,298.37L65.41,298.09L66.49,298.19L67.03,298.18L68.11,297.68L68.65,297.68L72.43,298.87L72.97,298.89L74.59,298.63L75.14,298.52L76.22,298.39L76.76,298.42L77.84,298.07L78.38,297.87L79.46,297.79L80,296.36L81.08,296.13L81.62,294.63L82.7,291.31L83.24,292.7L83.78,293.45L84.32,291.58L85.95,292.78L86.49,292.65L87.57,292.22L88.11,291.07L89.73,290.97L90.27,292L91.35,291.3L91.89,290.97L92.97,292.96L93.51,292.6L95.14,292.72L95.68,293.64L97.3,291.42L97.84,291.96L100,290.64L100.54,291.31L101.62,290.79L102.16,289.1L103.24,288.31L103.78,288.03L104.32,287.68L104.86,286.39L105.41,289.24L105.95,288.14L106.49,287.56L107.03,289.48L107.57,289.23L108.11,289.4L108.65,288.66L109.19,290.01L110.27,289.66L110.81,288.36L111.89,288.24L112.43,289.6L112.97,291.03L113.51,290.54L114.05,290.99L115.68,295.94L116.22,295.05L116.76,294.03L117.3,294.35L117.84,293.83L120,294.68L120.54,294.51L121.08,294.49L121.62,295.34L124.32,294.61L124.86,294.6L127.03,294.02L127.57,294.01L129.19,295.43L129.73,294.71L130.81,295.23L131.35,296.8L133.51,296.22L134.05,295.68L135.68,296.52L136.22,296.24L140.54,297.81L141.08,297.86L142.16,297.32L142.7,297.61L144.32,297.39L144.86,297.13L147.57,297.15L148.11,296.65L149.19,296.01L149.73,295.3L151.89,294.78L152.43,295.05L152.97,295.78L153.51,298.19L155.68,297.68L156.22,297.98L157.3,297.51L157.84,297.18L158.92,297.53L159.46,297.46L160,297.93L160.54,297.23L161.08,297.18L161.62,296.31L168.65,297.86L169.19,298.48L169.73,298.59L170.27,297.14L171.89,297.1L172.43,296.48L173.51,297.08L174.05,297.01L183.24,297.39L183.78,297.54L184.32,297.63L184.86,298.58L186.49,300.04L187.03,299.62L190.81,299.42L191.35,299.53L193.51,299.54L194.05,299.3L197.3,299.93L197.84,299.88L198.92,301.32L199.46,300.55L201.08,300.95L201.62,300.61L203.78,301.08L204.32,301.03L207.03,300.73L207.57,300.98L209.73,299.78L210.27,299.87L212.43,299.89L212.97,299.62L213.51,299.82L214.05,298.26L218.38,298.1L218.92,298.49L221.08,297.98L221.62,297.55L222.16,297.71L222.7,296.94L223.78,297L224.32,296.67L225.41,296.66L225.95,295.58L228.11,293.83L228.65,294.22L230.81,289.82L231.35,291.3L232.43,291.1L232.97,290L234.05,291.79L234.59,291.23L235.14,291.48L235.68,290.53L236.76,292.56L237.3,294.16L238.38,293.9L238.92,294.59L239.46,294.56L240,293.59L241.08,294.1L241.62,293.82L242.16,292.63L242.7,293.2L243.24,295.87L244.32,295.81L244.86,296.21L245.41,302.16L245.95,300.41L246.49,301.29L247.03,301.22L247.57,302.09L248.65,301.57L249.19,300.29L250.81,301.3L251.35,300.31L252.97,300.15L253.51,300.65L255.68,300.55L256.22,300.35L257.84,299.75L258.38,299.87L258.92,297.83L259.46,298.33L260,297.73L262.7,298.89L263.24,298.76L263.78,299.16L264.32,297.78L264.86,297.9L265.41,296.7L267.03,297.89L267.57,297.04L270.81,296.07L271.35,294.75L272.43,294.99L272.97,294.86L275.14,295.91L275.68,294.98L276.76,295.13L277.3,296.71L278.38,296.54L278.92,295.86L279.46,295.62L280,296.22L282.16,294.82L282.7,295.15L283.24,295.95L283.78,295.33L286.49,295.26L287.03,294.42L287.57,294.4L288.11,292.78L288.65,293.63L289.19,292.44L289.73,293.19L290.27,292.71L290.81,292.8L292.43,292.7L292.97,292.58L294.05,292.47L294.59,293.72L295.68,293.16L296.22,293.62L300,293.88L300.54,292.8L302.16,293.57L302.7,293.77L303.78,294.1L304.32,293.89L306.49,294.08L307.03,293.79L307.57,293.88L308.11,292.91L310.81,293.09L311.35,292.85L314.05,293.54L314.59,293.33L316.22,292.62L316.76,291.33L319.46,287.25L320,287.58L320.54,287.54L321.08,286.33L321.62,285.51L322.16,282.66L322.7,283.75L323.24,282.75L324.86,282.13L325.41,283.22L325.95,281.95L326.49,282.46L327.03,282.08L327.57,283.26L328.11,282.68L328.65,280.02L329.19,279.07L329.73,279.49L330.27,279.4L331.35,280.22L331.89,281.23L332.43,280.65L332.97,282.62L334.59,281.21L335.14,282.95L337.3,281.85L337.84,279.73L338.38,279.38L338.92,276.43L341.08,286.33L341.62,285.11L342.16,285.04L342.7,286.18L344.86,282.62L345.41,284.15L345.95,283.38L346.49,284.3L347.03,284.23L347.57,282.51L349.19,283.82L349.73,285.99L350.27,285.7L350.81,287.39L351.89,285.15L352.43,285L354.59,284.6L355.14,285.07L356.22,285.55L356.76,285.11L357.3,285.03L357.84,285.94L358.92,285.21L359.46,284.21L361.62,283.09L362.16,283.25L363.78,283.98L364.32,283.3L364.86,283.23L365.41,283.98L366.49,280.76L367.03,281.11L367.57,280.9L368.65,282.26L369.19,281.52L370.27,282.65L370.81,282.99L371.89,282.01L372.43,282.93L373.51,281.59L374.05,280.59L374.59,277.82L375.14,279.26L375.68,277.93L376.22,278.65L378.38,276.37L378.92,277.48L379.46,278.37L380,277.49L380.54,275.96L381.08,276.24L381.62,276.73L383.78,267.07L384.32,267.36L385.95,273.42L386.49,272.07L387.57,266.57L388.11,268.68L389.19,266.54L389.73,269.98L390.81,267.55L391.35,268.32L391.89,270.89L392.43,269.58L393.51,271.64L394.05,269.94L394.59,268.36L395.14,268.67L395.68,268.47L396.76,264.67L397.3,263.87L397.84,263.58L398.38,265.02L398.92,267.15L399.46,265.09L400,268.75L400.54,266.84L401.62,265.17L402.16,261.8L403.24,258.45L403.78,256.98L404.86,258.52L405.41,255.4L407.03,232.31L407.57,224.75L408.11,223.71L408.65,224.3L409.19,219.87L409.73,221.58L410.27,233.35L410.81,236.05L411.35,230.44L411.89,223.24L412.43,227.68L413.51,223.13L414.05,221.4L415.14,212.99L415.68,231.73L417.3,211.96L417.84,217.17L418.38,213.67L418.92,222.58L420,212.9L420.54,212.88L421.08,217.47L421.62,213.22L422.7,192.63L423.24,197.54L423.78,188.81L424.32,191.79L424.86,196.33L425.95,185.26L426.49,187.3L427.57,180.14L428.11,182.06L429.73,184.5L430.27,179.69L431.35,172.21L431.89,175.19L432.43,173.78L432.97,184.83L433.51,198.89L434.05,195.59L434.59,205.67L436.22,209.84L436.76,199.37L437.3,205.19L437.84,199.57L438.92,202.3L439.46,193.74L441.08,178.22L441.62,183.6L442.16,181.39L442.7,185.56L443.24,174.77L443.78,179.87L444.32,183.65L444.86,182.89L445.41,181.67L445.95,184.97L446.49,182.6L447.03,182.9L447.57,184.42L449.19,198.54L449.73,198.28L450.81,189.34L451.35,191.26L452.97,174.91L453.51,171.49L454.05,159.76L454.59,168.57L455.68,161.64L456.22,161.32L456.76,171.74L457.3,163.51L457.84,164.54L458.38,159.81L458.92,158.63L459.46,159.53L461.08,132.84L461.62,139.25L463.24,157.73L463.78,145.83L464.86,140.99L465.41,143.21L465.95,153.99L466.49,146.56L468.11,116.4L468.65,115.86L469.19,114.63L469.73,102.54L470.27,102.25L470.81,68.52L471.35,81.91L471.89,61.67L472.97,64.83L473.51,34.42L474.59,32.06L475.14,16L476.22,48.29L476.76,22.89L478.38,79.12L478.92,72.3L479.46,138.06L480,114.85L480.54,138.56L481.62,162.29L482.16,123.58L482.7,119.45L483.24,106.68L484.86,149.62L485.41,142L485.95,119.46L486.49,124.6L487.03,119.52L487.57,109L488.11,120.6L488.65,124.92L489.19,119.2L490.27,133.4L490.81,126.26L491.89,144.24L492.43,143.22L492.97,133.36L493.51,128.27L494.05,130.98L495.68,152.79L496.22,157.5L496.76,152.08L497.3,177.11L497.84,177.6L498.38,171.43L498.92,169.99L499.46,182.57L500,181.11L500.54,170.39L502.16,149.79L502.7,161.53L503.78,153.24L504.32,146.48L504.86,155.38L505.41,146.52L505.95,146.91L506.49,161.16L507.03,158.97L507.57,161.45L508.11,159.34L508.65,166.91L509.19,173.4L509.73,169.63L510.81,177.87L511.35,176.26L511.89,176.82L512.43,181.98L512.97,184.24L513.51,169.57L514.05,167.48L514.59,160.39L516.76,147.98L517.3,148.04L520,126.42L520.54,133.47L522.7,87.45L523.24,97.9L523.78,87.27L524.32,88.91L524.86,87.38L525.41,95.55L525.95,76.06L526.49,80.11L527.03,76.99L528.11,98.03L528.65,97.92L529.19,85.88L529.73,78.72L530.27,82.93L530.81,81.87L531.35,76.17L531.89,86.73L532.43,82.77L532.97,92.29L533.51,79.46L534.05,81.51L534.59,83.02L535.14,82.8L535.68,68.26L536.22,40.54L536.76,43.46L537.3,32.76L537.84,36.47L538.38,31.88L538.92,33.56L539.46,68.38L540,71.09\" style=\"vector-effect: non-scaling-stroke; fill: none; stroke: rgb(99, 110, 250); stroke-opacity: 1; stroke-width: 2px; opacity: 1;\"/></g><g class=\"points\"/><g class=\"text\"/></g></g></g><g class=\"overplot\"/><path class=\"xlines-above crisp\" d=\"M0,0\" style=\"fill: none;\"/><path class=\"ylines-above crisp\" d=\"M0,0\" style=\"fill: none;\"/><g class=\"overlines-above\"/><g class=\"xaxislayer-above\"><g class=\"xtick\"><text text-anchor=\"middle\" x=\"0\" y=\"433\" transform=\"translate(89.86,0)\" style=\"font-family: 'Open Sans', verdana, arial, sans-serif; font-size: 12px; fill: rgb(42, 63, 95); fill-opacity: 1; white-space: pre; opacity: 1;\">Jan 2019</text></g><g class=\"xtick\"><text text-anchor=\"middle\" x=\"0\" y=\"433\" style=\"font-family: 'Open Sans', verdana, arial, sans-serif; font-size: 12px; fill: rgb(42, 63, 95); fill-opacity: 1; white-space: pre; opacity: 1;\" transform=\"translate(187.7,0)\">Jul 2019</text></g><g class=\"xtick\"><text text-anchor=\"middle\" x=\"0\" y=\"433\" style=\"font-family: 'Open Sans', verdana, arial, sans-serif; font-size: 12px; fill: rgb(42, 63, 95); fill-opacity: 1; white-space: pre; opacity: 1;\" transform=\"translate(287.15999999999997,0)\">Jan 2020</text></g><g class=\"xtick\"><text text-anchor=\"middle\" x=\"0\" y=\"433\" style=\"font-family: 'Open Sans', verdana, arial, sans-serif; font-size: 12px; fill: rgb(42, 63, 95); fill-opacity: 1; white-space: pre; opacity: 1;\" transform=\"translate(385.54,0)\">Jul 2020</text></g><g class=\"xtick\"><text text-anchor=\"middle\" x=\"0\" y=\"433\" style=\"font-family: 'Open Sans', verdana, arial, sans-serif; font-size: 12px; fill: rgb(42, 63, 95); fill-opacity: 1; white-space: pre; opacity: 1;\" transform=\"translate(485,0)\">Jan 2021</text></g><g class=\"xtick\"><text text-anchor=\"middle\" x=\"0\" y=\"433\" style=\"font-family: 'Open Sans', verdana, arial, sans-serif; font-size: 12px; fill: rgb(42, 63, 95); fill-opacity: 1; white-space: pre; opacity: 1;\" transform=\"translate(582.8399999999999,0)\">Jul 2021</text></g></g><g class=\"yaxislayer-above\"><g class=\"ytick\"><text text-anchor=\"end\" x=\"79\" y=\"4.199999999999999\" transform=\"translate(0,409.92)\" style=\"font-family: 'Open Sans', verdana, arial, sans-serif; font-size: 12px; fill: rgb(42, 63, 95); fill-opacity: 1; white-space: pre; opacity: 1;\">0</text></g><g class=\"ytick\"><text text-anchor=\"end\" x=\"79\" y=\"4.199999999999999\" style=\"font-family: 'Open Sans', verdana, arial, sans-serif; font-size: 12px; fill: rgb(42, 63, 95); fill-opacity: 1; white-space: pre; opacity: 1;\" transform=\"translate(0,339.57)\">1000</text></g><g class=\"ytick\"><text text-anchor=\"end\" x=\"79\" y=\"4.199999999999999\" style=\"font-family: 'Open Sans', verdana, arial, sans-serif; font-size: 12px; fill: rgb(42, 63, 95); fill-opacity: 1; white-space: pre; opacity: 1;\" transform=\"translate(0,269.22)\">2000</text></g><g class=\"ytick\"><text text-anchor=\"end\" x=\"79\" y=\"4.199999999999999\" style=\"font-family: 'Open Sans', verdana, arial, sans-serif; font-size: 12px; fill: rgb(42, 63, 95); fill-opacity: 1; white-space: pre; opacity: 1;\" transform=\"translate(0,198.87)\">3000</text></g><g class=\"ytick\"><text text-anchor=\"end\" x=\"79\" y=\"4.199999999999999\" style=\"font-family: 'Open Sans', verdana, arial, sans-serif; font-size: 12px; fill: rgb(42, 63, 95); fill-opacity: 1; white-space: pre; opacity: 1;\" transform=\"translate(0,128.52)\">4000</text></g></g><g class=\"overaxes-above\"/></g></g><g class=\"polarlayer\"/><g class=\"ternarylayer\"/><g class=\"geolayer\"/><g class=\"funnelarealayer\"/><g class=\"pielayer\"/><g class=\"iciclelayer\"/><g class=\"treemaplayer\"/><g class=\"sunburstlayer\"/><g class=\"glimages\"/><defs id=\"topdefs-bb7d9a\"><g class=\"clips\"/></defs><g class=\"layer-above\"><g class=\"imagelayer\"/><g class=\"shapelayer\"/></g><g class=\"infolayer\"><g class=\"g-gtitle\"/><g class=\"g-xtitle\"><text class=\"xtitle\" x=\"350\" y=\"460.8\" text-anchor=\"middle\" style=\"font-family: 'Open Sans', verdana, arial, sans-serif; font-size: 14px; fill: rgb(42, 63, 95); opacity: 1; font-weight: normal; white-space: pre;\">Time</text></g><g class=\"g-ytitle\"><text class=\"ytitle\" transform=\"rotate(-90,23.684375000000003,260)\" x=\"23.684375000000003\" y=\"260\" text-anchor=\"middle\" style=\"font-family: 'Open Sans', verdana, arial, sans-serif; font-size: 14px; fill: rgb(42, 63, 95); opacity: 1; font-weight: normal; white-space: pre;\">Price</text></g></g></svg>"
      ]
     },
     "metadata": {},
     "output_type": "display_data"
    }
   ],
   "source": [
    "price_daily = daily_price_historical('ETH', 'USD')\n",
    "print('Max length = %s' % len(price_daily))\n",
    "print('Max time = %s' % (price_daily.timestamp.max() - price_daily.timestamp.min()))\n",
    "price_daily.tail()\n",
    "\n",
    "plotData(price_daily.iloc[-1000:],\"timestamp\",\"close\")"
   ]
  },
  {
   "cell_type": "code",
   "execution_count": 5,
   "id": "b0bbd6b6",
   "metadata": {},
   "outputs": [
    {
     "data": {
      "text/html": [
       "<div>\n",
       "<style scoped>\n",
       "    .dataframe tbody tr th:only-of-type {\n",
       "        vertical-align: middle;\n",
       "    }\n",
       "\n",
       "    .dataframe tbody tr th {\n",
       "        vertical-align: top;\n",
       "    }\n",
       "\n",
       "    .dataframe thead th {\n",
       "        text-align: right;\n",
       "    }\n",
       "</style>\n",
       "<table border=\"1\" class=\"dataframe\">\n",
       "  <thead>\n",
       "    <tr style=\"text-align: right;\">\n",
       "      <th></th>\n",
       "      <th>time</th>\n",
       "      <th>high</th>\n",
       "      <th>low</th>\n",
       "      <th>open</th>\n",
       "      <th>volumefrom</th>\n",
       "      <th>volumeto</th>\n",
       "      <th>close</th>\n",
       "      <th>conversionType</th>\n",
       "      <th>conversionSymbol</th>\n",
       "      <th>timestamp</th>\n",
       "    </tr>\n",
       "  </thead>\n",
       "  <tbody>\n",
       "    <tr>\n",
       "      <th>0</th>\n",
       "      <td>1279324800</td>\n",
       "      <td>0.0</td>\n",
       "      <td>0.0</td>\n",
       "      <td>0.0</td>\n",
       "      <td>0.0</td>\n",
       "      <td>0.0</td>\n",
       "      <td>0.0</td>\n",
       "      <td>direct</td>\n",
       "      <td></td>\n",
       "      <td>2010-07-16 18:00:00</td>\n",
       "    </tr>\n",
       "    <tr>\n",
       "      <th>1</th>\n",
       "      <td>1279411200</td>\n",
       "      <td>0.0</td>\n",
       "      <td>0.0</td>\n",
       "      <td>0.0</td>\n",
       "      <td>0.0</td>\n",
       "      <td>0.0</td>\n",
       "      <td>0.0</td>\n",
       "      <td>direct</td>\n",
       "      <td></td>\n",
       "      <td>2010-07-17 18:00:00</td>\n",
       "    </tr>\n",
       "    <tr>\n",
       "      <th>2</th>\n",
       "      <td>1279497600</td>\n",
       "      <td>0.0</td>\n",
       "      <td>0.0</td>\n",
       "      <td>0.0</td>\n",
       "      <td>0.0</td>\n",
       "      <td>0.0</td>\n",
       "      <td>0.0</td>\n",
       "      <td>direct</td>\n",
       "      <td></td>\n",
       "      <td>2010-07-18 18:00:00</td>\n",
       "    </tr>\n",
       "    <tr>\n",
       "      <th>3</th>\n",
       "      <td>1279584000</td>\n",
       "      <td>0.0</td>\n",
       "      <td>0.0</td>\n",
       "      <td>0.0</td>\n",
       "      <td>0.0</td>\n",
       "      <td>0.0</td>\n",
       "      <td>0.0</td>\n",
       "      <td>direct</td>\n",
       "      <td></td>\n",
       "      <td>2010-07-19 18:00:00</td>\n",
       "    </tr>\n",
       "    <tr>\n",
       "      <th>4</th>\n",
       "      <td>1279670400</td>\n",
       "      <td>0.0</td>\n",
       "      <td>0.0</td>\n",
       "      <td>0.0</td>\n",
       "      <td>0.0</td>\n",
       "      <td>0.0</td>\n",
       "      <td>0.0</td>\n",
       "      <td>direct</td>\n",
       "      <td></td>\n",
       "      <td>2010-07-20 18:00:00</td>\n",
       "    </tr>\n",
       "  </tbody>\n",
       "</table>\n",
       "</div>"
      ],
      "text/plain": [
       "         time  high  low  open  volumefrom  volumeto  close conversionType  \\\n",
       "0  1279324800   0.0  0.0   0.0         0.0       0.0    0.0         direct   \n",
       "1  1279411200   0.0  0.0   0.0         0.0       0.0    0.0         direct   \n",
       "2  1279497600   0.0  0.0   0.0         0.0       0.0    0.0         direct   \n",
       "3  1279584000   0.0  0.0   0.0         0.0       0.0    0.0         direct   \n",
       "4  1279670400   0.0  0.0   0.0         0.0       0.0    0.0         direct   \n",
       "\n",
       "  conversionSymbol           timestamp  \n",
       "0                  2010-07-16 18:00:00  \n",
       "1                  2010-07-17 18:00:00  \n",
       "2                  2010-07-18 18:00:00  \n",
       "3                  2010-07-19 18:00:00  \n",
       "4                  2010-07-20 18:00:00  "
      ]
     },
     "execution_count": 5,
     "metadata": {},
     "output_type": "execute_result"
    }
   ],
   "source": [
    "price_daily.head()"
   ]
  },
  {
   "cell_type": "markdown",
   "id": "3a000829",
   "metadata": {},
   "source": [
    "# Setting up RNN Configuration"
   ]
  },
  {
   "cell_type": "code",
   "execution_count": 6,
   "id": "30f846d2",
   "metadata": {},
   "outputs": [],
   "source": [
    "#LSTM setup roughtly follows the following configuration: \n",
    "#https://lilianweng.github.io/lil-log/2017/07/08/predict-stock-prices-using-RNN-part-1.html\n",
    "\n",
    "class configurationRNN():\n",
    "    \"\"\"\n",
    "    We will place the model configuration within a single object for easier handling\n",
    "    Note that the if-else statements are done to create default values in the constructor\n",
    "    \"\"\"\n",
    "    \n",
    "    def __init__(self, input_size=None, grouped_inputs=None,\n",
    "                 input_overlap=None, layer_size=None, num_layers=None,\n",
    "                keep_prob=None, start_learning_rate=None, initial_epochs=None,\n",
    "                decay_learning_rate=None, max_epochs=None, batch_size=None):\n",
    "    \n",
    "        # number of time inputs into a single time-step in the RNN. (size of sliding window/1 data point)\n",
    "        if input_size is None:\n",
    "            self.input_size = 3\n",
    "        else:\n",
    "            self.input_size = input_size       \n",
    "    \n",
    "        # number of inputs used during a training instance the \"unrolled\" version of the RNN\n",
    "        if grouped_inputs is None:\n",
    "            self.grouped_inputs = 2\n",
    "        else:\n",
    "            self.grouped_inputs = grouped_inputs\n",
    "            \n",
    "        #note a single training data set is going to have the size of input_size*grouped_inputs\n",
    "    \n",
    "        #overlap beetween windows when choosing input data \n",
    "        #(i.e. does the next input contain values from the previous one?)\n",
    "        if input_overlap is None:\n",
    "            self.input_overlap = 3\n",
    "        else:\n",
    "            self.input_overlap = input_overlap\n",
    "        \n",
    "        #setting number of units in an LSTM layer (layer size)\n",
    "        if layer_size is None:\n",
    "            self.layer_size = 128\n",
    "        else:\n",
    "            self.layer_size = layer_size\n",
    "        \n",
    "        #setting number of stacked LSTM layers (number of layers)\n",
    "        if num_layers is None:\n",
    "            self.num_layers = 1\n",
    "        else:\n",
    "            self.num_layers = num_layers\n",
    "\n",
    "        #percentage of cell units to keep in the dropout operation during training\n",
    "        if keep_prob is None:\n",
    "            self.keep_prob = 0.8\n",
    "        else:\n",
    "            self.keep_prob = keep_prob\n",
    "        \n",
    "        #setting start learning rate \n",
    "        if start_learning_rate is None:\n",
    "            self.start_learning_rate = 0.001\n",
    "        else:\n",
    "            self.start_learning_rate = start_learning_rate\n",
    "\n",
    "        #setting number of epochs we will use initial learning rate\n",
    "        if initial_epochs is None:\n",
    "            self.decay_learning_rate = 5\n",
    "        else:\n",
    "            self.initial_epochs = initial_epochs\n",
    "\n",
    "        #setting decay in learning rate after 1st epoch\n",
    "        if decay_learning_rate is None:\n",
    "            self.decay_learning_rate = 0.99\n",
    "        else:\n",
    "            self.decay_learning_rate = decay_learning_rate\n",
    "\n",
    "        #maximum number of epochs used for training\n",
    "        if max_epochs is None:\n",
    "            self.max_epochs = 3\n",
    "        else:\n",
    "            self.max_epochs = max_epochs\n",
    "\n",
    "        #setting mini batch size\n",
    "        if batch_size is None:\n",
    "            self.batch_size = 64\n",
    "        else:\n",
    "            self.batch_size = batch_size"
   ]
  },
  {
   "cell_type": "markdown",
   "id": "b2c9c16c",
   "metadata": {},
   "source": [
    "# Preparing Data for RNN"
   ]
  },
  {
   "cell_type": "code",
   "execution_count": 7,
   "id": "b57f8a2b",
   "metadata": {},
   "outputs": [],
   "source": [
    "def prepare_data(df,num_time_steps,train_test_split,config):\n",
    "    \"\"\"Function to split the raw data into time-step separated training and testing data\"\"\"\n",
    "    \n",
    "    #making a list sequence of closing prices\n",
    "    l = []\n",
    "    for i in df.iloc[-num_time_steps:][\"close\"]:\n",
    "        l.append(i)\n",
    "                \n",
    "    #formatting the data into a list of arrays (a 3-D array)\n",
    "    #each array has the size of the number of time steps included in each input\n",
    "    #each array does not share numbers with previous array (we can change that)\n",
    "\n",
    "    seq = [np.array(\n",
    "                l[config.input_size*i : config.input_size*(i + 1)]\n",
    "                ) \n",
    "           for i in range(len(l) // config.input_size)\n",
    "          ]\n",
    "\n",
    "    #non dimensionalize with respect to last unkwnown value in previous window\n",
    "    seq_ref = seq.copy()\n",
    "    seq[0] = seq_ref[0]/seq_ref[0][0] #first window normalization is different\n",
    " \n",
    "    for i in range(1,len(seq)):\n",
    "        seq[i] = seq_ref[i]/seq_ref[i-1][-1]\n",
    "\n",
    "    # group inputs by \"grouped inputs\" parameter (how many inputs are used as a training istance in unrolled version RNN)\n",
    "    features = np.array([seq[i: i + config.grouped_inputs] for i in range(len(seq) - config.grouped_inputs)])\n",
    "    labels = np.array([seq[i + config.grouped_inputs] for i in range(len(seq) - config.grouped_inputs)])\n",
    "    \n",
    "    #splitting the train-test data \n",
    "    cutoff = int(features.shape[0]*train_test_split)\n",
    "    \n",
    "    train_data = features[:cutoff]\n",
    "    train_labels = labels[:cutoff]\n",
    "    test_data = features[cutoff:]\n",
    "    test_labels = labels[cutoff:]\n",
    "    \n",
    "    return train_data, train_labels, test_data, test_labels, np.array(seq)"
   ]
  },
  {
   "cell_type": "markdown",
   "id": "8d4fec44",
   "metadata": {},
   "source": [
    "# Setting up RNN model constructor function"
   ]
  },
  {
   "cell_type": "code",
   "execution_count": 8,
   "id": "a756ea8a",
   "metadata": {},
   "outputs": [],
   "source": [
    "#defining the model\n",
    "\n",
    "def build_lstm_model(config):\n",
    "    model = Sequential() #linear stack of layers\n",
    "    \n",
    "    model.add(LSTM(config.layer_size,\n",
    "                input_shape =(config.grouped_inputs, config.input_size), #input shape\n",
    "                return_sequences = True #neccesary if multiple LSTM layers\n",
    "                )\n",
    "             )\n",
    "    \n",
    "    for i in range(config.num_layers-2):\n",
    "        model.add(LSTM(config.layer_size,\n",
    "                recurrent_dropout = (1-config.keep_prob), #dropout layer of the outputs\n",
    "                return_sequences = True)\n",
    "                 )\n",
    "        \n",
    "    model.add(LSTM(config.layer_size,\n",
    "                recurrent_dropout = (1-config.keep_prob))\n",
    "             )\n",
    "        \n",
    "    model.add(Dense(units = config.input_size))\n",
    "             \n",
    "    #model.compile(optimizer=\"Adam\", loss=\"mse\", metrics=[\"mae\"])\n",
    "    model.compile(optimizer=\"RMSprop\", loss=\"mse\", metrics=[\"mae\",\"mse\"])\n",
    "\n",
    "    return model\n"
   ]
  },
  {
   "cell_type": "markdown",
   "id": "ca72dc8b",
   "metadata": {},
   "source": [
    "# Defining pipleine for running and testing the model"
   ]
  },
  {
   "cell_type": "code",
   "execution_count": 9,
   "id": "d1894eba",
   "metadata": {},
   "outputs": [],
   "source": [
    "def run_model(df,total_steps,config):\n",
    "\n",
    "    #run data preparation\n",
    "    train_data, train_labels, test_data, test_labels, full_data = prepare_data(df,total_steps,0.8,config)\n",
    "    print(\"shape training data = \" + str(train_data.shape))\n",
    "    print(\"shape testing data = \" + str(test_data.shape))\n",
    "    \n",
    "    #build model\n",
    "    model =  build_lstm_model(config)\n",
    "    #model.summary()\n",
    "    \n",
    "    #fit model and predict \n",
    "    model.fit(train_data,train_labels, epochs = config.max_epochs)\n",
    "    prediction = model.predict(test_data)\n",
    "    \n",
    "    plotArrays(test_labels,prediction,True)\n",
    "    "
   ]
  },
  {
   "cell_type": "markdown",
   "id": "2f0f1f3d",
   "metadata": {},
   "source": [
    "# Running the Model"
   ]
  },
  {
   "cell_type": "code",
   "execution_count": 10,
   "id": "a343d07d",
   "metadata": {
    "scrolled": false
   },
   "outputs": [
    {
     "name": "stdout",
     "output_type": "stream",
     "text": [
      "shape training data = (158, 2, 5)\n",
      "shape testing data = (40, 2, 5)\n"
     ]
    },
    {
     "name": "stderr",
     "output_type": "stream",
     "text": [
      "2021-09-08 08:19:34.854519: I tensorflow/core/platform/cpu_feature_guard.cc:142] This TensorFlow binary is optimized with oneAPI Deep Neural Network Library (oneDNN) to use the following CPU instructions in performance-critical operations:  SSE4.1 SSE4.2 AVX AVX2 FMA\n",
      "To enable them in other operations, rebuild TensorFlow with the appropriate compiler flags.\n",
      "2021-09-08 08:19:35.404059: I tensorflow/compiler/mlir/mlir_graph_optimization_pass.cc:116] None of the MLIR optimization passes are enabled (registered 2)\n"
     ]
    },
    {
     "name": "stdout",
     "output_type": "stream",
     "text": [
      "Epoch 1/3\n",
      "5/5 [==============================] - 8s 15ms/step - loss: 0.9274 - mae: 0.9563 - mse: 0.9274\n",
      "Epoch 2/3\n",
      "5/5 [==============================] - 0s 15ms/step - loss: 0.1202 - mae: 0.2780 - mse: 0.1202\n",
      "Epoch 3/3\n",
      "5/5 [==============================] - 0s 15ms/step - loss: 0.0300 - mae: 0.1472 - mse: 0.0300\n"
     ]
    },
    {
     "data": {
      "image/svg+xml": [
       "<svg class=\"main-svg\" xmlns=\"http://www.w3.org/2000/svg\" xmlns:xlink=\"http://www.w3.org/1999/xlink\" width=\"700\" height=\"500\" style=\"\" viewBox=\"0 0 700 500\"><rect x=\"0\" y=\"0\" width=\"700\" height=\"500\" style=\"fill: rgb(255, 255, 255); fill-opacity: 1;\"/><defs id=\"defs-24206c\"><g class=\"clips\"><clipPath id=\"clip24206cxyplot\" class=\"plotclip\"><rect width=\"493\" height=\"320\"/></clipPath><clipPath class=\"axesclip\" id=\"clip24206cx\"><rect x=\"80\" y=\"0\" width=\"493\" height=\"500\"/></clipPath><clipPath class=\"axesclip\" id=\"clip24206cy\"><rect x=\"0\" y=\"100\" width=\"700\" height=\"320\"/></clipPath><clipPath class=\"axesclip\" id=\"clip24206cxy\"><rect x=\"80\" y=\"100\" width=\"493\" height=\"320\"/></clipPath></g><g class=\"gradients\"/><g class=\"patterns\"/></defs><g class=\"bglayer\"><rect class=\"bg\" x=\"80\" y=\"100\" width=\"493\" height=\"320\" style=\"fill: rgb(229, 236, 246); fill-opacity: 1; stroke-width: 0;\"/></g><g class=\"layer-below\"><g class=\"imagelayer\"/><g class=\"shapelayer\"/></g><g class=\"cartesianlayer\"><g class=\"subplot xy\"><g class=\"layer-subplot\"><g class=\"shapelayer\"/><g class=\"imagelayer\"/></g><g class=\"gridlayer\"><g class=\"x\"><path class=\"xgrid crisp\" transform=\"translate(203.87,0)\" d=\"M0,100v320\" style=\"stroke: rgb(255, 255, 255); stroke-opacity: 1; stroke-width: 1px;\"/><path class=\"xgrid crisp\" transform=\"translate(327.74,0)\" d=\"M0,100v320\" style=\"stroke: rgb(255, 255, 255); stroke-opacity: 1; stroke-width: 1px;\"/><path class=\"xgrid crisp\" transform=\"translate(451.61,0)\" d=\"M0,100v320\" style=\"stroke: rgb(255, 255, 255); stroke-opacity: 1; stroke-width: 1px;\"/></g><g class=\"y\"><path class=\"ygrid crisp\" transform=\"translate(0,393.66)\" d=\"M80,0h493\" style=\"stroke: rgb(255, 255, 255); stroke-opacity: 1; stroke-width: 1px;\"/><path class=\"ygrid crisp\" transform=\"translate(0,343.84000000000003)\" d=\"M80,0h493\" style=\"stroke: rgb(255, 255, 255); stroke-opacity: 1; stroke-width: 1px;\"/><path class=\"ygrid crisp\" transform=\"translate(0,294.02)\" d=\"M80,0h493\" style=\"stroke: rgb(255, 255, 255); stroke-opacity: 1; stroke-width: 1px;\"/><path class=\"ygrid crisp\" transform=\"translate(0,244.2)\" d=\"M80,0h493\" style=\"stroke: rgb(255, 255, 255); stroke-opacity: 1; stroke-width: 1px;\"/><path class=\"ygrid crisp\" transform=\"translate(0,194.39)\" d=\"M80,0h493\" style=\"stroke: rgb(255, 255, 255); stroke-opacity: 1; stroke-width: 1px;\"/><path class=\"ygrid crisp\" transform=\"translate(0,144.57)\" d=\"M80,0h493\" style=\"stroke: rgb(255, 255, 255); stroke-opacity: 1; stroke-width: 1px;\"/></g></g><g class=\"zerolinelayer\"><path class=\"xzl zl crisp\" transform=\"translate(80,0)\" d=\"M0,100v320\" style=\"stroke: rgb(255, 255, 255); stroke-opacity: 1; stroke-width: 2px;\"/></g><path class=\"xlines-below\"/><path class=\"ylines-below\"/><g class=\"overlines-below\"/><g class=\"xaxislayer-below\"/><g class=\"yaxislayer-below\"/><g class=\"overaxes-below\"/><g class=\"plot\" transform=\"translate(80,100)\" clip-path=\"url(#clip24206cxyplot)\"><g class=\"scatterlayer mlayer\"><g class=\"trace scatter trace65be78\" style=\"stroke-miterlimit: 2; opacity: 1;\"><g class=\"fills\"/><g class=\"errorbars\"/><g class=\"lines\"><path class=\"js-line\" d=\"M0,139L4.95,231.85L7.43,219.63L9.91,256.9L12.39,156.23L14.86,151.48L17.34,164.14L19.82,114.08L22.3,141.92L24.77,117.44L27.25,127.57L29.73,130.46L32.21,89.72L34.68,64.67L37.16,112.99L39.64,102.14L42.12,124.21L44.59,115.14L47.07,132.25L49.55,100.97L52.03,121.4L54.5,136.58L56.98,133.53L59.46,128.63L61.93,157.01L64.41,147.83L66.89,149L69.37,154.89L71.84,182.73L74.32,148.16L76.8,173.47L79.28,172.36L81.75,138.92L84.23,134.76L86.71,152.11L89.19,114.4L91.66,107.16L94.14,84.58L96.62,70.45L101.57,133.69L104.05,116.62L106.53,108.74L109.01,107.59L111.48,179.13L113.96,151.56L116.44,154.99L118.91,139.13L121.39,135.18L123.87,147.16L128.82,79.04L131.3,59.29L133.78,80.4L136.26,166.37L141.21,198.13L143.69,163.41L146.17,158.24L148.64,134.96L151.12,141.65L153.6,174L156.08,151.69L158.55,106.74L161.03,118.06L163.51,101.75L165.98,100.27L168.46,96.83L170.94,63.06L173.42,143.5L175.89,62.47L178.37,94.64L180.85,46.01L183.33,52.28L185.8,145.31L188.28,83.64L190.76,82.1L193.24,78.86L195.71,46.29L198.19,187.93L200.67,198.94L203.15,155.88L205.62,207.87L208.1,214.77L210.58,186.64L213.06,173.17L215.53,303.02L218.01,257.19L220.49,304L222.96,172.6L225.44,213.19L227.92,100.66L230.4,88.65L232.87,51.54L235.35,169.46L237.83,226.39L240.31,249.46L242.78,230.77L245.26,175.51L247.74,157.66L250.22,144.36L252.69,116.86L255.17,147.19L257.65,158.49L260.13,128.82L262.6,151.14L265.08,167.04L267.56,147.83L270.04,174.17L272.51,167.68L274.99,164.75L277.47,136.52L279.94,121.92L282.42,129.68L284.9,178.65L287.38,177.75L289.85,204.92L292.33,218.04L294.81,202.96L297.29,223.19L299.76,224.75L302.24,205.27L304.72,200.73L307.2,240.42L309.67,138.52L312.15,96.58L319.58,16L322.06,180.72L324.54,170.58L327.02,154.92L329.49,133.89L331.97,161.59L334.45,115.65L336.92,116.9L339.4,162.85L341.88,155.78L344.36,163.76L346.83,137.13L351.79,184.3L354.27,171.64L356.74,189.6L359.22,154.88L361.7,148.93L364.18,151.01L366.65,170.06L369.13,178.39L371.61,86.07L374.09,77.78L376.56,49.66L379.04,32.81L381.52,30.48L383.99,136.41L386.47,119.77L388.95,119.96L393.9,83.07L396.38,130.43L398.86,125.44L401.34,114.92L403.81,135.19L406.29,91.2L408.77,125.29L411.25,113.75L413.72,64.39L416.2,91.56L418.68,63.93L421.16,147.87L423.63,144.44L426.11,162.72L428.59,119.13L431.07,128.18L433.54,137.43L436.02,162.36L438.5,183.05L440.97,182.82L445.93,128.29L448.41,137.66L450.88,135.3L453.36,122.62L455.84,146.11L458.32,135.36L460.79,156.6L463.27,127.98L468.23,135.92L470.7,143.72L473.18,111.79L475.66,50.93L478.14,57.34L480.61,33.85L483.09,150.88L485.57,142.62L488.05,145.64L490.52,208.22L493,213.11\" style=\"vector-effect: non-scaling-stroke; fill: none; stroke: rgb(99, 110, 250); stroke-opacity: 1; stroke-width: 2px; opacity: 1;\"/></g><g class=\"points\"/><g class=\"text\"/></g><g class=\"trace scatter trace7eeddf\" style=\"stroke-miterlimit: 2; opacity: 1;\"><g class=\"fills\"/><g class=\"errorbars\"/><g class=\"lines\"><path class=\"js-line\" d=\"M0,133.45L2.48,127.92L4.95,128.53L7.43,124.8L9.91,124.94L12.39,145.49L14.86,140.06L17.34,140.6L19.82,137.66L22.3,137.99L24.77,202.93L32.21,197.3L34.68,198.59L37.16,147.1L39.64,142.29L42.12,142.62L44.59,139L47.07,139.42L49.55,118.8L52.03,112.1L54.5,113.43L56.98,109.24L59.46,109.17L61.93,130.08L64.41,124.09L66.89,124.98L69.37,121.13L71.84,121.24L74.32,143.02L76.8,137.56L79.28,138.12L81.75,134.79L84.23,135.11L86.71,167.7L89.19,163.9L91.66,163.54L94.14,160.77L96.62,161.46L99.1,152.42L101.57,147.9L104.05,148.03L106.53,144.58L109.01,145.06L111.48,117.15L113.96,110.59L116.44,111.8L118.91,107.67L121.39,107.52L123.87,133.04L126.35,127.1L128.82,127.91L131.3,124.39L133.78,124.51L136.26,148.32L138.73,143.88L141.21,143.96L143.69,140.43L146.17,140.83L148.64,123.42L151.12,117.03L153.6,118.12L156.08,114.53L158.55,114.49L161.03,176.1L163.51,172.58L165.98,172.16L168.46,169.29L170.94,170.18L173.42,140.7L175.89,135.36L178.37,135.95L180.85,132.06L183.33,132.4L185.8,101.69L188.28,94.41L190.76,96.03L193.24,91.26L198.19,91.06L200.67,83.28L203.15,85.2L205.62,80.14L208.1,79.63L210.58,120.61L213.06,113.9L215.53,115.1L218.01,111.56L220.49,111.5L222.96,214.66L225.44,212.97L230.4,209.98L232.87,211.3L235.35,227.13L237.83,226.56L242.78,222.35L245.26,224.08L247.74,153.49L250.22,148.4L252.69,148.69L255.17,146.12L257.65,146.45L260.13,203.76L267.56,198.12L270.04,199.39L272.51,157.16L274.99,152.81L277.47,152.72L279.94,149.84L282.42,150.29L284.9,162.56L287.38,158.43L289.85,158.27L292.33,155.31L294.81,155.94L297.29,165.98L299.76,161.84L302.24,161.67L304.72,159.1L307.2,159.76L309.67,210.8L317.11,205.8L319.58,207.17L322.06,194.26L324.54,192.61L327.02,191.11L329.49,188.5L331.97,189.54L334.45,102.39L336.92,94.8L339.4,96.52L341.88,92.36L344.36,91.96L346.83,166.67L349.31,162.88L351.79,162.59L354.27,159.7L359.22,160.38L361.7,155.8L364.18,155.9L366.65,152.89L369.13,153.55L371.61,177.91L374.09,174.49L376.56,173.92L379.04,171.32L381.52,172.2L383.99,146.52L386.47,142.07L388.95,142.1L391.43,138.37L393.9,138.68L396.38,78.39L398.86,69.47L401.34,71.85L403.81,66.84L406.29,65.96L408.77,123.24L411.25,116.92L413.72,117.98L416.2,113.98L418.68,113.96L421.16,121.93L423.63,115.72L426.11,116.65L428.59,112.59L431.07,112.48L433.54,112.31L436.02,105.34L438.5,106.67L440.97,102.72L443.45,102.41L445.93,156.51L448.41,151.8L450.88,152.03L453.36,148.91L455.84,149.5L458.32,167.55L460.79,163.59L463.27,163.35L465.75,160.36L468.23,161.08L470.7,145.7L473.18,140.65L475.66,140.98L478.14,137.69L480.61,138L485.57,128.73L488.05,129.16L490.52,125.4L493,125.46\" style=\"vector-effect: non-scaling-stroke; fill: none; stroke: rgb(239, 85, 59); stroke-opacity: 1; stroke-width: 2px; opacity: 1;\"/></g><g class=\"points\"/><g class=\"text\"/></g></g></g><g class=\"overplot\"/><path class=\"xlines-above crisp\" d=\"M0,0\" style=\"fill: none;\"/><path class=\"ylines-above crisp\" d=\"M0,0\" style=\"fill: none;\"/><g class=\"overlines-above\"/><g class=\"xaxislayer-above\"><g class=\"xtick\"><text text-anchor=\"middle\" x=\"0\" y=\"433\" transform=\"translate(80,0)\" style=\"font-family: 'Open Sans', verdana, arial, sans-serif; font-size: 12px; fill: rgb(42, 63, 95); fill-opacity: 1; white-space: pre; opacity: 1;\">0</text></g><g class=\"xtick\"><text text-anchor=\"middle\" x=\"0\" y=\"433\" style=\"font-family: 'Open Sans', verdana, arial, sans-serif; font-size: 12px; fill: rgb(42, 63, 95); fill-opacity: 1; white-space: pre; opacity: 1;\" transform=\"translate(203.87,0)\">50</text></g><g class=\"xtick\"><text text-anchor=\"middle\" x=\"0\" y=\"433\" style=\"font-family: 'Open Sans', verdana, arial, sans-serif; font-size: 12px; fill: rgb(42, 63, 95); fill-opacity: 1; white-space: pre; opacity: 1;\" transform=\"translate(327.74,0)\">100</text></g><g class=\"xtick\"><text text-anchor=\"middle\" x=\"0\" y=\"433\" style=\"font-family: 'Open Sans', verdana, arial, sans-serif; font-size: 12px; fill: rgb(42, 63, 95); fill-opacity: 1; white-space: pre; opacity: 1;\" transform=\"translate(451.61,0)\">150</text></g></g><g class=\"yaxislayer-above\"><g class=\"ytick\"><text text-anchor=\"end\" x=\"79\" y=\"4.199999999999999\" transform=\"translate(0,393.66)\" style=\"font-family: 'Open Sans', verdana, arial, sans-serif; font-size: 12px; fill: rgb(42, 63, 95); fill-opacity: 1; white-space: pre; opacity: 1;\">0.7</text></g><g class=\"ytick\"><text text-anchor=\"end\" x=\"79\" y=\"4.199999999999999\" style=\"font-family: 'Open Sans', verdana, arial, sans-serif; font-size: 12px; fill: rgb(42, 63, 95); fill-opacity: 1; white-space: pre; opacity: 1;\" transform=\"translate(0,343.84000000000003)\">0.8</text></g><g class=\"ytick\"><text text-anchor=\"end\" x=\"79\" y=\"4.199999999999999\" style=\"font-family: 'Open Sans', verdana, arial, sans-serif; font-size: 12px; fill: rgb(42, 63, 95); fill-opacity: 1; white-space: pre; opacity: 1;\" transform=\"translate(0,294.02)\">0.9</text></g><g class=\"ytick\"><text text-anchor=\"end\" x=\"79\" y=\"4.199999999999999\" style=\"font-family: 'Open Sans', verdana, arial, sans-serif; font-size: 12px; fill: rgb(42, 63, 95); fill-opacity: 1; white-space: pre; opacity: 1;\" transform=\"translate(0,244.2)\">1</text></g><g class=\"ytick\"><text text-anchor=\"end\" x=\"79\" y=\"4.199999999999999\" style=\"font-family: 'Open Sans', verdana, arial, sans-serif; font-size: 12px; fill: rgb(42, 63, 95); fill-opacity: 1; white-space: pre; opacity: 1;\" transform=\"translate(0,194.39)\">1.1</text></g><g class=\"ytick\"><text text-anchor=\"end\" x=\"79\" y=\"4.199999999999999\" style=\"font-family: 'Open Sans', verdana, arial, sans-serif; font-size: 12px; fill: rgb(42, 63, 95); fill-opacity: 1; white-space: pre; opacity: 1;\" transform=\"translate(0,144.57)\">1.2</text></g></g><g class=\"overaxes-above\"/></g></g><g class=\"polarlayer\"/><g class=\"ternarylayer\"/><g class=\"geolayer\"/><g class=\"funnelarealayer\"/><g class=\"pielayer\"/><g class=\"iciclelayer\"/><g class=\"treemaplayer\"/><g class=\"sunburstlayer\"/><g class=\"glimages\"/><defs id=\"topdefs-24206c\"><g class=\"clips\"/><clipPath id=\"legend24206c\"><rect width=\"105\" height=\"48\" x=\"0\" y=\"0\"/></clipPath></defs><g class=\"layer-above\"><g class=\"imagelayer\"/><g class=\"shapelayer\"/></g><g class=\"infolayer\"><g class=\"legend\" pointer-events=\"all\" transform=\"translate(582.86,100)\"><rect class=\"bg\" shape-rendering=\"crispEdges\" style=\"stroke: rgb(68, 68, 68); stroke-opacity: 1; fill: rgb(255, 255, 255); fill-opacity: 1; stroke-width: 0px;\" width=\"105\" height=\"48\" x=\"0\" y=\"0\"/><g class=\"scrollbox\" transform=\"\" clip-path=\"url(#legend24206c)\"><g class=\"groups\"><g class=\"traces\" transform=\"translate(0,14.5)\" style=\"opacity: 1;\"><text class=\"legendtext\" text-anchor=\"start\" x=\"40\" y=\"4.680000000000001\" style=\"font-family: 'Open Sans', verdana, arial, sans-serif; font-size: 12px; fill: rgb(42, 63, 95); fill-opacity: 1; white-space: pre;\">labels</text><g class=\"layers\" style=\"opacity: 1;\"><g class=\"legendfill\"/><g class=\"legendlines\"><path class=\"js-line\" d=\"M5,0h30\" style=\"fill: none; stroke: rgb(99, 110, 250); stroke-opacity: 1; stroke-width: 2px;\"/></g><g class=\"legendsymbols\"><g class=\"legendpoints\"/></g></g><rect class=\"legendtoggle\" x=\"0\" y=\"-9.5\" width=\"99.671875\" height=\"19\" style=\"fill: rgb(0, 0, 0); fill-opacity: 0;\"/></g><g class=\"traces\" transform=\"translate(0,33.5)\" style=\"opacity: 1;\"><text class=\"legendtext\" text-anchor=\"start\" x=\"40\" y=\"4.680000000000001\" style=\"font-family: 'Open Sans', verdana, arial, sans-serif; font-size: 12px; fill: rgb(42, 63, 95); fill-opacity: 1; white-space: pre;\">prediction</text><g class=\"layers\" style=\"opacity: 1;\"><g class=\"legendfill\"/><g class=\"legendlines\"><path class=\"js-line\" d=\"M5,0h30\" style=\"fill: none; stroke: rgb(239, 85, 59); stroke-opacity: 1; stroke-width: 2px;\"/></g><g class=\"legendsymbols\"><g class=\"legendpoints\"/></g></g><rect class=\"legendtoggle\" x=\"0\" y=\"-9.5\" width=\"99.671875\" height=\"19\" style=\"fill: rgb(0, 0, 0); fill-opacity: 0;\"/></g></g></g><rect class=\"scrollbar\" rx=\"20\" ry=\"3\" width=\"0\" height=\"0\" style=\"fill: rgb(128, 139, 164); fill-opacity: 1;\" x=\"0\" y=\"0\"/></g><g class=\"g-gtitle\"/><g class=\"g-xtitle\"><text class=\"xtitle\" x=\"326.5\" y=\"460.8\" text-anchor=\"middle\" style=\"font-family: 'Open Sans', verdana, arial, sans-serif; font-size: 14px; fill: rgb(42, 63, 95); opacity: 1; font-weight: normal; white-space: pre;\">Time</text></g><g class=\"g-ytitle\"><text class=\"ytitle\" transform=\"rotate(-90,34.575,260)\" x=\"34.575\" y=\"260\" text-anchor=\"middle\" style=\"font-family: 'Open Sans', verdana, arial, sans-serif; font-size: 14px; fill: rgb(42, 63, 95); opacity: 1; font-weight: normal; white-space: pre;\">Normalized Price</text></g></g></svg>"
      ]
     },
     "metadata": {},
     "output_type": "display_data"
    }
   ],
   "source": [
    "#run configuration and model\n",
    "config1 = configurationRNN(input_size=5,num_layers=3)    \n",
    "run_model(price_daily,1000,config1)"
   ]
  },
  {
   "cell_type": "markdown",
   "id": "7567a959",
   "metadata": {},
   "source": [
    "Things left to do:\n",
    "    -use word embeddings for reddit posts (instead of bag of words)\n",
    "    -change aronud input size, grouped inputs, and input overalp. \n",
    "    -move around normalization value (it could just be last data point in previous sample)\n",
    "    -subtract 1 to make negative movements negative and positive movements positive\n",
    "    -can use different defenitions of the lstm cell (GRUs)\n",
    "    -make the NN a functional (not sequential) network, where layers can connect to many other layers. "
   ]
  }
 ],
 "metadata": {
  "kernelspec": {
   "display_name": "Python 3 (ipykernel)",
   "language": "python",
   "name": "python3"
  },
  "language_info": {
   "codemirror_mode": {
    "name": "ipython",
    "version": 3
   },
   "file_extension": ".py",
   "mimetype": "text/x-python",
   "name": "python",
   "nbconvert_exporter": "python",
   "pygments_lexer": "ipython3",
   "version": "3.8.10"
  }
 },
 "nbformat": 4,
 "nbformat_minor": 5
}
