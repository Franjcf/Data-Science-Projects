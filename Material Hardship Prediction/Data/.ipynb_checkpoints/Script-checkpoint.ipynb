{
 "cells": [
  {
   "cell_type": "code",
   "execution_count": 1,
   "metadata": {},
   "outputs": [],
   "source": [
    "#train and test are the measured results of the studies\n",
    "#backgraund.csv are the features\n",
    "\n",
    "\n",
    "#background.csv contains 4,242 rows (one per child) and 12,943 columns\n",
    "#challengeID: A unique numeric identifier for each child.\n",
    "#12,942 background variables asked from birth to age 9, which you may use in building your model\n",
    "#train.csv contains 2,121 rows (one per child in the training set) and 7 columns.\n",
    "#The challenge ID fits the one from the background part\n",
    "#Continuous variables: grit, gpa, materialHardship\n",
    "#Binary variables: eviction, layoff, jobTraining\n",
    "\n",
    "#                             -9 Not in wave\n",
    "#                             -6 Skip\n",
    "#                             -3 Missing\n",
    "#                             -2 Don't know\n",
    "#                             -1 Refuse\n",
    "\n",
    "#Questions\n",
    "#should we just fit the model for the 2121 childern?\n"
   ]
  },
  {
   "cell_type": "code",
   "execution_count": 1,
   "metadata": {},
   "outputs": [],
   "source": [
    "# loading all the libraries\n",
    "import pandas as pd\n",
    "import numpy as np\n",
    "from sklearn.linear_model import SGDClassifier\n",
    "from sklearn.linear_model import SGDRegressor\n",
    "import matplotlib.pyplot as plt\n",
    "from sklearn.model_selection import GridSearchCV\n",
    "\n",
    "from sklearn.linear_model import LogisticRegression\n",
    "from sklearn.linear_model import LinearRegression\n",
    "#rom sklearn.linear_model import Ridge\n",
    "#rom sklearn.linear_model import Lasso\n",
    "from sklearn.linear_model import ElasticNet\n",
    "from sklearn.ensemble import RandomForestRegressor\n",
    "from sklearn.ensemble import RandomForestClassifier\n",
    "\n",
    "\n",
    "from sklearn.metrics import roc_curve, auc, roc_auc_score,average_precision_score\n",
    "from sklearn.metrics import confusion_matrix\n",
    "from sklearn.metrics import accuracy_score\n",
    "from sklearn.metrics import classification_report\n",
    "\n",
    "from sklearn import datasets\n",
    "from sklearn.feature_selection import RFE\n",
    "from sklearn.feature_selection import SelectFromModel\n",
    "\n",
    "from sklearn.feature_selection import SelectKBest\n",
    "from sklearn.feature_selection import chi2\n",
    "\n",
    "from sklearn.feature_selection import VarianceThreshold\n",
    "\n",
    "\n"
   ]
  },
  {
   "cell_type": "code",
   "execution_count": 3,
   "metadata": {},
   "outputs": [],
   "source": [
    "## First we do some pre-proccesing in order to make sure we have a complete data set (elimante NA and bad values)\n",
    "\n",
    "def fillMissingData(inputcsv, outputcsv):\n",
    "    \n",
    "    # read input csv - takes time\n",
    "    df = pd.read_csv(inputcsv, low_memory=False)\n",
    "    # Fix date bug\n",
    "    df.cf4fint = ((pd.to_datetime(df.cf4fint) - pd.to_datetime('1960-01-01')) / np.timedelta64(1, 'D')).astype(int)\n",
    "    \n",
    "    ## replace NA's with mean mode or median (see how perfermance changces)\n",
    "    #df = df.fillna(df.mode().iloc[0]) #not all of them have modes\n",
    "    #df = df.fillna(df.mean())\n",
    "    #df = df.fillna(df.median())\n",
    "\n",
    "    # if still NA, replace with a value\n",
    "    #df = df.fillna(value=-1)\n",
    "    \n",
    "    # replace negative values with a value\n",
    "    #num[num < 0] = -1\n",
    "   \n",
    "    #If neccesary, turning al negative and \"other\" values into Nana\n",
    "    #df[num < 0] = np.NaN\n",
    "    #df.replace([\"NaN\", 'NaT',\"Missing\",\"Other\"], np.nan, inplace = True)\n",
    "    \n",
    "    #If neccesary, replacing all negative values with the median\n",
    "    #df = df.fillna(df.median())\n",
    "    \n",
    "    #If neccesary, converting everything into answered (True) and non-answered (False)\n",
    "    num = df._get_numeric_data()\n",
    "    num[num.iloc[:,1:] >= 0] = 1\n",
    "    num[num.iloc[:,1:] < 0] = 0\n",
    "    df = df.fillna(value=0)\n",
    "    df = num\n",
    "    \n",
    "     #droppingAllcolumns that are still Na\n",
    "    df.dropna(axis='columns',inplace = True)\n",
    "    \n",
    "    # write filled outputcsv\n",
    "    df.to_csv(outputcsv, index=False)\n",
    "    \n",
    "# Pre-proccesing the features:\n",
    "fillMissingData('background.csv', 'YesNoAnswered.csv')"
   ]
  },
  {
   "cell_type": "code",
   "execution_count": 2,
   "metadata": {},
   "outputs": [
    {
     "name": "stdout",
     "output_type": "stream",
     "text": [
      "(4242, 9842)\n",
      "      challengeID  m1intmon  m1lenhr  m1lenmin  cm1fint  cm1citsm  innatsm  \\\n",
      "0               1         0        0         1        1         1        1   \n",
      "1               2         0        1         1        1         1        1   \n",
      "2               3         0        1         1        1         1        1   \n",
      "3               4         0        1         1        1         1        1   \n",
      "4               5         0        1         1        1         1        1   \n",
      "5               6         0        1         1        1         1        1   \n",
      "6               7         0        1         1        1         1        1   \n",
      "7               8         0        1         1        1         1        1   \n",
      "8               9         0        1         1        1         1        1   \n",
      "9              10         0        1         1        1         1        1   \n",
      "10             11         0        1         1        1         1        1   \n",
      "11             12         0        1         1        1         1        1   \n",
      "12             13         0        1         0        1         1        1   \n",
      "13             14         0        1         1        1         1        1   \n",
      "14             15         0        1         1        1         1        1   \n",
      "15             16         0        1         1        1         1        1   \n",
      "16             17         0        0         1        1         1        1   \n",
      "17             18         0        1         1        1         1        1   \n",
      "18             19         0        1         1        1         1        1   \n",
      "19             20         0        0         1        1         1        1   \n",
      "20             21         0        0         1        1         1        1   \n",
      "21             22         0        1         1        1         1        1   \n",
      "22             23         0        1         1        1         1        1   \n",
      "23             24         0        0         1        1         1        1   \n",
      "24             25         0        0         1        1         1        1   \n",
      "25             26         0        1         1        1         1        1   \n",
      "26             27         0        1         1        1         1        1   \n",
      "27             28         0        1         1        1         1        1   \n",
      "28             29         0        0         1        1         1        1   \n",
      "29             30         0        0         1        1         1        1   \n",
      "...           ...       ...      ...       ...      ...       ...      ...   \n",
      "4212         4213         0        1         1        1         1        1   \n",
      "4213         4214         0        0         1        1         1        1   \n",
      "4214         4215         0        1         1        1         1        1   \n",
      "4215         4216         0        1         1        1         1        1   \n",
      "4216         4217         0        1         1        1         1        1   \n",
      "4217         4218         0        1         1        1         1        1   \n",
      "4218         4219         0        1         1        1         1        1   \n",
      "4219         4220         0        1         1        1         1        1   \n",
      "4220         4221         0        1         1        1         1        1   \n",
      "4221         4222         0        1         1        1         1        1   \n",
      "4222         4223         0        0         0        1         1        1   \n",
      "4223         4224         0        1         1        1         1        1   \n",
      "4224         4225         0        1         1        1         1        1   \n",
      "4225         4226         0        1         1        1         1        1   \n",
      "4226         4227         0        1         1        1         1        1   \n",
      "4227         4228         0        0         1        1         1        1   \n",
      "4228         4229         0        1         1        1         1        1   \n",
      "4229         4230         0        1         1        1         1        1   \n",
      "4230         4231         0        1         1        1         1        1   \n",
      "4231         4232         0        0         1        1         1        1   \n",
      "4232         4233         0        1         1        1         1        1   \n",
      "4233         4234         0        1         1        1         1        1   \n",
      "4234         4235         0        1         1        1         1        1   \n",
      "4235         4236         0        1         1        1         1        1   \n",
      "4236         4237         0        1         1        1         1        1   \n",
      "4237         4238         0        1         1        1         1        1   \n",
      "4238         4239         0        1         1        1         1        1   \n",
      "4239         4240         0        0         1        1         1        1   \n",
      "4240         4241         0        1         1        1         1        1   \n",
      "4241         4242         0        1         1        1         1        1   \n",
      "\n",
      "      incitysm  m1a3  m1a4  ...  m4d9  m4e23  f4d6  f4d7  f4d9  m5c6  m5d20  \\\n",
      "0            1     1     1  ...   0.0    0.0   0.0   0.0   0.0   0.0    0.0   \n",
      "1            1     1     1  ...   0.0    1.0   0.0   0.0   0.0   0.0    1.0   \n",
      "2            1     1     1  ...   0.0    0.0   1.0   1.0   0.0   0.0    0.0   \n",
      "3            1     1     1  ...   0.0    0.0   1.0   1.0   0.0   1.0    0.0   \n",
      "4            1     1     1  ...   0.0    0.0   1.0   1.0   0.0   1.0    0.0   \n",
      "5            1     1     1  ...   1.0    1.0   0.0   0.0   1.0   0.0    1.0   \n",
      "6            1     1     1  ...   0.0    0.0   1.0   1.0   0.0   1.0    0.0   \n",
      "7            1     1     1  ...   0.0    1.0   0.0   0.0   0.0   0.0    0.0   \n",
      "8            1     1     1  ...   0.0    0.0   1.0   1.0   0.0   1.0    0.0   \n",
      "9            1     1     1  ...   0.0    0.0   0.0   0.0   0.0   0.0    1.0   \n",
      "10           1     1     1  ...   0.0    1.0   0.0   0.0   0.0   0.0    0.0   \n",
      "11           1     1     1  ...   1.0    0.0   0.0   0.0   0.0   0.0    0.0   \n",
      "12           1     1     1  ...   1.0    0.0   0.0   0.0   1.0   0.0    1.0   \n",
      "13           1     1     1  ...   0.0    0.0   1.0   1.0   0.0   1.0    0.0   \n",
      "14           1     1     1  ...   0.0    0.0   0.0   0.0   0.0   0.0    1.0   \n",
      "15           1     1     1  ...   0.0    1.0   0.0   0.0   1.0   0.0    1.0   \n",
      "16           1     1     1  ...   0.0    0.0   0.0   0.0   0.0   1.0    0.0   \n",
      "17           1     1     1  ...   1.0    1.0   0.0   0.0   0.0   0.0    1.0   \n",
      "18           1     1     1  ...   0.0    0.0   1.0   1.0   0.0   0.0    0.0   \n",
      "19           1     1     1  ...   0.0    0.0   1.0   1.0   0.0   1.0    0.0   \n",
      "20           1     1     1  ...   0.0    1.0   0.0   0.0   0.0   0.0    1.0   \n",
      "21           1     1     1  ...   0.0    0.0   1.0   1.0   0.0   0.0    0.0   \n",
      "22           1     1     1  ...   0.0    0.0   0.0   0.0   0.0   0.0    1.0   \n",
      "23           1     1     1  ...   0.0    1.0   0.0   0.0   0.0   0.0    0.0   \n",
      "24           1     1     1  ...   0.0    1.0   0.0   0.0   0.0   0.0    0.0   \n",
      "25           1     1     1  ...   0.0    1.0   0.0   0.0   0.0   0.0    1.0   \n",
      "26           1     1     1  ...   0.0    0.0   1.0   1.0   0.0   0.0    1.0   \n",
      "27           1     1     1  ...   0.0    0.0   0.0   0.0   0.0   0.0    0.0   \n",
      "28           1     1     1  ...   0.0    0.0   1.0   1.0   0.0   0.0    0.0   \n",
      "29           1     1     1  ...   1.0    1.0   0.0   0.0   0.0   0.0    1.0   \n",
      "...        ...   ...   ...  ...   ...    ...   ...   ...   ...   ...    ...   \n",
      "4212         1     1     1  ...   0.0    0.0   0.0   0.0   1.0   0.0    1.0   \n",
      "4213         1     1     1  ...   0.0    0.0   0.0   0.0   0.0   0.0    1.0   \n",
      "4214         1     1     1  ...   0.0    0.0   0.0   0.0   1.0   1.0    0.0   \n",
      "4215         1     1     1  ...   0.0    0.0   1.0   1.0   0.0   1.0    0.0   \n",
      "4216         1     1     1  ...   0.0    0.0   1.0   1.0   0.0   0.0    0.0   \n",
      "4217         1     1     1  ...   0.0    0.0   0.0   0.0   0.0   0.0    1.0   \n",
      "4218         1     1     1  ...   0.0    0.0   1.0   1.0   0.0   1.0    0.0   \n",
      "4219         1     1     1  ...   0.0    0.0   0.0   0.0   0.0   0.0    0.0   \n",
      "4220         1     1     1  ...   1.0    1.0   0.0   0.0   1.0   0.0    1.0   \n",
      "4221         1     1     1  ...   0.0    0.0   0.0   0.0   1.0   0.0    0.0   \n",
      "4222         1     1     1  ...   0.0    0.0   1.0   1.0   0.0   1.0    0.0   \n",
      "4223         1     1     1  ...   0.0    0.0   0.0   0.0   0.0   0.0    1.0   \n",
      "4224         1     1     1  ...   0.0    0.0   0.0   0.0   0.0   0.0    0.0   \n",
      "4225         1     1     1  ...   0.0    0.0   0.0   0.0   0.0   0.0    1.0   \n",
      "4226         1     1     1  ...   0.0    0.0   0.0   0.0   0.0   0.0    0.0   \n",
      "4227         1     1     1  ...   0.0    0.0   1.0   1.0   0.0   1.0    0.0   \n",
      "4228         1     1     1  ...   0.0    0.0   0.0   0.0   1.0   0.0    1.0   \n",
      "4229         1     1     1  ...   0.0    0.0   0.0   0.0   0.0   0.0    0.0   \n",
      "4230         1     1     1  ...   0.0    1.0   0.0   0.0   0.0   0.0    1.0   \n",
      "4231         1     1     1  ...   1.0    0.0   1.0   1.0   0.0   0.0    1.0   \n",
      "4232         1     1     1  ...   0.0    0.0   1.0   1.0   0.0   1.0    0.0   \n",
      "4233         1     1     1  ...   0.0    0.0   1.0   1.0   0.0   1.0    0.0   \n",
      "4234         1     1     1  ...   0.0    0.0   1.0   1.0   0.0   0.0    0.0   \n",
      "4235         1     1     1  ...   0.0    0.0   1.0   1.0   0.0   1.0    0.0   \n",
      "4236         1     1     1  ...   1.0    1.0   0.0   0.0   1.0   0.0    1.0   \n",
      "4237         1     1     1  ...   0.0    0.0   0.0   0.0   0.0   0.0    0.0   \n",
      "4238         1     1     1  ...   1.0    0.0   0.0   0.0   0.0   0.0    0.0   \n",
      "4239         1     1     1  ...   0.0    1.0   0.0   0.0   0.0   0.0    0.0   \n",
      "4240         1     1     1  ...   0.0    1.0   0.0   0.0   1.0   0.0    0.0   \n",
      "4241         1     1     1  ...   0.0    0.0   1.0   1.0   0.0   1.0    0.0   \n",
      "\n",
      "      m5k10  f5c6  k5f1  \n",
      "0         0   0.0   0.0  \n",
      "1         0   0.0   1.0  \n",
      "2         0   0.0   0.0  \n",
      "3         0   1.0   1.0  \n",
      "4         0   1.0   1.0  \n",
      "5         0   0.0   1.0  \n",
      "6         0   1.0   1.0  \n",
      "7         0   0.0   0.0  \n",
      "8         0   1.0   1.0  \n",
      "9         0   0.0   1.0  \n",
      "10        0   0.0   1.0  \n",
      "11        0   0.0   1.0  \n",
      "12        0   0.0   1.0  \n",
      "13        0   1.0   1.0  \n",
      "14        0   0.0   1.0  \n",
      "15        0   0.0   1.0  \n",
      "16        0   1.0   1.0  \n",
      "17        0   0.0   1.0  \n",
      "18        0   0.0   0.0  \n",
      "19        0   1.0   1.0  \n",
      "20        0   0.0   1.0  \n",
      "21        0   0.0   0.0  \n",
      "22        0   0.0   1.0  \n",
      "23        0   0.0   1.0  \n",
      "24        0   0.0   0.0  \n",
      "25        0   0.0   1.0  \n",
      "26        0   0.0   1.0  \n",
      "27        0   0.0   0.0  \n",
      "28        0   0.0   1.0  \n",
      "29        0   0.0   1.0  \n",
      "...     ...   ...   ...  \n",
      "4212      0   0.0   1.0  \n",
      "4213      0   0.0   1.0  \n",
      "4214      0   1.0   1.0  \n",
      "4215      0   1.0   1.0  \n",
      "4216      0   0.0   0.0  \n",
      "4217      0   0.0   1.0  \n",
      "4218      0   1.0   1.0  \n",
      "4219      0   0.0   0.0  \n",
      "4220      0   0.0   1.0  \n",
      "4221      0   0.0   0.0  \n",
      "4222      0   1.0   1.0  \n",
      "4223      0   0.0   0.0  \n",
      "4224      0   0.0   0.0  \n",
      "4225      0   0.0   1.0  \n",
      "4226      0   0.0   0.0  \n",
      "4227      0   1.0   1.0  \n",
      "4228      0   0.0   1.0  \n",
      "4229      0   0.0   1.0  \n",
      "4230      0   0.0   1.0  \n",
      "4231      0   0.0   1.0  \n",
      "4232      0   1.0   1.0  \n",
      "4233      0   1.0   1.0  \n",
      "4234      0   0.0   0.0  \n",
      "4235      0   1.0   1.0  \n",
      "4236      0   0.0   1.0  \n",
      "4237      0   0.0   0.0  \n",
      "4238      0   0.0   1.0  \n",
      "4239      0   0.0   0.0  \n",
      "4240      0   1.0   1.0  \n",
      "4241      0   1.0   1.0  \n",
      "\n",
      "[4242 rows x 9842 columns]\n"
     ]
    }
   ],
   "source": [
    "#featureData = pd.read_csv('dataOutputBig.csv', low_memory=False) #with negative values\n",
    "#featureData = pd.read_csv('dataOutputSmall.csv', low_memory=False) #removing all Na and neg values\n",
    "#featureData = pd.read_csv('dataOutputAllMedian.csv', low_memory=False) #with negative values and NaN as the mean an\n",
    "featureData = pd.read_csv('YesNoAnswered.csv', low_memory=False) #Pitting negative and Nan as False and all else as True\n",
    "\n",
    "print(featureData.shape)\n",
    "print(featureData)"
   ]
  },
  {
   "cell_type": "code",
   "execution_count": 3,
   "metadata": {},
   "outputs": [
    {
     "name": "stdout",
     "output_type": "stream",
     "text": [
      "(4242, 9842)\n",
      "(4242, 9842)\n",
      "(4242, 1)\n",
      "(4242, 9842)\n"
     ]
    }
   ],
   "source": [
    "## Separating the data and getting only the numerical values\n",
    "numericData = featureData.apply(pd.to_numeric, errors='coerce').dropna(axis=1)\n",
    "\n",
    "print(numericData.shape)\n",
    "#pint(featureData)\n",
    "\n",
    "#Separating Boolean Data and Linear Data\n",
    "bool_cols = [col for col in numericData \n",
    "             if numericData[[col]].isin([0, 1]).all().values]\n",
    "\n",
    "continiousData = numericData.drop(bool_cols, axis=1)\n",
    "bool_cols=['challengeID'] + bool_cols\n",
    "binaryData = numericData[bool_cols]\n",
    "\n",
    "print(numericData.shape)\n",
    "print(continiousData.shape)\n",
    "print(binaryData.shape)"
   ]
  },
  {
   "cell_type": "code",
   "execution_count": 5,
   "metadata": {},
   "outputs": [
    {
     "name": "stdout",
     "output_type": "stream",
     "text": [
      "(1014, 7)\n",
      "(803, 7)\n"
     ]
    }
   ],
   "source": [
    "def fillMissingOutcomes(inputcsv, outputcsv):\n",
    "    \n",
    "    # read input csv - takes time\n",
    "    df = pd.read_csv(inputcsv, low_memory=False)\n",
    "   \n",
    "    # replace NA's with mode or median or mean\n",
    "    #df = df.fillna(df.mode().iloc[0])\n",
    "    #df = df.fillna(df.median())\n",
    "    #df = df.fillna(df.mean())\n",
    "    \n",
    "    df.dropna(axis='rows',inplace = True)\n",
    "    \n",
    "    # write filled outputcsv\n",
    "    df.to_csv(outputcsv, index=False)\n",
    "\n",
    "#Pre-proccesing the training results (assuming we handle them the same way)\n",
    "fillMissingOutcomes('train.csv', 'trainOutput.csv')\n",
    "trainOut = pd.read_csv('trainOutput.csv', low_memory=False)\n",
    "#print(train)\n",
    "\n",
    "#Pre-proccesing the test results (assuming we handle them the same way)\n",
    "fillMissingOutcomes('test.csv', 'testOutput.csv')\n",
    "testOut = pd.read_csv('testOutput.csv', low_memory=False)\n",
    "print(trainOut.shape)\n",
    "print(testOut.shape)"
   ]
  },
  {
   "cell_type": "code",
   "execution_count": 6,
   "metadata": {},
   "outputs": [
    {
     "name": "stdout",
     "output_type": "stream",
     "text": [
      "(4242, 9842)\n",
      "(4242, 4804)\n"
     ]
    }
   ],
   "source": [
    "## choose the data set to use:\n",
    "#data = featureData\n",
    "data = numericData\n",
    "#data = binaryData\n",
    "#data = continiousData\n",
    "\n",
    "print(data.shape)\n",
    "\n",
    "## do a variance test to remove features that dont have any variance \n",
    "sel = VarianceThreshold(threshold=0.1) #we are not looking for eceptions here \n",
    "sel.fit(data)\n",
    "data = data[data.columns[sel.get_support(indices=True)]]\n",
    "print(data.shape)"
   ]
  },
  {
   "cell_type": "code",
   "execution_count": 7,
   "metadata": {},
   "outputs": [
    {
     "name": "stdout",
     "output_type": "stream",
     "text": [
      "(1014, 4804)\n",
      "(1014, 7)\n"
     ]
    }
   ],
   "source": [
    "##Need to separate the initial data into the training and testings sets\n",
    "\n",
    "trainIndex = (list(set(trainOut['challengeID']).intersection(data['challengeID'])))\n",
    "trainIndex.sort()\n",
    "trainIndex2 = [x - 1 for x in trainIndex] #making sure we get the correct indexes in list to math the ID\n",
    "testIndex = (list(set(testOut['challengeID']).intersection(data['challengeID'])))\n",
    "testIndex.sort()\n",
    "testIndex2 = [x - 1 for x in testIndex]\n",
    "\n",
    "train_data = data.iloc[trainIndex2]\n",
    "test_data  = data.iloc[testIndex2]\n",
    "\n",
    "#reindexing the data\n",
    "test_data=test_data.reset_index(drop=True)\n",
    "train_data=train_data.reset_index(drop=True)\n",
    "\n",
    "#Making sure all the output boolean data is in boolean type\n",
    "testOut[\"layoff\"]=testOut[\"layoff\"].astype('bool')\n",
    "testOut[\"eviction\"]=testOut[\"eviction\"].astype('bool')\n",
    "testOut[\"jobTraining\"]=testOut[\"jobTraining\"].astype('bool')\n",
    "trainOut[\"layoff\"]=trainOut[\"layoff\"].astype('bool')\n",
    "trainOut[\"eviction\"]=trainOut[\"eviction\"].astype('bool')\n",
    "trainOut[\"jobTraining\"]=trainOut[\"jobTraining\"].astype('bool')\n",
    "\n",
    "print(train_data.shape)\n",
    "print(trainOut.shape)"
   ]
  },
  {
   "cell_type": "code",
   "execution_count": null,
   "metadata": {},
   "outputs": [
    {
     "name": "stderr",
     "output_type": "stream",
     "text": [
      "/anaconda3/lib/python3.6/site-packages/pandas/core/indexing.py:190: SettingWithCopyWarning: \n",
      "A value is trying to be set on a copy of a slice from a DataFrame\n",
      "\n",
      "See the caveats in the documentation: http://pandas.pydata.org/pandas-docs/stable/indexing.html#indexing-view-versus-copy\n",
      "  self._setitem_with_indexer(indexer, value)\n"
     ]
    },
    {
     "name": "stdout",
     "output_type": "stream",
     "text": [
      "0       False\n",
      "1        True\n",
      "2        True\n",
      "3        True\n",
      "4       False\n",
      "5       False\n",
      "6       False\n",
      "7       False\n",
      "8       False\n",
      "9        True\n",
      "10       True\n",
      "11      False\n",
      "12      False\n",
      "13      False\n",
      "14       True\n",
      "15      False\n",
      "16      False\n",
      "17      False\n",
      "18      False\n",
      "19       True\n",
      "20      False\n",
      "21       True\n",
      "22      False\n",
      "23      False\n",
      "24      False\n",
      "25       True\n",
      "26       True\n",
      "27      False\n",
      "28       True\n",
      "29      False\n",
      "        ...  \n",
      "984      True\n",
      "985     False\n",
      "986     False\n",
      "987      True\n",
      "988     False\n",
      "989     False\n",
      "990     False\n",
      "991      True\n",
      "992     False\n",
      "993     False\n",
      "994     False\n",
      "995     False\n",
      "996      True\n",
      "997     False\n",
      "998     False\n",
      "999      True\n",
      "1000    False\n",
      "1001    False\n",
      "1002    False\n",
      "1003    False\n",
      "1004    False\n",
      "1005     True\n",
      "1006    False\n",
      "1007    False\n",
      "1008    False\n",
      "1009     True\n",
      "1010    False\n",
      "1011     True\n",
      "1012    False\n",
      "1013    False\n",
      "Name: materialHardship, Length: 1014, dtype: bool\n"
     ]
    }
   ],
   "source": [
    "#Making continious results into binary data\n",
    "ContiniousOutcome = 'materialHardship'\n",
    "\n",
    "gpaAvg = sum(trainOut[ContiniousOutcome])/len((trainOut[ContiniousOutcome]))\n",
    "\n",
    "for n in list(range(0,len(trainOut[ContiniousOutcome]))):\n",
    "    if trainOut[ContiniousOutcome].iloc[n] < gpaAvg:\n",
    "        trainOut[ContiniousOutcome].iloc[n] = False\n",
    "    else:\n",
    "        trainOut[ContiniousOutcome].iloc[n] = True\n",
    "        \n",
    "print(trainOut[ContiniousOutcome])\n",
    "\n",
    "for m in list(range(0,len(testOut[ContiniousOutcome]))):\n",
    "    if testOut[ContiniousOutcome].iloc[m] < gpaAvg:\n",
    "        testOut[ContiniousOutcome].iloc[m] = False\n",
    "    else:\n",
    "        testOut[ContiniousOutcome].iloc[m] = True\n",
    "        \n",
    "print(testOut[ContiniousOutcome])\n"
   ]
  },
  {
   "cell_type": "raw",
   "metadata": {},
   "source": [
    "#doing elastic net with linear regression\n",
    "#adapted from precept5_regularization_and_crossvalidation_demo\n",
    "#elasticNetCV\n",
    "\n",
    "def elastic_netLinear(train_data, test_data, train_outcomes, test_outcomes, features, outcome , alpha, L1Ratio):\n",
    "    #Fit the model\n",
    "    #elasticNet = SGDRegressor(loss='squared_loss', penalty = 'elasticnet', alpha=alpha, l1_ratio = L1Ratio, max_iter=1e5,tol=1e-3)\n",
    "    elasticNet = ElasticNet(alpha=alpha,l1_ratio=L1Ratio,fit_intercept=True, normalize=False)\n",
    "    elasticNet.fit(train_data[features].values.reshape(-1,1),train_outcomes[outcome])\n",
    "    predicted = elasticNet.predict(test_data[features].values.reshape(-1,1))\n",
    "    \n",
    "    #Return the R^2\n",
    "    score = elasticNet.score(test_data[features].values.reshape(-1,1),test_outcomes[outcome])\n",
    "    print(score)\n",
    "    \n",
    "    #Print plot\n",
    "    #plt.figure()\n",
    "    #plt.scatter(test_data[features],predicted)\n",
    "    #plt.scatter(test_data[features],test_outcomes[outcome])\n",
    "    #plt.title(\"Predicted vs Real Values\")\n",
    "    #plt.xlabel(features)\n",
    "    #plt.ylabel(outcome)\n",
    "    #plt.legend([\"Predicted\",\"Real Values\"])\n",
    "    \n",
    "    \n",
    "    return score"
   ]
  },
  {
   "cell_type": "raw",
   "metadata": {},
   "source": [
    "#doing elastic net with logistic regression\n",
    "\n",
    "def elastic_netLogistic(train_data, test_data, train_outcomes, test_outcomes, features, outcome , alpha, L1Ratio):\n",
    "    #Fit the model\n",
    "    #elasticNetLog = SGDClassifier(loss = \"log\", penalty = 'elasticnet', alpha=alpha, l1_ratio = L1Ratio, max_iter=1e5,tol=1e-3)\n",
    "    elasticNetLog = LogisticRegression(penalty = \"l1\",solver='saga' )\n",
    "    elasticNetLog.fit(train_data[features].values.reshape(-1,1),train_outcomes[outcome].values.ravel())\n",
    "    predicted = elasticNetLog.predict(test_data[features].values.reshape(-1,1))\n",
    "    \n",
    "    #Return the R^2\n",
    "    score = elasticNetLog.score(test_data[features].values.reshape(-1,1),test_outcomes[outcome].values.ravel())\n",
    "    print(features,score)\n",
    "    \n",
    "    #Print plot\n",
    "    plt.figure()\n",
    "    plt.scatter(test_data[features],predicted)\n",
    "    plt.scatter(test_data[features],test_outcomes[outcome])\n",
    "    plt.title(\"Predicted vs Real Values\")\n",
    "    plt.xlabel(features)\n",
    "    plt.ylabel(outcome)\n",
    "    plt.legend([\"Predicted\",\"Real Values\"])\n",
    "    \n",
    "    return score"
   ]
  },
  {
   "cell_type": "code",
   "execution_count": 11,
   "metadata": {},
   "outputs": [],
   "source": [
    "## Defininng parameters to test and fit models\n",
    "\n",
    "#this is what the penalization terms are multiplied by in elastic net\n",
    "#alphas = [1e-3,1e-2, 1e-1, 1, 5, 10]\n",
    "alphas = [1e-1, 1, 5, 10]\n",
    "\n",
    "#this is the mixing parameter in elastic net (L1=0 is Ridge and L1 = 1 is all lasso) \n",
    "#L1 = [0,0.2,0.4,0.6,0.8,1]\n",
    "L1 = [0.15]\n",
    "\n",
    "#features we want to test\n",
    "features = list(test_data)\n",
    "features = features[1:] #removing the Challenge ID from collumns"
   ]
  },
  {
   "cell_type": "raw",
   "metadata": {},
   "source": [
    "alphas2=[0.1]\n",
    "L12 = [0.15]\n",
    "feature = features[0:10]\n",
    "#feature =['cm2mint']\n",
    "\n",
    "for n in list(range(0,len(alphas2))):\n",
    "    for m in list(range(0,len(L12))):\n",
    "        for f in list(range(0,len(feature))):\n",
    "            elastic_netLogistic(train_data,test_data,trainOut,testOut, feature[f] ,'jobTraining',alphas2[n],L12[m])\n",
    "            #elastic_netLinear(train_data,test_data,trainOut,testOut, feature[f] ,'grit',alphas2[n],L12[m])"
   ]
  },
  {
   "cell_type": "raw",
   "metadata": {
    "scrolled": false
   },
   "source": [
    "## Choosing best parametrs from cross validation\n",
    "#estimator = SGDRegressor(loss='squared_loss', penalty = 'elasticnet', max_iter=1e5,tol=1e-3)\n",
    "estimator = ElasticNet(fit_intercept=True, normalize=False,max_iter=1e4,tol=1e-1)\n",
    "parameters = {\"alpha\":alphas, \"l1_ratio\":L1}\n",
    "CV = GridSearchCV(estimator, parameters, cv=5, refit=True, scoring='r2')\n",
    "\n",
    "CV.fit(train_data[features].values,trainOut['grit'].values.ravel())\n",
    "print(CV.best_estimator_)\n",
    "print('score',CV.best_score_)\n",
    "print(CV.scorer_)\n",
    "\n",
    "bestLinear = CV.best_estimator_\n",
    "coefficients = bestLinear.fit(train_data[features].values, trainOut['grit'].values.ravel()).coef_\n",
    "predicted = bestLinear.predict(test_data[features].values)\n",
    "score = bestLinear.score(test_data[features].values,testOut[\"grit\"].values.ravel())\n",
    "print(\"r^2:\",score)\n",
    "\n",
    "#print\n",
    "plt.figure()\n",
    "plt.scatter(test_data[features].iloc[:,0],predicted)\n",
    "plt.scatter(test_data[features].iloc[:,0],testOut['grit'])\n",
    "plt.title(\"Fitted Model Real vs Predicted Values\")\n",
    "plt.xlabel(features[0])\n",
    "plt.ylabel('grit')\n",
    "plt.legend([\"Predicted\",\"Real Values\"])\n",
    "    \n",
    "goodLinearFeatures=[]\n",
    "goodLinearCoeff=[]\n",
    "    \n",
    "#printn coefficients/importances\n",
    "for i in range(len(features)):\n",
    "    #print(features[i],'coefficient:' \"\\t\", coefficients[i])\n",
    "    if abs(coefficients[i])>0:\n",
    "        goodLinearFeatures.append(features[i])\n",
    "        goodLinearCoeff.append(coefficients[i])\n",
    "\n"
   ]
  },
  {
   "cell_type": "raw",
   "metadata": {},
   "source": [
    "plt.figure()\n",
    "plt.plot(range(len(goodFeatures)), goodCoeff)\n",
    "plt.xticks(range(len(goodFeatures)), goodFeatures, rotation=60) \n",
    "\n",
    "print(goodCoeff)\n",
    "\n",
    "#for feat in goodFeatures:\n",
    "#    plt.figure()\n",
    "#    plt.scatter(test_data[feat],predicted)\n",
    "#    plt.scatter(test_data[feat],testOut['grit'])\n",
    "#    plt.title(\"Fitted Model Real vs Predicted Values\")\n",
    "#    plt.xlabel(feat)\n",
    "#    plt.ylabel('grit')\n",
    "#    plt.legend([\"Predicted\",\"Real Values\"])"
   ]
  },
  {
   "cell_type": "code",
   "execution_count": null,
   "metadata": {},
   "outputs": [],
   "source": [
    "## Choosing best parametrs from cross validation of Logistic Regression\n",
    "\n",
    "\n",
    "#c=[0.1,1,10,50]\n",
    "#c=[0.001,0.01,0.1]\n",
    "#estimatorLog = LogisticRegression(penalty = \"l1\",solver='saga',max_iter=1000)\n",
    "#parametersLog = {\"C\":c}\n",
    "#CV = GridSearchCV(estimatorLog, parametersLog, cv=5, refit=True, scoring='precision')\n",
    "#\n",
    "#CV.fit(train_data[features].values,trainOut['jobTraining'].values.ravel())\n",
    "#print(CV.best_estimator_)\n",
    "#print('score',CV.best_score_)\n",
    "#print(CV.scorer_)\n",
    "#\n",
    "#bestLog = CV.best_estimator_\n",
    "#LogCoefficients = bestLog.fit(train_data[features].values, trainOut['jobTraining'].values.ravel()).coef_\n",
    "#LogPredicted = bestLog.predict(test_data[features].values)\n",
    "#LogScore = bestLog.score(test_data[features].values,testOut['jobTraining'].values.ravel())\n",
    "#print('accuracy:',LogScore)\n",
    "#\n",
    "##print\n",
    "#plt.figure()\n",
    "#plt.scatter(test_data[features].iloc[:,0],LogPredicted)\n",
    "#plt.scatter(test_data[features].iloc[:,0],testOut['layoff'])\n",
    "#plt.title(\"Fitted Model Real vs Predicted Values\")\n",
    "#plt.xlabel(features[0])\n",
    "#plt.ylabel('layoff')\n",
    "#plt.legend([\"Predicted\",\"Real Values\"])"
   ]
  },
  {
   "cell_type": "raw",
   "metadata": {},
   "source": [
    "LogisticRegression(C=0.001, class_weight=None, dual=False, fit_intercept=True,\n",
    "          intercept_scaling=1, max_iter=1000, multi_class='warn',\n",
    "          n_jobs=None, penalty='l1', random_state=None, solver='saga',\n",
    "          tol=0.0001, verbose=0, warm_start=False)"
   ]
  },
  {
   "cell_type": "raw",
   "metadata": {},
   "source": [
    "#print coefficients/importances\n",
    "CVGoodFeatures=[]\n",
    "CVGoodCoeff=[]\n",
    "for i in range(len(features)):\n",
    "    if abs(CVCoefficients[0,i])>20.5e-6:\n",
    "        CVGoodFeatures.append(features[i])\n",
    "        CVGoodCoeff.append(LogCoefficients[0,i])\n",
    "        \n",
    "print(LogGoodFeatures)\n",
    "\n",
    "CVgoodFeatures = LogGoodFeatures"
   ]
  },
  {
   "cell_type": "code",
   "execution_count": 23,
   "metadata": {},
   "outputs": [
    {
     "name": "stdout",
     "output_type": "stream",
     "text": [
      "Accuracy: \n",
      " 0.7198007471980075\n",
      "\n",
      " classification report: \n",
      "               precision    recall  f1-score   support\n",
      "\n",
      "       False       0.72      0.99      0.84       580\n",
      "        True       0.38      0.01      0.03       223\n",
      "\n",
      "   micro avg       0.72      0.72      0.72       803\n",
      "   macro avg       0.55      0.50      0.43       803\n",
      "weighted avg       0.63      0.72      0.61       803\n",
      "\n",
      "ROC area under curve: 0.577671254059069\n",
      "Confusion Matrix: \n",
      " [[575   5]\n",
      " [220   3]] \n",
      "\n",
      "Precision Score: 0.27901744578905335 \n",
      "\n",
      "\n",
      "8\n",
      "223\n",
      "(803,)\n"
     ]
    }
   ],
   "source": [
    "#using Logistic Regression to Obtain the best 20 Parameters based on CV results\n",
    "outcome = \"jobTraining\"\n",
    "\n",
    "log = LogisticRegression(penalty = \"l1\",solver='liblinear',max_iter=1000,C=0.1)\n",
    "log.fit(train_data[features], trainOut[outcome])\n",
    "predictedLog = log.predict(test_data[features])\n",
    "probs = log.predict_proba(test_data[features])\n",
    "probs = probs[:, 1]\n",
    "scoreLog = log.score(test_data[features],testOut[outcome])\n",
    "print(\"Accuracy:\",\"\\n\",scoreLog)\n",
    "print(\"\\n classification report: \\n\",classification_report(testOut[outcome],predictedLog))\n",
    "print(\"ROC area under curve:\", roc_auc_score(testOut[outcome],probs))\n",
    "print(\"Confusion Matrix:\",\"\\n\",confusion_matrix(testOut[outcome],predictedLog),\"\\n\")\n",
    "print(\"Precision Score:\",average_precision_score(testOut[outcome],predictedLog),\"\\n\\n\")\n",
    "\n",
    "coeffLog = log.coef_\n",
    "\n",
    "print(np.sum(predictedLog))\n",
    "print(np.sum(testOut[outcome].values.ravel()))\n",
    "print(predictedLog.shape)"
   ]
  },
  {
   "cell_type": "code",
   "execution_count": 24,
   "metadata": {},
   "outputs": [
    {
     "name": "stdout",
     "output_type": "stream",
     "text": [
      "33\n"
     ]
    },
    {
     "data": {
      "image/png": "[encoded data removed]",
      "text/plain": [
       "<Figure size 432x288 with 1 Axes>"
      ]
     },
     "metadata": {
      "needs_background": "light"
     },
     "output_type": "display_data"
    }
   ],
   "source": [
    "LogGoodFeatures=[]\n",
    "LogGoodCoeff=[]\n",
    "\n",
    "for i in range(len(features)):\n",
    "    if abs(coeffLog[0,i])>0.0545: #this gives us the best 20 features\n",
    "        LogGoodFeatures.append(features[i])\n",
    "        LogGoodCoeff.append(coeffLog[0,i])\n",
    "        \n",
    "print(len(LogGoodFeatures))\n",
    "\n",
    "plt.figure()\n",
    "plt.plot(range(len(LogGoodFeatures)), LogGoodCoeff)\n",
    "plt.xticks(range(len(LogGoodFeatures)), LogGoodFeatures, rotation=90) \n",
    "plt.xlabel ('Features')\n",
    "plt.ylabel ('Coefficients')\n",
    "\n",
    "n=0\n",
    "#writing a text file with most representative words\n",
    "with open('bestFeaturesLogYesNoMH.txt', 'w') as f:\n",
    "    for item in LogGoodFeatures:\n",
    "        f.write(\"%s\\n\" % LogGoodFeatures[n])\n",
    "        n = n + 1"
   ]
  },
  {
   "cell_type": "code",
   "execution_count": 23,
   "metadata": {},
   "outputs": [
    {
     "name": "stdout",
     "output_type": "stream",
     "text": [
      "Accuracy: \n",
      " 0.7123287671232876\n",
      "\n",
      " classification report: \n",
      "               precision    recall  f1-score   support\n",
      "\n",
      "       False       0.72      0.98      0.83       580\n",
      "        True       0.30      0.03      0.05       223\n",
      "\n",
      "   micro avg       0.71      0.71      0.71       803\n",
      "   macro avg       0.51      0.50      0.44       803\n",
      "weighted avg       0.61      0.71      0.61       803\n",
      "\n",
      "ROC area under curve: 0.48314519870109784\n",
      "Confusion Matrix: \n",
      " [[566  14]\n",
      " [217   6]] \n",
      "\n",
      "Precision Score: 0.2783083615812899 \n",
      "\n",
      "\n"
     ]
    }
   ],
   "source": [
    "##predicting based on best 20 log features\n",
    "\n",
    "log = LogisticRegression(solver='liblinear',multi_class='ovr')\n",
    "log.fit(train_data[LogGoodFeatures], trainOut[outcome])\n",
    "predictedLog = log.predict(test_data[LogGoodFeatures])\n",
    "probs = log.predict_proba(test_data[LogGoodFeatures])\n",
    "probs = probs[:, 1]\n",
    "scoreLog = log.score(test_data[LogGoodFeatures],testOut[outcome])\n",
    "print(\"Accuracy:\",\"\\n\",scoreLog)\n",
    "print(\"\\n classification report: \\n\",classification_report(testOut[outcome],predictedLog))\n",
    "print(\"ROC area under curve:\", roc_auc_score(testOut[outcome],probs))\n",
    "print(\"Confusion Matrix:\",\"\\n\",confusion_matrix(testOut[outcome],predictedLog),\"\\n\")\n",
    "print(\"Precision Score:\",average_precision_score(testOut[outcome],predictedLog),\"\\n\\n\")\n"
   ]
  },
  {
   "cell_type": "code",
   "execution_count": null,
   "metadata": {},
   "outputs": [],
   "source": [
    "## Feature Selection based on Recursive Feature Elimination\n",
    "#numFeatures = 20 #number of words that we want to use\n",
    "#\n",
    "#rfe = RFE(LogisticRegression(solver='liblinear',multi_class='ovr'),numFeatures) \n",
    "#rfe = rfe.fit(train_data[features], trainOut['materialHardship'])\n",
    "#\n",
    "#bestFeatures = []\n",
    "#num = 0 \n",
    "#\n",
    "##choosing the best words from the rfe analysis and putting them into a dictinoary\n",
    "#for bool in rfe.support_:\n",
    "#\tif bool  == True:\n",
    "#\t\tbestFeatures.append(features[num]) \n",
    "#\tnum =num+1\n",
    "#\n",
    "#print(bestFeatures) \n",
    "#\n",
    "#n=0\n",
    "##writing a text file with most representative words\n",
    "#with open('bestFeaturesRFEYesNo.txt', 'w') as f:\n",
    "#    for item in bestFeatures:\n",
    "#        f.write(\"%s\\n\" % bestFeatures[n])\n",
    "#        n = n + 1"
   ]
  },
  {
   "cell_type": "code",
   "execution_count": 25,
   "metadata": {
    "scrolled": true
   },
   "outputs": [
    {
     "name": "stdout",
     "output_type": "stream",
     "text": [
      "Accuracy: \n",
      " 0.7073474470734745\n",
      "\n",
      " classification report: \n",
      "               precision    recall  f1-score   support\n",
      "\n",
      "       False       0.73      0.95      0.82       580\n",
      "        True       0.36      0.07      0.11       223\n",
      "\n",
      "   micro avg       0.71      0.71      0.71       803\n",
      "   macro avg       0.54      0.51      0.47       803\n",
      "weighted avg       0.62      0.71      0.63       803\n",
      "\n",
      "ROC area under curve: 0.5410700479356734\n",
      "Confusion Matrix: \n",
      " [[553  27]\n",
      " [208  15]] \n",
      "\n",
      "Precision Score: 0.28305170472994046 \n",
      "\n",
      "\n"
     ]
    },
    {
     "data": {
      "text/plain": [
       "([<matplotlib.axis.XTick at 0x1a17a27a20>,\n",
       "  <matplotlib.axis.XTick at 0x1a17a27358>,\n",
       "  <matplotlib.axis.XTick at 0x1a17a27208>,\n",
       "  <matplotlib.axis.XTick at 0x1a17a47b38>,\n",
       "  <matplotlib.axis.XTick at 0x1a17a4f0b8>,\n",
       "  <matplotlib.axis.XTick at 0x1a17a4f518>,\n",
       "  <matplotlib.axis.XTick at 0x1a17a4fa20>,\n",
       "  <matplotlib.axis.XTick at 0x1a17a4ff28>,\n",
       "  <matplotlib.axis.XTick at 0x1a17a4f978>,\n",
       "  <matplotlib.axis.XTick at 0x1a17a57320>,\n",
       "  <matplotlib.axis.XTick at 0x1a17a577f0>,\n",
       "  <matplotlib.axis.XTick at 0x1a17a57cf8>,\n",
       "  <matplotlib.axis.XTick at 0xd15798240>,\n",
       "  <matplotlib.axis.XTick at 0xd15798748>,\n",
       "  <matplotlib.axis.XTick at 0xd15798c50>,\n",
       "  <matplotlib.axis.XTick at 0xd157a0198>,\n",
       "  <matplotlib.axis.XTick at 0xd157a06a0>,\n",
       "  <matplotlib.axis.XTick at 0xd15798ac8>,\n",
       "  <matplotlib.axis.XTick at 0x1a17a573c8>,\n",
       "  <matplotlib.axis.XTick at 0xd157a0a58>],\n",
       " <a list of 20 Text xticklabel objects>)"
      ]
     },
     "execution_count": 25,
     "metadata": {},
     "output_type": "execute_result"
    },
    {
     "data": {
      "image/png": "[encoded data removed]",
      "text/plain": [
       "<Figure size 432x288 with 1 Axes>"
      ]
     },
     "metadata": {
      "needs_background": "light"
     },
     "output_type": "display_data"
    }
   ],
   "source": [
    "##calculating with best  20 RFE features\n",
    "\n",
    "outcome = 'jobTraining' #this is good\n",
    "\n",
    "bestFeaturesRFE = pd.read_csv('bestFeaturesRFEYesNo.txt', low_memory=False,header=None)\n",
    "bestFeaturesRFE = list(bestFeaturesRFE.iloc[:,0])\n",
    " \n",
    "log = LogisticRegression(solver='liblinear',multi_class='ovr')\n",
    "log.fit(train_data[bestFeaturesRFE], trainOut[outcome])\n",
    "predictedLog = log.predict(test_data[bestFeaturesRFE])\n",
    "probs = log.predict_proba(test_data[bestFeaturesRFE])\n",
    "probs = probs[:, 1]\n",
    "scoreLog = log.score(test_data[bestFeaturesRFE],testOut[outcome])\n",
    "coeffRFE = log.coef_\n",
    "print(\"Accuracy:\",\"\\n\",scoreLog)\n",
    "print(\"\\n classification report: \\n\",classification_report(testOut[outcome],predictedLog))\n",
    "print(\"ROC area under curve:\", roc_auc_score(testOut[outcome],probs))\n",
    "print(\"Confusion Matrix:\",\"\\n\",confusion_matrix(testOut[outcome],predictedLog),\"\\n\")\n",
    "print(\"Precision Score:\",average_precision_score(testOut[outcome],predictedLog),\"\\n\\n\")\n",
    "\n",
    "plt.figure()\n",
    "plt.plot(range(len(bestFeaturesRFE)), coeffRFE.T)\n",
    "plt.xticks(range(len(bestFeaturesRFE)), bestFeaturesRFE, rotation=90) "
   ]
  },
  {
   "cell_type": "code",
   "execution_count": 18,
   "metadata": {},
   "outputs": [
    {
     "ename": "NameError",
     "evalue": "name 'bestFeaturesRFE' is not defined",
     "output_type": "error",
     "traceback": [
      "\u001b[0;31m---------------------------------------------------------------------------\u001b[0m",
      "\u001b[0;31mNameError\u001b[0m                                 Traceback (most recent call last)",
      "\u001b[0;32m<ipython-input-18-4a6fc54f2734>\u001b[0m in \u001b[0;36m<module>\u001b[0;34m\u001b[0m\n\u001b[1;32m      5\u001b[0m \u001b[0;31m#print(len(IntersectionRFEandL1))\u001b[0m\u001b[0;34m\u001b[0m\u001b[0;34m\u001b[0m\u001b[0;34m\u001b[0m\u001b[0m\n\u001b[1;32m      6\u001b[0m \u001b[0;34m\u001b[0m\u001b[0m\n\u001b[0;32m----> 7\u001b[0;31m \u001b[0mbest40\u001b[0m \u001b[0;34m=\u001b[0m \u001b[0mLogGoodFeatures\u001b[0m \u001b[0;34m+\u001b[0m \u001b[0mbestFeaturesRFE\u001b[0m\u001b[0;34m\u001b[0m\u001b[0;34m\u001b[0m\u001b[0m\n\u001b[0m\u001b[1;32m      8\u001b[0m \u001b[0;34m\u001b[0m\u001b[0m\n\u001b[1;32m      9\u001b[0m \u001b[0mlog\u001b[0m \u001b[0;34m=\u001b[0m \u001b[0mLogisticRegression\u001b[0m\u001b[0;34m(\u001b[0m\u001b[0msolver\u001b[0m\u001b[0;34m=\u001b[0m\u001b[0;34m'liblinear'\u001b[0m\u001b[0;34m,\u001b[0m\u001b[0mmulti_class\u001b[0m\u001b[0;34m=\u001b[0m\u001b[0;34m'ovr'\u001b[0m\u001b[0;34m)\u001b[0m\u001b[0;34m\u001b[0m\u001b[0;34m\u001b[0m\u001b[0m\n",
      "\u001b[0;31mNameError\u001b[0m: name 'bestFeaturesRFE' is not defined"
     ]
    }
   ],
   "source": [
    "##Predicting using the best features from both:\n",
    "\n",
    "#test= LogGoodFeatures.intersection(bestFeatures)\n",
    "#IntersectionRFEandL1 = list(set(LogGoodFeatures) & set(bestFeatures)) \n",
    "#print(len(IntersectionRFEandL1))\n",
    "\n",
    "best40 = LogGoodFeatures + bestFeaturesRFE \n",
    "\n",
    "log = LogisticRegression(solver='liblinear',multi_class='ovr')\n",
    "log.fit(train_data[best40], trainOut[outcome])\n",
    "predictedLog = log.predict(test_data[best40])\n",
    "probs = log.predict_proba(test_data[best40])\n",
    "probs = probs[:, 1]\n",
    "scoreLog = log.score(test_data[best40],testOut[outcome])\n",
    "print(\"Accuracy:\",\"\\n\",scoreLog)\n",
    "print(\"\\n classification report: \\n\",classification_report(testOut[outcome],predictedLog))\n",
    "print(\"ROC area under curve:\", roc_auc_score(testOut[outcome],probs))\n",
    "print(\"Confusion Matrix:\",\"\\n\",confusion_matrix(testOut[outcome],predictedLog),\"\\n\")\n",
    "print(\"Precision Score:\",average_precision_score(testOut[outcome],predictedLog),\"\\n\\n\")\n"
   ]
  },
  {
   "cell_type": "raw",
   "metadata": {},
   "source": [
    "IntersectionRFEandL1 = list(set(LogGoodFeatures) & set(CVgoodFeatures)) \n",
    "print(IntersectionRFEandL1)"
   ]
  },
  {
   "cell_type": "code",
   "execution_count": 33,
   "metadata": {},
   "outputs": [
    {
     "name": "stderr",
     "output_type": "stream",
     "text": [
      "/anaconda3/lib/python3.6/site-packages/sklearn/ensemble/forest.py:246: FutureWarning: The default value of n_estimators will change from 10 in version 0.20 to 100 in 0.22.\n",
      "  \"10 in version 0.20 to 100 in 0.22.\", FutureWarning)\n"
     ]
    },
    {
     "name": "stdout",
     "output_type": "stream",
     "text": [
      "Accuracy: \n",
      " 0.6774595267745953\n",
      "\n",
      " classification report: \n",
      "               precision    recall  f1-score   support\n",
      "\n",
      "       False       0.70      0.93      0.80       561\n",
      "        True       0.37      0.10      0.15       242\n",
      "\n",
      "   micro avg       0.68      0.68      0.68       803\n",
      "   macro avg       0.53      0.51      0.48       803\n",
      "weighted avg       0.60      0.68      0.61       803\n",
      "\n",
      "Confusion Matrix: \n",
      " [[521  40]\n",
      " [219  23]] \n",
      "\n",
      "Precision Score: 0.3074248983339892 \n",
      "\n",
      "\n",
      "63\n",
      "242\n",
      "[0.         0.         0.         ... 0.         0.         0.00085032]\n"
     ]
    }
   ],
   "source": [
    "#using Logistic Regression to Obtain the best 20 Parameters based on CV results\n",
    "from sklearn.naive_bayes import MultinomialNB\n",
    "\n",
    "outcome = \"materialHardship\"\n",
    "#outcome = \"jobTraining\" #this is good \n",
    "#outcome = \"gpa\" #this is good \n",
    "\n",
    "#log = LogisticRegression(penalty = \"l1\",solver='liblinear',max_iter=1000,C=0.1) \n",
    "log = RandomForestClassifier(random_state=0)\n",
    "#log = MultinomialNB()\n",
    "log.fit(train_data[features], trainOut[outcome])\n",
    "predictedLog2 = log.predict(test_data[features])\n",
    "#probs2 = log.predict_proba(test_data[features])\n",
    "#probs2 = probs2[:, 1]\n",
    "scoreLog2 = log.score(test_data[features],testOut[outcome])\n",
    "print(\"Accuracy:\",\"\\n\",scoreLog2)\n",
    "print(\"\\n classification report: \\n\",classification_report(testOut[outcome],predictedLog2))\n",
    "#print(\"ROC area under curve:\", roc_auc_score(testOut[outcome],probs))\n",
    "print(\"Confusion Matrix:\",\"\\n\",confusion_matrix(testOut[outcome],predictedLog2),\"\\n\")\n",
    "print(\"Precision Score:\",average_precision_score(testOut[outcome],predictedLog2),\"\\n\\n\")\n",
    "\n",
    "importancesLog2 = log.feature_importances_\n",
    "\n",
    "print(np.sum(predictedLog2))\n",
    "print(np.sum(testOut[outcome].values.ravel()))\n",
    "print(importancesLog2)"
   ]
  },
  {
   "cell_type": "code",
   "execution_count": 40,
   "metadata": {},
   "outputs": [
    {
     "name": "stdout",
     "output_type": "stream",
     "text": [
      "20\n"
     ]
    },
    {
     "data": {
      "image/png": "[encoded data removed]",
      "text/plain": [
       "<Figure size 432x288 with 1 Axes>"
      ]
     },
     "metadata": {
      "needs_background": "light"
     },
     "output_type": "display_data"
    }
   ],
   "source": [
    "RF = []\n",
    "RFCoeff=[]\n",
    "\n",
    "for i in range(len(features)):\n",
    "    if abs(importancesLog2[i])>0.0029: #this gives us the best 20 features\n",
    "        RF.append(features[i])\n",
    "        RFCoeff.append(importancesLog2[i])\n",
    "        \n",
    "print(len(RF))\n",
    "\n",
    "plt.figure()\n",
    "plt.plot(range(len(RF)), RFCoeff)\n",
    "plt.xticks(range(len(RF)), RF, rotation=90) \n",
    "\n",
    "n=0\n",
    "#writing a text file with most representative words\n",
    "with open('bestFeaturesRFMaterialHardship.txt', 'w') as f:\n",
    "    for item in RF:\n",
    "        f.write(\"%s\\n\" % RF[n])\n",
    "        n = n + 1"
   ]
  },
  {
   "cell_type": "code",
   "execution_count": 29,
   "metadata": {},
   "outputs": [
    {
     "name": "stdout",
     "output_type": "stream",
     "text": [
      "['m2h14a1', 'm2l5a', 'm2l6b', 'm3i6b', 'm4c23', 'm4i8c2', 'm4j4b_1', 'm5g13', 'm5g28', 'p5h1ca', 'p5i18b']\n"
     ]
    }
   ],
   "source": [
    "print(RF)"
   ]
  },
  {
   "cell_type": "code",
   "execution_count": 41,
   "metadata": {},
   "outputs": [
    {
     "name": "stdout",
     "output_type": "stream",
     "text": [
      "Accuracy: \n",
      " 0.6899128268991283\n",
      "\n",
      " classification report: \n",
      "               precision    recall  f1-score   support\n",
      "\n",
      "       False       0.73      0.88      0.80       561\n",
      "        True       0.47      0.24      0.32       242\n",
      "\n",
      "   micro avg       0.69      0.69      0.69       803\n",
      "   macro avg       0.60      0.56      0.56       803\n",
      "weighted avg       0.65      0.69      0.66       803\n",
      "\n",
      "Confusion Matrix: \n",
      " [[495  66]\n",
      " [183  59]] \n",
      "\n",
      "Precision Score: 0.34296977244424315 \n",
      "\n",
      "\n"
     ]
    },
    {
     "name": "stderr",
     "output_type": "stream",
     "text": [
      "/anaconda3/lib/python3.6/site-packages/sklearn/ensemble/forest.py:246: FutureWarning: The default value of n_estimators will change from 10 in version 0.20 to 100 in 0.22.\n",
      "  \"10 in version 0.20 to 100 in 0.22.\", FutureWarning)\n"
     ]
    }
   ],
   "source": [
    "log = RandomForestClassifier(random_state=0)\n",
    "#log = MultinomialNB()\n",
    "log.fit(train_data[RF], trainOut[outcome])\n",
    "predictedLog2 = log.predict(test_data[RF])\n",
    "#probs2 = log.predict_proba(test_data[features])\n",
    "#probs2 = probs2[:, 1]\n",
    "scoreLog2 = log.score(test_data[RF],testOut[outcome])\n",
    "print(\"Accuracy:\",\"\\n\",scoreLog2)\n",
    "print(\"\\n classification report: \\n\",classification_report(testOut[outcome],predictedLog2))\n",
    "#print(\"ROC area under curve:\", roc_auc_score(testOut[outcome],probs))\n",
    "print(\"Confusion Matrix:\",\"\\n\",confusion_matrix(testOut[outcome],predictedLog2),\"\\n\")\n",
    "print(\"Precision Score:\",average_precision_score(testOut[outcome],predictedLog2),\"\\n\\n\")"
   ]
  },
  {
   "cell_type": "raw",
   "metadata": {},
   "source": [
    "sfm = SelectFromModel(LogisticRegression(solver='lbfgs',multi_class='ovr'), threshold=-np.inf,max_features=20)\n",
    "sfm.fit(train_data[features], trainOut['jobTraining'])\n",
    "L1bestFeatures = sfm.transform(train_data[features])\n",
    "\n",
    "#print(features)\n",
    "print(L1bestFeatures.shape[0])"
   ]
  },
  {
   "cell_type": "raw",
   "metadata": {},
   "source": [
    "## Choosing best parametrs from cross validation with random forests\n",
    "\n",
    "estimatorf = RandomForestRegressor(random_state=0)\n",
    "parametersf = {\"n_estimators\":[10, 25, 50, 100], \n",
    "              \"max_depth\":list(range(1, 5)), \n",
    "              \"max_features\":['auto', 'sqrt', 'log2']}\n",
    "\n",
    "CV = GridSearchCV(estimatorLog, parametersLog, cv=5, refit=True, scoring='r2')\n",
    "CV.fit(train_data[features],trainOut['layoff'])\n",
    "print(CV.best_estimator_)\n",
    "print('score',CV.best_score_)\n",
    "print(CV.scorer_)\n",
    "\n",
    "bestf = CV.best_estimator_\n",
    "fCoefficients = bestLog.fit(train_data[features], trainOut['layoff']).feature_importances_\n",
    "fPredicted = bestLog.predict(test_data[features])\n",
    "fScore = bestLog.score(test_data[features],testOut[\"layoff\"])\n",
    "print('accuracy:',score)\n",
    "\n",
    "#print\n",
    "plt.figure()\n",
    "plt.scatter(test_data[features].iloc[:,0],LogPredicted)\n",
    "plt.scatter(test_data[features].iloc[:,0],testOut['layoff'])\n",
    "plt.title(\"Fitted Model Real vs Predicted Values\")\n",
    "plt.xlabel(features[0])\n",
    "plt.ylabel('layoff')\n",
    "plt.legend([\"Predicted\",\"Real Values\"])\n",
    "\n",
    "fGoodFeatures=[]\n",
    "\n",
    "#print coefficients/importances\n",
    "for i in range(len(features)):\n",
    "    print(features[i],'coefficient:' \"\\t\", fCoefficients[i])\n",
    "    if fCoefficients[i]>0:\n",
    "        fGoodFeatures.append(features[i])\n",
    "\n",
    "print(fGoodFeatures)"
   ]
  },
  {
   "cell_type": "code",
   "execution_count": 102,
   "metadata": {},
   "outputs": [
    {
     "data": {
      "text/plain": [
       "<matplotlib.collections.PathCollection at 0x1a1db4b5c0>"
      ]
     },
     "execution_count": 102,
     "metadata": {},
     "output_type": "execute_result"
    },
    {
     "data": {
      "image/png": "[encoded data removed]",
      "text/plain": [
       "<Figure size 432x288 with 1 Axes>"
      ]
     },
     "metadata": {
      "needs_background": "light"
     },
     "output_type": "display_data"
    }
   ],
   "source": [
    "plt.scatter(train_data[features].iloc[:,1], trainOut['jobTraining'])\n",
    "plt.scatter(test_data[features].iloc[:,1], predictedLog)"
   ]
  },
  {
   "cell_type": "code",
   "execution_count": null,
   "metadata": {},
   "outputs": [],
   "source": []
  },
  {
   "cell_type": "code",
   "execution_count": null,
   "metadata": {},
   "outputs": [],
   "source": []
  }
 ],
 "metadata": {
  "kernelspec": {
   "display_name": "Python 3",
   "language": "python",
   "name": "python3"
  },
  "language_info": {
   "codemirror_mode": {
    "name": "ipython",
    "version": 3
   },
   "file_extension": ".py",
   "mimetype": "text/x-python",
   "name": "python",
   "nbconvert_exporter": "python",
   "pygments_lexer": "ipython3",
   "version": "3.6.8"
  }
 },
 "nbformat": 4,
 "nbformat_minor": 2
}
