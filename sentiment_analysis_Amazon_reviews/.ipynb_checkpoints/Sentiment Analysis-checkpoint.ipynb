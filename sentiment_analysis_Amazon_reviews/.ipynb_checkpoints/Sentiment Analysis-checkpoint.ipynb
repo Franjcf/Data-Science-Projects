{
 "cells": [
  {
   "cell_type": "markdown",
   "metadata": {},
   "source": [
    "# Sentiment Analysis of Amazon Reviews"
   ]
  },
  {
   "cell_type": "markdown",
   "metadata": {},
   "source": [
    "## Notes on the data\n",
    "\n",
    "The data used in this study consists of 3000 customer reviews labeled into two classes: where label ”1” refers to a positive review and label ”0” refers to a negative review. For the purposes of this study, the data set was separated into a training set of 2400 samples and a testing set of 600 samples. Furthermore, the following sets where extracted from each subset: 1) A matrix containing the number of times any given word was present in each review, with the exception of any word that did not appear a minimum of 5 times in the whole set and stop words (i.e. a bag of words representation), 2) A vector with the aforementioned vocabulary, 3) A vector containing the length of each review, and 4) a vector containing the binary labels of the reviews."
   ]
  },
  {
   "cell_type": "markdown",
   "metadata": {},
   "source": [
    "## Other Notes"
   ]
  },
  {
   "cell_type": "markdown",
   "metadata": {},
   "source": [
    "The attached \"DataAnalysisScript.py\" script should be run within the same directory as the \"Words\" directory. This directory contains the vocabulary and bag of words representations obtained from labeled amazon reviews (test.txt and train.txt) using the accompaning \"prepossessingSentences.py\" script. There is no need to said code here since I have already generated all the neccesary vocabulary files."
   ]
  },
  {
   "cell_type": "markdown",
   "metadata": {},
   "source": [
    "## Loading Main libraries"
   ]
  },
  {
   "cell_type": "code",
   "execution_count": 32,
   "metadata": {},
   "outputs": [],
   "source": [
    "# Loading libraries\n",
    "import warnings #prevent \"future warning\" errors\n",
    "warnings.simplefilter(action='ignore', category=FutureWarning)\n",
    "import pandas\n",
    "from pandas.plotting import scatter_matrix\n",
    "import numpy as np\n",
    "import matplotlib.pyplot as plt\n",
    "from sklearn import model_selection\n",
    "from sklearn.metrics import classification_report\n",
    "from sklearn.metrics import confusion_matrix\n",
    "from sklearn.metrics import accuracy_score\n",
    "from sklearn.metrics import roc_curve, auc, roc_auc_score,average_precision_score\n",
    "from sklearn.linear_model import LogisticRegression\n",
    "from sklearn.tree import DecisionTreeClassifier\n",
    "from sklearn.neighbors import KNeighborsClassifier\n",
    "from sklearn.naive_bayes import MultinomialNB\n",
    "from sklearn.svm import SVC\n",
    "from sklearn.svm import LinearSVC"
   ]
  },
  {
   "cell_type": "markdown",
   "metadata": {},
   "source": [
    "# Data Proccesing "
   ]
  },
  {
   "cell_type": "markdown",
   "metadata": {},
   "source": [
    "## Loading preproccesed data sets"
   ]
  },
  {
   "cell_type": "code",
   "execution_count": 30,
   "metadata": {},
   "outputs": [],
   "source": [
    "#Loading Training Bag of Words representation\n",
    "bofTrain = pandas.read_csv(\"Words/train_bag_of_words.csv\",header = None) \n",
    "\n",
    "#Loading training labels \n",
    "labelsTrain = pandas.read_csv(\"Words/train_classes.txt\",header = None)\n",
    "\n",
    "#Loading validation Bag of Words representation\n",
    "bofVal = pandas.read_csv(\"Words/test_bag_of_words.csv\",header = None)\n",
    "\n",
    "#Loading validation labels \n",
    "labelsVal = pandas.read_csv(\"Words/test_classes.txt\",header = None)  \n",
    "\n",
    "#loading relational table containing the actual words pertaining to the numbered columns in the previous tables. \n",
    "vocab =  pandas.read_csv(\"Words/vocab.txt\",header = None)\n",
    "vocabArray = vocab.values\n",
    "\n",
    "#converting into matrices with the correct values\n",
    "X = bofTrain.values #train data\n",
    "Y = labelsTrain.values #train target\n",
    "XVal = bofVal.values #Validation data\n",
    "YVal = labelsVal.values #Validation target\n"
   ]
  },
  {
   "cell_type": "markdown",
   "metadata": {},
   "source": [
    "## Separating data into pre-validation samples."
   ]
  },
  {
   "cell_type": "code",
   "execution_count": 21,
   "metadata": {},
   "outputs": [],
   "source": [
    "#Separating the training data into pre-validation sets in order\n",
    "#to compare several models and to choose the best model later\n",
    "\n",
    "test_size = 0.20\n",
    "seed = 7\n",
    "X_train, X_test, Y_train, Y_test = model_selection.train_test_split(X, Y.ravel(), test_size=test_size, random_state=seed)"
   ]
  },
  {
   "cell_type": "markdown",
   "metadata": {},
   "source": [
    "# Model Evaluation"
   ]
  },
  {
   "cell_type": "markdown",
   "metadata": {},
   "source": [
    "## Setting up and choosing the models to compare\n"
   ]
  },
  {
   "cell_type": "code",
   "execution_count": 22,
   "metadata": {},
   "outputs": [],
   "source": [
    "#setting up and choosing the models to compare\n",
    "models = []\n",
    "models.append(('KNN', KNeighborsClassifier(10)))\n",
    "models.append(('NBC', MultinomialNB()))\n",
    "models.append(('LogReg',LogisticRegression(solver='lbfgs',multi_class='ovr')))\n",
    "models.append(('Tree', DecisionTreeClassifier()))\n",
    "models.append(('LSVC', SVC(kernel='linear',probability=True)))"
   ]
  },
  {
   "cell_type": "markdown",
   "metadata": {},
   "source": [
    "## Evaluating the models on training/testing data\n"
   ]
  },
  {
   "cell_type": "code",
   "execution_count": 23,
   "metadata": {},
   "outputs": [
    {
     "name": "stdout",
     "output_type": "stream",
     "text": [
      "\n",
      "Accuracy when compared to separated data within the trianing data set:\n",
      "\n",
      "KNN: 0.6375\n",
      "NBC: 0.7651041666666666\n",
      "LogReg: 0.7817708333333334\n",
      "Tree: 0.6885416666666667\n",
      "LSVC: 0.7666666666666667\n"
     ]
    }
   ],
   "source": [
    "#evaluating the models on the previously separated training data\n",
    "resultTrain = []\n",
    "ModelTypesTrain = []\n",
    "scoringTrain = 'accuracy'\n",
    "\n",
    "print('')\n",
    "print('Accuracy when compared to separated data within the trianing data set:\\n')\n",
    "\n",
    "for ModelType, model in models:\n",
    "    kfold = model_selection.KFold(n_splits = 5)\n",
    "    Xvalidation_results = model_selection.cross_val_score(model, X_train, Y_train, cv = kfold, scoring = scoringTrain)\n",
    "    resultTrain.append(Xvalidation_results)\n",
    "    ModelTypesTrain.append(ModelType)\n",
    "    print (ModelType+\":\",Xvalidation_results.mean())\n"
   ]
  },
  {
   "cell_type": "markdown",
   "metadata": {},
   "source": [
    "## Evaluation models on training/validation data"
   ]
  },
  {
   "cell_type": "code",
   "execution_count": 25,
   "metadata": {
    "scrolled": false
   },
   "outputs": [
    {
     "name": "stdout",
     "output_type": "stream",
     "text": [
      "\n",
      "Metrics when compared to validation data: \n",
      "\n",
      "KNN \n",
      "accuracy: 0.6416666666666667\n",
      "Confusion Matrix: \n",
      " [[254  46]\n",
      " [169 131]] \n",
      "\n",
      "ROC area under curve: 0.7363055555555554\n",
      "Average Precision Score: 0.60484934086629 \n",
      "\n",
      "\n",
      "NBC \n",
      "accuracy: 0.77\n",
      "Confusion Matrix: \n",
      " [[237  63]\n",
      " [ 75 225]] \n",
      "\n",
      "ROC area under curve: 0.861588888888889\n",
      "Average Precision Score: 0.7109375 \n",
      "\n",
      "\n",
      "LogReg \n",
      "accuracy: 0.8016666666666666\n",
      "Confusion Matrix: \n",
      " [[262  38]\n",
      " [ 81 219]] \n",
      "\n",
      "ROC area under curve: 0.8771833333333334\n",
      "Average Precision Score: 0.7570622568093385 \n",
      "\n",
      "\n",
      "Tree \n",
      "accuracy: 0.725\n",
      "Confusion Matrix: \n",
      " [[221  79]\n",
      " [ 86 214]] \n",
      "\n",
      "ROC area under curve: 0.75495\n",
      "Average Precision Score: 0.6643344709897611 \n",
      "\n",
      "\n",
      "LSVC \n",
      "accuracy: 0.7833333333333333\n",
      "Confusion Matrix: \n",
      " [[254  46]\n",
      " [ 84 216]] \n",
      "\n",
      "ROC area under curve: 0.8613277777777778\n",
      "Average Precision Score: 0.733587786259542 \n",
      "\n",
      "\n"
     ]
    },
    {
     "data": {
      "text/plain": [
       "[<matplotlib.lines.Line2D at 0x105b961f0>]"
      ]
     },
     "execution_count": 25,
     "metadata": {},
     "output_type": "execute_result"
    },
    {
     "data": {
      "image/png": "[encoded data removed]",
      "text/plain": [
       "<Figure size 432x288 with 1 Axes>"
      ]
     },
     "metadata": {
      "needs_background": "light"
     },
     "output_type": "display_data"
    }
   ],
   "source": [
    "#Using models to make predictions and compare to the validation data set\n",
    "\n",
    "resultsReal = []\n",
    "ModelTypesReal = []\n",
    "yscore =[]\n",
    "print('')\n",
    "print('Metrics when compared to validation data: \\n')\n",
    "\n",
    "for ModelType, model in models:\n",
    "    model.fit(X,Y.ravel())\n",
    "    result = model.predict(XVal)\n",
    "    probs = model.predict_proba(XVal)\n",
    "    probs = probs[:, 1]\n",
    "    resultsReal.append(result)\n",
    "    ModelTypesReal.append(ModelType)\n",
    "    print (ModelType,\"\\naccuracy:\", accuracy_score(YVal.ravel(),result))\n",
    "    print(\"Confusion Matrix:\",\"\\n\",confusion_matrix(YVal.ravel(),result),\"\\n\")\n",
    "    print(\"ROC area under curve:\", roc_auc_score(YVal.ravel(),probs))\n",
    "    print(\"Average Precision Score:\",average_precision_score(YVal.ravel(),result),\"\\n\\n\")\n",
    "    fpr, tpr, thresholds = roc_curve(YVal.ravel(), probs)\n",
    "    plt.plot(fpr, tpr, marker='.')\n",
    "    \n",
    "plt.title(\"ROC Curves for Differet Classifiers\")\n",
    "plt.xlabel(\"False Positive Rate\")\n",
    "plt.ylabel(\"True Positive Rate\")\n",
    "plt.legend([\"KNN\",\"Naive Bayes\",\"Logistic Regression\",\"Decision Tree\",\"Linear SVM\"])\n",
    "plt.plot([0, 1], [0, 1], linestyle='--')\n"
   ]
  },
  {
   "cell_type": "markdown",
   "metadata": {},
   "source": [
    "# Feature Selection"
   ]
  },
  {
   "cell_type": "markdown",
   "metadata": {},
   "source": [
    "## Defining Recursive feature elimination function"
   ]
  },
  {
   "cell_type": "code",
   "execution_count": 70,
   "metadata": {},
   "outputs": [],
   "source": [
    "#choosing most representative words using recursive feature elimination (RFE)\n",
    "\n",
    "from sklearn import datasets\n",
    "from sklearn.feature_selection import RFE\n",
    "\n",
    "def RFE_Function(num_features,models):\n",
    "\n",
    "    for ModelName, model in models:\n",
    "    \n",
    "        rfe = RFE(model,num_features)\n",
    "        rfe = rfe.fit(X,Y.ravel())\n",
    "\n",
    "        bestVocab = []\n",
    "        num = 0 \n",
    "\n",
    "        #choosing the best words from the rfe analysis and putting them into a dictinoary\n",
    "        for bool in rfe.support_:\n",
    "            if bool  == True:\n",
    "                bestVocab.append(vocab.iloc[num,0]) \n",
    "            num =num+1\n",
    "\n",
    "        print(\"Top \"+str(num_features)+\" features for \"+ ModelName +\":\\n\\n\", bestVocab, \"\\n\")\n",
    "    \n",
    "        n=0\n",
    "        \n",
    "        #writing a text file with most representative words\n",
    "        with open(ModelName + '_best_'+str(num_features)+'_vocab.txt', 'w') as f:\n",
    "            for item in bestVocab:\n",
    "                f.write(\"%s\\n\" % bestVocab[n])\n",
    "                n = n + 1\n",
    "        n=0\n"
   ]
  },
  {
   "cell_type": "markdown",
   "metadata": {},
   "source": [
    "## Obtaining top \"N\" features features"
   ]
  },
  {
   "cell_type": "code",
   "execution_count": 71,
   "metadata": {},
   "outputs": [
    {
     "name": "stdout",
     "output_type": "stream",
     "text": [
      "Top 20 features for NBC:\n",
      "\n",
      " ['hate', 'horribl', 'idea', 'junk', 'mediocr', 'mistak', 'pay', 'poor', 'poorli', 'ridicul', 'rude', 'sick', 'slow', 'start', 'stupid', 'suck', 'unit', 'unless', 'whatsoev', 'zero'] \n",
      "\n",
      "Top 20 features for LogReg:\n",
      "\n",
      " ['amaz', 'aw', 'awesom', 'bad', 'beauti', 'delici', 'excel', 'fantast', 'great', 'horribl', 'love', 'nice', 'perfect', 'poor', 'slow', 'suck', 'terribl', 'wast', 'wonder', 'worst'] \n",
      "\n",
      "Top 20 features for Tree:\n",
      "\n",
      " ['amaz', 'awesom', 'bad', 'beauti', 'best', 'delici', 'excel', 'fantast', 'fine', 'good', 'great', 'happi', 'highli', 'love', 'nice', 'poor', 'well', 'wonder', 'worst', 'would'] \n",
      "\n"
     ]
    }
   ],
   "source": [
    "#choosing best models\n",
    "models_rfe = []\n",
    "models_rfe.append(('NBC', MultinomialNB()))\n",
    "models_rfe.append(('LogReg',LogisticRegression(solver='lbfgs',multi_class='ovr')))\n",
    "models_rfe.append(('Tree', DecisionTreeClassifier()))\n",
    "\n",
    "#how many top features do we want?\n",
    "N=20\n",
    "\n",
    "#running rfe\n",
    "RFE_Function(N,models_rfe)"
   ]
  },
  {
   "cell_type": "markdown",
   "metadata": {},
   "source": [
    "# How does training on only the top \"N\" features affect accuracy? "
   ]
  },
  {
   "cell_type": "code",
   "execution_count": 74,
   "metadata": {},
   "outputs": [
    {
     "name": "stdout",
     "output_type": "stream",
     "text": [
      "Best20 0.48833333333333334\n",
      "Best50 0.4633333333333333\n",
      "Best100 0.475\n",
      "Best200 0.505\n",
      "Best300 0.5483333333333333\n",
      "Best400 0.61\n"
     ]
    }
   ],
   "source": [
    "#Running fit based on 20 best words with Naive Bayes Classifier (NBC)\n",
    "#Here we load previously-created files made with the preprocesing script using only the top N features.\n",
    "#Future work: shorten this with a simple function\n",
    "\n",
    "model = MultinomialNB()\n",
    "NBCFeatureAccuracy = []\n",
    "NBCFeaturePrecision = []\n",
    "NBCFeatureAUC=[]\n",
    "FeatureNumber =[20,50,100,200,300,400,541]\n",
    "\n",
    "bof20Best = pandas.read_csv(\"Words/20Best_bag_of_words_0.csv\",header = None)\n",
    "bof20BestTest = pandas.read_csv(\"Words/20BestTest_bag_of_words_0.csv\",header = None)\n",
    "X20Best = bof20Best.values\n",
    "X20BestTest = bof20BestTest.values\n",
    "\n",
    "model.fit(X20Best,Y.ravel())\n",
    "Best20Result = model.predict(X20BestTest) \n",
    "print (\"Best20\", accuracy_score(Ytest.ravel(),Best20Result))\n",
    "NBCFeatureAccuracy.append(accuracy_score(Ytest.ravel(),Best20Result))\n",
    "NBCFeaturePrecision.append(average_precision_score(Ytest.ravel(),Best20Result))\n",
    "probs = model.predict_proba(X20BestTest)\n",
    "NBCFeatureAUC.append(roc_auc_score(Ytest.ravel(),probs[:,1]))\n",
    "\n",
    "#Running fit based on 50 best words with Naive Bayes\n",
    "\n",
    "bof50Best = pandas.read_csv(\"Words/50Best_bag_of_words_0.csv\",header = None)\n",
    "bof50BestTest = pandas.read_csv(\"Words/50BestTest_bag_of_words_0.csv\",header = None)\n",
    "X50Best = bof50Best.values\n",
    "X50BestTest = bof50BestTest.values\n",
    "\n",
    "model.fit(X50Best,Y.ravel())\n",
    "Best50Result = model.predict(X50BestTest)\n",
    "print (\"Best50\", accuracy_score(Ytest.ravel(),Best50Result))\n",
    "NBCFeatureAccuracy.append(accuracy_score(Ytest.ravel(),Best50Result))\n",
    "NBCFeaturePrecision.append(average_precision_score(Ytest.ravel(),Best50Result))\n",
    "probs = model.predict_proba(X50BestTest)\n",
    "NBCFeatureAUC.append(roc_auc_score(Ytest.ravel(),probs[:,1]))\n",
    "\n",
    "#Running fit based on 100 best words with Naive Bayes\n",
    "\n",
    "bof100Best = pandas.read_csv(\"Words/100Best_bag_of_words_0.csv\",header = None)\n",
    "bof100BestTest = pandas.read_csv(\"Words/100BestTest_bag_of_words_0.csv\",header = None)\n",
    "X100Best = bof100Best.values\n",
    "X100BestTest = bof100BestTest.values\n",
    "\n",
    "model.fit(X100Best,Y.ravel())\n",
    "Best100Result = model.predict(X100BestTest)\n",
    "print (\"Best100\", accuracy_score(Ytest.ravel(),Best100Result))\n",
    "NBCFeatureAccuracy.append(accuracy_score(Ytest.ravel(),Best100Result))\n",
    "NBCFeaturePrecision.append(average_precision_score(Ytest.ravel(),Best100Result))\n",
    "probs = model.predict_proba(X100BestTest)\n",
    "NBCFeatureAUC.append(roc_auc_score(Ytest.ravel(),probs[:,1]))\n",
    "\n",
    "#Running fit based on 200 best words with Naive Bayes\n",
    "\n",
    "bof200Best = pandas.read_csv(\"Words/200Best_bag_of_words_0.csv\",header = None)\n",
    "bof200BestTest = pandas.read_csv(\"Words/200BestTest_bag_of_words_0.csv\",header = None)\n",
    "X200Best = bof200Best.values\n",
    "X200BestTest = bof200BestTest.values\n",
    "\n",
    "model.fit(X200Best,Y.ravel())\n",
    "Best200Result = model.predict(X200BestTest)\n",
    "print (\"Best200\", accuracy_score(Ytest.ravel(),Best200Result))\n",
    "NBCFeatureAccuracy.append(accuracy_score(Ytest.ravel(),Best200Result))\n",
    "NBCFeaturePrecision.append(average_precision_score(Ytest.ravel(),Best200Result))\n",
    "probs = model.predict_proba(X200BestTest)\n",
    "NBCFeatureAUC.append(roc_auc_score(Ytest.ravel(),probs[:,1]))\n",
    "\n",
    "\n",
    "#Running fit based on 300 best words with Naive Bayes\n",
    "\n",
    "bof300Best = pandas.read_csv(\"Words/300Best_bag_of_words_0.csv\",header = None)\n",
    "bof300BestTest = pandas.read_csv(\"Words/300BestTest_bag_of_words_0.csv\",header = None)\n",
    "X300Best = bof300Best.values\n",
    "X300BestTest = bof300BestTest.values\n",
    "\n",
    "model.fit(X300Best,Y.ravel())\n",
    "Best300Result = model.predict(X300BestTest)\n",
    "print (\"Best300\", accuracy_score(Ytest.ravel(),Best300Result))\n",
    "NBCFeatureAccuracy.append(accuracy_score(Ytest.ravel(),Best300Result))\n",
    "NBCFeaturePrecision.append(average_precision_score(Ytest.ravel(),Best300Result))\n",
    "probs = model.predict_proba(X300BestTest)\n",
    "NBCFeatureAUC.append(roc_auc_score(Ytest.ravel(),probs[:,1]))\n",
    "\n",
    "#Running fit based on 400 best words with Naive Bayes\n",
    "\n",
    "bof400Best = pandas.read_csv(\"Words/400Best_bag_of_words_0.csv\",header = None)\n",
    "bof400BestTest = pandas.read_csv(\"Words/400BestTest_bag_of_words_0.csv\",header = None)\n",
    "X400Best = bof400Best.values\n",
    "X400BestTest = bof400BestTest.values\n",
    "\n",
    "model.fit(X400Best,Y.ravel())\n",
    "Best400Result = model.predict(X400BestTest)\n",
    "print (\"Best400\", accuracy_score(Ytest.ravel(),Best400Result))\n",
    "NBCFeatureAccuracy.append(accuracy_score(Ytest.ravel(),Best400Result))\n",
    "NBCFeatureAccuracy.append(0.77) #for full vocabulary\n",
    "NBCFeaturePrecision.append(average_precision_score(Ytest.ravel(),Best400Result))\n",
    "NBCFeaturePrecision.append(0.71) #for full vocabulary\n",
    "probs = model.predict_proba(X400BestTest)\n",
    "NBCFeatureAUC.append(roc_auc_score(Ytest.ravel(),probs[:,1]))\n",
    "NBCFeatureAUC.append(0.86) #for full vocabulary"
   ]
  },
  {
   "cell_type": "code",
   "execution_count": 75,
   "metadata": {},
   "outputs": [
    {
     "name": "stdout",
     "output_type": "stream",
     "text": [
      "Best20LogReg 0.6616666666666666\n",
      "Best50LogReg 0.75\n",
      "Best100LogReg 0.78\n",
      "Best200LogReg 0.8166666666666667\n",
      "Best300LogReg 0.8183333333333334\n",
      "Best400LogReg 0.8083333333333333\n"
     ]
    }
   ],
   "source": [
    "#Running fit based on 20 best words with log regression\n",
    "LogRegFeatureAccuracy = []\n",
    "LogRegFeaturePrecision = []\n",
    "LogRegFeatureAUC = []\n",
    "\n",
    "model = LogisticRegression(solver='lbfgs',multi_class='ovr')\n",
    "\n",
    "bof20Best = pandas.read_csv(\"Words/20BestLogReg_bag_of_words_0.csv\",header = None)\n",
    "bof20BestTest = pandas.read_csv(\"Words/20BestLogRegTest_bag_of_words_0.csv\",header = None)\n",
    "X20Best = bof20Best.values\n",
    "X20BestTest = bof20BestTest.values\n",
    "\n",
    "model.fit(X20Best,Y.ravel())\n",
    "Best20Result = model.predict(X20BestTest) \n",
    "print (\"Best20LogReg\", accuracy_score(Ytest.ravel(),Best20Result))\n",
    "LogRegFeatureAccuracy.append(accuracy_score(Ytest.ravel(),Best20Result))\n",
    "LogRegFeaturePrecision.append(average_precision_score(Ytest.ravel(),Best20Result))\n",
    "probs = model.predict_proba(X20BestTest)\n",
    "LogRegFeatureAUC.append(roc_auc_score(Ytest.ravel(),probs[:,1]))\n",
    "\n",
    "#Running fit based on 50 best words with log regression\n",
    "\n",
    "bof50Best = pandas.read_csv(\"Words/50BestLogReg_bag_of_words_0.csv\",header = None)\n",
    "bof50BestTest = pandas.read_csv(\"Words/50BestLogRegTest_bag_of_words_0.csv\",header = None)\n",
    "X50Best = bof50Best.values\n",
    "X50BestTest = bof50BestTest.values\n",
    "\n",
    "model.fit(X50Best,Y.ravel())\n",
    "Best50Result = model.predict(X50BestTest)\n",
    "print (\"Best50LogReg\", accuracy_score(Ytest.ravel(),Best50Result))\n",
    "LogRegFeatureAccuracy.append(accuracy_score(Ytest.ravel(),Best50Result))\n",
    "LogRegFeaturePrecision.append(average_precision_score(Ytest.ravel(),Best50Result))\n",
    "probs = model.predict_proba(X50BestTest)\n",
    "LogRegFeatureAUC.append(roc_auc_score(Ytest.ravel(),probs[:,1]))\n",
    "\n",
    "#Running fit based on 100 best words with log regression\n",
    "\n",
    "bof100Best = pandas.read_csv(\"Words/100BestLogReg_bag_of_words_0.csv\",header = None)\n",
    "bof100BestTest = pandas.read_csv(\"Words/100BestLogRegTest_bag_of_words_0.csv\",header = None)\n",
    "X100Best = bof100Best.values\n",
    "X100BestTest = bof100BestTest.values\n",
    "\n",
    "model.fit(X100Best,Y.ravel())\n",
    "Best100Result = model.predict(X100BestTest)\n",
    "print (\"Best100LogReg\", accuracy_score(Ytest.ravel(),Best100Result))\n",
    "LogRegFeatureAccuracy.append(accuracy_score(Ytest.ravel(),Best100Result))\n",
    "LogRegFeaturePrecision.append(average_precision_score(Ytest.ravel(),Best100Result))\n",
    "probs = model.predict_proba(X100BestTest)\n",
    "LogRegFeatureAUC.append(roc_auc_score(Ytest.ravel(),probs[:,1]))\n",
    "\n",
    "#Running fit based on 200 best words with log regression\n",
    "\n",
    "bof200Best = pandas.read_csv(\"Words/200BestLogReg_bag_of_words_0.csv\",header = None)\n",
    "bof200BestTest = pandas.read_csv(\"Words/200BestLogRegTest_bag_of_words_0.csv\",header = None)\n",
    "X200Best = bof200Best.values\n",
    "X200BestTest = bof200BestTest.values\n",
    "\n",
    "model.fit(X200Best,Y.ravel())\n",
    "Best200Result = model.predict(X200BestTest)\n",
    "print (\"Best200LogReg\", accuracy_score(Ytest.ravel(),Best200Result))\n",
    "LogRegFeatureAccuracy.append(accuracy_score(Ytest.ravel(),Best200Result))\n",
    "LogRegFeaturePrecision.append(average_precision_score(Ytest.ravel(),Best200Result))\n",
    "probs = model.predict_proba(X200BestTest)\n",
    "LogRegFeatureAUC.append(roc_auc_score(Ytest.ravel(),probs[:,1]))\n",
    "\n",
    "\n",
    "#Running fit based on 300 best words with log regression\n",
    "\n",
    "bof300Best = pandas.read_csv(\"Words/300BestLogReg_bag_of_words_0.csv\",header = None)\n",
    "bof300BestTest = pandas.read_csv(\"Words/300BestLogRegTest_bag_of_words_0.csv\",header = None)\n",
    "X300Best = bof300Best.values\n",
    "X300BestTest = bof300BestTest.values\n",
    "\n",
    "model.fit(X300Best,Y.ravel())\n",
    "Best300Result = model.predict(X300BestTest)\n",
    "print (\"Best300LogReg\", accuracy_score(Ytest.ravel(),Best300Result))\n",
    "LogRegFeatureAccuracy.append(accuracy_score(Ytest.ravel(),Best300Result))\n",
    "LogRegFeaturePrecision.append(average_precision_score(Ytest.ravel(),Best300Result))\n",
    "probs = model.predict_proba(X300BestTest)\n",
    "LogRegFeatureAUC.append(roc_auc_score(Ytest.ravel(),probs[:,1]))\n",
    "\n",
    "\n",
    "#Running fit based on 400 best words\n",
    "\n",
    "bof400Best = pandas.read_csv(\"Words/400BestLogReg_bag_of_words_0.csv\",header = None)\n",
    "bof400BestTest = pandas.read_csv(\"Words/400BestLogRegTest_bag_of_words_0.csv\",header = None)\n",
    "X400Best = bof400Best.values\n",
    "X400BestTest = bof400BestTest.values\n",
    "\n",
    "model.fit(X400Best,Y.ravel())\n",
    "Best400Result = model.predict(X400BestTest)\n",
    "print (\"Best400LogReg\", accuracy_score(Ytest.ravel(),Best400Result))\n",
    "LogRegFeatureAccuracy.append(accuracy_score(Ytest.ravel(),Best400Result))\n",
    "LogRegFeatureAccuracy.append(0.802) #for full vocabulary\n",
    "LogRegFeaturePrecision.append(average_precision_score(Ytest.ravel(),Best400Result))\n",
    "LogRegFeaturePrecision.append(0.75) #for full vocabulary\n",
    "probs = model.predict_proba(X400BestTest)\n",
    "LogRegFeatureAUC.append(roc_auc_score(Ytest.ravel(),probs[:,1]))\n",
    "LogRegFeatureAUC.append(0.88) #for full vocabulary\n"
   ]
  },
  {
   "cell_type": "code",
   "execution_count": 76,
   "metadata": {},
   "outputs": [
    {
     "name": "stdout",
     "output_type": "stream",
     "text": [
      "Best20Tree 0.7066666666666667\n",
      "Best50Tree 0.7566666666666667\n",
      "Best100Test 0.7716666666666666\n",
      "Best200Tree 0.77\n",
      "Best300Tree 0.75\n",
      "Best400Tree 0.73\n"
     ]
    }
   ],
   "source": [
    "#Running fit based on 20 best words with decision tree\n",
    "model =DecisionTreeClassifier()\n",
    "TreeFeatureAccuracy = []\n",
    "TreeFeaturePrecision = []\n",
    "TreeFeatureAUC = []\n",
    "\n",
    "\n",
    "bof20Best = pandas.read_csv(\"Words/20BestTree_bag_of_words_0.csv\",header = None)\n",
    "bof20BestTest = pandas.read_csv(\"Words/20BestTreeTest_bag_of_words_0.csv\",header = None)\n",
    "X20Best = bof20Best.values\n",
    "X20BestTest = bof20BestTest.values\n",
    "\n",
    "model.fit(X20Best,Y.ravel())\n",
    "Best20Result = model.predict(X20BestTest) \n",
    "print (\"Best20Tree\", accuracy_score(Ytest.ravel(),Best20Result))\n",
    "TreeFeatureAccuracy.append(accuracy_score(Ytest.ravel(),Best20Result))\n",
    "TreeFeaturePrecision.append(average_precision_score(Ytest.ravel(),Best20Result))\n",
    "probs = model.predict_proba(X20BestTest)\n",
    "TreeFeatureAUC.append(roc_auc_score(Ytest.ravel(),probs[:,1]))\n",
    "\n",
    "\n",
    "#Running fit based on 50 best words with log regression\n",
    "\n",
    "bof50Best = pandas.read_csv(\"Words/50BestTree_bag_of_words_0.csv\",header = None)\n",
    "bof50BestTest = pandas.read_csv(\"Words/50BestTreeTest_bag_of_words_0.csv\",header = None)\n",
    "X50Best = bof50Best.values\n",
    "X50BestTest = bof50BestTest.values\n",
    "\n",
    "model.fit(X50Best,Y.ravel())\n",
    "Best50Result = model.predict(X50BestTest)\n",
    "print (\"Best50Tree\", accuracy_score(Ytest.ravel(),Best50Result))\n",
    "TreeFeatureAccuracy.append(accuracy_score(Ytest.ravel(),Best50Result))\n",
    "TreeFeaturePrecision.append(average_precision_score(Ytest.ravel(),Best50Result))\n",
    "probs = model.predict_proba(X50BestTest)\n",
    "TreeFeatureAUC.append(roc_auc_score(Ytest.ravel(),probs[:,1]))\n",
    "\n",
    "\n",
    "#Running fit based on 100 best words with log regression\n",
    "\n",
    "bof100Best = pandas.read_csv(\"Words/100BestTree_bag_of_words_0.csv\",header = None)\n",
    "bof100BestTest = pandas.read_csv(\"Words/100BestTreeTest_bag_of_words_0.csv\",header = None)\n",
    "X100Best = bof100Best.values\n",
    "X100BestTest = bof100BestTest.values\n",
    "\n",
    "model.fit(X100Best,Y.ravel())\n",
    "Best100Result = model.predict(X100BestTest)\n",
    "print (\"Best100Test\", accuracy_score(Ytest.ravel(),Best100Result))\n",
    "TreeFeatureAccuracy.append(accuracy_score(Ytest.ravel(),Best100Result))\n",
    "TreeFeaturePrecision.append(average_precision_score(Ytest.ravel(),Best100Result))\n",
    "probs = model.predict_proba(X100BestTest)\n",
    "TreeFeatureAUC.append(roc_auc_score(Ytest.ravel(),probs[:,1]))\n",
    "\n",
    "#Running fit based on 200 best words with log regression\n",
    "\n",
    "bof200Best = pandas.read_csv(\"Words/200BestTree_bag_of_words_0.csv\",header = None)\n",
    "bof200BestTest = pandas.read_csv(\"Words/200BestTreeTest_bag_of_words_0.csv\",header = None)\n",
    "X200Best = bof200Best.values\n",
    "X200BestTest = bof200BestTest.values\n",
    "\n",
    "model.fit(X200Best,Y.ravel())\n",
    "Best200Result = model.predict(X200BestTest)\n",
    "print (\"Best200Tree\", accuracy_score(Ytest.ravel(),Best200Result))\n",
    "TreeFeatureAccuracy.append(accuracy_score(Ytest.ravel(),Best200Result))\n",
    "TreeFeaturePrecision.append(average_precision_score(Ytest.ravel(),Best200Result))\n",
    "probs = model.predict_proba(X200BestTest)\n",
    "TreeFeatureAUC.append(roc_auc_score(Ytest.ravel(),probs[:,1]))\n",
    "\n",
    "\n",
    "#Running fit based on 300 best words with log regression\n",
    "\n",
    "bof300Best = pandas.read_csv(\"Words/300BestTree_bag_of_words_0.csv\",header = None)\n",
    "bof300BestTest = pandas.read_csv(\"Words/300BestTreeTest_bag_of_words_0.csv\",header = None)\n",
    "X300Best = bof300Best.values\n",
    "X300BestTest = bof300BestTest.values\n",
    "\n",
    "model.fit(X300Best,Y.ravel())\n",
    "Best300Result = model.predict(X300BestTest)\n",
    "print (\"Best300Tree\", accuracy_score(Ytest.ravel(),Best300Result))\n",
    "TreeFeatureAccuracy.append(accuracy_score(Ytest.ravel(),Best300Result))\n",
    "TreeFeaturePrecision.append(average_precision_score(Ytest.ravel(),Best300Result))\n",
    "probs = model.predict_proba(X300BestTest)\n",
    "TreeFeatureAUC.append(roc_auc_score(Ytest.ravel(),probs[:,1]))\n",
    "\n",
    "#Running fit based on 400 best words\n",
    "\n",
    "bof400Best = pandas.read_csv(\"Words/400BestTree_bag_of_words_0.csv\",header = None)\n",
    "bof400BestTest = pandas.read_csv(\"Words/400BestTreeTest_bag_of_words_0.csv\",header = None)\n",
    "X400Best = bof400Best.values\n",
    "X400BestTest = bof400BestTest.values\n",
    "\n",
    "model.fit(X400Best,Y.ravel())\n",
    "Best400Result = model.predict(X400BestTest)\n",
    "print (\"Best400Tree\", accuracy_score(Ytest.ravel(),Best400Result))\n",
    "TreeFeatureAccuracy.append(accuracy_score(Ytest.ravel(),Best400Result))\n",
    "TreeFeatureAccuracy.append(0.74) #for full vocabulary\n",
    "TreeFeaturePrecision.append(average_precision_score(Ytest.ravel(),Best400Result))\n",
    "TreeFeaturePrecision.append(0.67)\n",
    "probs = model.predict_proba(X400BestTest)\n",
    "TreeFeatureAUC.append(roc_auc_score(Ytest.ravel(),probs[:,1]))\n",
    "TreeFeatureAUC.append(0.76)"
   ]
  },
  {
   "cell_type": "code",
   "execution_count": 77,
   "metadata": {},
   "outputs": [
    {
     "data": {
      "text/plain": [
       "<matplotlib.legend.Legend at 0x11e562ca0>"
      ]
     },
     "execution_count": 77,
     "metadata": {},
     "output_type": "execute_result"
    },
    {
     "data": {
      "image/png": "[encoded data removed]",
      "text/plain": [
       "<Figure size 432x288 with 1 Axes>"
      ]
     },
     "metadata": {
      "needs_background": "light"
     },
     "output_type": "display_data"
    },
    {
     "data": {
      "image/png": "[encoded data removed]",
      "text/plain": [
       "<Figure size 432x288 with 1 Axes>"
      ]
     },
     "metadata": {
      "needs_background": "light"
     },
     "output_type": "display_data"
    },
    {
     "data": {
      "image/png": "[encoded data removed]",
      "text/plain": [
       "<Figure size 432x288 with 1 Axes>"
      ]
     },
     "metadata": {
      "needs_background": "light"
     },
     "output_type": "display_data"
    }
   ],
   "source": [
    "#plotting feature selection effects on accuracy\n",
    "\n",
    "plt.plot(FeatureNumber,NBCFeatureAccuracy,FeatureNumber,LogRegFeatureAccuracy,FeatureNumber,TreeFeatureAccuracy,)\n",
    "plt.title(\"Feature Selection Effects on Accuracy\")\n",
    "plt.xlabel(\"Number of words sampled\")\n",
    "plt.ylabel(\"Accuracy\")\n",
    "plt.legend([\"Naive Bayes\",\"Logistic Regression\",\"Decision Tree\"])\n",
    "\n",
    "#plotting feature selection effects on precision\n",
    "plt.figure()\n",
    "plt.plot(FeatureNumber,NBCFeaturePrecision,FeatureNumber,LogRegFeaturePrecision,FeatureNumber,TreeFeaturePrecision,)\n",
    "plt.title(\"Feature Selection Effects on Precision\")\n",
    "plt.xlabel(\"Number of words sampled\")\n",
    "plt.ylabel(\"Precision\")\n",
    "plt.legend([\"Naive Bayes\",\"Logistic Regression\",\"Decision Tree\"])\n",
    "\n",
    "#plotting feature selection effects on AUC\n",
    "plt.figure()\n",
    "plt.plot(FeatureNumber,NBCFeatureAUC,FeatureNumber,LogRegFeatureAUC,FeatureNumber,TreeFeatureAUC)\n",
    "plt.title(\"Feature Selection Effects on ROC Area Under Curve\")\n",
    "plt.xlabel(\"Number of words sampled\")\n",
    "plt.ylabel(\"AUC\")\n",
    "plt.legend([\"Naive Bayes\",\"Logistic Regression\",\"Decision Tree\"])"
   ]
  },
  {
   "cell_type": "markdown",
   "metadata": {},
   "source": [
    "# Adding review length as an additional feature to the analysis"
   ]
  },
  {
   "cell_type": "markdown",
   "metadata": {},
   "source": [
    "## Functions to obtain review length from raw data"
   ]
  },
  {
   "cell_type": "code",
   "execution_count": 65,
   "metadata": {},
   "outputs": [],
   "source": [
    "#splitting each review into its words\n",
    "def readLines(file):\n",
    "    with open(file, 'r') as f:\n",
    "        for line in f:\n",
    "            yield line.strip()\n",
    "\n",
    "#counting words in each line\n",
    "def wordsInScentence(sentences):\n",
    "    counts = []\n",
    "    for sentence in sentences:\n",
    "        #cunts.append(sentence.split()) #minus two because we have label and number\n",
    "        counts.append(len(sentence.split())-2)#two because we have label and number\n",
    "    return counts\n",
    "\n",
    "#reading number of words in each data set (tranining and testing)\n",
    "X2Train = wordsInScentence(readLines(\"Words/train.txt\"))\n",
    "X2Train = np.reshape(X2Train,(-1, 1))\n",
    "\n",
    "X2Test = wordsInScentence(readLines(\"Words/test.txt\"))\n",
    "X2Test = np.reshape(X2Test,(-1, 1))"
   ]
  },
  {
   "cell_type": "markdown",
   "metadata": {},
   "source": [
    "## Comparing prediction power with length as a feature"
   ]
  },
  {
   "cell_type": "code",
   "execution_count": 67,
   "metadata": {},
   "outputs": [
    {
     "name": "stdout",
     "output_type": "stream",
     "text": [
      "\n",
      "Accuracy when using scentence length as the only feature\n",
      "KNN 0.5183333333333333\n",
      "NBC 0.5\n",
      "LogReg 0.49\n",
      "Tree 0.535\n",
      "\n",
      "Accuracy when using scentence length and Bag of Words\n",
      "KNN 0.5366666666666666\n",
      "NBC 0.7733333333333333\n",
      "LogReg 0.7966666666666666\n",
      "Tree 0.7016666666666667\n"
     ]
    }
   ],
   "source": [
    "#setting up and choosing the models to compare\n",
    "models2 = []\n",
    "models2.append(('KNN', KNeighborsClassifier(10)))\n",
    "models2.append(('NBC', MultinomialNB()))\n",
    "models2.append(('LogReg',LogisticRegression(solver='lbfgs',multi_class='ovr')))\n",
    "models2.append(('Tree', DecisionTreeClassifier()))\n",
    "\n",
    "resultsReal2 = []\n",
    "ModelTypesReal2=[]\n",
    "\n",
    "print('')\n",
    "print('Accuracy when using scentence length as the only feature')\n",
    "\n",
    "for ModelType, model in models2:\n",
    "    model.fit(X2Train,Y.ravel())\n",
    "    result = model.predict(X2Test) \n",
    "    resultsReal2.append(result)\n",
    "    ModelTypesReal2.append(ModelType)\n",
    "    print (ModelType, accuracy_score(Ytest.ravel(),result))\n",
    "\n",
    "#fitting model using word AND length data\n",
    "X2LengthTrain = np.concatenate((X,X2Train),axis = 1)\n",
    "X2LengthTest = np.concatenate((Xtest,X2Test),axis = 1)\n",
    "\n",
    "print('')\n",
    "print('Accuracy when using scentence length and Bag of Words')\n",
    "\n",
    "for ModelType, model in models2:\n",
    "    model.fit(X2LengthTrain,Y.ravel())\n",
    "    result = model.predict(X2LengthTest) \n",
    "    resultsReal2.append(result)\n",
    "    ModelTypesReal2.append(ModelType)\n",
    "    print (ModelType, accuracy_score(Ytest.ravel(),result))\n"
   ]
  },
  {
   "cell_type": "markdown",
   "metadata": {},
   "source": [
    "Review length is NOT correlated with the sentiment of a review"
   ]
  }
 ],
 "metadata": {
  "kernelspec": {
   "display_name": "Python 3 (ipykernel)",
   "language": "python",
   "name": "python3"
  },
  "language_info": {
   "codemirror_mode": {
    "name": "ipython",
    "version": 3
   },
   "file_extension": ".py",
   "mimetype": "text/x-python",
   "name": "python",
   "nbconvert_exporter": "python",
   "pygments_lexer": "ipython3",
   "version": "3.8.10"
  }
 },
 "nbformat": 4,
 "nbformat_minor": 2
}
