{
  "nbformat": 4,
  "nbformat_minor": 0,
  "metadata": {
    "kernelspec": {
      "display_name": "Python 3 (ipykernel)",
      "language": "python",
      "name": "python3"
    },
    "language_info": {
      "codemirror_mode": {
        "name": "ipython",
        "version": 3
      },
      "file_extension": ".py",
      "mimetype": "text/x-python",
      "name": "python",
      "nbconvert_exporter": "python",
      "pygments_lexer": "ipython3",
      "version": "3.8.10"
    },
    "colab": {
      "name": "Sentiment Analysis.ipynb",
      "provenance": [],
      "collapsed_sections": []
    },
    "accelerator": "GPU"
  },
  "cells": [
    {
      "cell_type": "markdown",
      "metadata": {
        "id": "NMNHUPu9nGTk"
      },
      "source": [
        "# Fine-Tuning BERT for Sentiment Analysis "
      ]
    },
    {
      "cell_type": "markdown",
      "metadata": {
        "id": "BVt77lEPnGTo"
      },
      "source": [
        "## Notes on the data\n",
        "\n",
        "The data used in this study consists of 3000 customer reviews labeled into two classes: where label ”1” refers to a positive review and label ”0” refers to a negative review. For the purposes of this study, the data set was separated into a training set of 2400 samples and a testing set of 600 samples. "
      ]
    },
    {
      "cell_type": "markdown",
      "metadata": {
        "id": "C0gTAM3mnGTp"
      },
      "source": [
        "## Other Notes"
      ]
    },
    {
      "cell_type": "markdown",
      "metadata": {
        "id": "sAzDBjnKnGTq"
      },
      "source": [
        "The attached \"DataAnalysisScript.py\" script should be run within the same directory as the \"Words\" directory. This directory contains the vocabulary and bag of words representations obtained from labeled amazon reviews (test.txt and train.txt) using the accompaning \"prepossessingSentences.py\" script. There is no need to said code here since I have already generated all the neccesary vocabulary files."
      ]
    },
    {
      "cell_type": "markdown",
      "metadata": {
        "id": "nSKesYfFnGTr"
      },
      "source": [
        "## Loading Main libraries"
      ]
    },
    {
      "cell_type": "code",
      "metadata": {
        "id": "3TnQjpTonGTr"
      },
      "source": [
        "# Loading basic libraries\n",
        "import warnings #prevent \"future warning\" errors\n",
        "warnings.simplefilter(action='ignore', category=FutureWarning)\n",
        "import os\n",
        "import shutil\n",
        "import pandas as pd\n",
        "from pandas.plotting import scatter_matrix\n",
        "import numpy as np\n",
        "import plotly.offline as py\n",
        "import plotly.graph_objs as go\n",
        "import re\n",
        "\n",
        "#loading sklearn libraries\n",
        "from sklearn import model_selection\n",
        "from sklearn.metrics import classification_report\n",
        "from sklearn.metrics import confusion_matrix\n",
        "from sklearn.metrics import accuracy_score\n",
        "from sklearn.metrics import roc_curve, auc, roc_auc_score,average_precision_score\n",
        "from sklearn.linear_model import LogisticRegression\n",
        "from sklearn.tree import DecisionTreeClassifier\n",
        "from sklearn.neighbors import KNeighborsClassifier\n",
        "from sklearn.naive_bayes import MultinomialNB\n",
        "from sklearn.svm import SVC\n",
        "from sklearn.svm import LinearSVC\n",
        "\n",
        "#changing default figure renderer for github display\n",
        "import plotly.io as pio\n",
        "pio.renderers\n",
        "pio.renderers.default = \"svg\""
      ],
      "execution_count": 1,
      "outputs": []
    },
    {
      "cell_type": "code",
      "metadata": {
        "id": "mr_sBPuyuYsD"
      },
      "source": [
        "!pip install tensorflow_datasets\n",
        "!pip install -U tensorflow-text\n",
        "!pip install -q tf-models-official\n",
        "!pip install --upgrade plotly\n",
        "!pip install -U kaleido"
      ],
      "execution_count": null,
      "outputs": []
    },
    {
      "cell_type": "code",
      "metadata": {
        "id": "YSrshnCpuaT3"
      },
      "source": [
        "#loading tensorflow libraries\n",
        "import tensorflow as tf\n",
        "import tensorflow_hub as hub\n",
        "import tensorflow_text as text\n",
        "from official.nlp import optimization "
      ],
      "execution_count": 3,
      "outputs": []
    },
    {
      "cell_type": "markdown",
      "metadata": {
        "id": "T5c1nsETnGTs"
      },
      "source": [
        "# Data Proccesing "
      ]
    },
    {
      "cell_type": "markdown",
      "metadata": {
        "id": "btbimMPznGTs"
      },
      "source": [
        "## Loading data sets"
      ]
    },
    {
      "cell_type": "code",
      "metadata": {
        "colab": {
          "base_uri": "https://localhost:8080/"
        },
        "id": "Wn_mJ7L9py_3",
        "outputId": "5e4dbb19-1c58-461d-a6d2-312bd2d55da6"
      },
      "source": [
        "#mounting google colab drive\n",
        "from google.colab import drive\n",
        "drive.mount('/content/gdrive/',force_remount=True)\n",
        "\n",
        "# defining directory to store files\n",
        "path = \"/gdrive/MyDrive/Colab\\ Notebooks/\""
      ],
      "execution_count": 4,
      "outputs": [
        {
          "output_type": "stream",
          "name": "stdout",
          "text": [
            "Mounted at /content/gdrive/\n"
          ]
        }
      ]
    },
    {
      "cell_type": "code",
      "metadata": {
        "id": "vBtqdpdqyhLM"
      },
      "source": [
        "# defining function to read included txt files. \n",
        "def read_files(path):\n",
        "\n",
        "  #initializing lists\n",
        "  labels = []\n",
        "  strings = []    \n",
        "  index = []\n",
        "\n",
        "  f = open(path, 'r')\n",
        "  lines = f.readlines()\n",
        "\n",
        "  for line in lines:\n",
        "\n",
        "    #separating columns of data into indexes, strings, and labels\n",
        "    labels.append(line.rsplit()[-1])\n",
        "    index.append(line.rsplit()[0])\n",
        "    string = line\n",
        "    string = ' '.join(string.rsplit()[1:-1])\n",
        "\n",
        "    #adding to list\n",
        "    strings.append(string)\n",
        "\n",
        "  dictionary = {'Sentences':strings, 'Labels':labels}\n",
        "  df = pd.DataFrame(dictionary, index = index)\n",
        "  df[\"Labels\"] = pd.to_numeric(df[\"Labels\"])\n",
        "  df = df.sample(frac=1)\n",
        "\n",
        "  return df"
      ],
      "execution_count": 5,
      "outputs": []
    },
    {
      "cell_type": "code",
      "metadata": {
        "colab": {
          "base_uri": "https://localhost:8080/",
          "height": 393
        },
        "id": "GLfMBNViyKQ7",
        "outputId": "1732ff0a-8807-4f93-9755-e803690e431f"
      },
      "source": [
        "#reading data\n",
        "train = read_files(\"gdrive/MyDrive/Colab Notebooks/Words/train.txt\")\n",
        "test = read_files(\"gdrive/MyDrive/Colab Notebooks/Words/test.txt\")\n",
        "\n",
        "#looking at data\n",
        "print(\"training data shape: \", train.shape)\n",
        "print(\"testing data shape: \", test.shape)\n",
        "\n",
        "train.head(10)"
      ],
      "execution_count": 6,
      "outputs": [
        {
          "output_type": "stream",
          "name": "stdout",
          "text": [
            "training data shape:  (2400, 2)\n",
            "testing data shape:  (600, 2)\n"
          ]
        },
        {
          "output_type": "execute_result",
          "data": {
            "text/html": [
              "<div>\n",
              "<style scoped>\n",
              "    .dataframe tbody tr th:only-of-type {\n",
              "        vertical-align: middle;\n",
              "    }\n",
              "\n",
              "    .dataframe tbody tr th {\n",
              "        vertical-align: top;\n",
              "    }\n",
              "\n",
              "    .dataframe thead th {\n",
              "        text-align: right;\n",
              "    }\n",
              "</style>\n",
              "<table border=\"1\" class=\"dataframe\">\n",
              "  <thead>\n",
              "    <tr style=\"text-align: right;\">\n",
              "      <th></th>\n",
              "      <th>Sentences</th>\n",
              "      <th>Labels</th>\n",
              "    </tr>\n",
              "  </thead>\n",
              "  <tbody>\n",
              "    <tr>\n",
              "      <th>1637</th>\n",
              "      <td>Coming here is like experiencing an underwhelm...</td>\n",
              "      <td>0</td>\n",
              "    </tr>\n",
              "    <tr>\n",
              "      <th>1847</th>\n",
              "      <td>I will never go back to this place and will ne...</td>\n",
              "      <td>0</td>\n",
              "    </tr>\n",
              "    <tr>\n",
              "      <th>437</th>\n",
              "      <td>Nice docking station for home or work.</td>\n",
              "      <td>1</td>\n",
              "    </tr>\n",
              "    <tr>\n",
              "      <th>401</th>\n",
              "      <td>Good case, Excellent value.</td>\n",
              "      <td>1</td>\n",
              "    </tr>\n",
              "    <tr>\n",
              "      <th>264</th>\n",
              "      <td>I give Wirefly 1 star.I will contact Cingular/...</td>\n",
              "      <td>0</td>\n",
              "    </tr>\n",
              "    <tr>\n",
              "      <th>909</th>\n",
              "      <td>If this premise sound stupid, that's because i...</td>\n",
              "      <td>0</td>\n",
              "    </tr>\n",
              "    <tr>\n",
              "      <th>744</th>\n",
              "      <td>Much less than the jawbone I was going to repl...</td>\n",
              "      <td>1</td>\n",
              "    </tr>\n",
              "    <tr>\n",
              "      <th>1361</th>\n",
              "      <td>I totally and absolutely recommend this movie ...</td>\n",
              "      <td>1</td>\n",
              "    </tr>\n",
              "    <tr>\n",
              "      <th>728</th>\n",
              "      <td>im surprised this is a good quality car charge...</td>\n",
              "      <td>1</td>\n",
              "    </tr>\n",
              "    <tr>\n",
              "      <th>683</th>\n",
              "      <td>Small, sleek, impressive looking, practical se...</td>\n",
              "      <td>1</td>\n",
              "    </tr>\n",
              "  </tbody>\n",
              "</table>\n",
              "</div>"
            ],
            "text/plain": [
              "                                              Sentences  Labels\n",
              "1637  Coming here is like experiencing an underwhelm...       0\n",
              "1847  I will never go back to this place and will ne...       0\n",
              "437              Nice docking station for home or work.       1\n",
              "401                         Good case, Excellent value.       1\n",
              "264   I give Wirefly 1 star.I will contact Cingular/...       0\n",
              "909   If this premise sound stupid, that's because i...       0\n",
              "744   Much less than the jawbone I was going to repl...       1\n",
              "1361  I totally and absolutely recommend this movie ...       1\n",
              "728   im surprised this is a good quality car charge...       1\n",
              "683   Small, sleek, impressive looking, practical se...       1"
            ]
          },
          "metadata": {},
          "execution_count": 6
        }
      ]
    },
    {
      "cell_type": "code",
      "metadata": {
        "colab": {
          "base_uri": "https://localhost:8080/"
        },
        "id": "-1BYohlT_VUQ",
        "outputId": "c1b547ed-0a63-4848-be1b-ab5d13455359"
      },
      "source": [
        "# converting data to tf dataset tensor \n",
        "BATCH_SIZE = 64\n",
        "SHUFFLE_BUFFER_SIZE = 2400\n",
        "\n",
        "train_ds = tf.data.Dataset.from_tensor_slices((train[\"Sentences\"], train[\"Labels\"]))\n",
        "test_ds = tf.data.Dataset.from_tensor_slices((test[\"Sentences\"], test[\"Labels\"]))\n",
        "\n",
        "#Shuffling and dividing training data into batches\n",
        "train_ds = train_ds.shuffle(SHUFFLE_BUFFER_SIZE).batch(BATCH_SIZE)\n",
        "\n",
        "#checking if conversion was done OK\n",
        "for batch in train_ds.take(1):\n",
        "  for row in batch[:][0][:2]:\n",
        "    print(row)\n",
        "\n",
        "  for label in batch[:][1][:2]:\n",
        "    print(label)"
      ],
      "execution_count": 7,
      "outputs": [
        {
          "output_type": "stream",
          "name": "stdout",
          "text": [
            "tf.Tensor(b'This is the place where I first had pho and it was amazing!!', shape=(), dtype=string)\n",
            "tf.Tensor(b\"Uncomfortable In the Ear, Don't use with LG VX9900 (EnV).\", shape=(), dtype=string)\n",
            "tf.Tensor(1, shape=(), dtype=int64)\n",
            "tf.Tensor(0, shape=(), dtype=int64)\n"
          ]
        }
      ]
    },
    {
      "cell_type": "code",
      "metadata": {
        "colab": {
          "base_uri": "https://localhost:8080/"
        },
        "id": "eAohxzJDqSIm",
        "outputId": "6fccf194-f36f-4af4-9f7d-45616d684de0"
      },
      "source": [
        "#alternativley, converting data to numpy array\n",
        "\n",
        "train_x = train[\"Sentences\"].to_numpy()\n",
        "train_y = train[\"Labels\"].to_numpy()\n",
        "\n",
        "test_x = test[\"Sentences\"].to_numpy()\n",
        "test_y = test[\"Labels\"].to_numpy()\n",
        "\n",
        "#checking if conversion was done OK\n",
        "for i in range(10):\n",
        "  print(train_x[i],train_y[i])"
      ],
      "execution_count": 8,
      "outputs": [
        {
          "output_type": "stream",
          "name": "stdout",
          "text": [
            "Coming here is like experiencing an underwhelming relationship where both parties can't wait for the other person to ask to break up. 0\n",
            "I will never go back to this place and will never ever recommended this place to anyone! 0\n",
            "Nice docking station for home or work. 1\n",
            "Good case, Excellent value. 1\n",
            "I give Wirefly 1 star.I will contact Cingular/AT&T; and inform them of this practice. 0\n",
            "If this premise sound stupid, that's because it is. 0\n",
            "Much less than the jawbone I was going to replace it with. 1\n",
            "I totally and absolutely recommend this movie to anyone who likes good wholesome family movies because that is exactly what this is. 1\n",
            "im surprised this is a good quality car charger and there's not much reviews about it. 1\n",
            "Small, sleek, impressive looking, practical setup with ample storage in place. 1\n"
          ]
        }
      ]
    },
    {
      "cell_type": "markdown",
      "metadata": {
        "id": "FsWfxcr1DfFd"
      },
      "source": [
        "## Choosing BERT model to create embeddings\n",
        "\n",
        "The included dictonaries are included for easy access to alternative models \n",
        "\n"
      ]
    },
    {
      "cell_type": "code",
      "metadata": {
        "id": "glV0c9R9AtvN"
      },
      "source": [
        "#defining dictionaries\n",
        "map_name_to_handle = {\n",
        "    'small_bert/bert_en_uncased_L-4_H-512_A-8':\n",
        "        'https://tfhub.dev/tensorflow/small_bert/bert_en_uncased_L-4_H-512_A-8/1',\n",
        "}\n",
        "\n",
        "map_model_to_preprocess = {   \n",
        "    'small_bert/bert_en_uncased_L-4_H-512_A-8':\n",
        "        'https://tfhub.dev/tensorflow/bert_en_uncased_preprocess/3',\n",
        "}"
      ],
      "execution_count": 9,
      "outputs": []
    },
    {
      "cell_type": "code",
      "metadata": {
        "colab": {
          "base_uri": "https://localhost:8080/"
        },
        "id": "2qor16ntD_fb",
        "outputId": "2af814c6-8975-40cf-b6e4-1e01ee35c4ae"
      },
      "source": [
        "#choosing model\n",
        "bert_model_name = 'small_bert/bert_en_uncased_L-4_H-512_A-8' \n",
        "\n",
        "#finding related preproccesors and encoders\n",
        "tfhub_handle_encoder = map_name_to_handle[bert_model_name]\n",
        "tfhub_handle_preprocess = map_model_to_preprocess[bert_model_name]\n",
        "\n",
        "#loading preproccesor model\n",
        "bert_preprocess_model = hub.KerasLayer(tfhub_handle_preprocess,name='preprocess')\n",
        "\n",
        "#choosing encoder model\n",
        "bert_model = hub.KerasLayer(tfhub_handle_encoder,trainable=True,name='encoder')\n",
        "\n",
        "#printing choices\n",
        "print(f'BERT model selected           : {tfhub_handle_encoder}')\n",
        "print(f'Preprocess model auto-selected: {tfhub_handle_preprocess}')"
      ],
      "execution_count": 10,
      "outputs": [
        {
          "output_type": "stream",
          "name": "stdout",
          "text": [
            "BERT model selected           : https://tfhub.dev/tensorflow/small_bert/bert_en_uncased_L-4_H-512_A-8/1\n",
            "Preprocess model auto-selected: https://tfhub.dev/tensorflow/bert_en_uncased_preprocess/3\n"
          ]
        }
      ]
    },
    {
      "cell_type": "markdown",
      "metadata": {
        "id": "r0_n1FPGFKiW"
      },
      "source": [
        "# Testing pre-proccesing and encoding the data \n",
        "(code modified from https://www.tensorflow.org/text/tutorials/classify_text_with_bert?version=nightly)"
      ]
    },
    {
      "cell_type": "code",
      "metadata": {
        "colab": {
          "base_uri": "https://localhost:8080/"
        },
        "id": "ca3srVEnEGUp",
        "outputId": "721c5b95-24da-462f-f4eb-7ac9b01cb86b"
      },
      "source": [
        "#testing pre-proccesing the data\n",
        "temp = [\"I will never buy this item again!\"]\n",
        "\n",
        "temp_preprocces = bert_preprocess_model(temp)\n",
        "\n",
        "print(f'Keys       : {list(temp_preprocces.keys())}')\n",
        "print(f'Shape      : {temp_preprocces[\"input_word_ids\"].shape}')\n",
        "print(f'Word Ids   : {temp_preprocces[\"input_word_ids\"][0, :12]}')\n",
        "print(f'Input Mask : {temp_preprocces[\"input_mask\"][0, :12]}')\n",
        "print(f'Type Ids   : {temp_preprocces[\"input_type_ids\"][0, :12]}')"
      ],
      "execution_count": 11,
      "outputs": [
        {
          "output_type": "stream",
          "name": "stdout",
          "text": [
            "Keys       : ['input_mask', 'input_type_ids', 'input_word_ids']\n",
            "Shape      : (1, 128)\n",
            "Word Ids   : [ 101 1045 2097 2196 4965 2023 8875 2153  999  102    0    0]\n",
            "Input Mask : [1 1 1 1 1 1 1 1 1 1 0 0]\n",
            "Type Ids   : [0 0 0 0 0 0 0 0 0 0 0 0]\n"
          ]
        }
      ]
    },
    {
      "cell_type": "code",
      "metadata": {
        "colab": {
          "base_uri": "https://localhost:8080/"
        },
        "id": "LKV0zxRTDER1",
        "outputId": "c756a0f9-5c6f-4bc0-9ed9-33664eb4a5fa"
      },
      "source": [
        "#testing encoding the data\n",
        "temp_results = bert_model(temp_preprocces)\n",
        "\n",
        "print(f'Loaded BERT: {tfhub_handle_encoder}')\n",
        "print(f'Pooled Outputs Shape:{temp_results[\"pooled_output\"].shape}')\n",
        "print(f'Pooled Outputs Values:{temp_results[\"pooled_output\"][0, :12]}')\n",
        "print(f'Sequence Outputs Shape:{temp_results[\"sequence_output\"].shape}')\n",
        "print(f'Sequence Outputs Values:{temp_results[\"sequence_output\"][0, :12]}')"
      ],
      "execution_count": 12,
      "outputs": [
        {
          "output_type": "stream",
          "name": "stdout",
          "text": [
            "Loaded BERT: https://tfhub.dev/tensorflow/small_bert/bert_en_uncased_L-4_H-512_A-8/1\n",
            "Pooled Outputs Shape:(1, 512)\n",
            "Pooled Outputs Values:[ 0.66916597  0.99434406 -0.53204316  0.05034159  0.7883574   0.608201\n",
            "  0.98778874 -0.99891245 -0.65899855 -0.9997528  -0.02892545 -0.9816345 ]\n",
            "Sequence Outputs Shape:(1, 128, 512)\n",
            "Sequence Outputs Values:[[-0.03490189  0.22657266  0.4805516  ... -0.32216778  1.4762723\n",
            "   0.24345133]\n",
            " [-0.14663199  1.4872807  -0.28279895 ... -0.6117      0.8384829\n",
            "  -0.04838954]\n",
            " [-0.41417813  0.6729794  -1.4870961  ... -0.5815437   0.1650127\n",
            "   1.2022147 ]\n",
            " ...\n",
            " [-0.1594646   0.294144    0.7829197  ... -0.8159708   1.5213435\n",
            "   0.18805006]\n",
            " [-0.07993805 -0.4246581   0.04261737 ...  0.09465174  0.9633994\n",
            "   0.3636647 ]\n",
            " [-0.1249979  -0.27277327 -0.08296376 ... -0.00683095  1.0517676\n",
            "   0.20736562]]\n"
          ]
        }
      ]
    },
    {
      "cell_type": "markdown",
      "metadata": {
        "id": "fc4PU0EfFfmo"
      },
      "source": [
        "It looks like we are able to encode our test sentence pretty well."
      ]
    },
    {
      "cell_type": "markdown",
      "metadata": {
        "id": "fbBnx6NCHLg9"
      },
      "source": [
        "# Building the Model Classifier "
      ]
    },
    {
      "cell_type": "markdown",
      "metadata": {
        "id": "bkXhAbS6Ko-o"
      },
      "source": [
        "## Creating pipeline to create classifier"
      ]
    },
    {
      "cell_type": "code",
      "metadata": {
        "id": "IB4RljwdFfP8"
      },
      "source": [
        "def classifier_pipeline(intermediate_layers,num_units):\n",
        "  \n",
        "  #defining input layer\n",
        "  input = tf.keras.layers.Input(shape=(), dtype=tf.string, name='input')\n",
        "\n",
        "  #pre-proccesing the data\n",
        "  pre = bert_preprocess_model(input)\n",
        "\n",
        "  #encoding the data\n",
        "  encoded = bert_model(pre)\n",
        "  out = encoded[\"pooled_output\"]\n",
        "  #out = encoded[\"sequence_output\"]\n",
        "\n",
        "  #creating a neural network\n",
        "  nn = out\n",
        "  nn = tf.keras.layers.Dropout(0.1)(nn)\n",
        "\n",
        "  #intermediate layers\n",
        "  for i in range(intermediate_layers):\n",
        "    nn = tf.keras.layers.Dense(num_units, activation=\"relu\")(nn)\n",
        "    nn = tf.keras.layers.Dropout(0.1)(nn)\n",
        "\n",
        "  #classification layer\n",
        "  nn = tf.keras.layers.Dense(1, activation=None, name='classifier')(nn)\n",
        "\n",
        "  #returning built network:\n",
        "  return tf.keras.Model(input, nn)"
      ],
      "execution_count": 13,
      "outputs": []
    },
    {
      "cell_type": "markdown",
      "metadata": {
        "id": "zodXTcQ5KsWN"
      },
      "source": [
        "## Defining loss functions and optimizers"
      ]
    },
    {
      "cell_type": "code",
      "metadata": {
        "id": "ZulLdK2qI3f7"
      },
      "source": [
        "#creating loss function \n",
        "loss = tf.keras.losses.BinaryCrossentropy(from_logits=True)\n",
        "metric = tf.metrics.BinaryAccuracy()\n",
        "\n",
        "#defining optimizer with tunable parameters\n",
        "epochs = 20\n",
        "sentences_per_epoch = 2400\n",
        "total_steps = epochs*sentences_per_epoch\n",
        "warmup_steps = int(0.1*total_steps)\n",
        "optimizer = optimization.create_optimizer(init_lr=3e-5,\n",
        "                                          num_train_steps=total_steps,\n",
        "                                          num_warmup_steps=warmup_steps,\n",
        "                                          optimizer_type='adamw')"
      ],
      "execution_count": 14,
      "outputs": []
    },
    {
      "cell_type": "markdown",
      "metadata": {
        "id": "rO050WjHLh72"
      },
      "source": [
        "## Creating and compiling classifier"
      ]
    },
    {
      "cell_type": "code",
      "metadata": {
        "colab": {
          "base_uri": "https://localhost:8080/"
        },
        "id": "Vc4oZDuDLwKB",
        "outputId": "45525d5f-45d8-4621-934a-71bf20b8b998"
      },
      "source": [
        "intermediate_layers = 1 #1\n",
        "num_units = 50\n",
        "model = classifier_pipeline(intermediate_layers=intermediate_layers, num_units=num_units)\n",
        "model.compile(optimizer = optimizer, loss = loss, metrics = metric)\n",
        "model.summary()"
      ],
      "execution_count": 15,
      "outputs": [
        {
          "output_type": "stream",
          "name": "stdout",
          "text": [
            "Model: \"model\"\n",
            "__________________________________________________________________________________________________\n",
            "Layer (type)                    Output Shape         Param #     Connected to                     \n",
            "==================================================================================================\n",
            "input (InputLayer)              [(None,)]            0                                            \n",
            "__________________________________________________________________________________________________\n",
            "preprocess (KerasLayer)         {'input_mask': (None 0           input[0][0]                      \n",
            "__________________________________________________________________________________________________\n",
            "encoder (KerasLayer)            {'default': (None, 5 28763649    preprocess[0][0]                 \n",
            "                                                                 preprocess[0][1]                 \n",
            "                                                                 preprocess[0][2]                 \n",
            "__________________________________________________________________________________________________\n",
            "dropout (Dropout)               (None, 512)          0           encoder[0][5]                    \n",
            "__________________________________________________________________________________________________\n",
            "dense (Dense)                   (None, 50)           25650       dropout[0][0]                    \n",
            "__________________________________________________________________________________________________\n",
            "dropout_1 (Dropout)             (None, 50)           0           dense[0][0]                      \n",
            "__________________________________________________________________________________________________\n",
            "classifier (Dense)              (None, 1)            51          dropout_1[0][0]                  \n",
            "==================================================================================================\n",
            "Total params: 28,789,350\n",
            "Trainable params: 28,789,349\n",
            "Non-trainable params: 1\n",
            "__________________________________________________________________________________________________\n"
          ]
        }
      ]
    },
    {
      "cell_type": "markdown",
      "metadata": {
        "id": "KZ00r5ZMNBWC"
      },
      "source": [
        "## Training and Testing the Model"
      ]
    },
    {
      "cell_type": "code",
      "metadata": {
        "colab": {
          "base_uri": "https://localhost:8080/"
        },
        "id": "a0bl1Rdm28UG",
        "outputId": "7afa38ef-543b-4aff-f058-32f857ad7b18"
      },
      "source": [
        "his = model.fit(x = train_x, y = train_y, epochs = epochs, validation_data=(test_x,test_y)) #20"
      ],
      "execution_count": 16,
      "outputs": [
        {
          "output_type": "stream",
          "name": "stdout",
          "text": [
            "Epoch 1/20\n",
            "75/75 [==============================] - 42s 454ms/step - loss: 0.7069 - binary_accuracy: 0.5362 - val_loss: 0.6996 - val_binary_accuracy: 0.5267\n",
            "Epoch 2/20\n",
            "75/75 [==============================] - 33s 447ms/step - loss: 0.6948 - binary_accuracy: 0.5450 - val_loss: 0.6748 - val_binary_accuracy: 0.5400\n",
            "Epoch 3/20\n",
            "75/75 [==============================] - 33s 445ms/step - loss: 0.6745 - binary_accuracy: 0.5596 - val_loss: 0.6496 - val_binary_accuracy: 0.5583\n",
            "Epoch 4/20\n",
            "75/75 [==============================] - 33s 447ms/step - loss: 0.6490 - binary_accuracy: 0.5800 - val_loss: 0.6187 - val_binary_accuracy: 0.6000\n",
            "Epoch 5/20\n",
            "75/75 [==============================] - 33s 447ms/step - loss: 0.6192 - binary_accuracy: 0.6154 - val_loss: 0.5743 - val_binary_accuracy: 0.6767\n",
            "Epoch 6/20\n",
            "75/75 [==============================] - 33s 447ms/step - loss: 0.5683 - binary_accuracy: 0.6858 - val_loss: 0.5212 - val_binary_accuracy: 0.7167\n",
            "Epoch 7/20\n",
            "75/75 [==============================] - 33s 445ms/step - loss: 0.5038 - binary_accuracy: 0.7542 - val_loss: 0.4583 - val_binary_accuracy: 0.7567\n",
            "Epoch 8/20\n",
            "75/75 [==============================] - 33s 446ms/step - loss: 0.4412 - binary_accuracy: 0.7979 - val_loss: 0.3891 - val_binary_accuracy: 0.8183\n",
            "Epoch 9/20\n",
            "75/75 [==============================] - 33s 446ms/step - loss: 0.3817 - binary_accuracy: 0.8275 - val_loss: 0.3449 - val_binary_accuracy: 0.8400\n",
            "Epoch 10/20\n",
            "75/75 [==============================] - 33s 446ms/step - loss: 0.3415 - binary_accuracy: 0.8525 - val_loss: 0.3183 - val_binary_accuracy: 0.8617\n",
            "Epoch 11/20\n",
            "75/75 [==============================] - 33s 446ms/step - loss: 0.3055 - binary_accuracy: 0.8696 - val_loss: 0.2989 - val_binary_accuracy: 0.8817\n",
            "Epoch 12/20\n",
            "75/75 [==============================] - 33s 446ms/step - loss: 0.2779 - binary_accuracy: 0.8842 - val_loss: 0.2838 - val_binary_accuracy: 0.8900\n",
            "Epoch 13/20\n",
            "75/75 [==============================] - 33s 447ms/step - loss: 0.2465 - binary_accuracy: 0.9050 - val_loss: 0.2808 - val_binary_accuracy: 0.8800\n",
            "Epoch 14/20\n",
            "75/75 [==============================] - 34s 448ms/step - loss: 0.2290 - binary_accuracy: 0.9096 - val_loss: 0.2729 - val_binary_accuracy: 0.8850\n",
            "Epoch 15/20\n",
            "75/75 [==============================] - 34s 448ms/step - loss: 0.2026 - binary_accuracy: 0.9217 - val_loss: 0.2662 - val_binary_accuracy: 0.8950\n",
            "Epoch 16/20\n",
            "75/75 [==============================] - 34s 449ms/step - loss: 0.1830 - binary_accuracy: 0.9325 - val_loss: 0.2686 - val_binary_accuracy: 0.9017\n",
            "Epoch 17/20\n",
            "75/75 [==============================] - 33s 446ms/step - loss: 0.1558 - binary_accuracy: 0.9471 - val_loss: 0.3045 - val_binary_accuracy: 0.8900\n",
            "Epoch 18/20\n",
            "75/75 [==============================] - 33s 447ms/step - loss: 0.1369 - binary_accuracy: 0.9533 - val_loss: 0.2935 - val_binary_accuracy: 0.8917\n",
            "Epoch 19/20\n",
            "75/75 [==============================] - 34s 448ms/step - loss: 0.1226 - binary_accuracy: 0.9596 - val_loss: 0.3045 - val_binary_accuracy: 0.8933\n",
            "Epoch 20/20\n",
            "75/75 [==============================] - 33s 446ms/step - loss: 0.0951 - binary_accuracy: 0.9683 - val_loss: 0.3117 - val_binary_accuracy: 0.9100\n"
          ]
        }
      ]
    },
    {
      "cell_type": "markdown",
      "metadata": {
        "id": "QNIj1rihnGTu"
      },
      "source": [
        "# Model Evaluation"
      ]
    },
    {
      "cell_type": "code",
      "metadata": {
        "colab": {
          "base_uri": "https://localhost:8080/"
        },
        "id": "U7hK5mOfkqGD",
        "outputId": "f274ba2f-1a92-4534-82f2-35b328474e73"
      },
      "source": [
        "#model validation\n",
        "loss, accuracy  = model.evaluate(x=test_x, y = test_y)"
      ],
      "execution_count": 17,
      "outputs": [
        {
          "output_type": "stream",
          "name": "stdout",
          "text": [
            "19/19 [==============================] - 4s 197ms/step - loss: 0.3117 - binary_accuracy: 0.9100\n"
          ]
        }
      ]
    },
    {
      "cell_type": "code",
      "metadata": {
        "colab": {
          "base_uri": "https://localhost:8080/",
          "height": 517
        },
        "id": "vDC0ZstaohPg",
        "outputId": "8b3af7ed-e660-482a-b493-fe6d3573aeda"
      },
      "source": [
        "#plotting accuracy vs epochs\n",
        "acc = his.history['binary_accuracy']\n",
        "val_acc = his.history['val_binary_accuracy']\n",
        "x_axis = list(range(epochs))\n",
        "\n",
        "dimensions = {\"height\" : 500, \"width\" :1100}\n",
        "gridTemplate = {\"showgrid\":False,\n",
        "                  \"showline\":True,\n",
        "                  \"linecolor\":\"black\",\n",
        "                  \"linewidth\":3,\n",
        "                  \"ticks\":'inside'}\n",
        "\n",
        "fig = go.Figure()\n",
        "\n",
        "fig.add_trace(go.Scatter(x=x_axis,y=acc,name=\"Train Accuracy\",line=dict(width=5)))\n",
        "fig.add_trace(go.Scatter(x=x_axis,y=val_acc,name = \"Validation Accuracy\",line=dict(width=5)))\n",
        "fig.update_xaxes(gridTemplate, title_text=\"Epochs\",automargin=True)\n",
        "fig.update_yaxes(gridTemplate, title_text=\"Accuracy\",automargin=True)\n",
        "fig.update_layout(dimensions,font=dict(color=\"black\",size=28))\n",
        "fig.show(renderer=\"png\")"
      ],
      "execution_count": 28,
      "outputs": [
        {
          "output_type": "display_data",
          "data": {
            "image/png": "[encoded data removed]"
          },
          "metadata": {}
        }
      ]
    },
    {
      "cell_type": "markdown",
      "metadata": {
        "id": "3E3MyvCn2rBm"
      },
      "source": [
        "## Saving the Model"
      ]
    },
    {
      "cell_type": "code",
      "metadata": {
        "colab": {
          "base_uri": "https://localhost:8080/"
        },
        "id": "RwADqc0hbwQr",
        "outputId": "035f698d-a26f-446b-ca30-8fa3f636e0a1"
      },
      "source": [
        "#saving the model\n",
        "save_path = \"/content/gdrive/MyDrive/Colab Notebooks/Checkpoints/\"\n",
        "model.save(save_path+\"my_model\", include_optimizer=False,save_format='tf')"
      ],
      "execution_count": 19,
      "outputs": [
        {
          "output_type": "stream",
          "name": "stderr",
          "text": [
            "WARNING:absl:Found untraced functions such as restored_function_body, restored_function_body, restored_function_body, restored_function_body, restored_function_body while saving (showing 5 of 310). These functions will not be directly callable after loading.\n"
          ]
        },
        {
          "output_type": "stream",
          "name": "stdout",
          "text": [
            "INFO:tensorflow:Assets written to: /content/gdrive/MyDrive/Colab Notebooks/Checkpoints/my_model/assets\n"
          ]
        },
        {
          "output_type": "stream",
          "name": "stderr",
          "text": [
            "INFO:tensorflow:Assets written to: /content/gdrive/MyDrive/Colab Notebooks/Checkpoints/my_model/assets\n"
          ]
        }
      ]
    },
    {
      "cell_type": "markdown",
      "metadata": {
        "id": "AdVlxesJ2mje"
      },
      "source": [
        "## Loading saved model "
      ]
    },
    {
      "cell_type": "code",
      "metadata": {
        "colab": {
          "base_uri": "https://localhost:8080/"
        },
        "id": "uThwLoIlNEZZ",
        "outputId": "0cbfc30a-8ba5-42e8-b1ff-81f5baca5fde"
      },
      "source": [
        "#loading the model\n",
        "loaded_model = tf.keras.models.load_model(save_path+\"my_model\")\n",
        "loaded_model.compile(optimizer = optimizer, loss = loss, metrics = metric)\n",
        "loaded_model.summary()"
      ],
      "execution_count": 20,
      "outputs": [
        {
          "output_type": "stream",
          "name": "stdout",
          "text": [
            "WARNING:tensorflow:No training configuration found in save file, so the model was *not* compiled. Compile it manually.\n"
          ]
        },
        {
          "output_type": "stream",
          "name": "stderr",
          "text": [
            "WARNING:tensorflow:No training configuration found in save file, so the model was *not* compiled. Compile it manually.\n"
          ]
        },
        {
          "output_type": "stream",
          "name": "stdout",
          "text": [
            "Model: \"model\"\n",
            "__________________________________________________________________________________________________\n",
            "Layer (type)                    Output Shape         Param #     Connected to                     \n",
            "==================================================================================================\n",
            "input (InputLayer)              [(None,)]            0                                            \n",
            "__________________________________________________________________________________________________\n",
            "preprocess (KerasLayer)         {'input_type_ids': ( 0           input[0][0]                      \n",
            "__________________________________________________________________________________________________\n",
            "encoder (KerasLayer)            {'pooled_output': (N 28763649    preprocess[0][0]                 \n",
            "                                                                 preprocess[0][1]                 \n",
            "                                                                 preprocess[0][2]                 \n",
            "__________________________________________________________________________________________________\n",
            "dropout (Dropout)               (None, 512)          0           encoder[0][5]                    \n",
            "__________________________________________________________________________________________________\n",
            "dense (Dense)                   (None, 50)           25650       dropout[0][0]                    \n",
            "__________________________________________________________________________________________________\n",
            "dropout_1 (Dropout)             (None, 50)           0           dense[0][0]                      \n",
            "__________________________________________________________________________________________________\n",
            "classifier (Dense)              (None, 1)            51          dropout_1[0][0]                  \n",
            "==================================================================================================\n",
            "Total params: 28,789,350\n",
            "Trainable params: 28,789,349\n",
            "Non-trainable params: 1\n",
            "__________________________________________________________________________________________________\n"
          ]
        }
      ]
    },
    {
      "cell_type": "markdown",
      "metadata": {
        "id": "EcLi38IPnGTz"
      },
      "source": [
        "\n",
        "## Testing on my own sentences\n"
      ]
    },
    {
      "cell_type": "code",
      "metadata": {
        "id": "B7PFx9dxnGTz",
        "colab": {
          "base_uri": "https://localhost:8080/"
        },
        "outputId": "89a7743f-3850-4f63-dae4-f47694ed0da5"
      },
      "source": [
        "testing_sentences = [\"I loved the product!\",\n",
        "                    \"Whoever thought of this is a genius\",\n",
        "                    \"It was ok\",\n",
        "                    \"The new appliance sucks\",\n",
        "                     \"Stay away from this\",\n",
        "                    \"I wont be buying this again\"]\n",
        "\n",
        "results = tf.sigmoid(model(tf.constant(testing_sentences)))\n",
        "\n",
        "print(results)"
      ],
      "execution_count": 21,
      "outputs": [
        {
          "output_type": "stream",
          "name": "stdout",
          "text": [
            "tf.Tensor(\n",
            "[[0.998708  ]\n",
            " [0.98679763]\n",
            " [0.9549413 ]\n",
            " [0.00817585]\n",
            " [0.02342434]\n",
            " [0.05989915]], shape=(6, 1), dtype=float32)\n"
          ]
        }
      ]
    },
    {
      "cell_type": "markdown",
      "metadata": {
        "id": "eiX3OrRW2Nil"
      },
      "source": [
        "It looks like classifier works great, giving positive reviews a high logit value and negative reviews low values. "
      ]
    }
  ]
}